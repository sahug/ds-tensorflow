{
  "cells": [
    {
      "cell_type": "markdown",
      "metadata": {
        "id": "view-in-github",
        "colab_type": "text"
      },
      "source": [
        "<a href=\"https://colab.research.google.com/github/sahug/ds-tensorflow-colab/blob/master/Tensorflow%20-%20Word%20Embedding%20in%20NLP%20On%20Twitter%20Sentiment%20Data.ipynb\" target=\"_parent\"><img src=\"https://colab.research.google.com/assets/colab-badge.svg\" alt=\"Open In Colab\"/></a>"
      ]
    },
    {
      "cell_type": "markdown",
      "metadata": {
        "id": "sh0RKFmp27gk"
      },
      "source": [
        "**Tensorflow - Word Embedding in NLP On Twitter Sentiment Data**"
      ]
    },
    {
      "cell_type": "code",
      "execution_count": null,
      "metadata": {
        "id": "kdr2cTzn27gn"
      },
      "outputs": [],
      "source": [
        "import numpy as np\n",
        "import pandas as pd\n",
        "from numpy import array\n",
        "from tensorflow.keras.layers import (\n",
        "    Activation,\n",
        "    Conv1D,\n",
        "    Dense,\n",
        "    Dropout,\n",
        "    Embedding,\n",
        "    Flatten,\n",
        "    GlobalMaxPooling1D,\n",
        "    MaxPooling1D,\n",
        ")\n",
        "from tensorflow.keras.models import Sequential\n",
        "from tensorflow.keras.preprocessing.sequence import pad_sequences\n",
        "from tensorflow.keras.preprocessing.text import Tokenizer"
      ]
    },
    {
      "cell_type": "code",
      "execution_count": null,
      "metadata": {
        "id": "vH6iCC1Q27go"
      },
      "outputs": [],
      "source": [
        "from sklearn.model_selection import train_test_split"
      ]
    },
    {
      "cell_type": "code",
      "execution_count": null,
      "metadata": {
        "id": "_Sr97DES27gp"
      },
      "outputs": [],
      "source": [
        "df = pd.read_csv(\"data/twitter4000.csv\")\n",
        "df.head()"
      ]
    },
    {
      "cell_type": "code",
      "execution_count": null,
      "metadata": {
        "id": "GoSjl40627gp"
      },
      "outputs": [],
      "source": [
        "# 1 is Positive Sentiments\n",
        "# 0 is Negative Sentiments\n",
        "df[\"sentiment\"].value_counts()"
      ]
    },
    {
      "cell_type": "code",
      "execution_count": null,
      "metadata": {
        "id": "AuRGov7I27gp"
      },
      "outputs": [],
      "source": [
        "text = df[\"twitts\"].tolist()\n",
        "text"
      ]
    },
    {
      "cell_type": "code",
      "execution_count": null,
      "metadata": {
        "id": "AICFHJFt27gq"
      },
      "outputs": [],
      "source": [
        "y = df[\"sentiment\"]"
      ]
    },
    {
      "cell_type": "code",
      "execution_count": null,
      "metadata": {
        "id": "RTBV0jHc27gq"
      },
      "outputs": [],
      "source": [
        "token = Tokenizer()\n",
        "token.fit_on_texts(text)\n",
        "token"
      ]
    },
    {
      "cell_type": "code",
      "execution_count": null,
      "metadata": {
        "id": "nmxIwEWz27gr"
      },
      "outputs": [],
      "source": [
        "# Tokenizing the words in each text\n",
        "vocab = token.index_word\n",
        "vocab"
      ]
    },
    {
      "cell_type": "code",
      "execution_count": null,
      "metadata": {
        "id": "WPiT33bv27gr"
      },
      "outputs": [],
      "source": [
        "# How it works?\n",
        "# x = [\"i to the a and\"] # Before tokenization\n",
        "# x = [1, 2, 3, 4, 6] # After tokenization\n",
        "\n",
        "x = [\"i to the a and\"]\n",
        "token.texts_to_sequences(x)"
      ]
    },
    {
      "cell_type": "code",
      "execution_count": null,
      "metadata": {
        "id": "FWDxV2Dz27gs"
      },
      "outputs": [],
      "source": [
        "encoded_text = token.texts_to_sequences(text)\n",
        "encoded_text"
      ]
    },
    {
      "cell_type": "code",
      "execution_count": null,
      "metadata": {
        "id": "Uhm3Mo9t27gs"
      },
      "outputs": [],
      "source": [
        "# +1 beacuse index starts with 0\n",
        "vocab_size = len(token.index_word) + 1\n",
        "vocab_size"
      ]
    },
    {
      "cell_type": "code",
      "execution_count": null,
      "metadata": {
        "id": "-B8if2zQ27gt"
      },
      "outputs": [],
      "source": [
        "# Since all our encoded test are of different length. We need to bring it all to the same size.\n",
        "max_length = 120\n",
        "x = pad_sequences(encoded_text, maxlen=max_length, padding=\"post\")\n",
        "x\n",
        "\n",
        "# Now we can see all the lengths are of same size."
      ]
    },
    {
      "cell_type": "code",
      "execution_count": null,
      "metadata": {
        "id": "EiFSLLaF27gt"
      },
      "outputs": [],
      "source": [
        "x.shape"
      ]
    },
    {
      "cell_type": "code",
      "execution_count": null,
      "metadata": {
        "id": "PCh6XONF27gt"
      },
      "outputs": [],
      "source": [
        "x_train, x_test, y_train, y_test = train_test_split(\n",
        "    x, y, random_state=42, test_size=0.2, stratify=y\n",
        ")"
      ]
    },
    {
      "cell_type": "code",
      "execution_count": null,
      "metadata": {
        "id": "8dJGoZnt27gt"
      },
      "outputs": [],
      "source": [
        "x_train = np.asarray(x_train)\n",
        "x_test = np.asarray(x_test)\n",
        "y_train = np.asarray(y_train)\n",
        "y_test = np.asarray(y_test)"
      ]
    },
    {
      "cell_type": "code",
      "execution_count": null,
      "metadata": {
        "id": "9VU_99Z927gu"
      },
      "outputs": [],
      "source": [
        "vec_size = 300\n",
        "\n",
        "model = Sequential()\n",
        "\n",
        "model.add(Embedding(input_dim=vocab_size, output_dim=vec_size, input_length=max_length))\n",
        "\n",
        "model.add(Conv1D(filters=64, kernel_size=8, activation=\"relu\"))\n",
        "model.add(MaxPooling1D(2))\n",
        "model.add(Dropout(0.2))\n",
        "\n",
        "model.add(Dense(units=32, activation=\"relu\"))\n",
        "model.add(Dropout(0.5))\n",
        "\n",
        "model.add(Dense(units=16, activation=\"relu\"))\n",
        "\n",
        "model.add(GlobalMaxPooling1D())\n",
        "\n",
        "model.add(\n",
        "    Dense(units=1, activation=\"sigmoid\")\n",
        ")  # Output is 1, i.e., 0 or 1. Positive or Negative"
      ]
    },
    {
      "cell_type": "code",
      "execution_count": null,
      "metadata": {
        "id": "DOvZPYtY27gu"
      },
      "outputs": [],
      "source": [
        "model.compile(optimizer=\"adam\", loss=\"binary_crossentropy\", metrics=[\"accuracy\"])"
      ]
    },
    {
      "cell_type": "code",
      "execution_count": null,
      "metadata": {
        "id": "-yTEKVF627gu"
      },
      "outputs": [],
      "source": [
        "model.summary()"
      ]
    },
    {
      "cell_type": "code",
      "execution_count": null,
      "metadata": {
        "id": "6pV8_w_p27gu"
      },
      "outputs": [],
      "source": [
        "%%time\n",
        "model.fit(x_train, y_train, epochs=5, validation_data=(x_test, y_test))"
      ]
    },
    {
      "cell_type": "code",
      "execution_count": null,
      "metadata": {
        "id": "R4q7UpuS27gv"
      },
      "outputs": [],
      "source": [
        "# Making Predictions\n",
        "# Just like we encoded the training and test data. We need to encode the prediction data.\n",
        "def get_encoded_data(x):\n",
        "    x = token.texts_to_sequences(x)\n",
        "    x = pad_sequences(x, maxlen=max_length, padding=\"post\")\n",
        "    return x"
      ]
    },
    {
      "cell_type": "code",
      "execution_count": null,
      "metadata": {
        "id": "551rV2kK27gv"
      },
      "outputs": [],
      "source": [
        "x = [\"worst services. will not come again!\"]\n",
        "model.predict_classes(get_encoded_data(x))"
      ]
    },
    {
      "cell_type": "code",
      "execution_count": null,
      "metadata": {
        "id": "vKsSHOP227gv"
      },
      "outputs": [],
      "source": [
        "x = [\"Loved it!\"]\n",
        "model.predict_classes(get_encoded_data(x))"
      ]
    }
  ],
  "metadata": {
    "kernelspec": {
      "display_name": "Python 3",
      "language": "python",
      "name": "python3"
    },
    "language_info": {
      "codemirror_mode": {
        "name": "ipython",
        "version": 3
      },
      "file_extension": ".py",
      "mimetype": "text/x-python",
      "name": "python",
      "nbconvert_exporter": "python",
      "pygments_lexer": "ipython3",
      "version": "3.7.9"
    },
    "colab": {
      "name": "Tensorflow - Word Embedding in NLP On Twitter Sentiment Data.ipynb",
      "provenance": [],
      "include_colab_link": true
    }
  },
  "nbformat": 4,
  "nbformat_minor": 0
}