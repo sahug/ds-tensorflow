{
  "cells": [
    {
      "cell_type": "markdown",
      "metadata": {
        "id": "view-in-github",
        "colab_type": "text"
      },
      "source": [
        "<a href=\"https://colab.research.google.com/github/sahug/ds-tensorflow-colab/blob/master/Tensorflow%20-%20Google%20Stock%20Price%20Prediction%20Using%20RNN-LSTM.ipynb\" target=\"_parent\"><img src=\"https://colab.research.google.com/assets/colab-badge.svg\" alt=\"Open In Colab\"/></a>"
      ]
    },
    {
      "cell_type": "markdown",
      "metadata": {
        "id": "F7Ar-0AN9N0O"
      },
      "source": [
        "**Tensorflow - Google Stock Price Prediction Using RNN-LSTM**"
      ]
    },
    {
      "cell_type": "markdown",
      "metadata": {
        "id": "AUZJuSy29N0R"
      },
      "source": [
        "**Steps**\n",
        " - Data Preprocessing\n",
        " - Building the RNN\n",
        " - Making predictions and Visualization"
      ]
    },
    {
      "cell_type": "code",
      "execution_count": null,
      "metadata": {
        "id": "iunGpjWl9N0S"
      },
      "outputs": [],
      "source": [
        "import matplotlib.pyplot as plt\n",
        "import numpy as np\n",
        "import pandas as pd\n",
        "from sklearn.preprocessing import MinMaxScaler"
      ]
    },
    {
      "cell_type": "code",
      "execution_count": null,
      "metadata": {
        "id": "6lZ68E0I9N0T"
      },
      "outputs": [],
      "source": [
        "data = pd.read_csv(\"data/GOOG.csv\", date_parser=True)\n",
        "data.head()"
      ]
    },
    {
      "cell_type": "code",
      "execution_count": null,
      "metadata": {
        "id": "qM7CSsKj9N0T"
      },
      "outputs": [],
      "source": [
        "data_training = data[data[\"Date\"] < \"2019-01-01\"].copy()\n",
        "data_training"
      ]
    },
    {
      "cell_type": "code",
      "execution_count": null,
      "metadata": {
        "id": "M_1gZnzp9N0U"
      },
      "outputs": [],
      "source": [
        "data_test = data[data[\"Date\"] >= \"2019-01-01\"].copy()\n",
        "data_test"
      ]
    },
    {
      "cell_type": "code",
      "execution_count": null,
      "metadata": {
        "id": "AK9KZ2eo9N0U"
      },
      "outputs": [],
      "source": [
        "training_data = data_training.drop([\"Date\", \"Adj Close\"], axis=1)\n",
        "training_data.head()"
      ]
    },
    {
      "cell_type": "code",
      "execution_count": null,
      "metadata": {
        "id": "px1TZ9mF9N0V"
      },
      "outputs": [],
      "source": [
        "scaler = MinMaxScaler()\n",
        "training_data = scaler.fit_transform(training_data)\n",
        "training_data"
      ]
    },
    {
      "cell_type": "code",
      "execution_count": null,
      "metadata": {
        "id": "EM-LEUEI9N0V"
      },
      "outputs": [],
      "source": [
        "x_train = []\n",
        "y_train = []"
      ]
    },
    {
      "cell_type": "code",
      "execution_count": null,
      "metadata": {
        "id": "DNxkSTis9N0W"
      },
      "outputs": [],
      "source": [
        "training_data.shape, training_data.shape[0]"
      ]
    },
    {
      "cell_type": "code",
      "execution_count": null,
      "metadata": {
        "id": "MmY-SDaS9N0W"
      },
      "outputs": [],
      "source": [
        "# Splitting data in chunks of 60\n",
        "for i in range(60, training_data.shape[0]):\n",
        "    x_train.append(training_data[i - 60 : i])\n",
        "    y_train.append(\n",
        "        training_data[i, 0]\n",
        "    )  # Open is what we are pridicting or is our outcome"
      ]
    },
    {
      "cell_type": "code",
      "execution_count": null,
      "metadata": {
        "id": "0rr04X1I9N0X"
      },
      "outputs": [],
      "source": [
        "x_train, y_train = np.array(x_train), np.array(y_train)"
      ]
    },
    {
      "cell_type": "code",
      "execution_count": null,
      "metadata": {
        "id": "BsAF84UX9N0X"
      },
      "outputs": [],
      "source": [
        "x_train.shape, y_train.shape"
      ]
    },
    {
      "cell_type": "markdown",
      "metadata": {
        "id": "ON5KnQI09N0X"
      },
      "source": [
        "**Building LSTM**"
      ]
    },
    {
      "cell_type": "code",
      "execution_count": null,
      "metadata": {
        "id": "oaAGOiVh9N0Y"
      },
      "outputs": [],
      "source": [
        "from tensorflow.keras import Sequential\n",
        "from tensorflow.keras.layers import LSTM, Dense, Dropout"
      ]
    },
    {
      "cell_type": "code",
      "execution_count": null,
      "metadata": {
        "id": "iIxYMHJS9N0Y"
      },
      "outputs": [],
      "source": [
        "x_train.shape[1], 5"
      ]
    },
    {
      "cell_type": "code",
      "execution_count": null,
      "metadata": {
        "id": "c3Po1d-J9N0Y"
      },
      "outputs": [],
      "source": [
        "regressior = Sequential()\n",
        "\n",
        "regressior.add(\n",
        "    LSTM(\n",
        "        units=50,\n",
        "        activation=\"relu\",\n",
        "        return_sequences=True,\n",
        "        input_shape=(x_train.shape[1], 5),\n",
        "    )\n",
        ")\n",
        "regressior.add(Dropout(0.2))\n",
        "\n",
        "regressior.add(LSTM(units=60, activation=\"relu\", return_sequences=True))\n",
        "regressior.add(Dropout(0.3))\n",
        "\n",
        "regressior.add(LSTM(units=80, activation=\"relu\", return_sequences=True))\n",
        "regressior.add(Dropout(0.4))\n",
        "\n",
        "regressior.add(LSTM(units=120, activation=\"relu\"))\n",
        "regressior.add(Dropout(0.3))\n",
        "\n",
        "regressior.add(Dense(units=1))"
      ]
    },
    {
      "cell_type": "code",
      "execution_count": null,
      "metadata": {
        "id": "36Mp36jc9N0Y"
      },
      "outputs": [],
      "source": [
        "regressior.summary()"
      ]
    },
    {
      "cell_type": "code",
      "execution_count": null,
      "metadata": {
        "id": "a9ab84v09N0Z"
      },
      "outputs": [],
      "source": [
        "regressior.compile(optimizer=\"adam\", loss=\"mean_squared_error\")"
      ]
    },
    {
      "cell_type": "code",
      "execution_count": null,
      "metadata": {
        "id": "YOKxIy1r9N0Z"
      },
      "outputs": [],
      "source": [
        "history = regressior.fit(x_train, y_train, epochs=10, batch_size=32)"
      ]
    },
    {
      "cell_type": "markdown",
      "metadata": {
        "id": "vA_-40nf9N0Z"
      },
      "source": [
        "**Prepare Test Dataset**"
      ]
    },
    {
      "cell_type": "code",
      "execution_count": null,
      "metadata": {
        "id": "Enh4gk6W9N0Z"
      },
      "outputs": [],
      "source": [
        "data_test.head()"
      ]
    },
    {
      "cell_type": "markdown",
      "metadata": {
        "id": "I9pGtUQK9N0Z"
      },
      "source": [
        "To predict the Open price of the stock for the current data we need to look at the last 60 days data."
      ]
    },
    {
      "cell_type": "code",
      "execution_count": null,
      "metadata": {
        "id": "uYDGCBVe9N0a"
      },
      "outputs": [],
      "source": [
        "past_60_days = data_training.tail(60)"
      ]
    },
    {
      "cell_type": "code",
      "execution_count": null,
      "metadata": {
        "id": "jlrtUyl89N0a"
      },
      "outputs": [],
      "source": [
        "df = past_60_days.append(data_test, ignore_index=True)\n",
        "df = df.drop([\"Date\", \"Adj Close\"], axis=1)\n",
        "df.head()"
      ]
    },
    {
      "cell_type": "code",
      "execution_count": null,
      "metadata": {
        "id": "06_PISkP9N0a"
      },
      "outputs": [],
      "source": [
        "inputs = scaler.transform(df)\n",
        "inputs"
      ]
    },
    {
      "cell_type": "code",
      "execution_count": null,
      "metadata": {
        "id": "MPC4Hdho9N0a"
      },
      "outputs": [],
      "source": [
        "x_test = []\n",
        "y_test = []\n",
        "\n",
        "for i in range(60, inputs.shape[0]):\n",
        "    x_test.append(inputs[i - 60 : i])\n",
        "    y_test.append(inputs[i, 0])"
      ]
    },
    {
      "cell_type": "code",
      "execution_count": null,
      "metadata": {
        "id": "tgoDM_LN9N0a"
      },
      "outputs": [],
      "source": [
        "x_test, y_test = np.array(x_test), np.array(y_test)\n",
        "x_test.shape, y_test.shape"
      ]
    },
    {
      "cell_type": "code",
      "execution_count": null,
      "metadata": {
        "id": "LMRKYFTE9N0a"
      },
      "outputs": [],
      "source": [
        "y_pred = regressior.predict(x_test)"
      ]
    },
    {
      "cell_type": "code",
      "execution_count": null,
      "metadata": {
        "id": "faIEYPmx9N0b"
      },
      "outputs": [],
      "source": [
        "y_pred"
      ]
    },
    {
      "cell_type": "markdown",
      "metadata": {
        "id": "XPKtxS2h9N0b"
      },
      "source": [
        "**Reverse Scaling to Original Values**"
      ]
    },
    {
      "cell_type": "code",
      "execution_count": null,
      "metadata": {
        "id": "TmObYHdx9N0b"
      },
      "outputs": [],
      "source": [
        "scaler.scale_"
      ]
    },
    {
      "cell_type": "code",
      "execution_count": null,
      "metadata": {
        "id": "zRqCXh4B9N0b"
      },
      "outputs": [],
      "source": [
        "scale = 1 / 8.18605127e-04\n",
        "scale"
      ]
    },
    {
      "cell_type": "code",
      "execution_count": null,
      "metadata": {
        "id": "ZOfYTM059N0b"
      },
      "outputs": [],
      "source": [
        "y_pred = y_pred * scale\n",
        "y_test = y_test * scale"
      ]
    },
    {
      "cell_type": "code",
      "execution_count": null,
      "metadata": {
        "id": "VmKQS7mY9N0b"
      },
      "outputs": [],
      "source": [
        "y_pred"
      ]
    },
    {
      "cell_type": "code",
      "execution_count": null,
      "metadata": {
        "id": "YWFlEUa19N0b"
      },
      "outputs": [],
      "source": [
        "y_test"
      ]
    },
    {
      "cell_type": "markdown",
      "metadata": {
        "id": "nPncLk579N0c"
      },
      "source": [
        "**Visualization**"
      ]
    },
    {
      "cell_type": "code",
      "execution_count": null,
      "metadata": {
        "id": "oA3upPxD9N0c"
      },
      "outputs": [],
      "source": [
        "plt.figure(figsize=(14, 5))\n",
        "plt.plot(y_test, color=\"red\", label=\"Real Google Stock Price\")\n",
        "plt.plot(y_pred, color=\"blue\", label=\"Predicted Google Stock Price\")\n",
        "plt.title(\"Google Stock Price Prediction\")\n",
        "plt.xlabel(\"Time\")\n",
        "plt.ylabel(\"Google Stock Price\")\n",
        "plt.legend()\n",
        "plt.show()"
      ]
    }
  ],
  "metadata": {
    "kernelspec": {
      "display_name": "Python 3",
      "language": "python",
      "name": "python3"
    },
    "language_info": {
      "codemirror_mode": {
        "name": "ipython",
        "version": 3
      },
      "file_extension": ".py",
      "mimetype": "text/x-python",
      "name": "python",
      "nbconvert_exporter": "python",
      "pygments_lexer": "ipython3",
      "version": "3.7.9"
    },
    "colab": {
      "name": "Tensorflow - Google Stock Price Prediction Using RNN-LSTM.ipynb",
      "provenance": [],
      "include_colab_link": true
    }
  },
  "nbformat": 4,
  "nbformat_minor": 0
}