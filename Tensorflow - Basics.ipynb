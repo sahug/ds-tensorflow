{
  "cells": [
    {
      "cell_type": "markdown",
      "metadata": {
        "colab_type": "text",
        "id": "view-in-github"
      },
      "source": [
        "<a href=\"https://colab.research.google.com/github/sahug/ds-tensorflow-colab/blob/master/Tensorflow%20-%20Basics.ipynb\" target=\"_parent\"><img src=\"https://colab.research.google.com/assets/colab-badge.svg\" alt=\"Open In Colab\"/></a>"
      ]
    },
    {
      "cell_type": "markdown",
      "metadata": {
        "id": "wWxFCBouWTe-"
      },
      "source": [
        "**Tensorflow - Basics**\n",
        "\n",
        "TensorFlow is an end-to-end platform for machine learning. It supports the following:\n",
        "\n",
        "- Multidimensional-array based numeric computation (similar to **NumPy**.)\n",
        "- GPU and distributed processing\n",
        "- Automatic differentiation\n",
        "- Model construction, training, and export\n",
        "- And more"
      ]
    },
    {
      "cell_type": "markdown",
      "metadata": {
        "id": "ZL_2jtgPWeQt"
      },
      "source": [
        "**Tensors**\n",
        "\n",
        "TensorFlow operates on multidimensional arrays or tensors represented as **tf.Tensor** objects. Here is a two-dimensional tensor:\n",
        "\n",
        "The most important attributes of a **tf.Tensor** are its **shape** and **dtype**:\n",
        "\n",
        "Tensor.**shape**: tells you the size of the tensor along each of its axes.\n",
        "\n",
        "Tensor.**dtype**: tells you the type of all the elements in the tensor.\n",
        "\n",
        "Everything in TensorFlow is based on Tensor operations. Tensors are (kind of) like np.arrays. All tensors are immutable: you can never update the contents of a tensor, only create a new one."
      ]
    },
    {
      "cell_type": "code",
      "execution_count": 2,
      "metadata": {},
      "outputs": [],
      "source": [
        "import tensorflow as tf"
      ]
    },
    {
      "cell_type": "markdown",
      "metadata": {},
      "source": [
        "**Create**"
      ]
    },
    {
      "cell_type": "markdown",
      "metadata": {},
      "source": [
        "Scalar, Rank-0 Tensor"
      ]
    },
    {
      "cell_type": "code",
      "execution_count": 3,
      "metadata": {},
      "outputs": [
        {
          "name": "stdout",
          "output_type": "stream",
          "text": [
            "tf.Tensor(4, shape=(), dtype=int32)\n"
          ]
        }
      ],
      "source": [
        "\n",
        "x = tf.constant(4)\n",
        "print(x)"
      ]
    },
    {
      "cell_type": "markdown",
      "metadata": {},
      "source": [
        "Vector, Rank-1 Tensor"
      ]
    },
    {
      "cell_type": "code",
      "execution_count": 4,
      "metadata": {},
      "outputs": [
        {
          "name": "stdout",
          "output_type": "stream",
          "text": [
            "tf.Tensor([1 2 3], shape=(3,), dtype=int32)\n"
          ]
        }
      ],
      "source": [
        "x = tf.constant([1,2,3])\n",
        "print(x)"
      ]
    },
    {
      "cell_type": "markdown",
      "metadata": {},
      "source": [
        "Matrix, Rank-2 Tensor"
      ]
    },
    {
      "cell_type": "code",
      "execution_count": 2,
      "metadata": {
        "colab": {
          "base_uri": "https://localhost:8080/"
        },
        "id": "pEQq1QqeWN1I",
        "outputId": "002c8f0c-ebbb-4a79-96e3-2b4a97e6c2a4"
      },
      "outputs": [
        {
          "name": "stdout",
          "output_type": "stream",
          "text": [
            "tf.Tensor(\n",
            "[[1. 2. 3.]\n",
            " [4. 5. 6.]], shape=(2, 3), dtype=float32)\n",
            "(2, 3)\n",
            "<dtype: 'float32'>\n"
          ]
        }
      ],
      "source": [
        "import tensorflow as tf\n",
        "\n",
        "x = tf.constant([\n",
        "                 [1.,2.,3.,],\n",
        "                 [4.,5.,6.,]])\n",
        "\n",
        "print(x)\n",
        "print(x.shape)\n",
        "print(x.dtype)"
      ]
    },
    {
      "cell_type": "markdown",
      "metadata": {},
      "source": [
        "One-Hot Tensors"
      ]
    },
    {
      "cell_type": "code",
      "execution_count": 5,
      "metadata": {},
      "outputs": [
        {
          "name": "stdout",
          "output_type": "stream",
          "text": [
            "tf.Tensor(\n",
            "[[1. 1. 1.]\n",
            " [1. 1. 1.]\n",
            " [1. 1. 1.]], shape=(3, 3), dtype=float32)\n"
          ]
        }
      ],
      "source": [
        "x = tf.ones((3,3))\n",
        "print(x)"
      ]
    },
    {
      "cell_type": "markdown",
      "metadata": {},
      "source": [
        "Zero Tensor"
      ]
    },
    {
      "cell_type": "code",
      "execution_count": 6,
      "metadata": {},
      "outputs": [
        {
          "name": "stdout",
          "output_type": "stream",
          "text": [
            "tf.Tensor(\n",
            "[[0. 0. 0.]\n",
            " [0. 0. 0.]\n",
            " [0. 0. 0.]], shape=(3, 3), dtype=float32)\n"
          ]
        }
      ],
      "source": [
        "x = tf.zeros((3,3))\n",
        "print(x)"
      ]
    },
    {
      "cell_type": "markdown",
      "metadata": {},
      "source": [
        "Identity Tensor"
      ]
    },
    {
      "cell_type": "code",
      "execution_count": 7,
      "metadata": {},
      "outputs": [
        {
          "name": "stdout",
          "output_type": "stream",
          "text": [
            "tf.Tensor(\n",
            "[[1. 0. 0.]\n",
            " [0. 1. 0.]\n",
            " [0. 0. 1.]], shape=(3, 3), dtype=float32)\n"
          ]
        }
      ],
      "source": [
        "x = tf.eye(3)\n",
        "print(x)"
      ]
    },
    {
      "cell_type": "markdown",
      "metadata": {},
      "source": [
        "Random Normal Tensor\n",
        "\n",
        "Outputs random values from a normal distribution."
      ]
    },
    {
      "cell_type": "code",
      "execution_count": 8,
      "metadata": {},
      "outputs": [
        {
          "name": "stdout",
          "output_type": "stream",
          "text": [
            "tf.Tensor(\n",
            "[[ 0.7003764   2.3886075  -0.14009777]\n",
            " [ 1.5319357  -0.13742709  2.0903883 ]\n",
            " [ 0.26101756 -0.12700923 -0.04365437]], shape=(3, 3), dtype=float32)\n"
          ]
        }
      ],
      "source": [
        "x = tf.random.normal((3,3), mean=0, stddev=1)\n",
        "print(x)"
      ]
    },
    {
      "cell_type": "markdown",
      "metadata": {},
      "source": [
        "Random Uniform Tensor\n",
        "\n",
        "Outputs random values from a uniform distribution."
      ]
    },
    {
      "cell_type": "code",
      "execution_count": 9,
      "metadata": {},
      "outputs": [
        {
          "name": "stdout",
          "output_type": "stream",
          "text": [
            "tf.Tensor(\n",
            "[[0.09686077 0.03202593 0.45156038]\n",
            " [0.20881367 0.39181316 0.41869915]\n",
            " [0.345379   0.27274346 0.62917507]], shape=(3, 3), dtype=float32)\n"
          ]
        }
      ],
      "source": [
        "x = tf.random.uniform((3,3), minval=0, maxval=1)\n",
        "print(x)"
      ]
    },
    {
      "cell_type": "markdown",
      "metadata": {},
      "source": [
        "**Cast**"
      ]
    },
    {
      "cell_type": "code",
      "execution_count": 13,
      "metadata": {},
      "outputs": [
        {
          "name": "stdout",
          "output_type": "stream",
          "text": [
            "int: tf.Tensor([0 1 2 3 4 5 6 7 8 9], shape=(10,), dtype=int32)\n",
            "float: tf.Tensor([0. 1. 2. 3. 4. 5. 6. 7. 8. 9.], shape=(10,), dtype=float32)\n"
          ]
        }
      ],
      "source": [
        "x = tf.range(10)\n",
        "print(\"int:\", x)\n",
        "x = tf.cast(x, dtype=tf.float32)\n",
        "print(\"float:\", x)"
      ]
    },
    {
      "cell_type": "markdown",
      "metadata": {},
      "source": [
        "**Operations**"
      ]
    },
    {
      "cell_type": "markdown",
      "metadata": {},
      "source": [
        "Addition"
      ]
    },
    {
      "cell_type": "code",
      "execution_count": 17,
      "metadata": {},
      "outputs": [
        {
          "name": "stdout",
          "output_type": "stream",
          "text": [
            "tf.Tensor([5 7 9], shape=(3,), dtype=int32)\n",
            "tf.Tensor([5 7 9], shape=(3,), dtype=int32)\n"
          ]
        }
      ],
      "source": [
        "x = tf.constant([1,2,3])\n",
        "y = tf.constant([4,5,6])\n",
        "\n",
        "z = tf.add(x,y)\n",
        "print(z)\n",
        "\n",
        "z = x + y\n",
        "print(z)"
      ]
    },
    {
      "cell_type": "markdown",
      "metadata": {},
      "source": [
        "Subtraction"
      ]
    },
    {
      "cell_type": "code",
      "execution_count": 18,
      "metadata": {},
      "outputs": [
        {
          "name": "stdout",
          "output_type": "stream",
          "text": [
            "tf.Tensor([-3 -3 -3], shape=(3,), dtype=int32)\n",
            "tf.Tensor([-3 -3 -3], shape=(3,), dtype=int32)\n"
          ]
        }
      ],
      "source": [
        "x = tf.constant([1,2,3])\n",
        "y = tf.constant([4,5,6])\n",
        "\n",
        "z = tf.subtract(x,y)\n",
        "print(z)\n",
        "\n",
        "z = x - y\n",
        "print(z)"
      ]
    },
    {
      "cell_type": "markdown",
      "metadata": {},
      "source": [
        "Division"
      ]
    },
    {
      "cell_type": "code",
      "execution_count": 19,
      "metadata": {},
      "outputs": [
        {
          "name": "stdout",
          "output_type": "stream",
          "text": [
            "tf.Tensor([0.25 0.4  0.5 ], shape=(3,), dtype=float64)\n",
            "tf.Tensor([0.25 0.4  0.5 ], shape=(3,), dtype=float64)\n"
          ]
        }
      ],
      "source": [
        "x = tf.constant([1,2,3])\n",
        "y = tf.constant([4,5,6])\n",
        "\n",
        "z = tf.divide(x,y)\n",
        "print(z, \"\\n\")\n",
        "\n",
        "z = x / y\n",
        "print(z, \"\\n\")"
      ]
    },
    {
      "cell_type": "markdown",
      "metadata": {},
      "source": [
        "Multiply"
      ]
    },
    {
      "cell_type": "code",
      "execution_count": 20,
      "metadata": {},
      "outputs": [
        {
          "name": "stdout",
          "output_type": "stream",
          "text": [
            "tf.Tensor([ 4 10 18], shape=(3,), dtype=int32)\n",
            "tf.Tensor([ 4 10 18], shape=(3,), dtype=int32)\n"
          ]
        }
      ],
      "source": [
        "x = tf.constant([1,2,3])\n",
        "y = tf.constant([4,5,6])\n",
        "\n",
        "z = tf.multiply(x,y)\n",
        "print(z, \"\\n\")\n",
        "\n",
        "z = x * y\n",
        "print(z, \"\\n\")"
      ]
    },
    {
      "cell_type": "markdown",
      "metadata": {},
      "source": [
        "Dot Product"
      ]
    },
    {
      "cell_type": "code",
      "execution_count": 21,
      "metadata": {},
      "outputs": [
        {
          "name": "stdout",
          "output_type": "stream",
          "text": [
            "tf.Tensor(32, shape=(), dtype=int32)\n"
          ]
        }
      ],
      "source": [
        "x = tf.constant([1,2,3])\n",
        "y = tf.constant([4,5,6])\n",
        "\n",
        "z = tf.tensordot(x,y, axes=1)\n",
        "print(z)"
      ]
    },
    {
      "cell_type": "markdown",
      "metadata": {},
      "source": [
        "Exponents"
      ]
    },
    {
      "cell_type": "code",
      "execution_count": 28,
      "metadata": {},
      "outputs": [
        {
          "name": "stdout",
          "output_type": "stream",
          "text": [
            "tf.Tensor([  8. 512.], shape=(2,), dtype=float32)\n"
          ]
        }
      ],
      "source": [
        "x = tf.constant([2.0, 8.0])\n",
        "z = x ** 3\n",
        "print(z)"
      ]
    },
    {
      "cell_type": "markdown",
      "metadata": {},
      "source": [
        "Matrix Multiplication"
      ]
    },
    {
      "cell_type": "code",
      "execution_count": 33,
      "metadata": {},
      "outputs": [
        {
          "name": "stdout",
          "output_type": "stream",
          "text": [
            "tf.Tensor(\n",
            "[[ 1.0311725  -0.2663836   0.21051812  1.2172937 ]\n",
            " [ 0.20502889 -1.2961298  -0.35803106 -2.4185078 ]], shape=(2, 4), dtype=float32)\n",
            "tf.Tensor(\n",
            "[[ 1.0311725  -0.2663836   0.21051812  1.2172937 ]\n",
            " [ 0.20502889 -1.2961298  -0.35803106 -2.4185078 ]], shape=(2, 4), dtype=float32)\n"
          ]
        }
      ],
      "source": [
        "x = tf.random.normal((2,3)) # 2,3\n",
        "y = tf.random.normal((3,4)) # 3,4\n",
        "\n",
        "z = tf.matmul(x,y)\n",
        "print(z, \"\\n\")\n",
        "\n",
        "z = x @ y\n",
        "print(z, \"\\n\")"
      ]
    },
    {
      "cell_type": "markdown",
      "metadata": {},
      "source": [
        "Indexing and Slicing"
      ]
    },
    {
      "cell_type": "code",
      "execution_count": 39,
      "metadata": {},
      "outputs": [
        {
          "name": "stdout",
          "output_type": "stream",
          "text": [
            "tf.Tensor([1 2 3 4], shape=(4,), dtype=int32) \n",
            "\n",
            "tf.Tensor([1 5], shape=(2,), dtype=int32) \n",
            "\n",
            "tf.Tensor([5 6 7 8], shape=(4,), dtype=int32) \n",
            "\n",
            "tf.Tensor(6, shape=(), dtype=int32) \n",
            "\n"
          ]
        }
      ],
      "source": [
        "x = tf.constant([[1,2,3,4],[5,6,7,8]])\n",
        "\n",
        "print(x[0], \"\\n\")\n",
        "print(x[:, 0], \"\\n\") # all rows, column 0\n",
        "print(x[1, :], \"\\n\") # row 1, all columns\n",
        "print(x[1,1], \"\\n\") # element at 1, 1\n"
      ]
    },
    {
      "cell_type": "markdown",
      "metadata": {},
      "source": [
        "**Reshape**"
      ]
    },
    {
      "cell_type": "code",
      "execution_count": 38,
      "metadata": {},
      "outputs": [
        {
          "name": "stdout",
          "output_type": "stream",
          "text": [
            "tf.Tensor(\n",
            "[[ 0.8320782  -0.25611863  1.1959288 ]\n",
            " [-1.6438805   1.2278249  -0.41673538]], shape=(2, 3), dtype=float32) \n",
            "\n",
            "tf.Tensor(\n",
            "[[ 0.8320782  -0.25611863]\n",
            " [ 1.1959288  -1.6438805 ]\n",
            " [ 1.2278249  -0.41673538]], shape=(3, 2), dtype=float32) \n",
            "\n",
            "tf.Tensor(\n",
            "[[ 0.8320782  -0.25611863]\n",
            " [ 1.1959288  -1.6438805 ]\n",
            " [ 1.2278249  -0.41673538]], shape=(3, 2), dtype=float32) \n",
            "\n",
            "tf.Tensor([ 0.8320782  -0.25611863  1.1959288  -1.6438805   1.2278249  -0.41673538], shape=(6,), dtype=float32) \n",
            "\n"
          ]
        }
      ],
      "source": [
        "x = tf.random.normal((2,3))\n",
        "print(x, \"\\n\")\n",
        "\n",
        "x = tf.reshape(x, (3,2))\n",
        "print(x, \"\\n\")\n",
        "\n",
        "x = tf.reshape(x, (-1,2))\n",
        "print(x, \"\\n\")\n",
        "\n",
        "x = tf.reshape(x, (6))\n",
        "print(x, \"\\n\")\n"
      ]
    },
    {
      "cell_type": "markdown",
      "metadata": {},
      "source": [
        "**Numpy**"
      ]
    },
    {
      "cell_type": "code",
      "execution_count": 41,
      "metadata": {},
      "outputs": [
        {
          "name": "stdout",
          "output_type": "stream",
          "text": [
            "<class 'numpy.ndarray'> \n",
            "\n",
            "<class 'tensorflow.python.framework.ops.EagerTensor'> \n",
            "\n"
          ]
        }
      ],
      "source": [
        "x = x.numpy()\n",
        "print(type(x), \"\\n\")\n",
        "\n",
        "x = tf.convert_to_tensor(x)\n",
        "print(type(x), \"\\n\")"
      ]
    },
    {
      "cell_type": "markdown",
      "metadata": {},
      "source": [
        "**String Tensors**"
      ]
    },
    {
      "cell_type": "code",
      "execution_count": 42,
      "metadata": {},
      "outputs": [
        {
          "name": "stdout",
          "output_type": "stream",
          "text": [
            "tf.Tensor(b'Patrick', shape=(), dtype=string) \n",
            "\n",
            "tf.Tensor([b'Patrick' b'Max' b'Mary'], shape=(3,), dtype=string) \n",
            "\n"
          ]
        }
      ],
      "source": [
        "# string tensor\n",
        "x = tf.constant(\"Patrick\")\n",
        "print(x, \"\\n\")\n",
        "\n",
        "x = tf.constant([\"Patrick\", \"Max\", \"Mary\"])\n",
        "print(x, \"\\n\")"
      ]
    },
    {
      "cell_type": "markdown",
      "metadata": {
        "id": "qT8QtK_TXb-q"
      },
      "source": [
        "**Transpose**"
      ]
    },
    {
      "cell_type": "code",
      "execution_count": 7,
      "metadata": {
        "colab": {
          "base_uri": "https://localhost:8080/"
        },
        "id": "E0bkSRddXfNR",
        "outputId": "2135f991-2a9a-41ef-cef2-c563494b00f8"
      },
      "outputs": [
        {
          "data": {
            "text/plain": [
              "<tf.Tensor: shape=(2, 2), dtype=float32, numpy=\n",
              "array([[14., 32.],\n",
              "       [32., 77.]], dtype=float32)>"
            ]
          },
          "execution_count": 7,
          "metadata": {},
          "output_type": "execute_result"
        }
      ],
      "source": [
        "x @ tf.transpose(x)"
      ]
    },
    {
      "cell_type": "markdown",
      "metadata": {
        "id": "AsVvtsS9Xmm-"
      },
      "source": [
        "**Concat**"
      ]
    },
    {
      "cell_type": "code",
      "execution_count": 8,
      "metadata": {
        "colab": {
          "base_uri": "https://localhost:8080/"
        },
        "id": "Vodn-MTjXnx_",
        "outputId": "500c4e51-faf7-42ee-b65f-2d0804ce4470"
      },
      "outputs": [
        {
          "data": {
            "text/plain": [
              "<tf.Tensor: shape=(6, 3), dtype=float32, numpy=\n",
              "array([[1., 2., 3.],\n",
              "       [4., 5., 6.],\n",
              "       [1., 2., 3.],\n",
              "       [4., 5., 6.],\n",
              "       [1., 2., 3.],\n",
              "       [4., 5., 6.]], dtype=float32)>"
            ]
          },
          "execution_count": 8,
          "metadata": {},
          "output_type": "execute_result"
        }
      ],
      "source": [
        "tf.concat([x, x, x], axis = 0)"
      ]
    },
    {
      "cell_type": "markdown",
      "metadata": {
        "id": "7KAr9_vqXsqW"
      },
      "source": [
        "**Normalization**"
      ]
    },
    {
      "cell_type": "code",
      "execution_count": 9,
      "metadata": {
        "colab": {
          "base_uri": "https://localhost:8080/"
        },
        "id": "LZTcnMS4Xv7A",
        "outputId": "15f5ce4f-44bc-4c0b-aae0-696314e0212d"
      },
      "outputs": [
        {
          "data": {
            "text/plain": [
              "<tf.Tensor: shape=(2, 3), dtype=float32, numpy=\n",
              "array([[0.09003057, 0.24472848, 0.66524094],\n",
              "       [0.09003057, 0.24472848, 0.66524094]], dtype=float32)>"
            ]
          },
          "execution_count": 9,
          "metadata": {},
          "output_type": "execute_result"
        }
      ],
      "source": [
        "tf.nn.softmax(x, axis = -1)"
      ]
    },
    {
      "cell_type": "markdown",
      "metadata": {
        "id": "WcEnpttAX5nz"
      },
      "source": [
        "**Reduce**"
      ]
    },
    {
      "cell_type": "code",
      "execution_count": 12,
      "metadata": {
        "colab": {
          "base_uri": "https://localhost:8080/"
        },
        "id": "TblvKMQrX34B",
        "outputId": "38f7d9d4-6045-4206-8ca5-a37552c1c3e6"
      },
      "outputs": [
        {
          "name": "stdout",
          "output_type": "stream",
          "text": [
            "tf.Tensor(21.0, shape=(), dtype=float32)\n",
            "tf.Tensor(720.0, shape=(), dtype=float32)\n"
          ]
        }
      ],
      "source": [
        "print(tf.reduce_sum(x))\n",
        "print(tf.reduce_prod(x))"
      ]
    },
    {
      "cell_type": "markdown",
      "metadata": {
        "id": "rELbfyvuYQkv"
      },
      "source": [
        "**Config**"
      ]
    },
    {
      "cell_type": "code",
      "execution_count": 13,
      "metadata": {
        "colab": {
          "base_uri": "https://localhost:8080/"
        },
        "id": "rHuDEvWiYSE3",
        "outputId": "a56be96d-7088-4f7f-c9d2-277bbef34cdb"
      },
      "outputs": [
        {
          "name": "stdout",
          "output_type": "stream",
          "text": [
            "TensorFlow **IS NOT** using the GPU\n"
          ]
        }
      ],
      "source": [
        "if tf.config.list_physical_devices(\"GPU\"):\n",
        "    print(\"TensorFlow **IS** using the GPU\")\n",
        "else:\n",
        "  print(\"TensorFlow **IS NOT** using the GPU\")"
      ]
    },
    {
      "cell_type": "markdown",
      "metadata": {
        "id": "XHdquXM8Yauw"
      },
      "source": [
        "**Variables**\n",
        "\n",
        "Normal **tf.Tensor** objects are **immutable**. To store model weights (or other mutable state) in TensorFlow use a **tf.Variable**."
      ]
    },
    {
      "cell_type": "code",
      "execution_count": 15,
      "metadata": {
        "colab": {
          "base_uri": "https://localhost:8080/"
        },
        "id": "j0sifPqoYNwX",
        "outputId": "6dd86726-1fd0-4542-8d35-a3f43e29e6ae"
      },
      "outputs": [
        {
          "data": {
            "text/plain": [
              "<tf.Variable 'Variable:0' shape=(3,) dtype=float32, numpy=array([0., 0., 0.], dtype=float32)>"
            ]
          },
          "execution_count": 15,
          "metadata": {},
          "output_type": "execute_result"
        }
      ],
      "source": [
        "var = tf.Variable([0.0, 0.0, 0.0])\n",
        "var"
      ]
    },
    {
      "cell_type": "code",
      "execution_count": 16,
      "metadata": {
        "colab": {
          "base_uri": "https://localhost:8080/"
        },
        "id": "AW5xXQIGYraJ",
        "outputId": "6e80d553-41fd-43f9-f218-da3f82eea005"
      },
      "outputs": [
        {
          "data": {
            "text/plain": [
              "<tf.Variable 'UnreadVariable' shape=(3,) dtype=float32, numpy=array([1., 2., 3.], dtype=float32)>"
            ]
          },
          "execution_count": 16,
          "metadata": {},
          "output_type": "execute_result"
        }
      ],
      "source": [
        "var.assign([1, 2, 3])"
      ]
    },
    {
      "cell_type": "code",
      "execution_count": 17,
      "metadata": {
        "colab": {
          "base_uri": "https://localhost:8080/"
        },
        "id": "wOBJU8IbYwKM",
        "outputId": "7e431221-5769-4716-b5a9-4208a54f2ba3"
      },
      "outputs": [
        {
          "data": {
            "text/plain": [
              "<tf.Variable 'UnreadVariable' shape=(3,) dtype=float32, numpy=array([2., 3., 4.], dtype=float32)>"
            ]
          },
          "execution_count": 17,
          "metadata": {},
          "output_type": "execute_result"
        }
      ],
      "source": [
        "var.assign_add([1, 1, 1])"
      ]
    },
    {
      "cell_type": "markdown",
      "metadata": {
        "id": "YETSZDeFY2lo"
      },
      "source": [
        "**Automatic differentiation**\n",
        "\n",
        "Gradient descent and related algorithms are a cornerstone of modern machine learning.\n",
        "\n",
        "To enable this, TensorFlow implements automatic differentiation (autodiff), which uses calculus to compute gradients. Typically you'll use this to calculate the gradient of a model's error or loss with respect to its weights."
      ]
    },
    {
      "cell_type": "code",
      "execution_count": 19,
      "metadata": {
        "colab": {
          "base_uri": "https://localhost:8080/"
        },
        "id": "QonswdQQY0IS",
        "outputId": "73013a65-aec6-4a59-f670-a711bbd405e7"
      },
      "outputs": [
        {
          "data": {
            "text/plain": [
              "<tf.Tensor: shape=(), dtype=float32, numpy=-2.0>"
            ]
          },
          "execution_count": 19,
          "metadata": {},
          "output_type": "execute_result"
        }
      ],
      "source": [
        "x = tf.Variable(1.0)\n",
        "\n",
        "def f(x):\n",
        "  y = x**2 + 2*x - 5\n",
        "  return y\n",
        "\n",
        "f(x)"
      ]
    },
    {
      "cell_type": "markdown",
      "metadata": {
        "id": "stznNPHOZNuB"
      },
      "source": [
        "At `x = 1.0, y = f(x) = (1**2 + 2*1 - 5) = -2.`\n",
        "\n",
        "The derivative of y is `y' = f'(x) = (2*x + 2) = 4`. TensorFlow can calculate this automatically:"
      ]
    },
    {
      "cell_type": "code",
      "execution_count": 20,
      "metadata": {
        "colab": {
          "base_uri": "https://localhost:8080/"
        },
        "id": "FtgS6shHZIuj",
        "outputId": "2b77dcc6-ebd2-4814-81ea-4ddecb23d2e1"
      },
      "outputs": [
        {
          "data": {
            "text/plain": [
              "<tf.Tensor: shape=(), dtype=float32, numpy=4.0>"
            ]
          },
          "execution_count": 20,
          "metadata": {},
          "output_type": "execute_result"
        }
      ],
      "source": [
        "with tf.GradientTape() as tape:\n",
        "  y = f(x)\n",
        "\n",
        "g_x = tape.gradient(y, x)  # g(x) = dy/dx\n",
        "\n",
        "g_x"
      ]
    },
    {
      "cell_type": "markdown",
      "metadata": {
        "id": "4o3JWTNyZWDu"
      },
      "source": [
        "**Graphs and tf.function**\n",
        "\n",
        "While you can use TensorFlow interactively like any Python library, TensorFlow also provides tools for:\n",
        "\n",
        "- **Performance optimization:**to speed up training and inference.\n",
        "- **Export**: so you can save your model when it's done training.\n",
        "\n",
        "These require that you use **tf.function** to separate your **pure-TensorFlow code from Python.**"
      ]
    },
    {
      "cell_type": "code",
      "execution_count": 21,
      "metadata": {
        "id": "daZIvR0XZeX4"
      },
      "outputs": [],
      "source": [
        "@tf.function\n",
        "def my_func(x):\n",
        "  print('Tracing.\\n')\n",
        "  return tf.reduce_sum(x)"
      ]
    },
    {
      "cell_type": "markdown",
      "metadata": {
        "id": "XGdOJy-WZnpb"
      },
      "source": [
        "The first time you run the **tf.function**, although it executes in Python, i**t captures a complete, optimized graph representing the TensorFlow computations done within the function.**"
      ]
    },
    {
      "cell_type": "code",
      "execution_count": 22,
      "metadata": {
        "colab": {
          "base_uri": "https://localhost:8080/"
        },
        "id": "ehdyI5X3ZpxY",
        "outputId": "75a10538-1f64-4b05-fd63-526311a41826"
      },
      "outputs": [
        {
          "name": "stdout",
          "output_type": "stream",
          "text": [
            "Tracing.\n",
            "\n"
          ]
        },
        {
          "data": {
            "text/plain": [
              "<tf.Tensor: shape=(), dtype=int32, numpy=6>"
            ]
          },
          "execution_count": 22,
          "metadata": {},
          "output_type": "execute_result"
        }
      ],
      "source": [
        "x = tf.constant([1, 2, 3])\n",
        "my_func(x)"
      ]
    },
    {
      "cell_type": "markdown",
      "metadata": {
        "id": "yNOEyofcZsZr"
      },
      "source": [
        "On subsequent calls TensorFlow **only executes the optimized graph, skipping any non-TensorFlow steps.** Below, note that my_func doesn't print tracing since print is a Python function, not a TensorFlow function. A**s we see no tracing is shown as it is using the priviously optimized graph.**"
      ]
    },
    {
      "cell_type": "code",
      "execution_count": 23,
      "metadata": {
        "colab": {
          "base_uri": "https://localhost:8080/"
        },
        "id": "G2xk6O7AZtA-",
        "outputId": "15a2974b-6148-4d18-ceb0-80facc4c2e2e"
      },
      "outputs": [
        {
          "data": {
            "text/plain": [
              "<tf.Tensor: shape=(), dtype=int32, numpy=27>"
            ]
          },
          "execution_count": 23,
          "metadata": {},
          "output_type": "execute_result"
        }
      ],
      "source": [
        "x = tf.constant([10, 9, 8])\n",
        "my_func(x)"
      ]
    },
    {
      "cell_type": "markdown",
      "metadata": {
        "id": "IW05EbPIZ_Os"
      },
      "source": [
        "A graph may not be reusable for inputs with a different signature (**shape and dtype**), so a new graph is generated instead. **And we will call the function to trace this new graph.**"
      ]
    },
    {
      "cell_type": "code",
      "execution_count": 24,
      "metadata": {
        "colab": {
          "base_uri": "https://localhost:8080/"
        },
        "id": "2S6LuyiiaBg_",
        "outputId": "33507ba5-fded-4468-f220-515af0089edb"
      },
      "outputs": [
        {
          "name": "stdout",
          "output_type": "stream",
          "text": [
            "Tracing.\n",
            "\n"
          ]
        },
        {
          "data": {
            "text/plain": [
              "<tf.Tensor: shape=(), dtype=float32, numpy=27.3>"
            ]
          },
          "execution_count": 24,
          "metadata": {},
          "output_type": "execute_result"
        }
      ],
      "source": [
        "x = tf.constant([10.0, 9.1, 8.2], dtype=tf.float32)\n",
        "my_func(x)"
      ]
    },
    {
      "cell_type": "markdown",
      "metadata": {
        "id": "JAktgIFfaKw7"
      },
      "source": [
        "These captured graphs provide two benefits:\n",
        "\n",
        "- In many cases they provide a significant speedup in execution (though not this trivial example).\n",
        "- You can export these graphs, using tf.saved_model, to run on other systems like a server or a mobile device, no Python installation required."
      ]
    },
    {
      "cell_type": "markdown",
      "metadata": {
        "id": "uBn1-1Kmah-B"
      },
      "source": [
        "**Modules, layers, and models**\n",
        "\n",
        "**tf.Module** is a class for managing your **tf.Variable** objects, and the **tf.function** objects that operate on them. The **tf.Module** class is necessary to support two significant features:\n",
        "\n",
        "- You can save and restore the values of your variables using **tf.train.**Checkpoint. This is useful during training as it is quick to save and restore a model's state.\n",
        "- You can import and export the **tf.Variable** values and the **tf.function**graphs using **tf.saved_model**. This allows you to run your model independently of the Python program that created it."
      ]
    },
    {
      "cell_type": "code",
      "execution_count": 25,
      "metadata": {
        "id": "UGEgBDUeajD5"
      },
      "outputs": [],
      "source": [
        "class MyModule(tf.Module):\n",
        "  def __init__(self, value):\n",
        "    self.weight = tf.Variable(value)\n",
        "\n",
        "  @tf.function\n",
        "  def multiply(self, x):\n",
        "    return x * self.weight"
      ]
    },
    {
      "cell_type": "code",
      "execution_count": 26,
      "metadata": {
        "colab": {
          "base_uri": "https://localhost:8080/"
        },
        "id": "cIFOVGuEa7ug",
        "outputId": "b0998ef2-da6f-4d71-e67e-33a27718e150"
      },
      "outputs": [
        {
          "data": {
            "text/plain": [
              "<tf.Tensor: shape=(3,), dtype=int32, numpy=array([3, 6, 9], dtype=int32)>"
            ]
          },
          "execution_count": 26,
          "metadata": {},
          "output_type": "execute_result"
        }
      ],
      "source": [
        "mod = MyModule(3)\n",
        "mod.multiply(tf.constant([1, 2, 3]))"
      ]
    },
    {
      "cell_type": "markdown",
      "metadata": {
        "id": "4pCIAFcBbATC"
      },
      "source": [
        "Save the Module:"
      ]
    },
    {
      "cell_type": "code",
      "execution_count": 27,
      "metadata": {
        "colab": {
          "base_uri": "https://localhost:8080/"
        },
        "id": "RvAt4JWDbBGl",
        "outputId": "f34d7ee1-01d3-47a7-89b6-0745f5c75c6b"
      },
      "outputs": [
        {
          "name": "stdout",
          "output_type": "stream",
          "text": [
            "INFO:tensorflow:Assets written to: ./saved/assets\n"
          ]
        }
      ],
      "source": [
        "save_path = './saved'\n",
        "tf.saved_model.save(mod, save_path)"
      ]
    },
    {
      "cell_type": "markdown",
      "metadata": {
        "id": "bVCFOSHybIWB"
      },
      "source": [
        "The resulting **SavedModel** is independent of the code that created it. You can load a **SavedModel** from **Python**, **other language bindings**, or **TensorFlow Serving**. "
      ]
    },
    {
      "cell_type": "code",
      "execution_count": 28,
      "metadata": {
        "colab": {
          "base_uri": "https://localhost:8080/"
        },
        "id": "yKlI94eIbPtG",
        "outputId": "f80817c2-191a-4509-82f3-2a20d90ac5b0"
      },
      "outputs": [
        {
          "data": {
            "text/plain": [
              "<tf.Tensor: shape=(3,), dtype=int32, numpy=array([3, 6, 9], dtype=int32)>"
            ]
          },
          "execution_count": 28,
          "metadata": {},
          "output_type": "execute_result"
        }
      ],
      "source": [
        "reloaded = tf.saved_model.load(save_path)\n",
        "reloaded.multiply(tf.constant([1, 2, 3]))"
      ]
    },
    {
      "cell_type": "markdown",
      "metadata": {
        "id": "pEWfAcc8bR-S"
      },
      "source": [
        "**Training loops**\n",
        "\n",
        "Now put this all together to build a basic model and train it from scratch.\n",
        "\n",
        "First, create some example data. This generates a cloud of points that loosely follows a quadratic curve:"
      ]
    },
    {
      "cell_type": "code",
      "execution_count": 29,
      "metadata": {
        "colab": {
          "base_uri": "https://localhost:8080/",
          "height": 374
        },
        "id": "y7b0aMEKbWjo",
        "outputId": "ce98ddc2-8fe9-469e-e036-b0cd078a4c92"
      },
      "outputs": [
        {
          "data": {
            "image/png": "[encoded data removed]",
            "text/plain": [
              "<Figure size 648x432 with 1 Axes>"
            ]
          },
          "metadata": {
            "needs_background": "light"
          },
          "output_type": "display_data"
        }
      ],
      "source": [
        "import matplotlib\n",
        "from matplotlib import pyplot as plt\n",
        "\n",
        "matplotlib.rcParams['figure.figsize'] = [9, 6]\n",
        "\n",
        "x = tf.linspace(-2, 2, 201)\n",
        "x = tf.cast(x, tf.float32)\n",
        "\n",
        "def f(x):\n",
        "  y = x**2 + 2*x - 5\n",
        "  return y\n",
        "\n",
        "y = f(x) + tf.random.normal(shape=[201])\n",
        "\n",
        "plt.plot(x.numpy(), y.numpy(), '.', label='Data')\n",
        "plt.plot(x, f(x),  label='Ground truth')\n",
        "plt.legend();"
      ]
    },
    {
      "cell_type": "markdown",
      "metadata": {
        "id": "gLU31_REbciJ"
      },
      "source": [
        "Create a model:"
      ]
    },
    {
      "cell_type": "code",
      "execution_count": 30,
      "metadata": {
        "id": "LLeSXpiXbcAN"
      },
      "outputs": [],
      "source": [
        "class Model(tf.keras.Model):\n",
        "  def __init__(self, units):\n",
        "    super().__init__()\n",
        "    self.dense1 = tf.keras.layers.Dense(units=units,\n",
        "                                        activation=tf.nn.relu,\n",
        "                                        kernel_initializer=tf.random.normal,\n",
        "                                        bias_initializer=tf.random.normal)\n",
        "    self.dense2 = tf.keras.layers.Dense(1)\n",
        "\n",
        "  def call(self, x, training=True):\n",
        "    # For Keras layers/models, implement `call` instead of `__call__`.\n",
        "    x = x[:, tf.newaxis]\n",
        "    x = self.dense1(x)\n",
        "    x = self.dense2(x)\n",
        "    return tf.squeeze(x, axis=1)"
      ]
    },
    {
      "cell_type": "code",
      "execution_count": 31,
      "metadata": {
        "id": "9eBwAT5rbjfp"
      },
      "outputs": [],
      "source": [
        "model = Model(64)"
      ]
    },
    {
      "cell_type": "code",
      "execution_count": 32,
      "metadata": {
        "colab": {
          "base_uri": "https://localhost:8080/",
          "height": 390
        },
        "id": "Hdrd31RsbkuZ",
        "outputId": "10bf4d7f-4cad-4f69-f9ea-171eda90b26e"
      },
      "outputs": [
        {
          "data": {
            "image/png": "[encoded data removed]",
            "text/plain": [
              "<Figure size 648x432 with 1 Axes>"
            ]
          },
          "metadata": {
            "needs_background": "light"
          },
          "output_type": "display_data"
        }
      ],
      "source": [
        "plt.plot(x.numpy(), y.numpy(), '.', label='data')\n",
        "plt.plot(x, f(x),  label='Ground truth')\n",
        "plt.plot(x, model(x), label='Untrained predictions')\n",
        "plt.title('Before training')\n",
        "plt.legend();"
      ]
    },
    {
      "cell_type": "markdown",
      "metadata": {
        "id": "yUvRBoIzbnds"
      },
      "source": [
        "Write a basic training loop"
      ]
    },
    {
      "cell_type": "code",
      "execution_count": 33,
      "metadata": {
        "colab": {
          "base_uri": "https://localhost:8080/"
        },
        "id": "W9yx8akVbmzg",
        "outputId": "b34b1b4c-3e20-4306-9299-01a612144992"
      },
      "outputs": [
        {
          "name": "stdout",
          "output_type": "stream",
          "text": [
            "Mean squared error: 13.370\n",
            "Mean squared error: 1.066\n",
            "Mean squared error: 1.018\n",
            "Mean squared error: 0.990\n",
            "Mean squared error: 0.969\n",
            "Mean squared error: 0.955\n",
            "Mean squared error: 0.945\n",
            "Mean squared error: 0.936\n",
            "Mean squared error: 0.931\n",
            "Mean squared error: 0.926\n"
          ]
        }
      ],
      "source": [
        "variables = model.variables\n",
        "\n",
        "optimizer = tf.optimizers.SGD(learning_rate=0.01)\n",
        "\n",
        "for step in range(1000):\n",
        "  with tf.GradientTape() as tape:\n",
        "    prediction = model(x)\n",
        "    error = (y-prediction)**2\n",
        "    mean_error = tf.reduce_mean(error)\n",
        "  gradient = tape.gradient(mean_error, variables)\n",
        "  optimizer.apply_gradients(zip(gradient, variables))\n",
        "\n",
        "  if step % 100 == 0:\n",
        "    print(f'Mean squared error: {mean_error.numpy():0.3f}')"
      ]
    },
    {
      "cell_type": "code",
      "execution_count": 34,
      "metadata": {
        "colab": {
          "base_uri": "https://localhost:8080/",
          "height": 390
        },
        "id": "ZxuWXFSQbqpA",
        "outputId": "b1f666ef-2984-4317-dfc3-51fd1df5c8f9"
      },
      "outputs": [
        {
          "data": {
            "image/png": "[encoded data removed]",
            "text/plain": [
              "<Figure size 648x432 with 1 Axes>"
            ]
          },
          "metadata": {
            "needs_background": "light"
          },
          "output_type": "display_data"
        }
      ],
      "source": [
        "plt.plot(x.numpy(),y.numpy(), '.', label=\"data\")\n",
        "plt.plot(x, f(x),  label='Ground truth')\n",
        "plt.plot(x, model(x), label='Trained predictions')\n",
        "plt.title('After training')\n",
        "plt.legend();"
      ]
    },
    {
      "cell_type": "markdown",
      "metadata": {
        "id": "ZPRStJnjbuA7"
      },
      "source": [
        "That's working, but remember that implementations of common training utilities are available in the **tf.keras** module. So consider using those before writing your own. To start with, the **Model.compile and Model.fit** methods implement a training loop for you:"
      ]
    },
    {
      "cell_type": "code",
      "execution_count": 35,
      "metadata": {
        "id": "9BaGczntbySb"
      },
      "outputs": [],
      "source": [
        "new_model = Model(64)"
      ]
    },
    {
      "cell_type": "code",
      "execution_count": 36,
      "metadata": {
        "colab": {
          "base_uri": "https://localhost:8080/"
        },
        "id": "muiFAP29b0e-",
        "outputId": "e473c56b-d7b8-4c79-e337-0e92b61dfd6c"
      },
      "outputs": [
        {
          "name": "stdout",
          "output_type": "stream",
          "text": [
            "INFO:tensorflow:Assets written to: ./my_model/assets\n"
          ]
        }
      ],
      "source": [
        "new_model.compile(\n",
        "    loss=tf.keras.losses.MSE,\n",
        "    optimizer=tf.optimizers.SGD(learning_rate=0.01))\n",
        "\n",
        "history = new_model.fit(x, y,\n",
        "                        epochs=100,\n",
        "                        batch_size=32,\n",
        "                        verbose=0)\n",
        "\n",
        "model.save('./my_model')"
      ]
    },
    {
      "cell_type": "code",
      "execution_count": 37,
      "metadata": {
        "colab": {
          "base_uri": "https://localhost:8080/",
          "height": 404
        },
        "id": "5IbcaHZyb2MG",
        "outputId": "104d7c77-c8cd-427a-f854-ab4f108f6337"
      },
      "outputs": [
        {
          "data": {
            "image/png": "[encoded data removed]",
            "text/plain": [
              "<Figure size 648x432 with 1 Axes>"
            ]
          },
          "metadata": {
            "needs_background": "light"
          },
          "output_type": "display_data"
        }
      ],
      "source": [
        "plt.plot(history.history['loss'])\n",
        "plt.xlabel('Epoch')\n",
        "plt.ylim([0, max(plt.ylim())])\n",
        "plt.ylabel('Loss [Mean Squared Error]')\n",
        "plt.title('Keras training progress');"
      ]
    }
  ],
  "metadata": {
    "colab": {
      "authorship_tag": "ABX9TyMgFHcJ1tO0DBcqXbs5Zm/K",
      "include_colab_link": true,
      "name": "Tensorflow - Basics.ipynb",
      "provenance": []
    },
    "interpreter": {
      "hash": "0d7fd96aeadd740978789f2880dd43822d8681a39e327029c33ff72656207c4b"
    },
    "kernelspec": {
      "display_name": "Python 3.10.4 64-bit",
      "language": "python",
      "name": "python3"
    },
    "language_info": {
      "codemirror_mode": {
        "name": "ipython",
        "version": 3
      },
      "file_extension": ".py",
      "mimetype": "text/x-python",
      "name": "python",
      "nbconvert_exporter": "python",
      "pygments_lexer": "ipython3",
      "version": "3.10.4"
    }
  },
  "nbformat": 4,
  "nbformat_minor": 0
}
