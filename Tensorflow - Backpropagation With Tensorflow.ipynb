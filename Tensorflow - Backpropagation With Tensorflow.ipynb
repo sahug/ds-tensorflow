{
  "cells": [
    {
      "cell_type": "markdown",
      "metadata": {
        "id": "view-in-github",
        "colab_type": "text"
      },
      "source": [
        "<a href=\"https://colab.research.google.com/github/sahug/ds-tensorflow-colab/blob/master/Tensorflow%20-%20Backpropagation%20With%20Tensorflow.ipynb\" target=\"_parent\"><img src=\"https://colab.research.google.com/assets/colab-badge.svg\" alt=\"Open In Colab\"/></a>"
      ]
    },
    {
      "cell_type": "markdown",
      "metadata": {
        "id": "zsa3cOQQ0mna"
      },
      "source": [
        "**Back Propagation with TensorFlow**"
      ]
    },
    {
      "cell_type": "markdown",
      "metadata": {
        "id": "l4-Vgvtf0mnd"
      },
      "source": [
        "**Setup**\n",
        "\n",
        "First, we need to load TensorFlow and setup the basic parts of the graph - inputs `(a_0, y)`, and states `(w_1, b_1, w_2, b_2)`."
      ]
    },
    {
      "cell_type": "code",
      "execution_count": null,
      "metadata": {
        "id": "5DxWcxBy0mnd"
      },
      "outputs": [],
      "source": [
        "import tensorflow\n",
        "import tensorflow as tf\n",
        "from tensorflow.examples.tutorials.mnist import input_data\n",
        "\n",
        "mnist = input_data.read_data_sets(\"MNIST_data/\", one_hot=True)\n",
        "\n",
        "a_0 = tf.placeholder(tf.float32, [None, 784])\n",
        "y = tf.placeholder(tf.float32, [None, 10])\n",
        "\n",
        "middle = 30\n",
        "w_1 = tf.Variable(tf.truncated_normal([784, middle]))\n",
        "b_1 = tf.Variable(tf.truncated_normal([1, middle]))\n",
        "w_2 = tf.Variable(tf.truncated_normal([middle, 10]))\n",
        "b_2 = tf.Variable(tf.truncated_normal([1, 10]))"
      ]
    },
    {
      "cell_type": "markdown",
      "metadata": {
        "id": "1e0g0TyP0mnf"
      },
      "source": [
        "**The sigmoid function**\n",
        "Our sigmoid function, although provided by TensorFlow extensive function library, is brought here as reference:\n",
        "\n",
        "![image.png](data:image/png;base64,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)"
      ]
    },
    {
      "cell_type": "code",
      "execution_count": null,
      "metadata": {
        "id": "FoYrchZo0mnf"
      },
      "outputs": [],
      "source": [
        "def sigma(x):\n",
        "    return tf.div(tf.constant(1.0), tf.add(tf.constant(1.0), tf.exp(tf.negative(x))))"
      ]
    },
    {
      "cell_type": "markdown",
      "metadata": {
        "id": "0g0ZjXI80mng"
      },
      "source": [
        "**The Forward Propagation**"
      ]
    },
    {
      "cell_type": "markdown",
      "metadata": {
        "id": "UzjLaGkd0mng"
      },
      "source": [
        "Provided that the input image is given by the a_0 a matrix, calculating forward propagation for multiple images at a time can be done with simple matrix multiplication, defined as such:\n",
        "\n",
        "![image.png](data:image/png;base64,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)\n",
        " \n",
        "Given a tensor of multiple images, this can done in TensorFlow for all them at the same time (thanks to 'broadcasting'), so the above gets a one-to-one translation in TensorFlow:"
      ]
    },
    {
      "cell_type": "code",
      "execution_count": null,
      "metadata": {
        "id": "P7_34EDY0mnh"
      },
      "outputs": [],
      "source": [
        "z_1 = tf.add(tf.matmul(a_0, w_1), b_1)\n",
        "a_1 = sigma(z_1)\n",
        "z_2 = tf.add(tf.matmul(a_1, w_2), b_2)\n",
        "a_2 = sigma(z_2)"
      ]
    },
    {
      "cell_type": "markdown",
      "metadata": {
        "id": "NZilsAdm0mnh"
      },
      "source": [
        "**Difference**"
      ]
    },
    {
      "cell_type": "markdown",
      "metadata": {
        "id": "MyU_a11V0mni"
      },
      "source": [
        "The input provides yy as the test for the accuracy of the network's output, so we compute the following vector:\n",
        "\n",
        "![image.png](data:image/png;base64,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)"
      ]
    },
    {
      "cell_type": "code",
      "execution_count": null,
      "metadata": {
        "id": "kgmMjac50mni"
      },
      "outputs": [],
      "source": [
        "diff = tf.subtract(a_2, y)"
      ]
    },
    {
      "cell_type": "markdown",
      "metadata": {
        "id": "Rq0l4ToB0mnj"
      },
      "source": [
        "**The sigmoid prime function**"
      ]
    },
    {
      "cell_type": "markdown",
      "metadata": {
        "id": "tj1Y3aKC0mnj"
      },
      "source": [
        "Here's the derivate of the sigmoid function from above, which will be needed during the backward propagation:\n",
        "\n",
        "![image.png](data:image/png;base64,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)"
      ]
    },
    {
      "cell_type": "code",
      "execution_count": null,
      "metadata": {
        "id": "ALfMvQGl0mnj"
      },
      "outputs": [],
      "source": [
        "def sigmaprime(x):\n",
        "    return tf.multiply(sigma(x), tf.subtract(tf.constant(1.0), sigma(x)))"
      ]
    },
    {
      "cell_type": "markdown",
      "metadata": {
        "id": "QfFDXmz10mnk"
      },
      "source": [
        "**Backward propagation**"
      ]
    },
    {
      "cell_type": "markdown",
      "metadata": {
        "id": "32beb3hP0mnk"
      },
      "source": [
        "The most complicated part is the backward propagation. First, we need to compute the deltas of the weights and biases. In the original book the Python code was a bit puzzling, but here we can describe the same algorithm in a functional, stateless way.\n",
        "\n",
        "![image.png](data:image/png;base64,iVBORw0KGgoAAAANSUhEUgAAALMAAAEACAIAAAB3X9DLAAAgAElEQVR4nO2deVxM+//H3zPTNFomaUHNVLYWVNpTKcoSLZKKkD1crqXIEuJri5K6IUrZl0hKXFylKLlEhTZF+6ZQKHKbqZnfH8ed39yZ0zRNzRTO8+GPOuczc96m13zO55zzeX1eOPKAQYCBwQW+twvA6KNgysBAB1MGBjqYMjDQwZSBgQ6mDAx0MGVgoIMpAwMdTBkY6GDKwEAHUwYGOgSShHRv1/BLIy8vl5J0m0AgZGU/7+1a/gPWZ/Qyy5YuHj1q5MwZ07l3xcdG7929Q7C3vXs7YZvvpu4UJtbVF6ipqe7028pn4xORp55kPO3qIXoWe7upLjNn8Nl4zbr1X7+2CLUeDmynTAKAkNCjHNujIsJsrCd4+2wR7G2vxScEBfjX17+LOnVGsHfAdfUpvIwMubK0CI/nq7PRMzIrLS0TqLAew8F+2qXzp/lp+fXrVyWV4cKuh4P6mrL29nZl1RHsGz2XLAoOOhAbd32J528Cv3NBbjZFWcnSekpOTq4AL+9yn9HU1Hzjz9szpjsAQNK9lM9NTUwGg70BDo/H4XAzZ0zPyn7e67IAgD9v3amrrx88aBCTyYy7foPJZHIXLDdA1sZ6AvcXV9ioqalKSEhEnuT8Wu/bs7O1lbbq93XdefMFizxTkm5HHDtsNs5agJd3WRkA4L1hk5OjPQ6H+/L1K6qo586Z5eLstNbLR4A3FwZ+O/dEhh/F4XA3bvwZn3CTu8GVS+f+aW0NCg4VcWGz3VyYTOa+/QHsGxct8JCQkNi+Y/c/ra3defPMrOy0h4+sLC309HRfvMjp6ssFGYE2NDQmJiUDgJOjvYwMmbvB7v/55eTm5eUXCPDmwuBKTGxDQyMA7Nu7i3uvvLzcVNvJx46fYPy3LxEBkyfZvHyZ29j4kX2j19rfASAiMqr77x99JQYAli1dLMBrBbw2Weftw2Qy8Xh8UIA/xy4XZ6eBiorrvDdybJ82dUru86f5LzP19cfg8fiH9xN/X7lCsKMLwO69+wGASlFGRnzshBwKpNHoe/Yd4Nju7OT4OP1+cVHu8aOhY01NXF2cBT6697rVt27EJSfeSkm6zfpnNtY0PCJq1RovjsYUCoVGo7e20ji2a6iPSEm6XVKU57lkEQD8ERx4+eJZ3sfNynoOABOsLAWoucsjUBYJ8THW463a2tooaurfvn1jbS/Mf97c/MV47H+q0dcfk5p8F/mZyWTWv3snKys7QlO7qamZn2OZGBtNtJnQabPklAdPn2V2tLeytEhWtn9FRaWOvglro6xs//LiVyciT23y3c7eOORQwNLFC98Ul5w7f9Fvm6+4OPHjx09qw7X4qZYd7dGj4mKjBw9C+ZCX/bb6Skwsx0Y8Hv/pQ239u3fqWrrs20kk8YqSQklJSeTXqqpqKpUy3dktNS2ddwFNjXV0Ol1+kEpXKxdknIGw1ssn9/lTMTGxA/67WT2Evd1UZSWlqZ5OHI29163JePrMe8NmCkX5UOB+KpXi4OTCkoWurg7v8bOxkeFc91mou5hMJussQCKReCjjwMFDB/btVlNTHW81jvWBBgX4t7e3+/1vN3vLVSuXL1288G1dnaGJBQBoamh4zHMvKS1FfVsFBXkVFerz5y+5d5HJ0in37pDExU+dORcXn7ByxTJ7u6klJaUOTi7f/vmH4ySCoKWpAQA1NbUc22e7uTY1N7vOntfW1v7bCs+ZM6YHHAxm/S+0NDXKysu5uxkA+PbtW79+/Tr6THggeJ8BAH/dum5uNpZOpyurDkfKyn+ZSaPR9I3NO3qJz/p1W7dsnL/I89btvwDg95UrtmxaT+rXD4/DR0RGbfNDGQf0ILWVxdLS0sUlJQbGFgAgJSVZVfb63IVLXuv/c1Po/dtKEknczd3jbuI9AEi8c2OsqYn/gYMHAg9xvCGRSKyvKRMTE9u81e94eCTH3qS/bpqaGIeEHt25ay/SuKG+6suXLxzXqOzMnTMrPOxwzNVrnit+R21gbmZ683rsyVNnkU7OxNjo0oXTEv36SUlJZTx9ZmvH+Z3Mf5mpokIdqKTW1fFst+6Brl67HgCIROLeXTsBYKKNtYoKdcOmDu+DBfjv8d3s4+zqjsiCSCTu2rndPyBooJJaYVHR6lW/aah3+JH1CMjVx4jhw8eamgBA4IF9AOC7bSd7mymTJ5JI4gwGA5EFAGiPHgUA0Veucr8hHo8jEAgAQJbmfMiAx+NNjI3a2tp27fk+FENG66jfbBbSUlIA0NbWjrrX3m7qnwnXgoJDWee+sCMhr14VUdTUQ48cMxtrunb1Ko6XCDys7pYyiktKM7OyAWDxogVEIvFQoH9VVXXK/QeojcPDDi9ZvHCirT3SB5qbmVIoyuLiRCdHewC4dDkGh8OtWO6J+tpFCzzYx24d/VvvtYZ3wX8cDmtpaQGAP4ID+5FI7rNcY67GsQ+SAMB9thsAVFVVI78OVFSQlpb+p7W1oqLSytKC4w1bW2mm5uOXLFsZGBTCsWu85TgcDveqsIj1t1nuuQQAXhUW8aiwqroGANTVUW64uc92O38mastWv/0BQQBgaKDfj0RSVaEaGugBQEjoEQBYuGAex6sUFOTpdLoAF8CCjzMQVq9d/+TRA3FxYmzMxWHDhs7xWITaLCoibPp0B2Mzy/LyCgCIDD/q5OQ4UEnNyHRcRWUlAGhqqANA/PUE1JdX19QUFb3ptJiKikreDRgMRuiRY76bfUaN1Iq5fIFAIGzcwtnDvXlTDAAvcr7fAFi+bCkAFBUWzZ7leiT00EAlNY72hUWvC4tecx+LLEOG/44YlnsuYTKZW/12cjdmgbSnUikc291nu4WHhS5dtvJafAIAuDg7nYoKNxtnraNnzGAy4d+OLf3R3xwvlJSU/PjxE48jdkS3xhkIDx8kjdHVAYDat2+1RutzN9i4wctv2xYAoNPp7z986C8jIyUltcl3e3jE90t2GRly2ZuC12+KBbtb1yUIBMLb6tJ+JBIAXItPWLyU88qZSqUU5GQVvX5jPNbSzXVmVEQYDoe7FB2jozP63bt3zq5z+DwQ8hjh8+cmzVFj6G1t169dGW81LvTIMb+du3m8ikAgNL6rptHoikqqrI16erqpyXdxOByDwWhoaMTj8fLycqlp6Y4zXFltcrIzFBUVxhiYvnv/gbVxyBC1nOyMgleFYy06v7LjoAeeta7x2oD84LsV5cEgRVlpm++mwKCQkdr6TU3NykpKyP1glizweHz6g3ulZeXjxnPeaRAG7e3tx46fAAAGg+G9AeVpZHV1Tdz1G5oa6o3vqo+GHgr+4wiNRp/j7qapoYGMq/ikqal5w0bf/v1l6mrK3r+tUFcf7uw6h7cskPKqq2tIJHEikcjaGH/18rPMLCWVYRlPnykqKsjLy+UXvJq/aCmrwbEjfwwcqGhsZsUuCwAwNjIEgHyBbjn2QJ8BAOFhh/v3l0E9lUhJSerq6Dx+kgEABAJhos2ErOznyB1JhMQ7N8TExCbZOizwmCsmJibws0H+IRAISX/dTExK5r7WYCEnN8DI0OD+gzQ6nU4kEvX1xpSUlrKXzSf9SCQjI4OvLS2ol7WoHAzwX7FsyVovnzPnLiBbbKwnPEhNQ8YrJsZGTU1N7OevjRu8fl+5YqzFeDEicdeObUuX//8g9PLFs3bTbHX0TTo9z3LTM8oQmKiIMKfpjpdjrhLwBNspk/b6B5w+e74X6+kLSEhIVJe/ptFo1CEa7e3oFykskPPdtfiEb9++6WqP/tDQwDrfaWlqZPydWvT6jYmZlQBl9OacLu3Ro4KDAsTECHpjdHV1taWkJHfu2vuhoaG36ukjtLW1yciQLcdZKCjIs66cOyItJVFMjDBqpNYYXZ3BgwddT/jzQepDZNdftxPk5eTmzFtUU8t534wfernPwOiI5MRbhgb6GiN1OYYOfOLq4nwq8rjvtp1hxyMEKwBTRh+FQCCk3U9MuZ/a6aAVlYcPkl68zFmzboPABWDKwEAHmyGMgQ6mDAx0MGVgoIMpAwMdTBkY6GDKwEAHUwYGOpgyMNDBlIGBjigcz0aGBpt8vBUU5GVl+ztMd6l9W9fVg3aHsCMhEhIS/LRMS0tnPfjG6LIyPn78OHPGdD4dz3v9AwBgpJamgYHeQEVFJpNZ/+59l2vsHtYTxlMpyvy0zM3NE3YxPxCCPDc5dyaKT8ezzWQ7ZOOUyRNjr1zkNtiIABdnp9MnIwCguKTkxctcJtdcahwebzd1CgAMpg4TcW19GRE5nmfOcAKAXllL41p8QsCBvQMVFaWlpVGrVVCQd3F24p78/YsjIsez5ThzALh+HcWHLgJ27fYHgMGDBjnYT+PeezgkiEaj85j592siCsczHo9HpsnbTbOtLC1KT73HPWteqJy/GI3MrA/w38OxS05ugN0024jIKI55dQLYi38yROF4nmhjHR8bDQBVVdVh4Se2+26SlJRUGarR3PyFnwMNVFRYugTdxsJOWXnFZTQbGcJyz8VBgfsBwNl1TnLKfdb20ycjHO3tlFSG0el01kaB7cU/E6JwPLs4OwFAaWmZgYkFg8EwNTF2dnKc7zEXmd3Pw62LMFhJiYfdGf416JVX8FLGiajTO/22ksnkQ4H+ekZmyEYyWdrZyfHk6XPssoBu2It/JkTheM59/lRNTXXp8lVXY+MA4M+Ea1aWFkn3UgIOBvN26/Ysa1evQpbKs3N0Tn/0GADCww67uTpTVEd0ZO7rqr34Z0IUjmcVFSoA3Lx5C/lVU1MdAF4VFnbq1u1ZDh89hphaQw4FAoCEhMQst5mXY2I7koUA9uKfie7OA01Jum1kaECj0ZVUhj17nEYkEkePMWJvIC8vV/amoKGhcaj6KACQle1fWVoEAHaOztdiLiHL2iEb3xSXIOtVcDBqpNbRw8GdVlJRWcVtReRgk4/39q2bAcBmst18jznz581RGaqBusyj+2y3Y0dCtmz1OxF1GgAMDfTz8wsqSgv5KfjnQOiO55aWbwDQ0Pjd3bXBex0AFLwqTH/0uFO3LsLnz5/5sTuXlZd32iYoOHSD91oJCYnjYaHDhg6Ji0/oSBaC2Yt/JkTheK6tLCaRSIpKajbW42OvXKTT2wxNLSorq1gNUN26QsJv25aNG7wAgMFgqA7T5F4OSmB78U+G0B3PADB/0TIcDvehrjLuanRVVbWOnhG7LDpy6woJ/wMHkcFyws1bqKuECWwv/skQuuMZoR+JZGFh/iwzk+OPwcOtKzyWey6e7zHXaeYs1JWyBLYX/2T0phOJh1u3b/LDFdwdelMZH+qqxMX/f5WI4D+O/G/3vt4qhh9+uIK7A+ZexEAHm+2HgQ6mDAx0MGVgoIMpAwMdTBkY6GDKwEAHUwYGOpgyMNDp7lP4nw8N9RGoKZ50Oj0i8iSfc1d/ArB7oJzcvZ1gZGjw+MnTdka79Xir9+8/PHr8ZPiwoTrao4eMGIn6EO6nBOszOBmjqzPGcGx1dc3ihfOtx1sF/3EEWVKzvqbs15EFYOMMDhzsp+Xm5VdX1wDAdEc7ALgccxUAJCQkPjc19XJxoqXLZ5MfLv27S5BI4jjAIXOGK0oKxcQIFDV1ZJec3ICu9hnrvdZoa4/mp2Vtbe32HYKsCCs8ROGF/4FguUhkZfsPGCCb9vARa5cAp5LRo0a68hdJ3we/Pz9/+rdgzHKdCQC37vzVnTfZuGWby8wZeDy+ubn5blIyAHB/ViZGhqqqKn0nD5uFINcm8vJypa/zcThcfMLNhYuXcTdAAgTNLW36TsxzV0G8mUPVRwmQacJO9IUz9nZTGQzGkBEjP336zN2gpCivpqbWymZKd44iDH6J9G8BMDLQb25u7qYsgM0afihwP/deN9eZiooKq70EXzdeeIjCC08kEmOiz79+9ZJ96Oq3bcu6NasAwN5uaklR3m8r0FMXhceokVp3bycUF+Um3rmhoT6CldtYXvyqrrqUTCZLS0vXVhb7bu5WP//u/QckjNJl5gwpKUmOvfv27MwveMWRYkwmS5+KCq8oKQwPOwwAzk6OeS+edacGwRCFF74gJwsA8AS8spKSroFpeXmFjfWE69cuIyl2yYm3jI0Mq6qqOcxtvPFet7rT6GI6nY4EtHJjbzf10vnTTU1NYcdPLFrooaykBAACxN3yA5VKyX+ZicPhLly8zJ4CP93R/sLZk5NsHThyqdNSEvX0vq9M1Nj4UVa2//GISI5QWREgdC+8q4szhaKso2+S8egBAIgRCAAw190NAF6+zAGA/QFBcVejabTvFwUSEhIqVMrrN8W8jz57lquUJOdXEP7rjm9nME5EneI2lejq6lw8d4rJZOobm3/40PD0Wdb1a5dbWloElsU4C7Os7Bccua8sqqtrHqb/bWVpMXuWy3qfzayjHPDf86a4hEMW8vJyI0YMW+vlk5mVPdV28o7tvplZ2SxZUJSVWmm0Dx9EERsluDIqKir/fvzE3Gysx1z3TVu2Idd7gfv3lpSU/v04g9VMboDsichTMmSylJTU169fi0tKAcDcbCwAIN7Ae8n3P378hOTbnjsTZT3ekkwmf/36deVqrxv/mqS5ESBmkkXY4WA8Hn8lJhb5iMfoagNAwatCAd/tSMj8eXM+f/6sMlSzozar163Pyc4gEon++3at99kCAFMmT6RSlNl9bwgNDY1INric3ICVK5bl5RdMsnUAgH4k0qOHKYoKCv37y9TUvrWZNLWu/p1gBfOJ0L3wJ6JOb9yybb33WgBIuZ8KAHg8nkJRZjKZyDAWACQlJRNu3jIxNpruYGdr50RRGyEmJhYeFsrnXZMuQSQSdbRHA8Cl6Bhki+2USQCQdC+Fo6WWpgY/b4hEv4qLi/NoU15ekfH0GQAs8JhHIokDwKHA/RUVlR0t1UKlUvJePCspLTW3tEH6v93/8xuoqKA6TNPSegqVonzm1Al+ausO3XpugqR/GxkaLF60YKvf/3ikfyO52SeiTsG/sdi1b98iCyAZGugTiWKx1+I3eK/F4/GTJtocPnrsWWa2laWFkaEBR2fL4taNOAmJTsYZDAbDaeYsDk+z7ZRJeDyewWDcT01DtujqaANA9JWrRoYGeXn52tqjt27xGWtq0tDQqKNv0umHsHzlmgepDzvKPGexZt2Gp4/TxMWJ/9ux7a+7SWpqqq6zOZO6EbQ0NVJT7ianPJg7fzEADBmiRqfRjIwM+vfvr6w0OCcnt7m52cS4C2MywRBR+reMjAwAIOuZIDeMi4tLkV2BB/ZmP3/R3t4eGBRy+85d5FqXSlFmMBhI6DwqhUWvJTtb/7Wd0U6j0Tk2Iu///sN3S6qWpgYS+97Q0PAy64m+sbmaqkpJSdlY08418f0o7e3nL0Z32qyw6HX28xcG+nqeSxZPs51SXVPL6jLZGTF8WHpq8pWrsb+v8QYAKpWS+ST9UEjoNIcZKlRq7ds6IpEoISHBbgwWEqLwwsO/6+wsWbYyLj6hMP/54EGDKioqdfRNnBwdTp8M1zMyY/+vIut6hR2PENKAvK66VEyMSFEbPnTIkJSk29LS0lVV1bFx1xct8FAbroW0KcjNbm9r46fP4B9dHe301O8pmx4Ll3KPovqRSKVv8qWlpZlM5pcvX5q/fFEaPLipqYl9BHP0cPD8eXPc3D1QhdWDiMILDwBbt+/8+PHTqcjjH+oqxYni6Y8eq6mpfqirOnv6xK49/uyyoFIply+ejTp1RnjXadv8dhGJYvU15U8ePYi7fuNtXZ2KCnXdmlU+m/l9UigYObl5Obl5AFBXX486uD5/9mRbW7vGSN2Q0KNkMllZSamx8aOb+3xWA2cnx7nus+Yv8hS2LEBkXngEKpWirKSEDB1kZMgW5mYZT5+xP6kik6Vznz87ffb8rj3+J44f8Q8IKi+v6H553JBI4uZjx+YXFCArHWhpajAYDPZL5YLcbEZ7u7aecc8eV1dXJ+LY4e07drOvL8jCyNCguKQEuYk+bNhQKkWZ/ZGeibHRjfgYj4VL7yXfT4iPcXJGX9Wup+hDc7oIBEJOdgZBjHAv+b4YQczVxZmq1uHaasJGSMoQmCFD1LIy0jOeZpaWlUlLS4+3HIesbiU8+tCcrh3bfZG13hZ4zAWA1lZab8kCAYfD9eLRObh47hSRSBxnYTbOwgwAcoS/eH4f6jP6FAW52UwGo0s37H8ysNl+nHivW11T8YairKSiQq2tLF6+bElvV9Q7YH0GBjpYn4GBDqYMDHQwZWCggykDAx1MGRjoYMrAQAdTBgY6mDIw0MGUgYEOpgwMdDBlYKCDKQMDHUwZGOhgysBAB1MGBjqYMjDQwZSBgQ6mDAx0MGVgoIMpAwMdTBkY6GDKwEAHUwYGOpgyMNDBlIGBDqYMDHQwZWCggykDAx1MGRjoYMrAQAdTBgY6mDIw0MGUgYEOpgwMdDBlYKDTh1Z9xOCmF6PIsRXc+jS9GEWO9Rl9ml6MIsfGGX2X3o0i/1XSv8OOhEh0loeCkJaWfubcBWHXww89G0XeVX6V9G/rCeOpFGV+WuYKf0lvPunZKPKu8qukf/vt2HX6ZAQAFJeUvHiZy1EzAODweLupUwAgJPRoL9THkx6JIu8qv1D6d3FR7kBFxbr6eo2RY7j3KijIlxTlBQaF7NsfKPraeNNTUeRd4hdK/9612x8ABg8a5GA/jXvv4ZAgGo1+IPCQyOvqnJ6KIu8Sokj/RugobVtknL8Y/fHjJwAI8N/DsUtOboDdNNuIyCgkDpLFtKlTcp8/zX+Zqa8/Bo/HP7yf+PvKFd2vhP849J6NIu8Sokj/hp5I2x6oqLB0SSdpXABQVl5x+crVjvYu91wcFLgfAJxd57DnVZ0+GeFob6ekMoxO//+sRn39ManJd5GfmUxm/bt3srKyIzS1uUOju4ow4tB7HKGnfwPfadtamhqFRa87OtxgJaW57ujJYeyJ3+UVvJRxIur0Tr+tZDL5UKC/npEZspFMlnZ2cjx5+hy7LADAe92ajKfPvDdsplCUDwXup1IpDk4uLFno6urk5OR2dCAAUFCQV1GhPn/+kmN7V+PQewuhp39DZ2nbRoYG/CTn5uTk9khGZsDBkL27dwwbNnSchRmSH3vwgH97e/u27ZxRjwsWeSI/TLWdrKysNG/BEqT97ytXbNm0ntSvHx6Hj4iM2ua3i/soRCLxdcFLMTGxzVv9jodHsu/qUhx6LyL09O9O07aR5NzulNElDh891tLSAgAhhwIBQEJCYpbbzMsxsR2d1wL89/hu9nF2db91+y8AIBKJu3Zu9w8IGqikVlhUtHrVbxrqI7hfhcfjCAQCAJClpTl28R+HjvwsISGBeghh090nailJt40MDWg0upLKsGeP04hEIsfZ0cF+2qXzpxkMhqzC9xtNtZXF0tLSugamCvLyeXn5yJ+k0+TcUSO1jh4O7rSeisqqxUs7GSRu8vHevnUzANhMtpvvMWf+vDkqQzU4QsIRwsMOu8ycMXmaw4sXOQBgbmZa+7YuJzvj78dPptrPWLVy+YF9uyNPntmwcQv3a7U0NbS1R8dei0etAbmEdpzhmpqWbj3eKiE+hpWDbGign5x4S36QSnt7+7kzUdbjLclk8tevX1eu9kJNeRUSQk//7jRtm8+7YZ8/fy4qetNps7Ly8k7bBAWHbvBeKyEhcTwsdNjQIXHxCaiyiIoImz7dwdjMEsmMjQw/6uTkOFBJzch0XEVlJQBoaqgDQPz1BNSjFBa95jFs4icO3cTYaLqDnbmlTUVlZenr/PCw0D9v3WFw3aMTEt1VRsGrwpc5uWN0dazHW9W+fYt0ueyUl1e0tLQMkB1AIokjadsA8P7de5/1Xp8+fWaXBe8UzJratytXr+tmtQgMBuPosYiNG7w0NdQZDMZ6tG/8xg1es9xcACArI/39hw/9ZWSkpKQ2+W4HACTwV0aG7DHXPb/gFfLX7SpPn2ZaWVo4z5geF5+wZvVvAKCmqgIATo4O+npjkNHxhPGWeDx+0kSbw0ePPcvMtrK0MDI0QHKQRUAPzM/Q09NNS0kEgIWLl8Un3ORusHTxwuCgA8gVxIVLlydPslEaPJjBYCz7bfXV2DikjYiTcwkEQl11GYkkjnobl6KslJ+TFRQcevrMufTUZHl5OQaDcfL0OdZZA4/Hv8h83EqjjbWYwHELhE90dbRvXo8dMEC2ra2tqam54FXhOAszGo0uJkbYuWtv6JFjSDPt0aOQTvdF5uMhQ9TkBlJF1meIKP2bn7RtEeejLvdcPN9jrtPMWdxPp6SkJHV1dB4/yQAAAoEw0WZCVvZz9luQiXduiImJTbJ1WOAxV0xMLOrUGcFq6DQOHWGijXV8bHTY8QjfbZwXUMKjr8zp+oGSc6MiwpymO16OuUrAE2ynTNrrH3D67HnhHY5KpTx/9vj8xUvrfVDOesKj92fu/FjJudqjR81ycyGRxBfOn+cxz11RUQHpWoQEmSyd/uDe0WPh6322nDh+ZMgQNeEdi4O+0mdgcEMgEHKyMwhihHvJ98UIYq4uzlS1Efw/T+gm2DzQvsuO7b4qKlQAWOAxFwBaW2kikwVgfQZGR/T+OAOjb4IpAwMdTBkY6GDKwEAHUwYGOpgyMNDBlIGBDoEkwTnpCKMvIC8vl5J0m0AgZGU/75UCsD6jj7Js6eLRo0bOnDGde1d8bPTe3TsEe9u7txO2+W7ip2WX747/cI5ne7upqIuToLJm3XrU+V2iB5kty22ljIoIs7Ge4C3oc9dr8QlBAf719e86nTnQ5bvjMjLkytIiPh3PekZmvW5tRSai8tPy69evSirDhV0Pn9TXlLW3tyur/mdusOeSRcFBB2Ljri/x/E3gdy7IzaYoK1laT+Htivj5Hc9/3rpTV18/eNAgJpMZd/0Gk8nkLlhugKyN9YS+43VWU1OVkJCIPMn5td63Z2drK23V792a9bhgkWdK0u2IY4fNxlnzaCbIs1bvDZucHO1xONyXr19RxTt3ziwXZ9m6C4cAABJDSURBVKe1XqKz2vHGb+eeyPCjOBzuxo0/UecjXrl07p/W1qDgUNHXhspsNxcmk7lv/3/WmFi0wENCQmL7jt3dfOKamZWd9vCRlaWFnp4uMicelV/C8XwlJhaZq7dvL4prSF5ebqrt5GPHT4hsimWnTJ5k8/JlLse0P6+1vwNARGRU998/+koMACxbuphHG9E5noXkHuaT3Xv3AwCVooyM7NgJORRIo9H37DvAsd3ZyfFx+v3iotzjR0PHmpq4ujj3eFXe61bfuhGXnHgrJek265/ZWNPwiKhVa7w4GlMoFBqNzlpuhYWG+oiUpNslRXmeSxYBwB/BgZcvnuV93Kys5wAwwcqSRxsROZ676R42MTaaaDOh02bJKQ94TLqvLC2Sle1fUVHJ7neSle1fXvzqROQpxDHAIuRQwNLFC98Ul5w7f9Fvm6+4OPHjx09qw7X4qZYftEePiouNHjwI5cNf9tvqKzGxHBvxePynD7X1796pa+mybyeRxCtKCiUlJZFfq6qqqVTKdGe31LR03gU0NdbR6XT5QSodNRCF4xk6cw+TydIyZHJN7duOjmVsZMjD7sw6C5BIJB7KOHDw0IF9u9XUVMdbjWN9cEEB/u3t7X7/283ectXK5UsXL3xbV2doYgEAmhoaHvPcS0pL2dt0WnNHjmfktSn37pDExU+dORcXn7ByxTJ7u6klJaUOTi7f/vkHdaUlLU0NAKipqeXYPtvNtam52XX2vLa29t9WeM6cMT3gYDC7LDrykX/79q1fv34dFQ/dnNP1163r5mZj6XS6supwpJfLf5lJo9H0jc07eonP+nVbt2ycv8gT8SzNnTPLc8miMbo6V2KucfefPQ5inCwuKTEwtgAAKSnJqrLX5y5c8lr/n5s/799Wkkjibu4edxPvAUDinRtjTU38DxxE1l3hp2YikVhfU4bqeAaApL9umpoYh4Qe3blrL9K4ob7qy5cvHNeo7CDLGMVcvea54nfUBuZmpjevx548dRbp/Dr1kee/zFRRofJYqELojmd2ONzDAKCmqpp0L4VIJHanDP5Brj5GDB8+1tQEAAIP7AMADhPHlMkTSSRxBoOByAIAtEePAoDofxdf4KdmHo5nPB5vYmzU1ta2a8/3IRoyiuceQLAjLSUFAG1t6K4ne7upfyZcCwoOZZ0TO/WRdzrc7tYM4eKS0sysbCNDg8WLFmz1+9+hQP+qquqU+w9QGyPu4Ym29iz38N+PM/YHBAHAlk0beB9o0QKPBfPndlrPn7fuBP9xhEeDPw6HbfLxlpSU/CM4cIKNrfss15irceyDJABwn+0GAFVV1civAxUVECNuRUWllaVF2sNH/NTc2kozNR+P6ngebzkOh8O9Kixi/W2Wey4BAN7LIlRV1wCAujrKjTj32W7HjoRs2ep3Iuo0ABga6OfnF1yLT7gWn2CPtu4UgoKCPJ1O53EBLHTHM0JH7mE+j1JdU8OP3bmiopJ3AwaDEXrkmO9mn1EjtWIuXyAQCBu3cPZwb94UA8CLnO8X+suXLQWAosKi2bNcj4Qe4r/mjhzPZBky/HfEsNxzCZPJ3OrHy3+GtKdSKRzb3We7hYeFLl22Ell7w8XZ6VRUuNk4a9byJB0hKSmJrE3VEUJ3PANP9zAL3nbne8n37yXf59GAfwKDQry91vQjkSaMt7wWn8C9qPv5i9G+m320NDUBwM115sYNXgCQX1C4dvXKR4/+5r/mjniQmsZgMExNjPuRSPS2tuvXrsjLy4UeOcbjphMA5Be8YjKZcgPk2Dfq6elGHDuMw+FORh4PPLAPj8fLy8ulpqWzywK1yCFD1HA4XF19PY8j9sCz1jVe3/tV360oDwApykrbfDcFBoWM1NZvampWVlJC7vuGR/TAHRsBaG9vP3b8BAAwGAzvDShPHaura+Ku39DUUG98V3009FDwH0doNPocdzdNDQ1kXNVNmpqaN2z07d9fpq6m7P3bCnX14c6uc/x27ub9qvb29urqGhJJnH18E3/18rPMLCWVYRlPnykqKsjLy+UXvJq/aGmnNRgbGQJAPs9bkUJ3PHfqHgaAzw1voy9f/e33td2vhB8IBELSXzcTk5J5rPEoJzfAyNDg/oM0Op1OJBL19caUlJayl93NmvuRSEZGBl9bWlAva1E5GOC/YtmStV4+rMWvbawnID0QAJgYGzU1NXGcvzpyC1++eNZumq2OvgmP82+fcCJ9bnh7JSZ2+UpRrwPZHURfs4SERHX5axqNRh2iwefSDKjK0NLUyPg7tej1GxMzKx6v7eWZO9diLr2tKsHhcLPcXKrKilRVO7wl13forZq/fft2PCJSSkrqYMC+Thvz8JFfOHcK/r3jwIM+0Wdg8E9y4i1DA32NkbrISiRdxdXF+VTkcd9tO5GcFB5gyvjBIBAIafcTU+6ndjpoReXhg6QXL3PWrOvkBhJgysDoCGyGMAY6mDIw0MGUgYEOpgwMdDBlYKCDKQMDHUwZGOhgysBAB1MGBjqicDwbGRps8vFWUJCXle3vMN2l9m1dVw/aHX7EdOe+gCgynkdqaRoY6A1UVGQymfXv3ne5xu7xI6Y79wUEeW5y7kwUn45nm8l2yMYpkyfGXrnIbaQRAS7OTnymOw+mDhNxbX0ZETmeZ85wAoBeWUvjWnxCwIG9AxUVpaWlUatVUJB3cXYKDAoRfW19GRE5ni3HmQPA9esoPnQR8OOmO/cionA84/F4ZDq83TTbytKi9NR73LPjhYoA6c4C2Ih/MkTheEYifQCgqqo6LPzEdt9NkpKSKkM1uGf0oyL6dGeBbcQ/E6JwPLs4OwFAaWmZgYkFYrVwdnKc7zEXmd0PfS/dWWAb8c+EKBzPuc+fqqmpLl2+CsnT+zPhmpWlRdK9lP0BQfykO/cUa1evQpbEs3N0RgITw8MOu7k6U1Q7jJPpqo34Z0IUjmckvuXmvym0mprqAPCqsLCPpzsLYCP+mRB6xrO8vFzZm4KGhsah6qMAQFa2f2VpEbB9cftmujOqjZjPOOqfA6E7nltavgFAQ+N3d9cG73UAUPCqkP8AXNGnOwtsI/6Z6IG54w8fJI3R1QEAVrI5B7WVxSQSSVFJzcZ6fOyVi3R6m6GpRWVlFbJXxBm+ftu2ICZmBoOhOkyTezkoPT3d1OS7OByOwWA0NDSybMSOM1x7peDeQuiOZwCYv2gZDof7UFcZdzW6qqpaR8+IJQvR43/gIDJYTrh5C3WVMIFtxD8ZIsp47kciWViYP8vM5P5j9Kl0Z+iGjfgno/edSD/cB/3DFSwYvTlz58dKd4YfsODu0Pt9BkbfBJvth4EOpgwMdDBlYKCDKQMDHUwZGOhgysBAB1MGBjqYMjDQ6e5T+J8PDfURqCmedDo9IvIkn3NXfwKwe6Cc3L2dYGRo8PjJ03ZGu/V4q/fvPzx6/GT4sKE62qOHjBiJ+hDupwTrMzgZo6szxnBsdXXN4oXzrcdbBf9xBFk6s76m7NeRBWDjDA4c7Kfl5uVXV9cAwHRHOwC4HHMVACQkJD43NfVycaKly2eTHy79u0uQSOI4wCHzPStKCsXECBQ1dWSXnNyArvYZ673WaGuP5qdlbW3t9h2CrPwqPEThhf+BYEVWycr2HzBANu3hI9YuAU4lo0eNdOUvkr4Pfn9+/vRvwZjlOhMAbt1BCfLhn41btrnMnIHH45ubm+8mJQMA92dlYmSoqqrSd/KwWQhybSIvL1f6Oh+Hw8Un3Fy4eBl3AyQo0NzSpu/EPHcVxJs5VH0URxRLV4m+cMbebiqDwRgyYuSnT5+5G5QU5dXU1FrZTOnOUYTBL5H+LQBGBvrNzc3dlAWwWcMPBe7n3uvmOlNRUWG1V+frw4seUXjhiURiTPT5169esg9d/bZtWbdmFQDY200tKcr7bYWnYJUIzKiRWndvJxQX5SbeuaGhPmK91/cMm/LiV3XVpWQyWVpauray2Hdzt/r5d+8/IGGULjNnSElJcuzdt2dnfsGrnJxc9o1ksvSpqPCKksLwsMMA4OzkmPfiWXdqEAxReOELcrIAAE/AKysp6RqYlpdX2FhPuH7tctHrN8ZjLZMTbxkbGVZVVXdpzq33utW8I4oBgE6nIwGt3NjbTb10/nRTU1PY8ROLFnooKykBAI9Y2+5ApVLyX2bicLgLFy+zJ/9Od7S/cPbkJFsHjlzqtJREPb3vKxM1Nn6Ule1/PCKSI1RWBAjdC+/q4kyhKOvom2Q8egAAYgQCAMx1dwOAly9zAGB/QFDc1Wga7f9zbNXUVOvr6nn/kWbPcpWS5PwKwn/d8e0MxomoU9w+Bl1dnYvnTjGZTH1j8w8fGp4+y7p+7XJLS4vAshhnYZaV/YIj95VFdXXNw/S/rSwtZs9yWe+zmXWUA/573hSXcMhCXl5uxIhha718MrOyp9pO3rHdNzMrm10WIrPhC66MiorKvx8/MTcb6zHXfdOWbcj1XuD+vSUlpX8/zmA1kxsgeyLylAyZLCUl9fXr1+KSUgAwNxsLAIg38F7y/Y8fPyE5trt2bnewnzZi+DBn1zkdJQIjjLWYIHDlYYeD8Xj8lZjYDx8aAGCMrjYACOxMDDsSMn/enM+fP6sM1eyozep163OyM4hEov++Xet9tgDAlMkTqRRllu+NRUNDI5IBLic3YOWKZXn5BZNsHQBAQUF+/95d48dbDlRUlFXga0G6biJ0L/yJqNMbt2xb770WAFLupwIAHo+nUJSZTCYyjAUASUnJhJu3AGDQwIE5uXmC5aDyCZFI1NEeDQCXomOQLbZTJgFA0r0U9majRmqRyZzB3aj0I5EAQFxcnEeb8vKKjKfPAGCBxzwSSRwADgXur6io7GipFiqVkvfiWUlpqbmlDdL/yQ0Y8E9ra/dHxPwjdC88QnFR7kBFRccZrqlp6dbjrRLiY1gmWEMD/eTEW/KDVJD1kOztpkZfODPDxZ13n3HrRpyERCfjDAaD4TRzFoen2cF+2qXzpxkMBuubV1tZLC0trWtgqiAvn5eXLyvb/3H6g2///CMuTnz1qoj7a80BgUCY6z4r5f6Dmtq3PJppaWo8fZwGAGHHI/66m3Tzeqzr7Hms7wZHy9SUu8kpD+bOXwwAQ4ao0Wk05M1PnjjmMnOGaPoMEaV/y8jIAADif0duGBcXlyK7Ag/szX7+gs+YSRaFRa8lO1v/tZ3RTqPROTYi19LvP3yPp9PS1EBi3xsaGl5mPdE3Ng8+uL+V1jpKx0BKSrKmonjdmlWhR47xOkp7+/mL0fwUnP38hYG+nueSxdNsp1TX1KLKYsTwYempyVeuxv6+xhsAqFRK5pP0QyGhSBi9KBFF+jcAPH2aaWVp4Txjelx8wprVvwGAmqoKADg5OujrjWEtj8Si0xPKho1bBCu4vLyipaVlgOwAEkl86JAhKUm3AeD9u/c+670+ffpcWlo2zsIi/dEjAPj6teXTp8+zZ7nyVgb/rPXySU+9RyKJDxs21GMhioW6H4mUdj9RXJzoMdd9xnSH5i9flAYPbmpqYpeFUE+17IjCCw8AW7fv/Pjx06nI4x/qKsWJ4umPHqupqX6oqzp7+sSuPf4itsZv89tFJIrV15Q/efQg7vqNt3V1KirUdWtW+WzeCgDi4sTGj5+Qli0tLUqDB/fUcXNy83Jy8wCgrr7+xr8rELFz/uzJtrZ2jZG6IaFHyWSyspJSY+NHN/f5PVVAl+iB+RkvXuRcio7p318mPqHD5T5zcvPUhmtRqRRlJSXkOk1Ghmxhbpbx9BnqkyqhfjFOnj574VK0+dix+QUFSOqplqYGg8F4/aYYuaXL+PfUxmQy+/Uj9eChV63xjjh2uKPHqgEHg4tLSj59+vy/3fvOXbhEpSizP9ITMT0zc4fPePTq6hpk6gMANDU13/krsaOWfD7LFZjWVtr91DTWr6w7BMjND4LY948Fh8f/809P3vvKyck1G2fd0d7MrGzWz6WlZb37PLJvzekqyM1WVFAAgOgLZ6qqqrnHHyKATqfL9pdBfpbo16/xY5+YxzVqpFbSXzclJCRwOFx9TVniveT5C4X7PKFvKWOUjkFvlwD5+a801NUBgEQSHzBAto/kWhS8KmTNIRIN2AxhTlRVVTIz0osKiwYNHtTQ0GhhNZHBFW/wK4ApAwUikTjdwa6x8SP7WORXA1MGBjrY3HEMdDBlYKCDKQMDHUwZGOhgysBAB1MGBjqYMjDQwZSBgQ6mDAx0MGVgoIMpAwMdTBkY6GDKwEAHUwYGOpgyMND5Pw4r29E+HUfPAAAAAElFTkSuQmCC)"
      ]
    },
    {
      "cell_type": "code",
      "execution_count": null,
      "metadata": {
        "id": "XJ7k-jPH0mnl"
      },
      "outputs": [],
      "source": [
        "d_z_2 = tf.multiply(diff, sigmaprime(z_2))\n",
        "d_b_2 = d_z_2\n",
        "d_w_2 = tf.matmul(tf.transpose(a_1), d_z_2)\n",
        "\n",
        "d_a_1 = tf.matmul(d_z_2, tf.transpose(w_2))\n",
        "d_z_1 = tf.multiply(d_a_1, sigmaprime(z_1))\n",
        "d_b_1 = d_z_1\n",
        "d_w_1 = tf.matmul(tf.transpose(a_0), d_z_1)"
      ]
    },
    {
      "cell_type": "markdown",
      "metadata": {
        "id": "JCkmirME0mnl"
      },
      "source": [
        "**Updating the network**"
      ]
    },
    {
      "cell_type": "markdown",
      "metadata": {
        "id": "LKun182S0mnl"
      },
      "source": [
        "We take the computed \\nabla∇ and update the weights in one step. Note that the following does not precisely match the book - I have omitted the constant 1/n1/n divider. For simplicity, it's not really needed, as it comes into play inside the \\etaη itself, in this case.\n",
        "\n",
        "![image.png](data:image/png;base64,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)\n",
        "\n",
        "In TensorFlow, it can translate to a list of a assignments:\n"
      ]
    },
    {
      "cell_type": "code",
      "execution_count": null,
      "metadata": {
        "id": "LpojNA8r0mnm"
      },
      "outputs": [],
      "source": [
        "eta = tf.constant(0.5)\n",
        "step = [\n",
        "    tf.assign(w_1, tf.subtract(w_1, tf.multiply(eta, d_w_1))),\n",
        "    tf.assign(b_1, tf.subtract(b_1, tf.multiply(eta, tf.reduce_mean(d_b_1, axis=[0])))),\n",
        "    tf.assign(w_2, tf.subtract(w_2, tf.multiply(eta, d_w_2))),\n",
        "    tf.assign(b_2, tf.subtract(b_2, tf.multiply(eta, tf.reduce_mean(d_b_2, axis=[0])))),\n",
        "]"
      ]
    },
    {
      "cell_type": "markdown",
      "metadata": {
        "id": "Ds0Lm2QA0mnm"
      },
      "source": [
        "**Running and testing the training process**"
      ]
    },
    {
      "cell_type": "markdown",
      "metadata": {
        "id": "uQTQUYy00mnm"
      },
      "source": [
        "The following will be able to train the network and test it in the meanwhile, using mini-batches of 10. Here, I chose to test with 1000 items from the test set, every 1000 mini-batches."
      ]
    },
    {
      "cell_type": "code",
      "execution_count": null,
      "metadata": {
        "id": "arp4VuCo0mnm"
      },
      "outputs": [],
      "source": [
        "acct_mat = tf.equal(tf.argmax(a_2, 1), tf.argmax(y, 1))\n",
        "acct_res = tf.reduce_sum(tf.cast(acct_mat, tf.float32))\n",
        "\n",
        "sess = tf.InteractiveSession()\n",
        "sess.run(tf.global_variables_initializer())\n",
        "\n",
        "for i in range(10000):\n",
        "    batch_xs, batch_ys = mnist.train.next_batch(10)\n",
        "    sess.run(step, feed_dict={a_0: batch_xs, y: batch_ys})\n",
        "    if i % 1000 == 0:\n",
        "        res = sess.run(\n",
        "            acct_res,\n",
        "            feed_dict={a_0: mnist.test.images[:1000], y: mnist.test.labels[:1000]},\n",
        "        )\n",
        "        print(res)"
      ]
    },
    {
      "cell_type": "markdown",
      "metadata": {
        "id": "G5XZMgMG0mnn"
      },
      "source": [
        "**Automatic differentiation**\n",
        "\n",
        "The great part about TensorFlow is its ability to derive the step function on its own. So, instead of the rather complicated 'Backward propagation' and 'Updating the network' given above for educational purposes (see: backward propagation and updating), we can simply write the following step function alternative:"
      ]
    },
    {
      "cell_type": "code",
      "execution_count": null,
      "metadata": {
        "id": "UErtRlG70mnn"
      },
      "outputs": [],
      "source": [
        "cost = tf.multiply(diff, diff)\n",
        "step = tf.train.GradientDescentOptimizer(0.1).minimize(cost)"
      ]
    }
  ],
  "metadata": {
    "kernelspec": {
      "display_name": "Python 3",
      "language": "python",
      "name": "python3"
    },
    "language_info": {
      "codemirror_mode": {
        "name": "ipython",
        "version": 3
      },
      "file_extension": ".py",
      "mimetype": "text/x-python",
      "name": "python",
      "nbconvert_exporter": "python",
      "pygments_lexer": "ipython3",
      "version": "3.5.6"
    },
    "colab": {
      "name": "Tensorflow - Backpropagation With Tensorflow.ipynb",
      "provenance": [],
      "include_colab_link": true
    }
  },
  "nbformat": 4,
  "nbformat_minor": 0
}