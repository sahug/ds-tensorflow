{
  "cells": [
    {
      "cell_type": "markdown",
      "metadata": {
        "colab_type": "text",
        "id": "view-in-github"
      },
      "source": [
        "<a href=\"https://colab.research.google.com/github/sahug/ds-tensorflow-colab/blob/master/Tensorflow%20-%202D%20CNN%20CIFAC10%20Image%20Classifier.ipynb\" target=\"_parent\"><img src=\"https://colab.research.google.com/assets/colab-badge.svg\" alt=\"Open In Colab\"/></a>"
      ]
    },
    {
      "cell_type": "markdown",
      "metadata": {
        "id": "PgPyKVeA4XZT"
      },
      "source": [
        "**Tensorflow - 2D CNN CIFAC10 Image Classifier**"
      ]
    },
    {
      "cell_type": "markdown",
      "metadata": {
        "id": "jlHm3AMa4bIX"
      },
      "source": [
        "**What is CNN**\n",
        "\n",
        "A **Convolutional Neural Network (ConvNet/CNN)** is a Deep Learning algorithm which can take in an input image, assign importance (learnable weights and biases) to various aspects/objects in the image and be able to differentiate one from the other. The pre-processing required in a ConvNet is much lower as compared to other classification algorithms. While in primitive methods filters are hand-engineered, with enough training, ConvNets have the ability to learn these filters/characteristics\n",
        "\n",
        "**Important Terms of CNN**\n",
        "\n",
        "- Convolutional Layer\n",
        "- Activation Function\n",
        "- Filter Size (Each filter extract different part of the image)\n",
        "- Stride Size\n",
        "- Max pooling\n",
        "- Flattening and Dense LayerWhat is CNN\n"
      ]
    },
    {
      "cell_type": "markdown",
      "metadata": {
        "id": "sgBT0GeS4pf6"
      },
      "source": [
        "**Download Data and Model Building**"
      ]
    },
    {
      "cell_type": "code",
      "execution_count": 9,
      "metadata": {
        "id": "zEPiCzpL4t_B"
      },
      "outputs": [],
      "source": [
        "import tensorflow as tf\n",
        "from tensorflow import keras"
      ]
    },
    {
      "cell_type": "code",
      "execution_count": 10,
      "metadata": {
        "id": "Wuvc7Z944vgA"
      },
      "outputs": [
        {
          "name": "stdout",
          "output_type": "stream",
          "text": [
            "2.8.0\n"
          ]
        }
      ],
      "source": [
        "print(tf.__version__)"
      ]
    },
    {
      "cell_type": "markdown",
      "metadata": {},
      "source": [
        "**Approach 1**"
      ]
    },
    {
      "cell_type": "markdown",
      "metadata": {},
      "source": [
        "**Load Dataset**"
      ]
    },
    {
      "cell_type": "code",
      "execution_count": 67,
      "metadata": {},
      "outputs": [],
      "source": [
        "import tensorflow_datasets as tfds\n",
        "\n",
        "(ds_train, ds_test), ds_info = tfds.load(\"cifar10\",\n",
        "                                        split=[\"train\", \"test\"],\n",
        "                                        shuffle_files=True,\n",
        "                                        # True, the returned tf.data.Dataset will have a 2-tuple structure (input, label)\n",
        "                                        # False, the default, the returned tf.data.Dataset will have a dictionary with all the features.\n",
        "                                        as_supervised=True,\n",
        "                                        with_info=True)                                        "
      ]
    },
    {
      "cell_type": "markdown",
      "metadata": {},
      "source": [
        "**Dataset Info**"
      ]
    },
    {
      "cell_type": "code",
      "execution_count": 68,
      "metadata": {},
      "outputs": [
        {
          "data": {
            "text/plain": [
              "tfds.core.DatasetInfo(\n",
              "    name='cifar10',\n",
              "    full_name='cifar10/3.0.2',\n",
              "    description=\"\"\"\n",
              "    The CIFAR-10 dataset consists of 60000 32x32 colour images in 10 classes, with 6000 images per class. There are 50000 training images and 10000 test images.\n",
              "    \"\"\",\n",
              "    homepage='https://www.cs.toronto.edu/~kriz/cifar.html',\n",
              "    data_path='C:\\\\Users\\\\sahug\\\\tensorflow_datasets\\\\cifar10\\\\3.0.2',\n",
              "    download_size=162.17 MiB,\n",
              "    dataset_size=132.40 MiB,\n",
              "    features=FeaturesDict({\n",
              "        'id': Text(shape=(), dtype=tf.string),\n",
              "        'image': Image(shape=(32, 32, 3), dtype=tf.uint8),\n",
              "        'label': ClassLabel(shape=(), dtype=tf.int64, num_classes=10),\n",
              "    }),\n",
              "    supervised_keys=('image', 'label'),\n",
              "    disable_shuffling=False,\n",
              "    splits={\n",
              "        'test': <SplitInfo num_examples=10000, num_shards=1>,\n",
              "        'train': <SplitInfo num_examples=50000, num_shards=1>,\n",
              "    },\n",
              "    citation=\"\"\"@TECHREPORT{Krizhevsky09learningmultiple,\n",
              "        author = {Alex Krizhevsky},\n",
              "        title = {Learning multiple layers of features from tiny images},\n",
              "        institution = {},\n",
              "        year = {2009}\n",
              "    }\"\"\",\n",
              ")"
            ]
          },
          "execution_count": 68,
          "metadata": {},
          "output_type": "execute_result"
        }
      ],
      "source": [
        "ds_info"
      ]
    },
    {
      "cell_type": "code",
      "execution_count": 69,
      "metadata": {},
      "outputs": [
        {
          "name": "stdout",
          "output_type": "stream",
          "text": [
            "()\n",
            "<dtype: 'string'>\n",
            "\n",
            "\n",
            "(32, 32, 3)\n",
            "<dtype: 'uint8'>\n",
            "\n",
            "\n",
            "()\n",
            "<dtype: 'int64'>\n",
            "10\n",
            "['airplane', 'automobile', 'bird', 'cat', 'deer', 'dog', 'frog', 'horse', 'ship', 'truck']\n"
          ]
        }
      ],
      "source": [
        "# id \n",
        "print(ds_info.features[\"id\"].shape)\n",
        "print(ds_info.features[\"id\"].dtype)\n",
        "\n",
        "print(\"\\n\")\n",
        "\n",
        "# image\n",
        "print(ds_info.features[\"image\"].shape)\n",
        "print(ds_info.features[\"image\"].dtype)\n",
        "\n",
        "print(\"\\n\")\n",
        "\n",
        "# label\n",
        "print(ds_info.features[\"label\"].shape)\n",
        "print(ds_info.features[\"label\"].dtype)\n",
        "print(ds_info.features[\"label\"].num_classes)\n",
        "print(ds_info.features[\"label\"].names)"
      ]
    },
    {
      "cell_type": "markdown",
      "metadata": {},
      "source": [
        "**Train and Test Dataset**"
      ]
    },
    {
      "cell_type": "code",
      "execution_count": 70,
      "metadata": {},
      "outputs": [
        {
          "name": "stdout",
          "output_type": "stream",
          "text": [
            "['train', 'test']\n",
            "\n",
            "\n",
            "50000\n",
            "['cifar10-train.tfrecord-00000-of-00001']\n",
            "1\n",
            "\n",
            "\n",
            "10000\n",
            "['cifar10-test.tfrecord-00000-of-00001']\n",
            "1\n"
          ]
        }
      ],
      "source": [
        "print(list(ds_info.splits.keys()))\n",
        "\n",
        "print(\"\\n\")\n",
        "\n",
        "# Train DS\n",
        "print(ds_info.splits[\"train\"].num_examples)\n",
        "print(ds_info.splits[\"train\"].filenames)\n",
        "print(ds_info.splits[\"train\"].num_shards)\n",
        "\n",
        "print(\"\\n\")\n",
        "\n",
        "# Test DS\n",
        "print(ds_info.splits[\"test\"].num_examples)\n",
        "print(ds_info.splits[\"test\"].filenames)\n",
        "print(ds_info.splits[\"test\"].num_shards)"
      ]
    },
    {
      "cell_type": "markdown",
      "metadata": {},
      "source": [
        "**Visualize**"
      ]
    },
    {
      "cell_type": "code",
      "execution_count": 71,
      "metadata": {},
      "outputs": [
        {
          "data": {
            "image/png": "[encoded data removed]",
            "text/plain": [
              "<Figure size 432x432 with 4 Axes>"
            ]
          },
          "metadata": {},
          "output_type": "display_data"
        }
      ],
      "source": [
        "fig = tfds.show_examples(ds_train, ds_info, rows=2, cols=2)"
      ]
    },
    {
      "cell_type": "markdown",
      "metadata": {},
      "source": [
        "**Data Pipeline**"
      ]
    },
    {
      "cell_type": "code",
      "execution_count": 72,
      "metadata": {},
      "outputs": [],
      "source": [
        "AUTOTUNE = tf.data.AUTOTUNE\n",
        "BATCH = 64\n",
        "EPOCHS = 5"
      ]
    },
    {
      "cell_type": "markdown",
      "metadata": {},
      "source": [
        "Train"
      ]
    },
    {
      "cell_type": "code",
      "execution_count": 81,
      "metadata": {},
      "outputs": [
        {
          "name": "stdout",
          "output_type": "stream",
          "text": [
            "(64, 32, 32, 3)\n",
            "(64,)\n"
          ]
        }
      ],
      "source": [
        "for image_batch, labels_batch in ds_train:\n",
        "  print(image_batch.shape)\n",
        "  print(labels_batch.shape)\n",
        "  break"
      ]
    },
    {
      "cell_type": "code",
      "execution_count": 73,
      "metadata": {},
      "outputs": [],
      "source": [
        "# This will save some operations (like file opening and data reading) from being executed during each epoch.\n",
        "ds_train = ds_train.cache()\n",
        "\n",
        "# Fills a buffer with buffer size elements, then randomly samples elements from this buffer, \n",
        "# replacing the selected elements with new elements. For perfect shuffling, \n",
        "# a buffer size greater than or equal to the full size of the dataset is required.\n",
        "ds_train = ds_train.shuffle(ds_info.splits['train'].num_examples)\n",
        "\n",
        "# Pulls data in batches rather than all at once.\n",
        "ds_train = ds_train.batch(BATCH)\n",
        "\n",
        "# While the model is executing training step s, the input pipeline is reading the data for step s+1.\n",
        "# AUTOTUNE will automatically decide the value. \n",
        "ds_train = ds_train.prefetch(AUTOTUNE)"
      ]
    },
    {
      "cell_type": "markdown",
      "metadata": {},
      "source": [
        "Test"
      ]
    },
    {
      "cell_type": "code",
      "execution_count": 74,
      "metadata": {},
      "outputs": [],
      "source": [
        "ds_test = ds_test.batch(BATCH)\n",
        "ds_test = ds_test.cache()\n",
        "ds_test = ds_test.prefetch(AUTOTUNE)"
      ]
    },
    {
      "cell_type": "markdown",
      "metadata": {},
      "source": [
        "**Input Shape**"
      ]
    },
    {
      "cell_type": "code",
      "execution_count": 75,
      "metadata": {},
      "outputs": [
        {
          "data": {
            "text/plain": [
              "(32, 32, 3)"
            ]
          },
          "execution_count": 75,
          "metadata": {},
          "output_type": "execute_result"
        }
      ],
      "source": [
        "input_shape = ds_info.features['image'].shape\n",
        "input_shape"
      ]
    },
    {
      "cell_type": "markdown",
      "metadata": {},
      "source": [
        "**Model**"
      ]
    },
    {
      "cell_type": "code",
      "execution_count": 76,
      "metadata": {},
      "outputs": [],
      "source": [
        "from keras import layers, activations\n",
        "\n",
        "# Input Layer\n",
        "inputs = keras.Input(shape=(input_shape))\n",
        "\n",
        "# Normalization Layer\n",
        "x = layers.Rescaling(1.0/255.0)(inputs)\n",
        "\n",
        "# CONV2D layer.\n",
        "# padding=same keeps the original data padding\n",
        "x = layers.Conv2D(filters=32, kernel_size=(3, 3), padding=\"same\", activation=activations.relu)(x)\n",
        "x = layers.Conv2D(filters=32, kernel_size=(3, 3), padding=\"same\", activation=activations.relu)(x)\n",
        "\n",
        "# Maxpool Layer\n",
        "# padding=valid tries to reduce the dimension\n",
        "x = layers.MaxPool2D(pool_size=(2, 2), strides=2, padding=\"valid\")(x)\n",
        "\n",
        "# Dropout Layer\n",
        "x = layers.Dropout(0.5)(x)\n",
        "\n",
        "# Flatten Layer\n",
        "x = layers.Flatten()(x)\n",
        "\n",
        "# Dense Layer\n",
        "x = layers.Dense(units=128, activation=activations.relu)(x)\n",
        "\n",
        "# Output Layer\n",
        "outputs = layers.Dense(units=10, activation=activations.softmax)(x)\n",
        "\n",
        "model = keras.Model(inputs=inputs, outputs=[outputs], name=\"cifar10_model\")"
      ]
    },
    {
      "cell_type": "markdown",
      "metadata": {},
      "source": [
        "**Summary**"
      ]
    },
    {
      "cell_type": "code",
      "execution_count": 77,
      "metadata": {},
      "outputs": [
        {
          "name": "stdout",
          "output_type": "stream",
          "text": [
            "Model: \"cifar10_model\"\n",
            "_________________________________________________________________\n",
            " Layer (type)                Output Shape              Param #   \n",
            "=================================================================\n",
            " input_7 (InputLayer)        [(None, 32, 32, 3)]       0         \n",
            "                                                                 \n",
            " rescaling_6 (Rescaling)     (None, 32, 32, 3)         0         \n",
            "                                                                 \n",
            " conv2d_14 (Conv2D)          (None, 32, 32, 32)        896       \n",
            "                                                                 \n",
            " conv2d_15 (Conv2D)          (None, 32, 32, 32)        9248      \n",
            "                                                                 \n",
            " max_pooling2d_7 (MaxPooling  (None, 16, 16, 32)       0         \n",
            " 2D)                                                             \n",
            "                                                                 \n",
            " dropout_7 (Dropout)         (None, 16, 16, 32)        0         \n",
            "                                                                 \n",
            " flatten_7 (Flatten)         (None, 8192)              0         \n",
            "                                                                 \n",
            " dense_14 (Dense)            (None, 128)               1048704   \n",
            "                                                                 \n",
            " dense_15 (Dense)            (None, 10)                1290      \n",
            "                                                                 \n",
            "=================================================================\n",
            "Total params: 1,060,138\n",
            "Trainable params: 1,060,138\n",
            "Non-trainable params: 0\n",
            "_________________________________________________________________\n"
          ]
        }
      ],
      "source": [
        "model.summary()"
      ]
    },
    {
      "cell_type": "markdown",
      "metadata": {},
      "source": [
        "**Compile**"
      ]
    },
    {
      "cell_type": "code",
      "execution_count": 78,
      "metadata": {},
      "outputs": [
        {
          "name": "stderr",
          "output_type": "stream",
          "text": [
            "c:\\Users\\sahug\\AppData\\Local\\Programs\\Python\\Python310\\lib\\site-packages\\keras\\optimizer_v2\\adam.py:105: UserWarning: The `lr` argument is deprecated, use `learning_rate` instead.\n",
            "  super(Adam, self).__init__(name, **kwargs)\n"
          ]
        }
      ],
      "source": [
        "losses = keras.losses.SparseCategoricalCrossentropy(from_logits=False)\n",
        "optim = keras.optimizers.Adam(lr=0.001)\n",
        "metrics = [keras.metrics.SparseCategoricalAccuracy()]\n",
        "\n",
        "model.compile(loss=losses, optimizer=optim, metrics=metrics)"
      ]
    },
    {
      "cell_type": "markdown",
      "metadata": {},
      "source": [
        "**Tensorboard**"
      ]
    },
    {
      "cell_type": "code",
      "execution_count": 79,
      "metadata": {},
      "outputs": [
        {
          "name": "stdout",
          "output_type": "stream",
          "text": [
            "The tensorboard extension is already loaded. To reload it, use:\n",
            "  %reload_ext tensorboard\n"
          ]
        },
        {
          "name": "stderr",
          "output_type": "stream",
          "text": [
            "Invalid switch - \"logs\".\n"
          ]
        }
      ],
      "source": [
        "%load_ext tensorboard\n",
        "import datetime\n",
        "\n",
        "# Clear any logs from previous runs\n",
        "!del -ff ./logs/cifar10/\n",
        "\n",
        "# Log Dir\n",
        "log_dir = \"logs/cifar10/\" + datetime.datetime.now().strftime(\"%Y%m%d-%H%M%S\")\n",
        "\n",
        "# Callbacks\n",
        "tensorboard_callback = tf.keras.callbacks.TensorBoard(log_dir=log_dir, histogram_freq=1)"
      ]
    },
    {
      "cell_type": "markdown",
      "metadata": {},
      "source": [
        "**Train**"
      ]
    },
    {
      "cell_type": "code",
      "execution_count": 80,
      "metadata": {},
      "outputs": [
        {
          "name": "stdout",
          "output_type": "stream",
          "text": [
            "Epoch 1/5\n",
            "782/782 [==============================] - 135s 170ms/step - loss: 1.4596 - sparse_categorical_accuracy: 0.4749 - val_loss: 1.2646 - val_sparse_categorical_accuracy: 0.5644\n",
            "Epoch 2/5\n",
            "782/782 [==============================] - 152s 194ms/step - loss: 1.1199 - sparse_categorical_accuracy: 0.6040 - val_loss: 1.0351 - val_sparse_categorical_accuracy: 0.6367\n",
            "Epoch 3/5\n",
            "782/782 [==============================] - 135s 172ms/step - loss: 0.9861 - sparse_categorical_accuracy: 0.6546 - val_loss: 0.9792 - val_sparse_categorical_accuracy: 0.6571\n",
            "Epoch 4/5\n",
            "782/782 [==============================] - 120s 153ms/step - loss: 0.8943 - sparse_categorical_accuracy: 0.6856 - val_loss: 0.8939 - val_sparse_categorical_accuracy: 0.6871\n",
            "Epoch 5/5\n",
            "782/782 [==============================] - 110s 141ms/step - loss: 0.8305 - sparse_categorical_accuracy: 0.7078 - val_loss: 0.8931 - val_sparse_categorical_accuracy: 0.6885\n"
          ]
        }
      ],
      "source": [
        "history = model.fit(ds_train,\n",
        "                        epochs=EPOCHS,\n",
        "                        batch_size=64, \n",
        "                        validation_data=ds_test, \n",
        "                        verbose=1, \n",
        "                        callbacks=[tensorboard_callback])"
      ]
    },
    {
      "cell_type": "markdown",
      "metadata": {},
      "source": [
        "**View Tensorboard**\n",
        "\n",
        "http://localhost:6006/"
      ]
    },
    {
      "cell_type": "code",
      "execution_count": 83,
      "metadata": {},
      "outputs": [
        {
          "data": {
            "text/html": [
              "\n",
              "      <iframe id=\"tensorboard-frame-74fa312d64a7f2f9\" width=\"100%\" height=\"800\" frameborder=\"0\">\n",
              "      </iframe>\n",
              "      <script>\n",
              "        (function() {\n",
              "          const frame = document.getElementById(\"tensorboard-frame-74fa312d64a7f2f9\");\n",
              "          const url = new URL(\"/\", window.location);\n",
              "          const port = 6006;\n",
              "          if (port) {\n",
              "            url.port = port;\n",
              "          }\n",
              "          frame.src = url;\n",
              "        })();\n",
              "      </script>\n",
              "    "
            ],
            "text/plain": [
              "<IPython.core.display.HTML object>"
            ]
          },
          "metadata": {},
          "output_type": "display_data"
        }
      ],
      "source": [
        "%tensorboard --logdir logs/fit/cifar10"
      ]
    },
    {
      "cell_type": "markdown",
      "metadata": {},
      "source": [
        "**Learning Visualiization**"
      ]
    },
    {
      "cell_type": "code",
      "execution_count": 85,
      "metadata": {},
      "outputs": [],
      "source": [
        "epoch_range = range(1, 6)"
      ]
    },
    {
      "cell_type": "code",
      "execution_count": 86,
      "metadata": {},
      "outputs": [
        {
          "data": {
            "image/png": "[encoded data removed]",
            "text/plain": [
              "<Figure size 432x288 with 1 Axes>"
            ]
          },
          "metadata": {
            "needs_background": "light"
          },
          "output_type": "display_data"
        }
      ],
      "source": [
        "# Plot training and validation accuracy values\n",
        "# sparse_categorical_accuracy vs val_sparse_categorical_accuracy\n",
        "plt.plot(epoch_range, history.history[\"sparse_categorical_accuracy\"])\n",
        "plt.plot(epoch_range, history.history[\"val_sparse_categorical_accuracy\"])\n",
        "plt.title(\"Model Accuracy\")\n",
        "plt.ylabel(\"Accuracy\")\n",
        "plt.xlabel(\"Epoch\")\n",
        "plt.legend([\"Train\", \"Val\"], loc=\"upper left\")\n",
        "plt.show()"
      ]
    },
    {
      "cell_type": "code",
      "execution_count": 87,
      "metadata": {},
      "outputs": [
        {
          "data": {
            "image/png": "[encoded data removed]",
            "text/plain": [
              "<Figure size 432x288 with 1 Axes>"
            ]
          },
          "metadata": {
            "needs_background": "light"
          },
          "output_type": "display_data"
        }
      ],
      "source": [
        "# Plot training and validation loss values\n",
        "# Loss vs Val_Loss\n",
        "plt.plot(epoch_range, history.history[\"loss\"])\n",
        "plt.plot(epoch_range, history.history[\"val_loss\"])\n",
        "plt.title(\"Model Loss\")\n",
        "plt.ylabel(\"Loss\")\n",
        "plt.xlabel(\"Epoch\")\n",
        "plt.legend([\"Train\", \"Val\"], loc=\"upper left\")\n",
        "plt.show()"
      ]
    },
    {
      "cell_type": "markdown",
      "metadata": {},
      "source": [
        "**Approach 2**"
      ]
    },
    {
      "cell_type": "code",
      "execution_count": null,
      "metadata": {
        "id": "pZJpjqOh4w5a"
      },
      "outputs": [],
      "source": [
        "from keras.datasets import cifar10\n",
        "from keras import Sequential\n",
        "from keras.layers import Flatten, Dense, Conv2D, MaxPool2D, Dropout\n",
        "import numpy as np\n",
        "import matplotlib.pyplot as plt\n",
        "import matplotlib\n",
        "%matplotlib inline\n",
        "\n",
        "(x_train, y_train), (x_test, y_test) = cifar10.load_data()\n",
        "\n",
        "classes_name = [\"Airplane\", \"Automobile\", \"Bird\", \"Cat\", \"Deer\", \"Dog\", \"Frog\", \"Horse\", \"Ship\", \"Truck\"]\n",
        "\n",
        "# Since Neural Network understand the data between **0 to 1**. Brininging our data in the range **0 to 1**. \n",
        "# To do this we will simply divide the given data with the maximum value.\n",
        "x_train = x_train/x_train.max()\n",
        "x_test = x_test/x_train.max()\n",
        "\n",
        "x_train.shape, x_test.shape\n",
        "\n",
        "# x_train gives (50000, 32, 32, 3) - 50000 data, 32 x 32 bits, height and width, 3 is rgb, color.\n",
        "# x_test gives (10000, 32, 32, 3) - 10000 data, 32 x 32 bits, height and width, 3 is rgb, color.\n",
        "\n",
        "plt.imshow(x_test[0].astype(\"uint8\")) \n",
        "\n",
        "model = Sequential()\n",
        "\n",
        "# Only first layer needs input size\n",
        "model.add(Conv2D(filters=32, kernel_size=(3, 3), padding=\"same\", activation=\"relu\", input_shape=[32, 32, 3])) # Same keeps the original data padding\n",
        "\n",
        "model.add(Conv2D(filters=32, kernel_size=(3, 3), padding=\"same\", activation=\"relu\"))\n",
        "\n",
        "model.add(MaxPool2D(pool_size=(2, 2), strides=2, padding=\"valid\")) # Valid tries to reduce the dimension\n",
        "\n",
        "# Dropout helps to avid the overfitting of the mode. Here we are dropping 50% of the input at this layer.\n",
        "model.add(Dropout(0.5))\n",
        "\n",
        "model.add(Flatten())\n",
        "\n",
        "model.add(Dense(units=128, activation=\"relu\"))\n",
        "\n",
        "# Output layer. Unit is the size of the different output. Here we have 10 different outcomes.\n",
        "model.add(Dense(units=10, activation=\"softmax\"))\n",
        "\n",
        "model.compile(optimizer=\"adam\", loss=\"sparse_categorical_crossentropy\", metrics=[\"sparse_categorical_accuracy\"])\n",
        "\n",
        "history = model.fit(x_train, y_train, batch_size=10, epochs=10, verbose=1, validation_data=(x_test, y_test))\n",
        "\n",
        "# In the above training we can see the validation accuracy is lesser than the accuracy. \n",
        "# This means our model is **overfitting**. Also, if the validation accuracy is higher than the accuracy its \n",
        "# called **underfitting**. So lets look at the point where it started overfillting by plotting the graph."
      ]
    },
    {
      "cell_type": "code",
      "execution_count": 32,
      "metadata": {},
      "outputs": [
        {
          "data": {
            "image/png": "[encoded data removed]",
            "text/plain": [
              "<Figure size 432x288 with 1 Axes>"
            ]
          },
          "metadata": {
            "needs_background": "light"
          },
          "output_type": "display_data"
        }
      ],
      "source": [
        "# Plot training and validation accuracy values\n",
        "# sparse_categorical_accuracy vs val_sparse_categorical_accuracy\n",
        "epoch_range = range(1, 11) # No of Epochs used to train. 11 - 1 = 10\n",
        "plt.plot(epoch_range, history.history[\"sparse_categorical_accuracy\"])\n",
        "plt.plot(epoch_range, history.history[\"val_sparse_categorical_accuracy\"])\n",
        "plt.title(\"Model Accuracy\")\n",
        "plt.ylabel(\"Accuracy\")\n",
        "plt.xlabel(\"Epoch\")\n",
        "plt.legend([\"Train\", \"Val\"], loc=\"upper left\")\n",
        "plt.show()\n",
        "\n"
      ]
    },
    {
      "cell_type": "code",
      "execution_count": 33,
      "metadata": {},
      "outputs": [
        {
          "data": {
            "image/png": "[encoded data removed]",
            "text/plain": [
              "<Figure size 432x288 with 1 Axes>"
            ]
          },
          "metadata": {
            "needs_background": "light"
          },
          "output_type": "display_data"
        }
      ],
      "source": [
        "# Plot training and validation loss values\n",
        "# Loss vs Val_Loss\n",
        "plt.plot(epoch_range, history.history[\"loss\"])\n",
        "plt.plot(epoch_range, history.history[\"val_loss\"])\n",
        "plt.title(\"Model Loss\")\n",
        "plt.ylabel(\"Loss\")\n",
        "plt.xlabel(\"Epoch\")\n",
        "plt.legend([\"Train\", \"Val\"], loc=\"upper left\")\n",
        "plt.show()"
      ]
    }
  ],
  "metadata": {
    "colab": {
      "authorship_tag": "ABX9TyOdTgFp8LQ0oQc2oHvCvUIf",
      "include_colab_link": true,
      "name": "Tensorflow - 2D CNN CIFAC10 Image Classifier.ipynb",
      "provenance": []
    },
    "interpreter": {
      "hash": "0d7fd96aeadd740978789f2880dd43822d8681a39e327029c33ff72656207c4b"
    },
    "kernelspec": {
      "display_name": "Python 3.10.4 64-bit",
      "language": "python",
      "name": "python3"
    },
    "language_info": {
      "codemirror_mode": {
        "name": "ipython",
        "version": 3
      },
      "file_extension": ".py",
      "mimetype": "text/x-python",
      "name": "python",
      "nbconvert_exporter": "python",
      "pygments_lexer": "ipython3",
      "version": "3.10.4"
    }
  },
  "nbformat": 4,
  "nbformat_minor": 0
}
