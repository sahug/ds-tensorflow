{
 "cells": [
  {
   "cell_type": "markdown",
   "metadata": {
    "colab_type": "text",
    "id": "view-in-github"
   },
   "source": [
    "<a href=\"https://colab.research.google.com/github/sahug/tensorflow-colab/blob/master/Tensorflow_2_0_Breast_Cancer_Detection_Using_CNN.ipynb\" target=\"_parent\"><img src=\"https://colab.research.google.com/assets/colab-badge.svg\" alt=\"Open In Colab\"/></a>"
   ]
  },
  {
   "cell_type": "code",
   "execution_count": null,
   "metadata": {
    "colab": {
     "base_uri": "https://localhost:8080/"
    },
    "id": "s1QkrKDzZmw1",
    "outputId": "378aadde-a1e0-4d11-e287-9d4f5943a417"
   },
   "outputs": [],
   "source": [
    "!pip install tensorflow-gpu==2.0.0"
   ]
  },
  {
   "cell_type": "code",
   "execution_count": null,
   "metadata": {
    "id": "lKV4-Sc4aLUK"
   },
   "outputs": [],
   "source": [
    "import tensorflow as tf\n",
    "from tensorflow import keras\n",
    "from tensorflow.keras import Sequential\n",
    "from tensorflow.keras.layers import Flatten, Dense, Dropout, BatchNormalization\n",
    "from tensorflow.keras.layers import Conv1D, MaxPool1D\n",
    "from tensorflow.keras.optimizers import Adam"
   ]
  },
  {
   "cell_type": "code",
   "execution_count": null,
   "metadata": {
    "colab": {
     "base_uri": "https://localhost:8080/"
    },
    "id": "xdYB6iLKawy6",
    "outputId": "64dfa08b-d855-466f-fc4e-ed315e4f3495"
   },
   "outputs": [],
   "source": [
    "print(tf.__version__)"
   ]
  },
  {
   "cell_type": "code",
   "execution_count": null,
   "metadata": {
    "id": "Vsch15Yxa0Yj"
   },
   "outputs": [],
   "source": [
    "import pandas as pd\n",
    "import numpy as np\n",
    "import seaborn as sns\n",
    "import matplotlib.pyplot as plt"
   ]
  },
  {
   "cell_type": "code",
   "execution_count": null,
   "metadata": {
    "id": "cL6jAd1Sa-r6"
   },
   "outputs": [],
   "source": [
    "from sklearn import datasets, metrics\n",
    "from sklearn.model_selection import train_test_split\n",
    "from sklearn.preprocessing import StandardScaler"
   ]
  },
  {
   "cell_type": "code",
   "execution_count": null,
   "metadata": {
    "id": "1EsDcFBubp9s"
   },
   "outputs": [],
   "source": [
    "cancer = datasets.load_breast_cancer()"
   ]
  },
  {
   "cell_type": "code",
   "execution_count": null,
   "metadata": {
    "colab": {
     "base_uri": "https://localhost:8080/"
    },
    "id": "2Tghnk-7bw15",
    "outputId": "9be52789-36b6-4189-8c56-b7e05c937430"
   },
   "outputs": [],
   "source": [
    "print(cancer.DESCR)"
   ]
  },
  {
   "cell_type": "code",
   "execution_count": null,
   "metadata": {
    "colab": {
     "base_uri": "https://localhost:8080/",
     "height": 258
    },
    "id": "vZ2TN92bcLhA",
    "outputId": "fd86f0bd-daec-40f4-fdc4-d3936a44feac"
   },
   "outputs": [],
   "source": [
    "x = pd.DataFrame(data=cancer.data, columns=cancer.feature_names)\n",
    "x.head()"
   ]
  },
  {
   "cell_type": "code",
   "execution_count": null,
   "metadata": {
    "colab": {
     "base_uri": "https://localhost:8080/"
    },
    "id": "gVqubYivckJ0",
    "outputId": "f8678d61-abc5-4163-93fa-d95edebe71b3"
   },
   "outputs": [],
   "source": [
    "y = cancer.target\n",
    "y"
   ]
  },
  {
   "cell_type": "code",
   "execution_count": null,
   "metadata": {
    "colab": {
     "base_uri": "https://localhost:8080/"
    },
    "id": "y8SuQVL4crVH",
    "outputId": "b48be262-e206-4473-8d8c-5b19a28253e3"
   },
   "outputs": [],
   "source": [
    "cancer.target_names #0 is malignant and 1 is benign"
   ]
  },
  {
   "cell_type": "code",
   "execution_count": null,
   "metadata": {
    "colab": {
     "base_uri": "https://localhost:8080/"
    },
    "id": "pSUGHbC3c01_",
    "outputId": "3dfcff78-2b7c-4106-b74d-09392923be85"
   },
   "outputs": [],
   "source": [
    "x.shape, y.shape"
   ]
  },
  {
   "cell_type": "code",
   "execution_count": null,
   "metadata": {
    "id": "0-JP7IkrdBnZ"
   },
   "outputs": [],
   "source": [
    "x_train, x_test, y_train, y_test = train_test_split(x, y, test_size=0.2, random_state=0, stratify=y)"
   ]
  },
  {
   "cell_type": "code",
   "execution_count": null,
   "metadata": {
    "colab": {
     "base_uri": "https://localhost:8080/"
    },
    "id": "JJt4WSeldU47",
    "outputId": "81a7631a-55b7-4b7b-dc2c-3e57da6f8ba8"
   },
   "outputs": [],
   "source": [
    "x_train.shape, x_test.shape, y_train.shape, y_test.shape"
   ]
  },
  {
   "cell_type": "code",
   "execution_count": null,
   "metadata": {
    "id": "uTLUixa7eHHY"
   },
   "outputs": [],
   "source": [
    "# Converting Pandas to Numpy data to reshape the data later.\n",
    "scaler = StandardScaler()\n",
    "x_train = scaler.fit_transform(x_train)\n",
    "x_test = scaler.fit_transform(x_test)"
   ]
  },
  {
   "cell_type": "code",
   "execution_count": null,
   "metadata": {
    "id": "vH0SY5uvdmfr"
   },
   "outputs": [],
   "source": [
    "# Reshapping the data as CNN expect 3D data and we have 2D data.\n",
    "x_train = x_train.reshape(455, 30, 1)\n",
    "x_test = x_test.reshape(114, 30, 1)"
   ]
  },
  {
   "cell_type": "code",
   "execution_count": null,
   "metadata": {
    "id": "zYwjKYkgenfM"
   },
   "outputs": [],
   "source": [
    "# Build Model\n",
    "epochs = 50\n",
    "model = Sequential()\n",
    "\n",
    "model.add(Conv1D(filters=32, kernel_size=2, activation=\"relu\", input_shape=(30, 1)))\n",
    "model.add(BatchNormalization())\n",
    "model.add(Dropout(0.2))\n",
    "\n",
    "model.add(Conv1D(filters=64, kernel_size=2, activation=\"relu\"))\n",
    "model.add(BatchNormalization())\n",
    "model.add(Dropout(0.5))\n",
    "\n",
    "model.add(Flatten())\n",
    "\n",
    "model.add(Dense(64, activation=\"relu\"))\n",
    "\n",
    "model.add(Dropout(0.5))\n",
    "\n",
    "model.add(Dense(1, activation=\"sigmoid\")) # Only 1 output 0 or 1. sigmoid detects binary i.e. 0 or 1"
   ]
  },
  {
   "cell_type": "code",
   "execution_count": null,
   "metadata": {
    "colab": {
     "base_uri": "https://localhost:8080/"
    },
    "id": "WWfYA_whnpf3",
    "outputId": "3f217efe-eea5-4ebb-a9df-5a9cdc8cd69d"
   },
   "outputs": [],
   "source": [
    "model.summary()"
   ]
  },
  {
   "cell_type": "code",
   "execution_count": null,
   "metadata": {
    "id": "cwJZAxPKfwMd"
   },
   "outputs": [],
   "source": [
    "# Compile the model\n",
    "model.compile(optimizer=Adam(lr=0.00005), loss=\"binary_crossentropy\", metrics=[\"accuracy\"])"
   ]
  },
  {
   "cell_type": "code",
   "execution_count": null,
   "metadata": {
    "colab": {
     "base_uri": "https://localhost:8080/"
    },
    "id": "pjzFNEhPgFhQ",
    "outputId": "0dc37c08-f5ea-4b85-d667-ec80ef9e773a"
   },
   "outputs": [],
   "source": [
    "# Fit the model\n",
    "history = model.fit(x_train, y_train, epochs=epochs, validation_data=(x_test, y_test), verbose=1)"
   ]
  },
  {
   "cell_type": "code",
   "execution_count": null,
   "metadata": {
    "colab": {
     "base_uri": "https://localhost:8080/"
    },
    "id": "z-eZsxH2olf5",
    "outputId": "11bc4865-2f45-4d9d-f649-f2b39760936c"
   },
   "outputs": [],
   "source": [
    "history.history"
   ]
  },
  {
   "cell_type": "code",
   "execution_count": null,
   "metadata": {
    "id": "Ht1NMmP_oeGq"
   },
   "outputs": [],
   "source": [
    "epoch_range = range(1, epochs+1)"
   ]
  },
  {
   "cell_type": "code",
   "execution_count": null,
   "metadata": {
    "colab": {
     "base_uri": "https://localhost:8080/",
     "height": 295
    },
    "id": "5kaTynlDoVE6",
    "outputId": "5287018e-a575-40e8-fb16-21d2ae18cd91"
   },
   "outputs": [],
   "source": [
    "# Plot training and validation accuracy values\n",
    "# sparse_categorical_accuracy vs val_sparse_categorical_accuracy\n",
    "plt.plot(epoch_range, history.history[\"accuracy\"])\n",
    "plt.plot(epoch_range, history.history[\"val_accuracy\"])\n",
    "plt.title(\"Model Accuracy\")\n",
    "plt.ylabel(\"Accuracy\")\n",
    "plt.xlabel(\"Epoch\")\n",
    "plt.legend([\"Train\", \"Val\"], loc=\"upper left\")\n",
    "plt.show()"
   ]
  },
  {
   "cell_type": "code",
   "execution_count": null,
   "metadata": {
    "colab": {
     "base_uri": "https://localhost:8080/",
     "height": 295
    },
    "id": "aBBRExDMoc39",
    "outputId": "13e5fc89-ad48-4c49-9d27-a07c6bb2cf12"
   },
   "outputs": [],
   "source": [
    "# Plot training and validation loss values\n",
    "# Loss vs Val_Loss\n",
    "plt.plot(epoch_range, history.history[\"loss\"])\n",
    "plt.plot(epoch_range, history.history[\"val_loss\"])\n",
    "plt.title(\"Model Loss\")\n",
    "plt.ylabel(\"Loss\")\n",
    "plt.xlabel(\"Epoch\")\n",
    "plt.legend([\"Train\", \"Val\"], loc=\"upper left\")\n",
    "plt.show()"
   ]
  }
 ],
 "metadata": {
  "colab": {
   "authorship_tag": "ABX9TyOGxUC7SxePm8TFe19IQE79",
   "include_colab_link": true,
   "name": "Tensorflow 2.0 - Breast Cancer Detection Using CNN.ipynb",
   "provenance": []
  },
  "kernelspec": {
   "display_name": "Python 3",
   "name": "python3"
  }
 },
 "nbformat": 4,
 "nbformat_minor": 0
}
