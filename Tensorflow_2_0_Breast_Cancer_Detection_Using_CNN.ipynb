{
 "cells": [
  {
   "cell_type": "markdown",
   "metadata": {
    "colab_type": "text",
    "id": "view-in-github"
   },
   "source": [
    "<a href=\"https://colab.research.google.com/github/sahug/tensorflow-colab/blob/master/Tensorflow_2_0_Breast_Cancer_Detection_Using_CNN.ipynb\" target=\"_parent\"><img src=\"https://colab.research.google.com/assets/colab-badge.svg\" alt=\"Open In Colab\"/></a>"
   ]
  },
  {
   "cell_type": "code",
   "execution_count": 1,
   "metadata": {
    "colab": {
     "base_uri": "https://localhost:8080/"
    },
    "id": "s1QkrKDzZmw1",
    "outputId": "378aadde-a1e0-4d11-e287-9d4f5943a417"
   },
   "outputs": [
    {
     "name": "stdout",
     "output_type": "stream",
     "text": [
      "Collecting tensorflow-gpu==2.0.0\n",
      "\u001b[?25l  Downloading https://files.pythonhosted.org/packages/25/44/47f0722aea081697143fbcf5d2aa60d1aee4aaacb5869aee2b568974777b/tensorflow_gpu-2.0.0-cp36-cp36m-manylinux2010_x86_64.whl (380.8MB)\n",
      "\u001b[K     |████████████████████████████████| 380.8MB 36kB/s \n",
      "\u001b[?25hCollecting keras-applications>=1.0.8\n",
      "\u001b[?25l  Downloading https://files.pythonhosted.org/packages/71/e3/19762fdfc62877ae9102edf6342d71b28fbfd9dea3d2f96a882ce099b03f/Keras_Applications-1.0.8-py3-none-any.whl (50kB)\n",
      "\u001b[K     |████████████████████████████████| 51kB 5.5MB/s \n",
      "\u001b[?25hCollecting tensorflow-estimator<2.1.0,>=2.0.0\n",
      "\u001b[?25l  Downloading https://files.pythonhosted.org/packages/fc/08/8b927337b7019c374719145d1dceba21a8bb909b93b1ad6f8fb7d22c1ca1/tensorflow_estimator-2.0.1-py2.py3-none-any.whl (449kB)\n",
      "\u001b[K     |████████████████████████████████| 450kB 44.4MB/s \n",
      "\u001b[?25hRequirement already satisfied: google-pasta>=0.1.6 in /usr/local/lib/python3.6/dist-packages (from tensorflow-gpu==2.0.0) (0.2.0)\n",
      "Requirement already satisfied: protobuf>=3.6.1 in /usr/local/lib/python3.6/dist-packages (from tensorflow-gpu==2.0.0) (3.12.4)\n",
      "Requirement already satisfied: termcolor>=1.1.0 in /usr/local/lib/python3.6/dist-packages (from tensorflow-gpu==2.0.0) (1.1.0)\n",
      "Requirement already satisfied: wrapt>=1.11.1 in /usr/local/lib/python3.6/dist-packages (from tensorflow-gpu==2.0.0) (1.12.1)\n",
      "Collecting gast==0.2.2\n",
      "  Downloading https://files.pythonhosted.org/packages/4e/35/11749bf99b2d4e3cceb4d55ca22590b0d7c2c62b9de38ac4a4a7f4687421/gast-0.2.2.tar.gz\n",
      "Requirement already satisfied: grpcio>=1.8.6 in /usr/local/lib/python3.6/dist-packages (from tensorflow-gpu==2.0.0) (1.32.0)\n",
      "Collecting tensorboard<2.1.0,>=2.0.0\n",
      "\u001b[?25l  Downloading https://files.pythonhosted.org/packages/76/54/99b9d5d52d5cb732f099baaaf7740403e83fe6b0cedde940fabd2b13d75a/tensorboard-2.0.2-py3-none-any.whl (3.8MB)\n",
      "\u001b[K     |████████████████████████████████| 3.8MB 39.5MB/s \n",
      "\u001b[?25hRequirement already satisfied: astor>=0.6.0 in /usr/local/lib/python3.6/dist-packages (from tensorflow-gpu==2.0.0) (0.8.1)\n",
      "Requirement already satisfied: opt-einsum>=2.3.2 in /usr/local/lib/python3.6/dist-packages (from tensorflow-gpu==2.0.0) (3.3.0)\n",
      "Requirement already satisfied: absl-py>=0.7.0 in /usr/local/lib/python3.6/dist-packages (from tensorflow-gpu==2.0.0) (0.10.0)\n",
      "Requirement already satisfied: keras-preprocessing>=1.0.5 in /usr/local/lib/python3.6/dist-packages (from tensorflow-gpu==2.0.0) (1.1.2)\n",
      "Requirement already satisfied: wheel>=0.26 in /usr/local/lib/python3.6/dist-packages (from tensorflow-gpu==2.0.0) (0.35.1)\n",
      "Requirement already satisfied: numpy<2.0,>=1.16.0 in /usr/local/lib/python3.6/dist-packages (from tensorflow-gpu==2.0.0) (1.18.5)\n",
      "Requirement already satisfied: six>=1.10.0 in /usr/local/lib/python3.6/dist-packages (from tensorflow-gpu==2.0.0) (1.15.0)\n",
      "Requirement already satisfied: h5py in /usr/local/lib/python3.6/dist-packages (from keras-applications>=1.0.8->tensorflow-gpu==2.0.0) (2.10.0)\n",
      "Requirement already satisfied: setuptools in /usr/local/lib/python3.6/dist-packages (from protobuf>=3.6.1->tensorflow-gpu==2.0.0) (50.3.0)\n",
      "Requirement already satisfied: werkzeug>=0.11.15 in /usr/local/lib/python3.6/dist-packages (from tensorboard<2.1.0,>=2.0.0->tensorflow-gpu==2.0.0) (1.0.1)\n",
      "Requirement already satisfied: google-auth-oauthlib<0.5,>=0.4.1 in /usr/local/lib/python3.6/dist-packages (from tensorboard<2.1.0,>=2.0.0->tensorflow-gpu==2.0.0) (0.4.1)\n",
      "Requirement already satisfied: google-auth<2,>=1.6.3 in /usr/local/lib/python3.6/dist-packages (from tensorboard<2.1.0,>=2.0.0->tensorflow-gpu==2.0.0) (1.17.2)\n",
      "Requirement already satisfied: markdown>=2.6.8 in /usr/local/lib/python3.6/dist-packages (from tensorboard<2.1.0,>=2.0.0->tensorflow-gpu==2.0.0) (3.2.2)\n",
      "Requirement already satisfied: requests<3,>=2.21.0 in /usr/local/lib/python3.6/dist-packages (from tensorboard<2.1.0,>=2.0.0->tensorflow-gpu==2.0.0) (2.23.0)\n",
      "Requirement already satisfied: requests-oauthlib>=0.7.0 in /usr/local/lib/python3.6/dist-packages (from google-auth-oauthlib<0.5,>=0.4.1->tensorboard<2.1.0,>=2.0.0->tensorflow-gpu==2.0.0) (1.3.0)\n",
      "Requirement already satisfied: pyasn1-modules>=0.2.1 in /usr/local/lib/python3.6/dist-packages (from google-auth<2,>=1.6.3->tensorboard<2.1.0,>=2.0.0->tensorflow-gpu==2.0.0) (0.2.8)\n",
      "Requirement already satisfied: rsa<5,>=3.1.4; python_version >= \"3\" in /usr/local/lib/python3.6/dist-packages (from google-auth<2,>=1.6.3->tensorboard<2.1.0,>=2.0.0->tensorflow-gpu==2.0.0) (4.6)\n",
      "Requirement already satisfied: cachetools<5.0,>=2.0.0 in /usr/local/lib/python3.6/dist-packages (from google-auth<2,>=1.6.3->tensorboard<2.1.0,>=2.0.0->tensorflow-gpu==2.0.0) (4.1.1)\n",
      "Requirement already satisfied: importlib-metadata; python_version < \"3.8\" in /usr/local/lib/python3.6/dist-packages (from markdown>=2.6.8->tensorboard<2.1.0,>=2.0.0->tensorflow-gpu==2.0.0) (2.0.0)\n",
      "Requirement already satisfied: idna<3,>=2.5 in /usr/local/lib/python3.6/dist-packages (from requests<3,>=2.21.0->tensorboard<2.1.0,>=2.0.0->tensorflow-gpu==2.0.0) (2.10)\n",
      "Requirement already satisfied: chardet<4,>=3.0.2 in /usr/local/lib/python3.6/dist-packages (from requests<3,>=2.21.0->tensorboard<2.1.0,>=2.0.0->tensorflow-gpu==2.0.0) (3.0.4)\n",
      "Requirement already satisfied: certifi>=2017.4.17 in /usr/local/lib/python3.6/dist-packages (from requests<3,>=2.21.0->tensorboard<2.1.0,>=2.0.0->tensorflow-gpu==2.0.0) (2020.6.20)\n",
      "Requirement already satisfied: urllib3!=1.25.0,!=1.25.1,<1.26,>=1.21.1 in /usr/local/lib/python3.6/dist-packages (from requests<3,>=2.21.0->tensorboard<2.1.0,>=2.0.0->tensorflow-gpu==2.0.0) (1.24.3)\n",
      "Requirement already satisfied: oauthlib>=3.0.0 in /usr/local/lib/python3.6/dist-packages (from requests-oauthlib>=0.7.0->google-auth-oauthlib<0.5,>=0.4.1->tensorboard<2.1.0,>=2.0.0->tensorflow-gpu==2.0.0) (3.1.0)\n",
      "Requirement already satisfied: pyasn1<0.5.0,>=0.4.6 in /usr/local/lib/python3.6/dist-packages (from pyasn1-modules>=0.2.1->google-auth<2,>=1.6.3->tensorboard<2.1.0,>=2.0.0->tensorflow-gpu==2.0.0) (0.4.8)\n",
      "Requirement already satisfied: zipp>=0.5 in /usr/local/lib/python3.6/dist-packages (from importlib-metadata; python_version < \"3.8\"->markdown>=2.6.8->tensorboard<2.1.0,>=2.0.0->tensorflow-gpu==2.0.0) (3.2.0)\n",
      "Building wheels for collected packages: gast\n",
      "  Building wheel for gast (setup.py) ... \u001b[?25l\u001b[?25hdone\n",
      "  Created wheel for gast: filename=gast-0.2.2-cp36-none-any.whl size=7542 sha256=a73e2fc38d49d64d5f7ed145ce9eaaf25db6ad132eb0ad7baf1654adfe1fc5d6\n",
      "  Stored in directory: /root/.cache/pip/wheels/5c/2e/7e/a1d4d4fcebe6c381f378ce7743a3ced3699feb89bcfbdadadd\n",
      "Successfully built gast\n",
      "\u001b[31mERROR: tensorflow 2.3.0 has requirement gast==0.3.3, but you'll have gast 0.2.2 which is incompatible.\u001b[0m\n",
      "\u001b[31mERROR: tensorflow 2.3.0 has requirement tensorboard<3,>=2.3.0, but you'll have tensorboard 2.0.2 which is incompatible.\u001b[0m\n",
      "\u001b[31mERROR: tensorflow 2.3.0 has requirement tensorflow-estimator<2.4.0,>=2.3.0, but you'll have tensorflow-estimator 2.0.1 which is incompatible.\u001b[0m\n",
      "\u001b[31mERROR: tensorflow-probability 0.11.0 has requirement gast>=0.3.2, but you'll have gast 0.2.2 which is incompatible.\u001b[0m\n",
      "Installing collected packages: keras-applications, tensorflow-estimator, gast, tensorboard, tensorflow-gpu\n",
      "  Found existing installation: tensorflow-estimator 2.3.0\n",
      "    Uninstalling tensorflow-estimator-2.3.0:\n",
      "      Successfully uninstalled tensorflow-estimator-2.3.0\n",
      "  Found existing installation: gast 0.3.3\n",
      "    Uninstalling gast-0.3.3:\n",
      "      Successfully uninstalled gast-0.3.3\n",
      "  Found existing installation: tensorboard 2.3.0\n",
      "    Uninstalling tensorboard-2.3.0:\n",
      "      Successfully uninstalled tensorboard-2.3.0\n",
      "Successfully installed gast-0.2.2 keras-applications-1.0.8 tensorboard-2.0.2 tensorflow-estimator-2.0.1 tensorflow-gpu-2.0.0\n"
     ]
    }
   ],
   "source": [
    "!pip install tensorflow-gpu==2.0.0"
   ]
  },
  {
   "cell_type": "code",
   "execution_count": 2,
   "metadata": {
    "id": "lKV4-Sc4aLUK"
   },
   "outputs": [],
   "source": [
    "import tensorflow as tf\n",
    "from tensorflow import keras\n",
    "from tensorflow.keras import Sequential\n",
    "from tensorflow.keras.layers import Flatten, Dense, Dropout, BatchNormalization\n",
    "from tensorflow.keras.layers import Conv1D, MaxPool1D\n",
    "from tensorflow.keras.optimizers import Adam"
   ]
  },
  {
   "cell_type": "code",
   "execution_count": 3,
   "metadata": {
    "colab": {
     "base_uri": "https://localhost:8080/"
    },
    "id": "xdYB6iLKawy6",
    "outputId": "64dfa08b-d855-466f-fc4e-ed315e4f3495"
   },
   "outputs": [
    {
     "name": "stdout",
     "output_type": "stream",
     "text": [
      "2.0.0\n"
     ]
    }
   ],
   "source": [
    "print(tf.__version__)"
   ]
  },
  {
   "cell_type": "code",
   "execution_count": 4,
   "metadata": {
    "id": "Vsch15Yxa0Yj"
   },
   "outputs": [],
   "source": [
    "import pandas as pd\n",
    "import numpy as np\n",
    "import seaborn as sns\n",
    "import matplotlib.pyplot as plt"
   ]
  },
  {
   "cell_type": "code",
   "execution_count": 5,
   "metadata": {
    "id": "cL6jAd1Sa-r6"
   },
   "outputs": [],
   "source": [
    "from sklearn import datasets, metrics\n",
    "from sklearn.model_selection import train_test_split\n",
    "from sklearn.preprocessing import StandardScaler"
   ]
  },
  {
   "cell_type": "code",
   "execution_count": 6,
   "metadata": {
    "id": "1EsDcFBubp9s"
   },
   "outputs": [],
   "source": [
    "cancer = datasets.load_breast_cancer()"
   ]
  },
  {
   "cell_type": "code",
   "execution_count": 7,
   "metadata": {
    "colab": {
     "base_uri": "https://localhost:8080/"
    },
    "id": "2Tghnk-7bw15",
    "outputId": "9be52789-36b6-4189-8c56-b7e05c937430"
   },
   "outputs": [
    {
     "name": "stdout",
     "output_type": "stream",
     "text": [
      ".. _breast_cancer_dataset:\n",
      "\n",
      "Breast cancer wisconsin (diagnostic) dataset\n",
      "--------------------------------------------\n",
      "\n",
      "**Data Set Characteristics:**\n",
      "\n",
      "    :Number of Instances: 569\n",
      "\n",
      "    :Number of Attributes: 30 numeric, predictive attributes and the class\n",
      "\n",
      "    :Attribute Information:\n",
      "        - radius (mean of distances from center to points on the perimeter)\n",
      "        - texture (standard deviation of gray-scale values)\n",
      "        - perimeter\n",
      "        - area\n",
      "        - smoothness (local variation in radius lengths)\n",
      "        - compactness (perimeter^2 / area - 1.0)\n",
      "        - concavity (severity of concave portions of the contour)\n",
      "        - concave points (number of concave portions of the contour)\n",
      "        - symmetry \n",
      "        - fractal dimension (\"coastline approximation\" - 1)\n",
      "\n",
      "        The mean, standard error, and \"worst\" or largest (mean of the three\n",
      "        largest values) of these features were computed for each image,\n",
      "        resulting in 30 features.  For instance, field 3 is Mean Radius, field\n",
      "        13 is Radius SE, field 23 is Worst Radius.\n",
      "\n",
      "        - class:\n",
      "                - WDBC-Malignant\n",
      "                - WDBC-Benign\n",
      "\n",
      "    :Summary Statistics:\n",
      "\n",
      "    ===================================== ====== ======\n",
      "                                           Min    Max\n",
      "    ===================================== ====== ======\n",
      "    radius (mean):                        6.981  28.11\n",
      "    texture (mean):                       9.71   39.28\n",
      "    perimeter (mean):                     43.79  188.5\n",
      "    area (mean):                          143.5  2501.0\n",
      "    smoothness (mean):                    0.053  0.163\n",
      "    compactness (mean):                   0.019  0.345\n",
      "    concavity (mean):                     0.0    0.427\n",
      "    concave points (mean):                0.0    0.201\n",
      "    symmetry (mean):                      0.106  0.304\n",
      "    fractal dimension (mean):             0.05   0.097\n",
      "    radius (standard error):              0.112  2.873\n",
      "    texture (standard error):             0.36   4.885\n",
      "    perimeter (standard error):           0.757  21.98\n",
      "    area (standard error):                6.802  542.2\n",
      "    smoothness (standard error):          0.002  0.031\n",
      "    compactness (standard error):         0.002  0.135\n",
      "    concavity (standard error):           0.0    0.396\n",
      "    concave points (standard error):      0.0    0.053\n",
      "    symmetry (standard error):            0.008  0.079\n",
      "    fractal dimension (standard error):   0.001  0.03\n",
      "    radius (worst):                       7.93   36.04\n",
      "    texture (worst):                      12.02  49.54\n",
      "    perimeter (worst):                    50.41  251.2\n",
      "    area (worst):                         185.2  4254.0\n",
      "    smoothness (worst):                   0.071  0.223\n",
      "    compactness (worst):                  0.027  1.058\n",
      "    concavity (worst):                    0.0    1.252\n",
      "    concave points (worst):               0.0    0.291\n",
      "    symmetry (worst):                     0.156  0.664\n",
      "    fractal dimension (worst):            0.055  0.208\n",
      "    ===================================== ====== ======\n",
      "\n",
      "    :Missing Attribute Values: None\n",
      "\n",
      "    :Class Distribution: 212 - Malignant, 357 - Benign\n",
      "\n",
      "    :Creator:  Dr. William H. Wolberg, W. Nick Street, Olvi L. Mangasarian\n",
      "\n",
      "    :Donor: Nick Street\n",
      "\n",
      "    :Date: November, 1995\n",
      "\n",
      "This is a copy of UCI ML Breast Cancer Wisconsin (Diagnostic) datasets.\n",
      "https://goo.gl/U2Uwz2\n",
      "\n",
      "Features are computed from a digitized image of a fine needle\n",
      "aspirate (FNA) of a breast mass.  They describe\n",
      "characteristics of the cell nuclei present in the image.\n",
      "\n",
      "Separating plane described above was obtained using\n",
      "Multisurface Method-Tree (MSM-T) [K. P. Bennett, \"Decision Tree\n",
      "Construction Via Linear Programming.\" Proceedings of the 4th\n",
      "Midwest Artificial Intelligence and Cognitive Science Society,\n",
      "pp. 97-101, 1992], a classification method which uses linear\n",
      "programming to construct a decision tree.  Relevant features\n",
      "were selected using an exhaustive search in the space of 1-4\n",
      "features and 1-3 separating planes.\n",
      "\n",
      "The actual linear program used to obtain the separating plane\n",
      "in the 3-dimensional space is that described in:\n",
      "[K. P. Bennett and O. L. Mangasarian: \"Robust Linear\n",
      "Programming Discrimination of Two Linearly Inseparable Sets\",\n",
      "Optimization Methods and Software 1, 1992, 23-34].\n",
      "\n",
      "This database is also available through the UW CS ftp server:\n",
      "\n",
      "ftp ftp.cs.wisc.edu\n",
      "cd math-prog/cpo-dataset/machine-learn/WDBC/\n",
      "\n",
      ".. topic:: References\n",
      "\n",
      "   - W.N. Street, W.H. Wolberg and O.L. Mangasarian. Nuclear feature extraction \n",
      "     for breast tumor diagnosis. IS&T/SPIE 1993 International Symposium on \n",
      "     Electronic Imaging: Science and Technology, volume 1905, pages 861-870,\n",
      "     San Jose, CA, 1993.\n",
      "   - O.L. Mangasarian, W.N. Street and W.H. Wolberg. Breast cancer diagnosis and \n",
      "     prognosis via linear programming. Operations Research, 43(4), pages 570-577, \n",
      "     July-August 1995.\n",
      "   - W.H. Wolberg, W.N. Street, and O.L. Mangasarian. Machine learning techniques\n",
      "     to diagnose breast cancer from fine-needle aspirates. Cancer Letters 77 (1994) \n",
      "     163-171.\n"
     ]
    }
   ],
   "source": [
    "print(cancer.DESCR)"
   ]
  },
  {
   "cell_type": "code",
   "execution_count": 8,
   "metadata": {
    "colab": {
     "base_uri": "https://localhost:8080/",
     "height": 258
    },
    "id": "vZ2TN92bcLhA",
    "outputId": "fd86f0bd-daec-40f4-fdc4-d3936a44feac"
   },
   "outputs": [
    {
     "data": {
      "text/html": [
       "<div>\n",
       "<style scoped>\n",
       "    .dataframe tbody tr th:only-of-type {\n",
       "        vertical-align: middle;\n",
       "    }\n",
       "\n",
       "    .dataframe tbody tr th {\n",
       "        vertical-align: top;\n",
       "    }\n",
       "\n",
       "    .dataframe thead th {\n",
       "        text-align: right;\n",
       "    }\n",
       "</style>\n",
       "<table border=\"1\" class=\"dataframe\">\n",
       "  <thead>\n",
       "    <tr style=\"text-align: right;\">\n",
       "      <th></th>\n",
       "      <th>mean radius</th>\n",
       "      <th>mean texture</th>\n",
       "      <th>mean perimeter</th>\n",
       "      <th>mean area</th>\n",
       "      <th>mean smoothness</th>\n",
       "      <th>mean compactness</th>\n",
       "      <th>mean concavity</th>\n",
       "      <th>mean concave points</th>\n",
       "      <th>mean symmetry</th>\n",
       "      <th>mean fractal dimension</th>\n",
       "      <th>radius error</th>\n",
       "      <th>texture error</th>\n",
       "      <th>perimeter error</th>\n",
       "      <th>area error</th>\n",
       "      <th>smoothness error</th>\n",
       "      <th>compactness error</th>\n",
       "      <th>concavity error</th>\n",
       "      <th>concave points error</th>\n",
       "      <th>symmetry error</th>\n",
       "      <th>fractal dimension error</th>\n",
       "      <th>worst radius</th>\n",
       "      <th>worst texture</th>\n",
       "      <th>worst perimeter</th>\n",
       "      <th>worst area</th>\n",
       "      <th>worst smoothness</th>\n",
       "      <th>worst compactness</th>\n",
       "      <th>worst concavity</th>\n",
       "      <th>worst concave points</th>\n",
       "      <th>worst symmetry</th>\n",
       "      <th>worst fractal dimension</th>\n",
       "    </tr>\n",
       "  </thead>\n",
       "  <tbody>\n",
       "    <tr>\n",
       "      <th>0</th>\n",
       "      <td>17.99</td>\n",
       "      <td>10.38</td>\n",
       "      <td>122.80</td>\n",
       "      <td>1001.0</td>\n",
       "      <td>0.11840</td>\n",
       "      <td>0.27760</td>\n",
       "      <td>0.3001</td>\n",
       "      <td>0.14710</td>\n",
       "      <td>0.2419</td>\n",
       "      <td>0.07871</td>\n",
       "      <td>1.0950</td>\n",
       "      <td>0.9053</td>\n",
       "      <td>8.589</td>\n",
       "      <td>153.40</td>\n",
       "      <td>0.006399</td>\n",
       "      <td>0.04904</td>\n",
       "      <td>0.05373</td>\n",
       "      <td>0.01587</td>\n",
       "      <td>0.03003</td>\n",
       "      <td>0.006193</td>\n",
       "      <td>25.38</td>\n",
       "      <td>17.33</td>\n",
       "      <td>184.60</td>\n",
       "      <td>2019.0</td>\n",
       "      <td>0.1622</td>\n",
       "      <td>0.6656</td>\n",
       "      <td>0.7119</td>\n",
       "      <td>0.2654</td>\n",
       "      <td>0.4601</td>\n",
       "      <td>0.11890</td>\n",
       "    </tr>\n",
       "    <tr>\n",
       "      <th>1</th>\n",
       "      <td>20.57</td>\n",
       "      <td>17.77</td>\n",
       "      <td>132.90</td>\n",
       "      <td>1326.0</td>\n",
       "      <td>0.08474</td>\n",
       "      <td>0.07864</td>\n",
       "      <td>0.0869</td>\n",
       "      <td>0.07017</td>\n",
       "      <td>0.1812</td>\n",
       "      <td>0.05667</td>\n",
       "      <td>0.5435</td>\n",
       "      <td>0.7339</td>\n",
       "      <td>3.398</td>\n",
       "      <td>74.08</td>\n",
       "      <td>0.005225</td>\n",
       "      <td>0.01308</td>\n",
       "      <td>0.01860</td>\n",
       "      <td>0.01340</td>\n",
       "      <td>0.01389</td>\n",
       "      <td>0.003532</td>\n",
       "      <td>24.99</td>\n",
       "      <td>23.41</td>\n",
       "      <td>158.80</td>\n",
       "      <td>1956.0</td>\n",
       "      <td>0.1238</td>\n",
       "      <td>0.1866</td>\n",
       "      <td>0.2416</td>\n",
       "      <td>0.1860</td>\n",
       "      <td>0.2750</td>\n",
       "      <td>0.08902</td>\n",
       "    </tr>\n",
       "    <tr>\n",
       "      <th>2</th>\n",
       "      <td>19.69</td>\n",
       "      <td>21.25</td>\n",
       "      <td>130.00</td>\n",
       "      <td>1203.0</td>\n",
       "      <td>0.10960</td>\n",
       "      <td>0.15990</td>\n",
       "      <td>0.1974</td>\n",
       "      <td>0.12790</td>\n",
       "      <td>0.2069</td>\n",
       "      <td>0.05999</td>\n",
       "      <td>0.7456</td>\n",
       "      <td>0.7869</td>\n",
       "      <td>4.585</td>\n",
       "      <td>94.03</td>\n",
       "      <td>0.006150</td>\n",
       "      <td>0.04006</td>\n",
       "      <td>0.03832</td>\n",
       "      <td>0.02058</td>\n",
       "      <td>0.02250</td>\n",
       "      <td>0.004571</td>\n",
       "      <td>23.57</td>\n",
       "      <td>25.53</td>\n",
       "      <td>152.50</td>\n",
       "      <td>1709.0</td>\n",
       "      <td>0.1444</td>\n",
       "      <td>0.4245</td>\n",
       "      <td>0.4504</td>\n",
       "      <td>0.2430</td>\n",
       "      <td>0.3613</td>\n",
       "      <td>0.08758</td>\n",
       "    </tr>\n",
       "    <tr>\n",
       "      <th>3</th>\n",
       "      <td>11.42</td>\n",
       "      <td>20.38</td>\n",
       "      <td>77.58</td>\n",
       "      <td>386.1</td>\n",
       "      <td>0.14250</td>\n",
       "      <td>0.28390</td>\n",
       "      <td>0.2414</td>\n",
       "      <td>0.10520</td>\n",
       "      <td>0.2597</td>\n",
       "      <td>0.09744</td>\n",
       "      <td>0.4956</td>\n",
       "      <td>1.1560</td>\n",
       "      <td>3.445</td>\n",
       "      <td>27.23</td>\n",
       "      <td>0.009110</td>\n",
       "      <td>0.07458</td>\n",
       "      <td>0.05661</td>\n",
       "      <td>0.01867</td>\n",
       "      <td>0.05963</td>\n",
       "      <td>0.009208</td>\n",
       "      <td>14.91</td>\n",
       "      <td>26.50</td>\n",
       "      <td>98.87</td>\n",
       "      <td>567.7</td>\n",
       "      <td>0.2098</td>\n",
       "      <td>0.8663</td>\n",
       "      <td>0.6869</td>\n",
       "      <td>0.2575</td>\n",
       "      <td>0.6638</td>\n",
       "      <td>0.17300</td>\n",
       "    </tr>\n",
       "    <tr>\n",
       "      <th>4</th>\n",
       "      <td>20.29</td>\n",
       "      <td>14.34</td>\n",
       "      <td>135.10</td>\n",
       "      <td>1297.0</td>\n",
       "      <td>0.10030</td>\n",
       "      <td>0.13280</td>\n",
       "      <td>0.1980</td>\n",
       "      <td>0.10430</td>\n",
       "      <td>0.1809</td>\n",
       "      <td>0.05883</td>\n",
       "      <td>0.7572</td>\n",
       "      <td>0.7813</td>\n",
       "      <td>5.438</td>\n",
       "      <td>94.44</td>\n",
       "      <td>0.011490</td>\n",
       "      <td>0.02461</td>\n",
       "      <td>0.05688</td>\n",
       "      <td>0.01885</td>\n",
       "      <td>0.01756</td>\n",
       "      <td>0.005115</td>\n",
       "      <td>22.54</td>\n",
       "      <td>16.67</td>\n",
       "      <td>152.20</td>\n",
       "      <td>1575.0</td>\n",
       "      <td>0.1374</td>\n",
       "      <td>0.2050</td>\n",
       "      <td>0.4000</td>\n",
       "      <td>0.1625</td>\n",
       "      <td>0.2364</td>\n",
       "      <td>0.07678</td>\n",
       "    </tr>\n",
       "  </tbody>\n",
       "</table>\n",
       "</div>"
      ],
      "text/plain": [
       "   mean radius  mean texture  ...  worst symmetry  worst fractal dimension\n",
       "0        17.99         10.38  ...          0.4601                  0.11890\n",
       "1        20.57         17.77  ...          0.2750                  0.08902\n",
       "2        19.69         21.25  ...          0.3613                  0.08758\n",
       "3        11.42         20.38  ...          0.6638                  0.17300\n",
       "4        20.29         14.34  ...          0.2364                  0.07678\n",
       "\n",
       "[5 rows x 30 columns]"
      ]
     },
     "execution_count": 8,
     "metadata": {
      "tags": []
     },
     "output_type": "execute_result"
    }
   ],
   "source": [
    "x = pd.DataFrame(data=cancer.data, columns=cancer.feature_names)\n",
    "x.head()"
   ]
  },
  {
   "cell_type": "code",
   "execution_count": 9,
   "metadata": {
    "colab": {
     "base_uri": "https://localhost:8080/"
    },
    "id": "gVqubYivckJ0",
    "outputId": "f8678d61-abc5-4163-93fa-d95edebe71b3"
   },
   "outputs": [
    {
     "data": {
      "text/plain": [
       "array([0, 0, 0, 0, 0, 0, 0, 0, 0, 0, 0, 0, 0, 0, 0, 0, 0, 0, 0, 1, 1, 1,\n",
       "       0, 0, 0, 0, 0, 0, 0, 0, 0, 0, 0, 0, 0, 0, 0, 1, 0, 0, 0, 0, 0, 0,\n",
       "       0, 0, 1, 0, 1, 1, 1, 1, 1, 0, 0, 1, 0, 0, 1, 1, 1, 1, 0, 1, 0, 0,\n",
       "       1, 1, 1, 1, 0, 1, 0, 0, 1, 0, 1, 0, 0, 1, 1, 1, 0, 0, 1, 0, 0, 0,\n",
       "       1, 1, 1, 0, 1, 1, 0, 0, 1, 1, 1, 0, 0, 1, 1, 1, 1, 0, 1, 1, 0, 1,\n",
       "       1, 1, 1, 1, 1, 1, 1, 0, 0, 0, 1, 0, 0, 1, 1, 1, 0, 0, 1, 0, 1, 0,\n",
       "       0, 1, 0, 0, 1, 1, 0, 1, 1, 0, 1, 1, 1, 1, 0, 1, 1, 1, 1, 1, 1, 1,\n",
       "       1, 1, 0, 1, 1, 1, 1, 0, 0, 1, 0, 1, 1, 0, 0, 1, 1, 0, 0, 1, 1, 1,\n",
       "       1, 0, 1, 1, 0, 0, 0, 1, 0, 1, 0, 1, 1, 1, 0, 1, 1, 0, 0, 1, 0, 0,\n",
       "       0, 0, 1, 0, 0, 0, 1, 0, 1, 0, 1, 1, 0, 1, 0, 0, 0, 0, 1, 1, 0, 0,\n",
       "       1, 1, 1, 0, 1, 1, 1, 1, 1, 0, 0, 1, 1, 0, 1, 1, 0, 0, 1, 0, 1, 1,\n",
       "       1, 1, 0, 1, 1, 1, 1, 1, 0, 1, 0, 0, 0, 0, 0, 0, 0, 0, 0, 0, 0, 0,\n",
       "       0, 0, 1, 1, 1, 1, 1, 1, 0, 1, 0, 1, 1, 0, 1, 1, 0, 1, 0, 0, 1, 1,\n",
       "       1, 1, 1, 1, 1, 1, 1, 1, 1, 1, 1, 0, 1, 1, 0, 1, 0, 1, 1, 1, 1, 1,\n",
       "       1, 1, 1, 1, 1, 1, 1, 1, 1, 0, 1, 1, 1, 0, 1, 0, 1, 1, 1, 1, 0, 0,\n",
       "       0, 1, 1, 1, 1, 0, 1, 0, 1, 0, 1, 1, 1, 0, 1, 1, 1, 1, 1, 1, 1, 0,\n",
       "       0, 0, 1, 1, 1, 1, 1, 1, 1, 1, 1, 1, 1, 0, 0, 1, 0, 0, 0, 1, 0, 0,\n",
       "       1, 1, 1, 1, 1, 0, 1, 1, 1, 1, 1, 0, 1, 1, 1, 0, 1, 1, 0, 0, 1, 1,\n",
       "       1, 1, 1, 1, 0, 1, 1, 1, 1, 1, 1, 1, 0, 1, 1, 1, 1, 1, 0, 1, 1, 0,\n",
       "       1, 1, 1, 1, 1, 1, 1, 1, 1, 1, 1, 1, 0, 1, 0, 0, 1, 0, 1, 1, 1, 1,\n",
       "       1, 0, 1, 1, 0, 1, 0, 1, 1, 0, 1, 0, 1, 1, 1, 1, 1, 1, 1, 1, 0, 0,\n",
       "       1, 1, 1, 1, 1, 1, 0, 1, 1, 1, 1, 1, 1, 1, 1, 1, 1, 0, 1, 1, 1, 1,\n",
       "       1, 1, 1, 0, 1, 0, 1, 1, 0, 1, 1, 1, 1, 1, 0, 0, 1, 0, 1, 0, 1, 1,\n",
       "       1, 1, 1, 0, 1, 1, 0, 1, 0, 1, 0, 0, 1, 1, 1, 0, 1, 1, 1, 1, 1, 1,\n",
       "       1, 1, 1, 1, 1, 0, 1, 0, 0, 1, 1, 1, 1, 1, 1, 1, 1, 1, 1, 1, 1, 1,\n",
       "       1, 1, 1, 1, 1, 1, 1, 1, 1, 1, 1, 1, 0, 0, 0, 0, 0, 0, 1])"
      ]
     },
     "execution_count": 9,
     "metadata": {
      "tags": []
     },
     "output_type": "execute_result"
    }
   ],
   "source": [
    "y = cancer.target\n",
    "y"
   ]
  },
  {
   "cell_type": "code",
   "execution_count": 10,
   "metadata": {
    "colab": {
     "base_uri": "https://localhost:8080/"
    },
    "id": "y8SuQVL4crVH",
    "outputId": "b48be262-e206-4473-8d8c-5b19a28253e3"
   },
   "outputs": [
    {
     "data": {
      "text/plain": [
       "array(['malignant', 'benign'], dtype='<U9')"
      ]
     },
     "execution_count": 10,
     "metadata": {
      "tags": []
     },
     "output_type": "execute_result"
    }
   ],
   "source": [
    "cancer.target_names #0 is malignant and 1 is benign"
   ]
  },
  {
   "cell_type": "code",
   "execution_count": 12,
   "metadata": {
    "colab": {
     "base_uri": "https://localhost:8080/"
    },
    "id": "pSUGHbC3c01_",
    "outputId": "3dfcff78-2b7c-4106-b74d-09392923be85"
   },
   "outputs": [
    {
     "data": {
      "text/plain": [
       "((569, 30), (569,))"
      ]
     },
     "execution_count": 12,
     "metadata": {
      "tags": []
     },
     "output_type": "execute_result"
    }
   ],
   "source": [
    "x.shape, y.shape"
   ]
  },
  {
   "cell_type": "code",
   "execution_count": 13,
   "metadata": {
    "id": "0-JP7IkrdBnZ"
   },
   "outputs": [],
   "source": [
    "x_train, x_test, y_train, y_test = train_test_split(x, y, test_size=0.2, random_state=0, stratify=y)"
   ]
  },
  {
   "cell_type": "code",
   "execution_count": 14,
   "metadata": {
    "colab": {
     "base_uri": "https://localhost:8080/"
    },
    "id": "JJt4WSeldU47",
    "outputId": "81a7631a-55b7-4b7b-dc2c-3e57da6f8ba8"
   },
   "outputs": [
    {
     "data": {
      "text/plain": [
       "((455, 30), (114, 30), (455,), (114,))"
      ]
     },
     "execution_count": 14,
     "metadata": {
      "tags": []
     },
     "output_type": "execute_result"
    }
   ],
   "source": [
    "x_train.shape, x_test.shape, y_train.shape, y_test.shape"
   ]
  },
  {
   "cell_type": "code",
   "execution_count": 17,
   "metadata": {
    "id": "uTLUixa7eHHY"
   },
   "outputs": [],
   "source": [
    "# Converting Pandas to Numpy data to reshape the data later.\n",
    "scaler = StandardScaler()\n",
    "x_train = scaler.fit_transform(x_train)\n",
    "x_test = scaler.fit_transform(x_test)"
   ]
  },
  {
   "cell_type": "code",
   "execution_count": 18,
   "metadata": {
    "id": "vH0SY5uvdmfr"
   },
   "outputs": [],
   "source": [
    "# Reshapping the data as CNN expect 3D data and we have 2D data.\n",
    "x_train = x_train.reshape(455, 30, 1)\n",
    "x_test = x_test.reshape(114, 30, 1)"
   ]
  },
  {
   "cell_type": "code",
   "execution_count": 25,
   "metadata": {
    "id": "zYwjKYkgenfM"
   },
   "outputs": [],
   "source": [
    "# Build Model\n",
    "epochs = 50\n",
    "model = Sequential()\n",
    "\n",
    "model.add(Conv1D(filters=32, kernel_size=2, activation=\"relu\", input_shape=(30, 1)))\n",
    "model.add(BatchNormalization())\n",
    "model.add(Dropout(0.2))\n",
    "\n",
    "model.add(Conv1D(filters=64, kernel_size=2, activation=\"relu\"))\n",
    "model.add(BatchNormalization())\n",
    "model.add(Dropout(0.5))\n",
    "\n",
    "model.add(Flatten())\n",
    "\n",
    "model.add(Dense(64, activation=\"relu\"))\n",
    "\n",
    "model.add(Dropout(0.5))\n",
    "\n",
    "model.add(Dense(1, activation=\"sigmoid\")) # Only 1 output 0 or 1. sigmoid detects binary i.e. 0 or 1"
   ]
  },
  {
   "cell_type": "code",
   "execution_count": 28,
   "metadata": {
    "colab": {
     "base_uri": "https://localhost:8080/"
    },
    "id": "WWfYA_whnpf3",
    "outputId": "3f217efe-eea5-4ebb-a9df-5a9cdc8cd69d"
   },
   "outputs": [
    {
     "name": "stdout",
     "output_type": "stream",
     "text": [
      "Model: \"sequential_1\"\n",
      "_________________________________________________________________\n",
      "Layer (type)                 Output Shape              Param #   \n",
      "=================================================================\n",
      "conv1d_2 (Conv1D)            (None, 29, 32)            96        \n",
      "_________________________________________________________________\n",
      "batch_normalization_2 (Batch (None, 29, 32)            128       \n",
      "_________________________________________________________________\n",
      "dropout_3 (Dropout)          (None, 29, 32)            0         \n",
      "_________________________________________________________________\n",
      "conv1d_3 (Conv1D)            (None, 28, 64)            4160      \n",
      "_________________________________________________________________\n",
      "batch_normalization_3 (Batch (None, 28, 64)            256       \n",
      "_________________________________________________________________\n",
      "dropout_4 (Dropout)          (None, 28, 64)            0         \n",
      "_________________________________________________________________\n",
      "flatten_1 (Flatten)          (None, 1792)              0         \n",
      "_________________________________________________________________\n",
      "dense_2 (Dense)              (None, 64)                114752    \n",
      "_________________________________________________________________\n",
      "dropout_5 (Dropout)          (None, 64)                0         \n",
      "_________________________________________________________________\n",
      "dense_3 (Dense)              (None, 1)                 65        \n",
      "=================================================================\n",
      "Total params: 119,457\n",
      "Trainable params: 119,265\n",
      "Non-trainable params: 192\n",
      "_________________________________________________________________\n"
     ]
    }
   ],
   "source": [
    "model.summary()"
   ]
  },
  {
   "cell_type": "code",
   "execution_count": 26,
   "metadata": {
    "id": "cwJZAxPKfwMd"
   },
   "outputs": [],
   "source": [
    "# Compile the model\n",
    "model.compile(optimizer=Adam(lr=0.00005), loss=\"binary_crossentropy\", metrics=[\"accuracy\"])"
   ]
  },
  {
   "cell_type": "code",
   "execution_count": 29,
   "metadata": {
    "colab": {
     "base_uri": "https://localhost:8080/"
    },
    "id": "pjzFNEhPgFhQ",
    "outputId": "0dc37c08-f5ea-4b85-d667-ec80ef9e773a"
   },
   "outputs": [
    {
     "name": "stdout",
     "output_type": "stream",
     "text": [
      "Train on 455 samples, validate on 114 samples\n",
      "Epoch 1/50\n",
      "455/455 [==============================] - 2s 4ms/sample - loss: 1.0746 - accuracy: 0.5626 - val_loss: 0.6393 - val_accuracy: 0.8860\n",
      "Epoch 2/50\n",
      "455/455 [==============================] - 0s 413us/sample - loss: 0.7502 - accuracy: 0.6967 - val_loss: 0.5882 - val_accuracy: 0.9298\n",
      "Epoch 3/50\n",
      "455/455 [==============================] - 0s 412us/sample - loss: 0.6046 - accuracy: 0.7231 - val_loss: 0.5418 - val_accuracy: 0.9386\n",
      "Epoch 4/50\n",
      "455/455 [==============================] - 0s 420us/sample - loss: 0.3922 - accuracy: 0.8264 - val_loss: 0.5000 - val_accuracy: 0.9474\n",
      "Epoch 5/50\n",
      "455/455 [==============================] - 0s 419us/sample - loss: 0.4190 - accuracy: 0.8242 - val_loss: 0.4629 - val_accuracy: 0.9386\n",
      "Epoch 6/50\n",
      "455/455 [==============================] - 0s 425us/sample - loss: 0.3197 - accuracy: 0.8615 - val_loss: 0.4261 - val_accuracy: 0.9386\n",
      "Epoch 7/50\n",
      "455/455 [==============================] - 0s 422us/sample - loss: 0.3123 - accuracy: 0.8747 - val_loss: 0.3932 - val_accuracy: 0.9298\n",
      "Epoch 8/50\n",
      "455/455 [==============================] - 0s 476us/sample - loss: 0.2356 - accuracy: 0.9011 - val_loss: 0.3633 - val_accuracy: 0.9298\n",
      "Epoch 9/50\n",
      "455/455 [==============================] - 0s 450us/sample - loss: 0.2619 - accuracy: 0.8835 - val_loss: 0.3352 - val_accuracy: 0.9298\n",
      "Epoch 10/50\n",
      "455/455 [==============================] - 0s 442us/sample - loss: 0.2707 - accuracy: 0.8945 - val_loss: 0.3097 - val_accuracy: 0.9298\n",
      "Epoch 11/50\n",
      "455/455 [==============================] - 0s 423us/sample - loss: 0.2657 - accuracy: 0.8945 - val_loss: 0.2856 - val_accuracy: 0.9298\n",
      "Epoch 12/50\n",
      "455/455 [==============================] - 0s 434us/sample - loss: 0.2113 - accuracy: 0.9033 - val_loss: 0.2625 - val_accuracy: 0.9298\n",
      "Epoch 13/50\n",
      "455/455 [==============================] - 0s 426us/sample - loss: 0.2310 - accuracy: 0.9033 - val_loss: 0.2433 - val_accuracy: 0.9298\n",
      "Epoch 14/50\n",
      "455/455 [==============================] - 0s 406us/sample - loss: 0.2262 - accuracy: 0.9165 - val_loss: 0.2257 - val_accuracy: 0.9298\n",
      "Epoch 15/50\n",
      "455/455 [==============================] - 0s 429us/sample - loss: 0.2089 - accuracy: 0.9121 - val_loss: 0.2087 - val_accuracy: 0.9474\n",
      "Epoch 16/50\n",
      "455/455 [==============================] - 0s 424us/sample - loss: 0.2109 - accuracy: 0.9121 - val_loss: 0.1937 - val_accuracy: 0.9474\n",
      "Epoch 17/50\n",
      "455/455 [==============================] - 0s 427us/sample - loss: 0.1685 - accuracy: 0.9385 - val_loss: 0.1801 - val_accuracy: 0.9561\n",
      "Epoch 18/50\n",
      "455/455 [==============================] - 0s 505us/sample - loss: 0.1780 - accuracy: 0.9363 - val_loss: 0.1693 - val_accuracy: 0.9561\n",
      "Epoch 19/50\n",
      "455/455 [==============================] - 0s 408us/sample - loss: 0.1328 - accuracy: 0.9451 - val_loss: 0.1589 - val_accuracy: 0.9649\n",
      "Epoch 20/50\n",
      "455/455 [==============================] - 0s 425us/sample - loss: 0.1816 - accuracy: 0.9275 - val_loss: 0.1507 - val_accuracy: 0.9649\n",
      "Epoch 21/50\n",
      "455/455 [==============================] - 0s 402us/sample - loss: 0.1622 - accuracy: 0.9407 - val_loss: 0.1441 - val_accuracy: 0.9649\n",
      "Epoch 22/50\n",
      "455/455 [==============================] - 0s 411us/sample - loss: 0.1791 - accuracy: 0.9297 - val_loss: 0.1372 - val_accuracy: 0.9649\n",
      "Epoch 23/50\n",
      "455/455 [==============================] - 0s 427us/sample - loss: 0.1562 - accuracy: 0.9319 - val_loss: 0.1312 - val_accuracy: 0.9649\n",
      "Epoch 24/50\n",
      "455/455 [==============================] - 0s 430us/sample - loss: 0.1337 - accuracy: 0.9451 - val_loss: 0.1255 - val_accuracy: 0.9649\n",
      "Epoch 25/50\n",
      "455/455 [==============================] - 0s 427us/sample - loss: 0.1349 - accuracy: 0.9473 - val_loss: 0.1213 - val_accuracy: 0.9649\n",
      "Epoch 26/50\n",
      "455/455 [==============================] - 0s 404us/sample - loss: 0.1607 - accuracy: 0.9297 - val_loss: 0.1177 - val_accuracy: 0.9649\n",
      "Epoch 27/50\n",
      "455/455 [==============================] - 0s 419us/sample - loss: 0.1263 - accuracy: 0.9495 - val_loss: 0.1148 - val_accuracy: 0.9649\n",
      "Epoch 28/50\n",
      "455/455 [==============================] - 0s 452us/sample - loss: 0.1387 - accuracy: 0.9516 - val_loss: 0.1119 - val_accuracy: 0.9649\n",
      "Epoch 29/50\n",
      "455/455 [==============================] - 0s 429us/sample - loss: 0.1374 - accuracy: 0.9363 - val_loss: 0.1099 - val_accuracy: 0.9649\n",
      "Epoch 30/50\n",
      "455/455 [==============================] - 0s 421us/sample - loss: 0.1208 - accuracy: 0.9495 - val_loss: 0.1081 - val_accuracy: 0.9737\n",
      "Epoch 31/50\n",
      "455/455 [==============================] - 0s 433us/sample - loss: 0.1437 - accuracy: 0.9363 - val_loss: 0.1066 - val_accuracy: 0.9737\n",
      "Epoch 32/50\n",
      "455/455 [==============================] - 0s 417us/sample - loss: 0.1334 - accuracy: 0.9429 - val_loss: 0.1043 - val_accuracy: 0.9737\n",
      "Epoch 33/50\n",
      "455/455 [==============================] - 0s 478us/sample - loss: 0.1164 - accuracy: 0.9495 - val_loss: 0.1033 - val_accuracy: 0.9737\n",
      "Epoch 34/50\n",
      "455/455 [==============================] - 0s 400us/sample - loss: 0.1488 - accuracy: 0.9385 - val_loss: 0.1021 - val_accuracy: 0.9737\n",
      "Epoch 35/50\n",
      "455/455 [==============================] - 0s 403us/sample - loss: 0.1030 - accuracy: 0.9582 - val_loss: 0.1003 - val_accuracy: 0.9825\n",
      "Epoch 36/50\n",
      "455/455 [==============================] - 0s 419us/sample - loss: 0.1360 - accuracy: 0.9516 - val_loss: 0.0994 - val_accuracy: 0.9825\n",
      "Epoch 37/50\n",
      "455/455 [==============================] - 0s 412us/sample - loss: 0.1006 - accuracy: 0.9538 - val_loss: 0.0999 - val_accuracy: 0.9825\n",
      "Epoch 38/50\n",
      "455/455 [==============================] - 0s 423us/sample - loss: 0.1269 - accuracy: 0.9495 - val_loss: 0.1004 - val_accuracy: 0.9825\n",
      "Epoch 39/50\n",
      "455/455 [==============================] - 0s 433us/sample - loss: 0.1116 - accuracy: 0.9560 - val_loss: 0.1003 - val_accuracy: 0.9825\n",
      "Epoch 40/50\n",
      "455/455 [==============================] - 0s 414us/sample - loss: 0.1153 - accuracy: 0.9516 - val_loss: 0.0996 - val_accuracy: 0.9825\n",
      "Epoch 41/50\n",
      "455/455 [==============================] - 0s 430us/sample - loss: 0.1077 - accuracy: 0.9604 - val_loss: 0.0996 - val_accuracy: 0.9825\n",
      "Epoch 42/50\n",
      "455/455 [==============================] - 0s 416us/sample - loss: 0.0739 - accuracy: 0.9626 - val_loss: 0.0996 - val_accuracy: 0.9825\n",
      "Epoch 43/50\n",
      "455/455 [==============================] - 0s 439us/sample - loss: 0.1492 - accuracy: 0.9516 - val_loss: 0.1001 - val_accuracy: 0.9825\n",
      "Epoch 44/50\n",
      "455/455 [==============================] - 0s 418us/sample - loss: 0.0910 - accuracy: 0.9670 - val_loss: 0.0988 - val_accuracy: 0.9825\n",
      "Epoch 45/50\n",
      "455/455 [==============================] - 0s 409us/sample - loss: 0.1020 - accuracy: 0.9604 - val_loss: 0.0985 - val_accuracy: 0.9825\n",
      "Epoch 46/50\n",
      "455/455 [==============================] - 0s 434us/sample - loss: 0.0961 - accuracy: 0.9626 - val_loss: 0.0978 - val_accuracy: 0.9825\n",
      "Epoch 47/50\n",
      "455/455 [==============================] - 0s 414us/sample - loss: 0.1234 - accuracy: 0.9582 - val_loss: 0.0976 - val_accuracy: 0.9825\n",
      "Epoch 48/50\n",
      "455/455 [==============================] - 0s 402us/sample - loss: 0.1267 - accuracy: 0.9495 - val_loss: 0.0971 - val_accuracy: 0.9825\n",
      "Epoch 49/50\n",
      "455/455 [==============================] - 0s 411us/sample - loss: 0.0898 - accuracy: 0.9648 - val_loss: 0.0971 - val_accuracy: 0.9825\n",
      "Epoch 50/50\n",
      "455/455 [==============================] - 0s 402us/sample - loss: 0.1325 - accuracy: 0.9495 - val_loss: 0.0971 - val_accuracy: 0.9737\n"
     ]
    }
   ],
   "source": [
    "# Fit the model\n",
    "history = model.fit(x_train, y_train, epochs=epochs, validation_data=(x_test, y_test), verbose=1)"
   ]
  },
  {
   "cell_type": "code",
   "execution_count": 32,
   "metadata": {
    "colab": {
     "base_uri": "https://localhost:8080/"
    },
    "id": "z-eZsxH2olf5",
    "outputId": "11bc4865-2f45-4d9d-f649-f2b39760936c"
   },
   "outputs": [
    {
     "data": {
      "text/plain": [
       "{'accuracy': [0.5626374,\n",
       "  0.6967033,\n",
       "  0.72307694,\n",
       "  0.82637364,\n",
       "  0.82417583,\n",
       "  0.86153847,\n",
       "  0.8747253,\n",
       "  0.9010989,\n",
       "  0.8835165,\n",
       "  0.8945055,\n",
       "  0.8945055,\n",
       "  0.9032967,\n",
       "  0.9032967,\n",
       "  0.9164835,\n",
       "  0.9120879,\n",
       "  0.9120879,\n",
       "  0.93846154,\n",
       "  0.93626374,\n",
       "  0.94505495,\n",
       "  0.92747253,\n",
       "  0.94065934,\n",
       "  0.92967033,\n",
       "  0.93186814,\n",
       "  0.94505495,\n",
       "  0.94725275,\n",
       "  0.92967033,\n",
       "  0.94945055,\n",
       "  0.95164835,\n",
       "  0.93626374,\n",
       "  0.94945055,\n",
       "  0.93626374,\n",
       "  0.94285715,\n",
       "  0.94945055,\n",
       "  0.93846154,\n",
       "  0.95824176,\n",
       "  0.95164835,\n",
       "  0.95384616,\n",
       "  0.94945055,\n",
       "  0.95604396,\n",
       "  0.95164835,\n",
       "  0.96043956,\n",
       "  0.96263736,\n",
       "  0.95164835,\n",
       "  0.96703297,\n",
       "  0.96043956,\n",
       "  0.96263736,\n",
       "  0.95824176,\n",
       "  0.94945055,\n",
       "  0.96483517,\n",
       "  0.94945055],\n",
       " 'loss': [1.0746016433278283,\n",
       "  0.750186915057046,\n",
       "  0.60459648672041,\n",
       "  0.3921999868455824,\n",
       "  0.41904686309479094,\n",
       "  0.3196970467711543,\n",
       "  0.3122818783089355,\n",
       "  0.23563446650629516,\n",
       "  0.26194468292888706,\n",
       "  0.27070075841722907,\n",
       "  0.26573202125318757,\n",
       "  0.21134017682992495,\n",
       "  0.23099034941130941,\n",
       "  0.2261754884824648,\n",
       "  0.2089230966109496,\n",
       "  0.2108865479846577,\n",
       "  0.16853502729273104,\n",
       "  0.17801512623062501,\n",
       "  0.1327768951326936,\n",
       "  0.1816464336363824,\n",
       "  0.16219128583158765,\n",
       "  0.17912328181030987,\n",
       "  0.1561788794471995,\n",
       "  0.13370619927133834,\n",
       "  0.13485168897352376,\n",
       "  0.16073544929315756,\n",
       "  0.12628889005262772,\n",
       "  0.13869552009708278,\n",
       "  0.13744253302504728,\n",
       "  0.12079295509464139,\n",
       "  0.14370091596802512,\n",
       "  0.13343772206987653,\n",
       "  0.11640132596859565,\n",
       "  0.14882773931066579,\n",
       "  0.10296178263622326,\n",
       "  0.1359760876622174,\n",
       "  0.10056922064868959,\n",
       "  0.1269242973609285,\n",
       "  0.11162916913137332,\n",
       "  0.11525454444217158,\n",
       "  0.10774273811378977,\n",
       "  0.07390275746583938,\n",
       "  0.149150383243194,\n",
       "  0.09098955047327084,\n",
       "  0.10198711754119658,\n",
       "  0.09605459708433885,\n",
       "  0.12342512666524112,\n",
       "  0.1267446070400343,\n",
       "  0.08980342203771675,\n",
       "  0.1325363264634059],\n",
       " 'val_accuracy': [0.88596493,\n",
       "  0.9298246,\n",
       "  0.9385965,\n",
       "  0.94736844,\n",
       "  0.9385965,\n",
       "  0.9385965,\n",
       "  0.9298246,\n",
       "  0.9298246,\n",
       "  0.9298246,\n",
       "  0.9298246,\n",
       "  0.9298246,\n",
       "  0.9298246,\n",
       "  0.9298246,\n",
       "  0.9298246,\n",
       "  0.94736844,\n",
       "  0.94736844,\n",
       "  0.95614034,\n",
       "  0.95614034,\n",
       "  0.9649123,\n",
       "  0.9649123,\n",
       "  0.9649123,\n",
       "  0.9649123,\n",
       "  0.9649123,\n",
       "  0.9649123,\n",
       "  0.9649123,\n",
       "  0.9649123,\n",
       "  0.9649123,\n",
       "  0.9649123,\n",
       "  0.9649123,\n",
       "  0.9736842,\n",
       "  0.9736842,\n",
       "  0.9736842,\n",
       "  0.9736842,\n",
       "  0.9736842,\n",
       "  0.98245615,\n",
       "  0.98245615,\n",
       "  0.98245615,\n",
       "  0.98245615,\n",
       "  0.98245615,\n",
       "  0.98245615,\n",
       "  0.98245615,\n",
       "  0.98245615,\n",
       "  0.98245615,\n",
       "  0.98245615,\n",
       "  0.98245615,\n",
       "  0.98245615,\n",
       "  0.98245615,\n",
       "  0.98245615,\n",
       "  0.98245615,\n",
       "  0.9736842],\n",
       " 'val_loss': [0.6393401476374844,\n",
       "  0.5882340021300734,\n",
       "  0.5418489021167421,\n",
       "  0.5000144013187342,\n",
       "  0.46288702937594634,\n",
       "  0.4261268487102107,\n",
       "  0.39323478466586065,\n",
       "  0.3633310852343576,\n",
       "  0.3351949824575792,\n",
       "  0.3097045437285775,\n",
       "  0.2856150117882511,\n",
       "  0.262502952625877,\n",
       "  0.24328090538058364,\n",
       "  0.22569192083258377,\n",
       "  0.20867027812882474,\n",
       "  0.1937412517635446,\n",
       "  0.18009235618407266,\n",
       "  0.16928048824009143,\n",
       "  0.15889122781523488,\n",
       "  0.15066325285455637,\n",
       "  0.1441297353359691,\n",
       "  0.1371864420280122,\n",
       "  0.13124246176397592,\n",
       "  0.12546287463945255,\n",
       "  0.12133846556146939,\n",
       "  0.11773600886788285,\n",
       "  0.11483248061778252,\n",
       "  0.111896970554402,\n",
       "  0.10988271053422961,\n",
       "  0.10812036601597802,\n",
       "  0.10660910148892486,\n",
       "  0.10427819221819702,\n",
       "  0.10325813299992628,\n",
       "  0.10207268801566802,\n",
       "  0.10033863449567243,\n",
       "  0.09942003483312171,\n",
       "  0.09993204611696695,\n",
       "  0.10039439993469339,\n",
       "  0.10029289224430134,\n",
       "  0.09958858049490996,\n",
       "  0.09955933631250732,\n",
       "  0.09964269450293821,\n",
       "  0.10007717720183887,\n",
       "  0.09882190803948201,\n",
       "  0.09851497968887551,\n",
       "  0.09777061064449842,\n",
       "  0.09757728402486496,\n",
       "  0.0971179027273728,\n",
       "  0.09710047297637191,\n",
       "  0.09710844021225185]}"
      ]
     },
     "execution_count": 32,
     "metadata": {
      "tags": []
     },
     "output_type": "execute_result"
    }
   ],
   "source": [
    "history.history"
   ]
  },
  {
   "cell_type": "code",
   "execution_count": 30,
   "metadata": {
    "id": "Ht1NMmP_oeGq"
   },
   "outputs": [],
   "source": [
    "epoch_range = range(1, epochs+1)"
   ]
  },
  {
   "cell_type": "code",
   "execution_count": 31,
   "metadata": {
    "colab": {
     "base_uri": "https://localhost:8080/",
     "height": 295
    },
    "id": "5kaTynlDoVE6",
    "outputId": "5287018e-a575-40e8-fb16-21d2ae18cd91"
   },
   "outputs": [
    {
     "data": {
      "image/png": "[encoded data removed]",
      "text/plain": [
       "<Figure size 432x288 with 1 Axes>"
      ]
     },
     "metadata": {
      "needs_background": "light",
      "tags": []
     },
     "output_type": "display_data"
    }
   ],
   "source": [
    "# Plot training and validation accuracy values\n",
    "# sparse_categorical_accuracy vs val_sparse_categorical_accuracy\n",
    "plt.plot(epoch_range, history.history[\"accuracy\"])\n",
    "plt.plot(epoch_range, history.history[\"val_accuracy\"])\n",
    "plt.title(\"Model Accuracy\")\n",
    "plt.ylabel(\"Accuracy\")\n",
    "plt.xlabel(\"Epoch\")\n",
    "plt.legend([\"Train\", \"Val\"], loc=\"upper left\")\n",
    "plt.show()"
   ]
  },
  {
   "cell_type": "code",
   "execution_count": 33,
   "metadata": {
    "colab": {
     "base_uri": "https://localhost:8080/",
     "height": 295
    },
    "id": "aBBRExDMoc39",
    "outputId": "13e5fc89-ad48-4c49-9d27-a07c6bb2cf12"
   },
   "outputs": [
    {
     "data": {
      "image/png": "[encoded data removed]",
      "text/plain": [
       "<Figure size 432x288 with 1 Axes>"
      ]
     },
     "metadata": {
      "needs_background": "light",
      "tags": []
     },
     "output_type": "display_data"
    }
   ],
   "source": [
    "# Plot training and validation loss values\n",
    "# Loss vs Val_Loss\n",
    "plt.plot(epoch_range, history.history[\"loss\"])\n",
    "plt.plot(epoch_range, history.history[\"val_loss\"])\n",
    "plt.title(\"Model Loss\")\n",
    "plt.ylabel(\"Loss\")\n",
    "plt.xlabel(\"Epoch\")\n",
    "plt.legend([\"Train\", \"Val\"], loc=\"upper left\")\n",
    "plt.show()"
   ]
  }
 ],
 "metadata": {
  "colab": {
   "authorship_tag": "ABX9TyOGxUC7SxePm8TFe19IQE79",
   "include_colab_link": true,
   "name": "Tensorflow 2.0 - Breast Cancer Detection Using CNN.ipynb",
   "provenance": []
  },
  "kernelspec": {
   "display_name": "Python 3",
   "name": "python3"
  }
 },
 "nbformat": 4,
 "nbformat_minor": 0
}
