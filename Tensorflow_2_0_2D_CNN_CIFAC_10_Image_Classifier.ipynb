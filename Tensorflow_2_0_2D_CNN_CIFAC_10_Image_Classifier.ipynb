{
 "cells": [
  {
   "cell_type": "markdown",
   "metadata": {
    "colab_type": "text",
    "id": "view-in-github"
   },
   "source": [
    "<a href=\"https://colab.research.google.com/github/sahug/tensorflow-colab/blob/Tensorflow_2_0_2D_CNN_CIFAC_10_Image_Classifier/Tensorflow_2_0_2D_CNN_CIFAC_10_Image_Classifier.ipynb\" target=\"_parent\"><img src=\"https://colab.research.google.com/assets/colab-badge.svg\" alt=\"Open In Colab\"/></a>"
   ]
  },
  {
   "cell_type": "markdown",
   "metadata": {
    "id": "Dw2ufo3PgLyu"
   },
   "source": [
    "**What is CNN**"
   ]
  },
  {
   "cell_type": "markdown",
   "metadata": {
    "id": "eQSgqdQ0fyGD"
   },
   "source": [
    "A Convolutional Neural Network (ConvNet/CNN) is a Deep Learning algorithm which can take in an input image, assign importance (learnable weights and biases) to various aspects/objects in the image and be able to differentiate one from the other. The pre-processing required in a ConvNet is much lower as compared to other classification algorithms. While in primitive methods filters are hand-engineered, with enough training, ConvNets have the ability to learn these filters/characteristics"
   ]
  },
  {
   "cell_type": "markdown",
   "metadata": {
    "id": "Ytk_Z56shUrB"
   },
   "source": [
    "**Important Terms of CNN**\n",
    " - Convolutional Layer\n",
    " - Activation Function\n",
    " - Filter Size (Each filter extract different part of the image)\n",
    " - Stride Size\n",
    " - Max pooling\n",
    " - Flattening and Dense Layer"
   ]
  },
  {
   "cell_type": "markdown",
   "metadata": {
    "id": "VXf2FR32nCr-"
   },
   "source": [
    "# **Download Data and Model Building**"
   ]
  },
  {
   "cell_type": "code",
   "execution_count": null,
   "metadata": {
    "colab": {
     "base_uri": "https://localhost:8080/",
     "height": 649
    },
    "id": "D6RGu9PtnK-j",
    "outputId": "73aa29ec-7f23-4a36-c5c9-670751d57e2a"
   },
   "outputs": [],
   "source": [
    "!pip install tensorflow-gpu==2.0.0"
   ]
  },
  {
   "cell_type": "code",
   "execution_count": null,
   "metadata": {
    "colab": {
     "base_uri": "https://localhost:8080/",
     "height": 275
    },
    "id": "aXNocnb-nwgS",
    "outputId": "d94d7c69-3ffe-487a-f74c-8239b2af36e7"
   },
   "outputs": [],
   "source": [
    "!pip install mlxtend==0.17.0"
   ]
  },
  {
   "cell_type": "code",
   "execution_count": null,
   "metadata": {
    "id": "B_e3twe-pNn9"
   },
   "outputs": [],
   "source": [
    "import tensorflow as tf\n",
    "from tensorflow.keras import Sequential\n",
    "from tensorflow.keras.layers import Flatten, Dense, Conv2D, MaxPool2D, Dropout"
   ]
  },
  {
   "cell_type": "code",
   "execution_count": null,
   "metadata": {
    "colab": {
     "base_uri": "https://localhost:8080/",
     "height": 34
    },
    "id": "pmVFStmrpTiL",
    "outputId": "c02d2f10-e011-4834-8e36-1d358ba3ed44"
   },
   "outputs": [],
   "source": [
    "print(tf.__version__)"
   ]
  },
  {
   "cell_type": "code",
   "execution_count": null,
   "metadata": {
    "id": "PmbanWiYpAVu"
   },
   "outputs": [],
   "source": [
    "import numpy as np\n",
    "import matplotlib.pyplot as plt\n",
    "import matplotlib\n",
    "%matplotlib inline"
   ]
  },
  {
   "cell_type": "code",
   "execution_count": null,
   "metadata": {
    "id": "mU8uLGH3pnoT"
   },
   "outputs": [],
   "source": [
    "from tensorflow.keras.datasets import cifar10"
   ]
  },
  {
   "cell_type": "code",
   "execution_count": null,
   "metadata": {
    "id": "uZX7z80xpvI-"
   },
   "outputs": [],
   "source": [
    "(x_train, y_train), (x_test, y_test) = cifar10.load_data()"
   ]
  },
  {
   "cell_type": "code",
   "execution_count": null,
   "metadata": {
    "id": "Y04n1nNtqBGp"
   },
   "outputs": [],
   "source": [
    "classes_name = [\"Airplane\", \"Automobile\", \"Bird\", \"Cat\", \"Deer\", \"Dog\", \"Frog\", \"Horse\", \"Ship\", \"Truck\"]"
   ]
  },
  {
   "cell_type": "code",
   "execution_count": null,
   "metadata": {
    "colab": {
     "base_uri": "https://localhost:8080/",
     "height": 34
    },
    "id": "jPaWOOEnqTTv",
    "outputId": "5f593873-54f3-4741-b6c5-730933d26ddd"
   },
   "outputs": [],
   "source": [
    "x_train.max()"
   ]
  },
  {
   "cell_type": "markdown",
   "metadata": {
    "id": "Ez1GzapfqrEg"
   },
   "source": [
    "Since Neural Network understand the data between 0 to 1. Brininging our data in the range 0 to 1. To do this we will simply divide the given data with the maximum value."
   ]
  },
  {
   "cell_type": "code",
   "execution_count": null,
   "metadata": {
    "id": "9b_3Vk7Vq7Gn"
   },
   "outputs": [],
   "source": [
    "x_train = x_train/x_train.max()\n",
    "x_test = x_test/x_train.max()"
   ]
  },
  {
   "cell_type": "code",
   "execution_count": null,
   "metadata": {
    "colab": {
     "base_uri": "https://localhost:8080/",
     "height": 34
    },
    "id": "UBk5gfVErFKV",
    "outputId": "85477f52-c3c2-4d9d-b03e-e14ce6c0ff1a"
   },
   "outputs": [],
   "source": [
    "x_train.shape, x_test.shape\n",
    "\n",
    "# x_train gives (50000, 32, 32, 3) - 50000 data, 32 x 32 bits, height and width, 3 is rgb, color.\n",
    "# x_test gives (10000, 32, 32, 3) - 10000 data, 32 x 32 bits, height and width, 3 is rgb, color."
   ]
  },
  {
   "cell_type": "code",
   "execution_count": null,
   "metadata": {
    "colab": {
     "base_uri": "https://localhost:8080/",
     "height": 283
    },
    "id": "HfjUpljCrqAT",
    "outputId": "d4afb6a7-729f-4d96-d992-5af70c6d998c"
   },
   "outputs": [],
   "source": [
    "plt.imshow(x_test[0].astype(\"uint8\")) "
   ]
  },
  {
   "cell_type": "code",
   "execution_count": null,
   "metadata": {
    "colab": {
     "base_uri": "https://localhost:8080/",
     "height": 136
    },
    "id": "TOsltkyzslME",
    "outputId": "2d9853b1-6881-4f19-d7b4-86ac58057e37"
   },
   "outputs": [],
   "source": [
    "y_test"
   ]
  },
  {
   "cell_type": "markdown",
   "metadata": {
    "id": "3Gvdl5Rrsyif"
   },
   "source": [
    "**# Build CNN Model**"
   ]
  },
  {
   "cell_type": "code",
   "execution_count": null,
   "metadata": {
    "id": "yoGT5NZ1svFO"
   },
   "outputs": [],
   "source": [
    "model = Sequential()\n",
    "# Only first layer needs input size\n",
    "model.add(Conv2D(filters=32, kernel_size=(3, 3), padding=\"same\", activation=\"relu\", input_shape=[32, 32, 3])) # Same keeps the original data padding\n",
    "\n",
    "model.add(Conv2D(filters=32, kernel_size=(3, 3), padding=\"same\", activation=\"relu\"))\n",
    "\n",
    "model.add(MaxPool2D(pool_size=(2, 2), strides=2, padding=\"valid\")) # Valid tries to reduce the dimension\n",
    "\n",
    "# Dropout helps to avid the overfitting of the mode. Here we are dropping 50% of the input at this layer.\n",
    "model.add(Dropout(0.5))\n",
    "\n",
    "model.add(Flatten())\n",
    "\n",
    "model.add(Dense(units=128, activation=\"relu\"))\n",
    "\n",
    "#Output layer. Unit is the size of the different output. Here we have 10 different outcomes.\n",
    "model.add(Dense(units=10, activation=\"softmax\"))"
   ]
  },
  {
   "cell_type": "code",
   "execution_count": null,
   "metadata": {
    "colab": {
     "base_uri": "https://localhost:8080/",
     "height": 391
    },
    "id": "sUxNXRkCsvIg",
    "outputId": "763b6cd2-95f8-4c31-d249-414c52d8adbc"
   },
   "outputs": [],
   "source": [
    "model.summary()"
   ]
  },
  {
   "cell_type": "markdown",
   "metadata": {
    "id": "9TT0ZYmqvvQr"
   },
   "source": [
    "### **Compile the Model**"
   ]
  },
  {
   "cell_type": "code",
   "execution_count": null,
   "metadata": {
    "id": "D6W-TA3YsvL6"
   },
   "outputs": [],
   "source": [
    "model.compile(optimizer=\"adam\", loss=\"sparse_categorical_crossentropy\", metrics=[\"sparse_categorical_accuracy\"])"
   ]
  },
  {
   "cell_type": "markdown",
   "metadata": {
    "id": "Yr0-Uy1rwN7e"
   },
   "source": [
    "### **Fitting the Model**"
   ]
  },
  {
   "cell_type": "code",
   "execution_count": null,
   "metadata": {
    "colab": {
     "base_uri": "https://localhost:8080/",
     "height": 164
    },
    "id": "-05sdZiFsvQ5",
    "outputId": "14ab847a-b730-43ef-b063-608e1585f6e2"
   },
   "outputs": [],
   "source": [
    "history = model.fit(x_train, y_train, batch_size=10, epochs=10, verbose=1, validation_data=(x_test, y_test))"
   ]
  },
  {
   "cell_type": "markdown",
   "metadata": {
    "id": "CwZYdu_-quZt"
   },
   "source": [
    "In the above training we can see the validation accuracy is lesser than the accuracy. This means our model is **overfitting**. Also, if the validation accuracy is higher than the accuracy its called **underfitting**.\n",
    "\n",
    "So lets look at the point where it started overfillting by plotting the graph."
   ]
  },
  {
   "cell_type": "code",
   "execution_count": null,
   "metadata": {
    "id": "DthY66jWsvYv"
   },
   "outputs": [],
   "source": [
    "# Plot training and validation accuracy values\n",
    "# sparse_categorical_accuracy vs val_sparse_categorical_accuracy\n",
    "epoch_range = range(1, 11) # No of Epochs used to train. 11 - 1 = 10\n",
    "plt.plot(epoch_range, history.history[\"sparse_categorical_accuracy\"])\n",
    "plt.plot(epoch_range, history.history[\"val_sparse_categorical_accuracy\"])\n",
    "plt.title(\"Model Accuracy\")\n",
    "plt.ylabel(\"Accuracy\")\n",
    "plt.xlabel(\"Epoch\")\n",
    "plt.legend([\"Train\", \"Val\"], loc=\"upper left\")\n",
    "plt.show()"
   ]
  },
  {
   "cell_type": "code",
   "execution_count": null,
   "metadata": {
    "id": "rFNOcThnsveB"
   },
   "outputs": [],
   "source": [
    "# Plot training and validation loss values\n",
    "# Loss vs Val_Loss\n",
    "plt.plot(epoch_range, history.history[\"loss\"])\n",
    "plt.plot(epoch_range, history.history[\"val_loss\"])\n",
    "plt.title(\"Model Loss\")\n",
    "plt.ylabel(\"Loss\")\n",
    "plt.xlabel(\"Epoch\")\n",
    "plt.legend([\"Train\", \"Val\"], loc=\"upper left\")\n",
    "plt.show()"
   ]
  },
  {
   "cell_type": "markdown",
   "metadata": {
    "id": "rxYuRy1M4WTF"
   },
   "source": [
    "# **Plot Confusion Matrix**\n",
    "\n"
   ]
  },
  {
   "cell_type": "code",
   "execution_count": null,
   "metadata": {
    "id": "ekEaZ_3hsvjl"
   },
   "outputs": [],
   "source": [
    "from mlxtend.plotting import plot_confusion_matrix\n",
    "from sklearn.metrics import confusion_matrix"
   ]
  },
  {
   "cell_type": "code",
   "execution_count": null,
   "metadata": {
    "id": "62qtVn0isvpM"
   },
   "outputs": [],
   "source": [
    "y_pred = model.predict_classes(x_test)"
   ]
  },
  {
   "cell_type": "code",
   "execution_count": null,
   "metadata": {
    "id": "WXsChUoXsvtX"
   },
   "outputs": [],
   "source": [
    "y_pred"
   ]
  },
  {
   "cell_type": "code",
   "execution_count": null,
   "metadata": {
    "id": "XH6RFx9asvnG"
   },
   "outputs": [],
   "source": [
    "y_test"
   ]
  },
  {
   "cell_type": "code",
   "execution_count": null,
   "metadata": {
    "id": "6bHxHGBisvhb"
   },
   "outputs": [],
   "source": [
    "mat = confusion_matrix(y_test, y_pred)"
   ]
  },
  {
   "cell_type": "code",
   "execution_count": null,
   "metadata": {
    "id": "AjegB0IusvcZ"
   },
   "outputs": [],
   "source": [
    "mat"
   ]
  },
  {
   "cell_type": "code",
   "execution_count": null,
   "metadata": {
    "id": "t-D1vNvEsvW4"
   },
   "outputs": [],
   "source": [
    "plot_confusion_matrix(mat, figsize=(9, 9), class_names=classes_name, show_normed=True)"
   ]
  },
  {
   "cell_type": "code",
   "execution_count": null,
   "metadata": {
    "id": "0PmeaXDasvV0"
   },
   "outputs": [],
   "source": []
  },
  {
   "cell_type": "code",
   "execution_count": null,
   "metadata": {
    "id": "61OuIL6_svP3"
   },
   "outputs": [],
   "source": []
  }
 ],
 "metadata": {
  "accelerator": "TPU",
  "colab": {
   "authorship_tag": "ABX9TyNzR4EMqi8t4IIhEydeZikU",
   "collapsed_sections": [],
   "include_colab_link": true,
   "name": "Tensorflow 2.0 - 2D CNN - CIFAC-10 Image Classifier.ipynb",
   "provenance": []
  },
  "kernelspec": {
   "display_name": "Python 3",
   "name": "python3"
  }
 },
 "nbformat": 4,
 "nbformat_minor": 0
}
