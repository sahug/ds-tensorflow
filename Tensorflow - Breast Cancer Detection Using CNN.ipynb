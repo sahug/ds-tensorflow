{
  "cells": [
    {
      "cell_type": "markdown",
      "metadata": {
        "colab_type": "text",
        "id": "view-in-github"
      },
      "source": [
        "<a href=\"https://colab.research.google.com/github/sahug/ds-tensorflow-colab/blob/master/Tensorflow%20-%20Breast%20Cancer%20Detection%20Using%20CNN.ipynb\" target=\"_parent\"><img src=\"https://colab.research.google.com/assets/colab-badge.svg\" alt=\"Open In Colab\"/></a>"
      ]
    },
    {
      "cell_type": "markdown",
      "metadata": {
        "id": "QZw_KK2sCEDV"
      },
      "source": [
        "**Tensorflow - Breast Cancer Detection Using CNN**"
      ]
    },
    {
      "cell_type": "markdown",
      "metadata": {},
      "source": [
        "**Import Libraries**"
      ]
    },
    {
      "cell_type": "code",
      "execution_count": 36,
      "metadata": {
        "id": "lKV4-Sc4aLUK"
      },
      "outputs": [],
      "source": [
        "import tensorflow as tf\n",
        "from tensorflow import keras\n",
        "from keras import Sequential\n",
        "from keras.layers import Flatten, Dense, Dropout, BatchNormalization\n",
        "from keras.layers import Conv1D, MaxPool1D"
      ]
    },
    {
      "cell_type": "code",
      "execution_count": 3,
      "metadata": {
        "id": "xdYB6iLKawy6"
      },
      "outputs": [
        {
          "name": "stdout",
          "output_type": "stream",
          "text": [
            "2.8.0\n"
          ]
        }
      ],
      "source": [
        "print(tf.__version__)"
      ]
    },
    {
      "cell_type": "code",
      "execution_count": 4,
      "metadata": {
        "id": "Vsch15Yxa0Yj"
      },
      "outputs": [],
      "source": [
        "import pandas as pd\n",
        "import numpy as np\n",
        "import seaborn as sns\n",
        "import matplotlib.pyplot as plt"
      ]
    },
    {
      "cell_type": "code",
      "execution_count": 5,
      "metadata": {
        "id": "cL6jAd1Sa-r6"
      },
      "outputs": [],
      "source": [
        "from sklearn import datasets, metrics\n",
        "from sklearn.model_selection import train_test_split\n",
        "from sklearn.preprocessing import StandardScaler"
      ]
    },
    {
      "cell_type": "markdown",
      "metadata": {},
      "source": [
        "**Load Dataset**"
      ]
    },
    {
      "cell_type": "code",
      "execution_count": 41,
      "metadata": {
        "id": "1EsDcFBubp9s"
      },
      "outputs": [],
      "source": [
        "cancer = datasets.load_breast_cancer()"
      ]
    },
    {
      "cell_type": "markdown",
      "metadata": {},
      "source": [
        "**Data Descr**"
      ]
    },
    {
      "cell_type": "code",
      "execution_count": 7,
      "metadata": {
        "id": "2Tghnk-7bw15"
      },
      "outputs": [
        {
          "name": "stdout",
          "output_type": "stream",
          "text": [
            ".. _breast_cancer_dataset:\n",
            "\n",
            "Breast cancer wisconsin (diagnostic) dataset\n",
            "--------------------------------------------\n",
            "\n",
            "**Data Set Characteristics:**\n",
            "\n",
            "    :Number of Instances: 569\n",
            "\n",
            "    :Number of Attributes: 30 numeric, predictive attributes and the class\n",
            "\n",
            "    :Attribute Information:\n",
            "        - radius (mean of distances from center to points on the perimeter)\n",
            "        - texture (standard deviation of gray-scale values)\n",
            "        - perimeter\n",
            "        - area\n",
            "        - smoothness (local variation in radius lengths)\n",
            "        - compactness (perimeter^2 / area - 1.0)\n",
            "        - concavity (severity of concave portions of the contour)\n",
            "        - concave points (number of concave portions of the contour)\n",
            "        - symmetry\n",
            "        - fractal dimension (\"coastline approximation\" - 1)\n",
            "\n",
            "        The mean, standard error, and \"worst\" or largest (mean of the three\n",
            "        worst/largest values) of these features were computed for each image,\n",
            "        resulting in 30 features.  For instance, field 0 is Mean Radius, field\n",
            "        10 is Radius SE, field 20 is Worst Radius.\n",
            "\n",
            "        - class:\n",
            "                - WDBC-Malignant\n",
            "                - WDBC-Benign\n",
            "\n",
            "    :Summary Statistics:\n",
            "\n",
            "    ===================================== ====== ======\n",
            "                                           Min    Max\n",
            "    ===================================== ====== ======\n",
            "    radius (mean):                        6.981  28.11\n",
            "    texture (mean):                       9.71   39.28\n",
            "    perimeter (mean):                     43.79  188.5\n",
            "    area (mean):                          143.5  2501.0\n",
            "    smoothness (mean):                    0.053  0.163\n",
            "    compactness (mean):                   0.019  0.345\n",
            "    concavity (mean):                     0.0    0.427\n",
            "    concave points (mean):                0.0    0.201\n",
            "    symmetry (mean):                      0.106  0.304\n",
            "    fractal dimension (mean):             0.05   0.097\n",
            "    radius (standard error):              0.112  2.873\n",
            "    texture (standard error):             0.36   4.885\n",
            "    perimeter (standard error):           0.757  21.98\n",
            "    area (standard error):                6.802  542.2\n",
            "    smoothness (standard error):          0.002  0.031\n",
            "    compactness (standard error):         0.002  0.135\n",
            "    concavity (standard error):           0.0    0.396\n",
            "    concave points (standard error):      0.0    0.053\n",
            "    symmetry (standard error):            0.008  0.079\n",
            "    fractal dimension (standard error):   0.001  0.03\n",
            "    radius (worst):                       7.93   36.04\n",
            "    texture (worst):                      12.02  49.54\n",
            "    perimeter (worst):                    50.41  251.2\n",
            "    area (worst):                         185.2  4254.0\n",
            "    smoothness (worst):                   0.071  0.223\n",
            "    compactness (worst):                  0.027  1.058\n",
            "    concavity (worst):                    0.0    1.252\n",
            "    concave points (worst):               0.0    0.291\n",
            "    symmetry (worst):                     0.156  0.664\n",
            "    fractal dimension (worst):            0.055  0.208\n",
            "    ===================================== ====== ======\n",
            "\n",
            "    :Missing Attribute Values: None\n",
            "\n",
            "    :Class Distribution: 212 - Malignant, 357 - Benign\n",
            "\n",
            "    :Creator:  Dr. William H. Wolberg, W. Nick Street, Olvi L. Mangasarian\n",
            "\n",
            "    :Donor: Nick Street\n",
            "\n",
            "    :Date: November, 1995\n",
            "\n",
            "This is a copy of UCI ML Breast Cancer Wisconsin (Diagnostic) datasets.\n",
            "https://goo.gl/U2Uwz2\n",
            "\n",
            "Features are computed from a digitized image of a fine needle\n",
            "aspirate (FNA) of a breast mass.  They describe\n",
            "characteristics of the cell nuclei present in the image.\n",
            "\n",
            "Separating plane described above was obtained using\n",
            "Multisurface Method-Tree (MSM-T) [K. P. Bennett, \"Decision Tree\n",
            "Construction Via Linear Programming.\" Proceedings of the 4th\n",
            "Midwest Artificial Intelligence and Cognitive Science Society,\n",
            "pp. 97-101, 1992], a classification method which uses linear\n",
            "programming to construct a decision tree.  Relevant features\n",
            "were selected using an exhaustive search in the space of 1-4\n",
            "features and 1-3 separating planes.\n",
            "\n",
            "The actual linear program used to obtain the separating plane\n",
            "in the 3-dimensional space is that described in:\n",
            "[K. P. Bennett and O. L. Mangasarian: \"Robust Linear\n",
            "Programming Discrimination of Two Linearly Inseparable Sets\",\n",
            "Optimization Methods and Software 1, 1992, 23-34].\n",
            "\n",
            "This database is also available through the UW CS ftp server:\n",
            "\n",
            "ftp ftp.cs.wisc.edu\n",
            "cd math-prog/cpo-dataset/machine-learn/WDBC/\n",
            "\n",
            ".. topic:: References\n",
            "\n",
            "   - W.N. Street, W.H. Wolberg and O.L. Mangasarian. Nuclear feature extraction \n",
            "     for breast tumor diagnosis. IS&T/SPIE 1993 International Symposium on \n",
            "     Electronic Imaging: Science and Technology, volume 1905, pages 861-870,\n",
            "     San Jose, CA, 1993.\n",
            "   - O.L. Mangasarian, W.N. Street and W.H. Wolberg. Breast cancer diagnosis and \n",
            "     prognosis via linear programming. Operations Research, 43(4), pages 570-577, \n",
            "     July-August 1995.\n",
            "   - W.H. Wolberg, W.N. Street, and O.L. Mangasarian. Machine learning techniques\n",
            "     to diagnose breast cancer from fine-needle aspirates. Cancer Letters 77 (1994) \n",
            "     163-171.\n"
          ]
        }
      ],
      "source": [
        "print(cancer.DESCR)"
      ]
    },
    {
      "cell_type": "markdown",
      "metadata": {},
      "source": [
        "**Dataframe**"
      ]
    },
    {
      "cell_type": "code",
      "execution_count": 42,
      "metadata": {
        "id": "vZ2TN92bcLhA"
      },
      "outputs": [
        {
          "data": {
            "text/html": [
              "<div>\n",
              "<style scoped>\n",
              "    .dataframe tbody tr th:only-of-type {\n",
              "        vertical-align: middle;\n",
              "    }\n",
              "\n",
              "    .dataframe tbody tr th {\n",
              "        vertical-align: top;\n",
              "    }\n",
              "\n",
              "    .dataframe thead th {\n",
              "        text-align: right;\n",
              "    }\n",
              "</style>\n",
              "<table border=\"1\" class=\"dataframe\">\n",
              "  <thead>\n",
              "    <tr style=\"text-align: right;\">\n",
              "      <th></th>\n",
              "      <th>mean radius</th>\n",
              "      <th>mean texture</th>\n",
              "      <th>mean perimeter</th>\n",
              "      <th>mean area</th>\n",
              "      <th>mean smoothness</th>\n",
              "      <th>mean compactness</th>\n",
              "      <th>mean concavity</th>\n",
              "      <th>mean concave points</th>\n",
              "      <th>mean symmetry</th>\n",
              "      <th>mean fractal dimension</th>\n",
              "      <th>...</th>\n",
              "      <th>worst radius</th>\n",
              "      <th>worst texture</th>\n",
              "      <th>worst perimeter</th>\n",
              "      <th>worst area</th>\n",
              "      <th>worst smoothness</th>\n",
              "      <th>worst compactness</th>\n",
              "      <th>worst concavity</th>\n",
              "      <th>worst concave points</th>\n",
              "      <th>worst symmetry</th>\n",
              "      <th>worst fractal dimension</th>\n",
              "    </tr>\n",
              "  </thead>\n",
              "  <tbody>\n",
              "    <tr>\n",
              "      <th>0</th>\n",
              "      <td>17.99</td>\n",
              "      <td>10.38</td>\n",
              "      <td>122.80</td>\n",
              "      <td>1001.0</td>\n",
              "      <td>0.11840</td>\n",
              "      <td>0.27760</td>\n",
              "      <td>0.3001</td>\n",
              "      <td>0.14710</td>\n",
              "      <td>0.2419</td>\n",
              "      <td>0.07871</td>\n",
              "      <td>...</td>\n",
              "      <td>25.38</td>\n",
              "      <td>17.33</td>\n",
              "      <td>184.60</td>\n",
              "      <td>2019.0</td>\n",
              "      <td>0.1622</td>\n",
              "      <td>0.6656</td>\n",
              "      <td>0.7119</td>\n",
              "      <td>0.2654</td>\n",
              "      <td>0.4601</td>\n",
              "      <td>0.11890</td>\n",
              "    </tr>\n",
              "    <tr>\n",
              "      <th>1</th>\n",
              "      <td>20.57</td>\n",
              "      <td>17.77</td>\n",
              "      <td>132.90</td>\n",
              "      <td>1326.0</td>\n",
              "      <td>0.08474</td>\n",
              "      <td>0.07864</td>\n",
              "      <td>0.0869</td>\n",
              "      <td>0.07017</td>\n",
              "      <td>0.1812</td>\n",
              "      <td>0.05667</td>\n",
              "      <td>...</td>\n",
              "      <td>24.99</td>\n",
              "      <td>23.41</td>\n",
              "      <td>158.80</td>\n",
              "      <td>1956.0</td>\n",
              "      <td>0.1238</td>\n",
              "      <td>0.1866</td>\n",
              "      <td>0.2416</td>\n",
              "      <td>0.1860</td>\n",
              "      <td>0.2750</td>\n",
              "      <td>0.08902</td>\n",
              "    </tr>\n",
              "    <tr>\n",
              "      <th>2</th>\n",
              "      <td>19.69</td>\n",
              "      <td>21.25</td>\n",
              "      <td>130.00</td>\n",
              "      <td>1203.0</td>\n",
              "      <td>0.10960</td>\n",
              "      <td>0.15990</td>\n",
              "      <td>0.1974</td>\n",
              "      <td>0.12790</td>\n",
              "      <td>0.2069</td>\n",
              "      <td>0.05999</td>\n",
              "      <td>...</td>\n",
              "      <td>23.57</td>\n",
              "      <td>25.53</td>\n",
              "      <td>152.50</td>\n",
              "      <td>1709.0</td>\n",
              "      <td>0.1444</td>\n",
              "      <td>0.4245</td>\n",
              "      <td>0.4504</td>\n",
              "      <td>0.2430</td>\n",
              "      <td>0.3613</td>\n",
              "      <td>0.08758</td>\n",
              "    </tr>\n",
              "    <tr>\n",
              "      <th>3</th>\n",
              "      <td>11.42</td>\n",
              "      <td>20.38</td>\n",
              "      <td>77.58</td>\n",
              "      <td>386.1</td>\n",
              "      <td>0.14250</td>\n",
              "      <td>0.28390</td>\n",
              "      <td>0.2414</td>\n",
              "      <td>0.10520</td>\n",
              "      <td>0.2597</td>\n",
              "      <td>0.09744</td>\n",
              "      <td>...</td>\n",
              "      <td>14.91</td>\n",
              "      <td>26.50</td>\n",
              "      <td>98.87</td>\n",
              "      <td>567.7</td>\n",
              "      <td>0.2098</td>\n",
              "      <td>0.8663</td>\n",
              "      <td>0.6869</td>\n",
              "      <td>0.2575</td>\n",
              "      <td>0.6638</td>\n",
              "      <td>0.17300</td>\n",
              "    </tr>\n",
              "    <tr>\n",
              "      <th>4</th>\n",
              "      <td>20.29</td>\n",
              "      <td>14.34</td>\n",
              "      <td>135.10</td>\n",
              "      <td>1297.0</td>\n",
              "      <td>0.10030</td>\n",
              "      <td>0.13280</td>\n",
              "      <td>0.1980</td>\n",
              "      <td>0.10430</td>\n",
              "      <td>0.1809</td>\n",
              "      <td>0.05883</td>\n",
              "      <td>...</td>\n",
              "      <td>22.54</td>\n",
              "      <td>16.67</td>\n",
              "      <td>152.20</td>\n",
              "      <td>1575.0</td>\n",
              "      <td>0.1374</td>\n",
              "      <td>0.2050</td>\n",
              "      <td>0.4000</td>\n",
              "      <td>0.1625</td>\n",
              "      <td>0.2364</td>\n",
              "      <td>0.07678</td>\n",
              "    </tr>\n",
              "  </tbody>\n",
              "</table>\n",
              "<p>5 rows × 30 columns</p>\n",
              "</div>"
            ],
            "text/plain": [
              "   mean radius  mean texture  mean perimeter  mean area  mean smoothness  \\\n",
              "0        17.99         10.38          122.80     1001.0          0.11840   \n",
              "1        20.57         17.77          132.90     1326.0          0.08474   \n",
              "2        19.69         21.25          130.00     1203.0          0.10960   \n",
              "3        11.42         20.38           77.58      386.1          0.14250   \n",
              "4        20.29         14.34          135.10     1297.0          0.10030   \n",
              "\n",
              "   mean compactness  mean concavity  mean concave points  mean symmetry  \\\n",
              "0           0.27760          0.3001              0.14710         0.2419   \n",
              "1           0.07864          0.0869              0.07017         0.1812   \n",
              "2           0.15990          0.1974              0.12790         0.2069   \n",
              "3           0.28390          0.2414              0.10520         0.2597   \n",
              "4           0.13280          0.1980              0.10430         0.1809   \n",
              "\n",
              "   mean fractal dimension  ...  worst radius  worst texture  worst perimeter  \\\n",
              "0                 0.07871  ...         25.38          17.33           184.60   \n",
              "1                 0.05667  ...         24.99          23.41           158.80   \n",
              "2                 0.05999  ...         23.57          25.53           152.50   \n",
              "3                 0.09744  ...         14.91          26.50            98.87   \n",
              "4                 0.05883  ...         22.54          16.67           152.20   \n",
              "\n",
              "   worst area  worst smoothness  worst compactness  worst concavity  \\\n",
              "0      2019.0            0.1622             0.6656           0.7119   \n",
              "1      1956.0            0.1238             0.1866           0.2416   \n",
              "2      1709.0            0.1444             0.4245           0.4504   \n",
              "3       567.7            0.2098             0.8663           0.6869   \n",
              "4      1575.0            0.1374             0.2050           0.4000   \n",
              "\n",
              "   worst concave points  worst symmetry  worst fractal dimension  \n",
              "0                0.2654          0.4601                  0.11890  \n",
              "1                0.1860          0.2750                  0.08902  \n",
              "2                0.2430          0.3613                  0.08758  \n",
              "3                0.2575          0.6638                  0.17300  \n",
              "4                0.1625          0.2364                  0.07678  \n",
              "\n",
              "[5 rows x 30 columns]"
            ]
          },
          "execution_count": 42,
          "metadata": {},
          "output_type": "execute_result"
        }
      ],
      "source": [
        "x = pd.DataFrame(data=cancer.data, columns=cancer.feature_names)\n",
        "x.head()"
      ]
    },
    {
      "cell_type": "code",
      "execution_count": 43,
      "metadata": {
        "id": "gVqubYivckJ0"
      },
      "outputs": [
        {
          "data": {
            "text/plain": [
              "array([0, 0, 0, 0, 0, 0, 0, 0, 0, 0, 0, 0, 0, 0, 0, 0, 0, 0, 0, 1, 1, 1,\n",
              "       0, 0, 0, 0, 0, 0, 0, 0, 0, 0, 0, 0, 0, 0, 0, 1, 0, 0, 0, 0, 0, 0,\n",
              "       0, 0, 1, 0, 1, 1, 1, 1, 1, 0, 0, 1, 0, 0, 1, 1, 1, 1, 0, 1, 0, 0,\n",
              "       1, 1, 1, 1, 0, 1, 0, 0, 1, 0, 1, 0, 0, 1, 1, 1, 0, 0, 1, 0, 0, 0,\n",
              "       1, 1, 1, 0, 1, 1, 0, 0, 1, 1, 1, 0, 0, 1, 1, 1, 1, 0, 1, 1, 0, 1,\n",
              "       1, 1, 1, 1, 1, 1, 1, 0, 0, 0, 1, 0, 0, 1, 1, 1, 0, 0, 1, 0, 1, 0,\n",
              "       0, 1, 0, 0, 1, 1, 0, 1, 1, 0, 1, 1, 1, 1, 0, 1, 1, 1, 1, 1, 1, 1,\n",
              "       1, 1, 0, 1, 1, 1, 1, 0, 0, 1, 0, 1, 1, 0, 0, 1, 1, 0, 0, 1, 1, 1,\n",
              "       1, 0, 1, 1, 0, 0, 0, 1, 0, 1, 0, 1, 1, 1, 0, 1, 1, 0, 0, 1, 0, 0,\n",
              "       0, 0, 1, 0, 0, 0, 1, 0, 1, 0, 1, 1, 0, 1, 0, 0, 0, 0, 1, 1, 0, 0,\n",
              "       1, 1, 1, 0, 1, 1, 1, 1, 1, 0, 0, 1, 1, 0, 1, 1, 0, 0, 1, 0, 1, 1,\n",
              "       1, 1, 0, 1, 1, 1, 1, 1, 0, 1, 0, 0, 0, 0, 0, 0, 0, 0, 0, 0, 0, 0,\n",
              "       0, 0, 1, 1, 1, 1, 1, 1, 0, 1, 0, 1, 1, 0, 1, 1, 0, 1, 0, 0, 1, 1,\n",
              "       1, 1, 1, 1, 1, 1, 1, 1, 1, 1, 1, 0, 1, 1, 0, 1, 0, 1, 1, 1, 1, 1,\n",
              "       1, 1, 1, 1, 1, 1, 1, 1, 1, 0, 1, 1, 1, 0, 1, 0, 1, 1, 1, 1, 0, 0,\n",
              "       0, 1, 1, 1, 1, 0, 1, 0, 1, 0, 1, 1, 1, 0, 1, 1, 1, 1, 1, 1, 1, 0,\n",
              "       0, 0, 1, 1, 1, 1, 1, 1, 1, 1, 1, 1, 1, 0, 0, 1, 0, 0, 0, 1, 0, 0,\n",
              "       1, 1, 1, 1, 1, 0, 1, 1, 1, 1, 1, 0, 1, 1, 1, 0, 1, 1, 0, 0, 1, 1,\n",
              "       1, 1, 1, 1, 0, 1, 1, 1, 1, 1, 1, 1, 0, 1, 1, 1, 1, 1, 0, 1, 1, 0,\n",
              "       1, 1, 1, 1, 1, 1, 1, 1, 1, 1, 1, 1, 0, 1, 0, 0, 1, 0, 1, 1, 1, 1,\n",
              "       1, 0, 1, 1, 0, 1, 0, 1, 1, 0, 1, 0, 1, 1, 1, 1, 1, 1, 1, 1, 0, 0,\n",
              "       1, 1, 1, 1, 1, 1, 0, 1, 1, 1, 1, 1, 1, 1, 1, 1, 1, 0, 1, 1, 1, 1,\n",
              "       1, 1, 1, 0, 1, 0, 1, 1, 0, 1, 1, 1, 1, 1, 0, 0, 1, 0, 1, 0, 1, 1,\n",
              "       1, 1, 1, 0, 1, 1, 0, 1, 0, 1, 0, 0, 1, 1, 1, 0, 1, 1, 1, 1, 1, 1,\n",
              "       1, 1, 1, 1, 1, 0, 1, 0, 0, 1, 1, 1, 1, 1, 1, 1, 1, 1, 1, 1, 1, 1,\n",
              "       1, 1, 1, 1, 1, 1, 1, 1, 1, 1, 1, 1, 0, 0, 0, 0, 0, 0, 1])"
            ]
          },
          "execution_count": 43,
          "metadata": {},
          "output_type": "execute_result"
        }
      ],
      "source": [
        "y = cancer.target\n",
        "y"
      ]
    },
    {
      "cell_type": "code",
      "execution_count": 10,
      "metadata": {
        "id": "y8SuQVL4crVH"
      },
      "outputs": [
        {
          "data": {
            "text/plain": [
              "array(['malignant', 'benign'], dtype='<U9')"
            ]
          },
          "execution_count": 10,
          "metadata": {},
          "output_type": "execute_result"
        }
      ],
      "source": [
        "cancer.target_names #0 is malignant and 1 is benign"
      ]
    },
    {
      "cell_type": "markdown",
      "metadata": {},
      "source": [
        "**Split Dataset**"
      ]
    },
    {
      "cell_type": "markdown",
      "metadata": {},
      "source": [
        "We will split the datset in the pipeline. Check the pipeline, classifier for pipeline, below."
      ]
    },
    {
      "cell_type": "code",
      "execution_count": 78,
      "metadata": {
        "id": "0-JP7IkrdBnZ"
      },
      "outputs": [
        {
          "data": {
            "text/plain": [
              "((455, 30), (114, 30), (455,), (114,))"
            ]
          },
          "execution_count": 78,
          "metadata": {},
          "output_type": "execute_result"
        }
      ],
      "source": [
        "# x_train, x_test, y_train, y_test = train_test_split(x, y, test_size=0.2, random_state=0, stratify=y)\n",
        "# x_train.shape, x_test.shape, y_train.shape, y_test.shape"
      ]
    },
    {
      "cell_type": "markdown",
      "metadata": {},
      "source": [
        "**Normalize Dataset**"
      ]
    },
    {
      "cell_type": "code",
      "execution_count": 79,
      "metadata": {},
      "outputs": [
        {
          "data": {
            "text/plain": [
              "<tf.Tensor: shape=(569, 30), dtype=float32, numpy=\n",
              "array([[ 1.0970638 , -2.073334  ,  1.2699338 , ...,  2.2960763 ,\n",
              "         2.7506218 ,  1.9370152 ],\n",
              "       [ 1.8298204 , -0.35363132,  1.6859545 , ...,  1.0870845 ,\n",
              "        -0.24388953,  0.2811903 ],\n",
              "       [ 1.5798881 ,  0.45618796,  1.5665032 , ...,  1.9550005 ,\n",
              "         1.1522547 ,  0.20139174],\n",
              "       ...,\n",
              "       [ 0.70228416,  2.045575  ,  0.6726759 , ...,  0.41406885,\n",
              "        -1.1045488 , -0.31840897],\n",
              "       [ 1.838341  ,  2.3364582 ,  1.9825244 , ...,  2.2899854 ,\n",
              "         1.9190826 ,  2.2196357 ],\n",
              "       [-1.8084016 ,  1.2217933 , -1.8143885 , ..., -1.7450628 ,\n",
              "        -0.0481384 , -0.75120634]], dtype=float32)>"
            ]
          },
          "execution_count": 79,
          "metadata": {},
          "output_type": "execute_result"
        }
      ],
      "source": [
        "def normalizeDataset(ds):\n",
        "    normalizer = tf.keras.layers.Normalization()    \n",
        "    normalizer.adapt(ds)    \n",
        "    return normalizer(ds)\n",
        "\n",
        "x_train_n = normalizeDataset(x)    \n",
        "x_train_n.shape"
      ]
    },
    {
      "cell_type": "markdown",
      "metadata": {},
      "source": [
        "**Model**"
      ]
    },
    {
      "cell_type": "code",
      "execution_count": 80,
      "metadata": {},
      "outputs": [
        {
          "data": {
            "text/plain": [
              "(30, 1)"
            ]
          },
          "execution_count": 80,
          "metadata": {},
          "output_type": "execute_result"
        }
      ],
      "source": [
        "input_shape = x_train.shape[1], 1\n",
        "input_shape"
      ]
    },
    {
      "cell_type": "code",
      "execution_count": 81,
      "metadata": {},
      "outputs": [],
      "source": [
        "from keras import activations\n",
        "from keras.backend import int_shape\n",
        "\n",
        "def buildModel():\n",
        "\n",
        "    inputs = keras.Input(shape=(input_shape))\n",
        "\n",
        "    x = keras.layers.Conv1D(filters=32, kernel_size=2, activation=activations.relu)(inputs)\n",
        "    x = keras.layers.BatchNormalization()(x)\n",
        "    x = keras.layers.Dropout(0.2)(x)\n",
        "\n",
        "    x = keras.layers.Conv1D(filters=64, kernel_size=2, activation=activations.relu)(x)\n",
        "    x = keras.layers.BatchNormalization()(x)\n",
        "    x = keras.layers.Dropout(0.5)(x)\n",
        "\n",
        "    x = keras.layers.Flatten()(x)\n",
        "    x = keras.layers.Dense(64, activation=activations.relu)(x)\n",
        "    x = keras.layers.Dropout(0.5)(x)\n",
        "\n",
        "    outputs = keras.layers.Dense(1,  activation=activations.sigmoid)(x)\n",
        "    \n",
        "    model = keras.Model(inputs=inputs, outputs=[outputs], name=\"conv1d\")\n",
        "\n",
        "    # Compile \n",
        "    loss = keras.losses.BinaryCrossentropy()\n",
        "    optim = keras.optimizers.Adam(learning_rate=0.00005)\n",
        "    metrics = [keras.metrics.SparseCategoricalAccuracy()]\n",
        "\n",
        "    model.compile(loss=loss, optimizer=optim, metrics=metrics)\n",
        "\n",
        "    return model"
      ]
    },
    {
      "cell_type": "markdown",
      "metadata": {},
      "source": [
        "**Classifier for Pipeline**"
      ]
    },
    {
      "cell_type": "code",
      "execution_count": 82,
      "metadata": {},
      "outputs": [],
      "source": [
        "from scikeras.wrappers import KerasClassifier\n",
        "\n",
        "kwargs = dict(\n",
        "    model=buildModel(),\n",
        "    epochs=10,\n",
        "    batch_size = 128,\n",
        "    verbose=1,\n",
        "    random_state=0,\n",
        ")\n",
        "# Here we are splitting the dataset to train and test as well.\n",
        "clf = KerasClassifier(model=buildModel(), epochs=5, validation_split=0.2, batch_size=8, verbose = 1)"
      ]
    },
    {
      "cell_type": "markdown",
      "metadata": {},
      "source": [
        "**Pipeline**\n",
        "\n",
        "The class below is used to create a pipeline using your custom methods. Here we are using Normalization layer in the pipeline."
      ]
    },
    {
      "cell_type": "code",
      "execution_count": 83,
      "metadata": {},
      "outputs": [],
      "source": [
        "class DataframeFunctionTransformer():\n",
        "    def __init__(self, func):\n",
        "        self.func = func\n",
        "\n",
        "    def transform(self, input_df, **transform_params):\n",
        "        return self.func(input_df)\n",
        "\n",
        "    def fit(self, X, y=None, **fit_params):\n",
        "        return self"
      ]
    },
    {
      "cell_type": "code",
      "execution_count": 84,
      "metadata": {},
      "outputs": [
        {
          "data": {
            "text/html": [
              "<style>#sk-450fdb95-07bc-4f18-9715-88c3095aa4e3 {color: black;background-color: white;}#sk-450fdb95-07bc-4f18-9715-88c3095aa4e3 pre{padding: 0;}#sk-450fdb95-07bc-4f18-9715-88c3095aa4e3 div.sk-toggleable {background-color: white;}#sk-450fdb95-07bc-4f18-9715-88c3095aa4e3 label.sk-toggleable__label {cursor: pointer;display: block;width: 100%;margin-bottom: 0;padding: 0.3em;box-sizing: border-box;text-align: center;}#sk-450fdb95-07bc-4f18-9715-88c3095aa4e3 label.sk-toggleable__label-arrow:before {content: \"▸\";float: left;margin-right: 0.25em;color: #696969;}#sk-450fdb95-07bc-4f18-9715-88c3095aa4e3 label.sk-toggleable__label-arrow:hover:before {color: black;}#sk-450fdb95-07bc-4f18-9715-88c3095aa4e3 div.sk-estimator:hover label.sk-toggleable__label-arrow:before {color: black;}#sk-450fdb95-07bc-4f18-9715-88c3095aa4e3 div.sk-toggleable__content {max-height: 0;max-width: 0;overflow: hidden;text-align: left;background-color: #f0f8ff;}#sk-450fdb95-07bc-4f18-9715-88c3095aa4e3 div.sk-toggleable__content pre {margin: 0.2em;color: black;border-radius: 0.25em;background-color: #f0f8ff;}#sk-450fdb95-07bc-4f18-9715-88c3095aa4e3 input.sk-toggleable__control:checked~div.sk-toggleable__content {max-height: 200px;max-width: 100%;overflow: auto;}#sk-450fdb95-07bc-4f18-9715-88c3095aa4e3 input.sk-toggleable__control:checked~label.sk-toggleable__label-arrow:before {content: \"▾\";}#sk-450fdb95-07bc-4f18-9715-88c3095aa4e3 div.sk-estimator input.sk-toggleable__control:checked~label.sk-toggleable__label {background-color: #d4ebff;}#sk-450fdb95-07bc-4f18-9715-88c3095aa4e3 div.sk-label input.sk-toggleable__control:checked~label.sk-toggleable__label {background-color: #d4ebff;}#sk-450fdb95-07bc-4f18-9715-88c3095aa4e3 input.sk-hidden--visually {border: 0;clip: rect(1px 1px 1px 1px);clip: rect(1px, 1px, 1px, 1px);height: 1px;margin: -1px;overflow: hidden;padding: 0;position: absolute;width: 1px;}#sk-450fdb95-07bc-4f18-9715-88c3095aa4e3 div.sk-estimator {font-family: monospace;background-color: #f0f8ff;border: 1px dotted black;border-radius: 0.25em;box-sizing: border-box;margin-bottom: 0.5em;}#sk-450fdb95-07bc-4f18-9715-88c3095aa4e3 div.sk-estimator:hover {background-color: #d4ebff;}#sk-450fdb95-07bc-4f18-9715-88c3095aa4e3 div.sk-parallel-item::after {content: \"\";width: 100%;border-bottom: 1px solid gray;flex-grow: 1;}#sk-450fdb95-07bc-4f18-9715-88c3095aa4e3 div.sk-label:hover label.sk-toggleable__label {background-color: #d4ebff;}#sk-450fdb95-07bc-4f18-9715-88c3095aa4e3 div.sk-serial::before {content: \"\";position: absolute;border-left: 1px solid gray;box-sizing: border-box;top: 2em;bottom: 0;left: 50%;}#sk-450fdb95-07bc-4f18-9715-88c3095aa4e3 div.sk-serial {display: flex;flex-direction: column;align-items: center;background-color: white;padding-right: 0.2em;padding-left: 0.2em;}#sk-450fdb95-07bc-4f18-9715-88c3095aa4e3 div.sk-item {z-index: 1;}#sk-450fdb95-07bc-4f18-9715-88c3095aa4e3 div.sk-parallel {display: flex;align-items: stretch;justify-content: center;background-color: white;}#sk-450fdb95-07bc-4f18-9715-88c3095aa4e3 div.sk-parallel::before {content: \"\";position: absolute;border-left: 1px solid gray;box-sizing: border-box;top: 2em;bottom: 0;left: 50%;}#sk-450fdb95-07bc-4f18-9715-88c3095aa4e3 div.sk-parallel-item {display: flex;flex-direction: column;position: relative;background-color: white;}#sk-450fdb95-07bc-4f18-9715-88c3095aa4e3 div.sk-parallel-item:first-child::after {align-self: flex-end;width: 50%;}#sk-450fdb95-07bc-4f18-9715-88c3095aa4e3 div.sk-parallel-item:last-child::after {align-self: flex-start;width: 50%;}#sk-450fdb95-07bc-4f18-9715-88c3095aa4e3 div.sk-parallel-item:only-child::after {width: 0;}#sk-450fdb95-07bc-4f18-9715-88c3095aa4e3 div.sk-dashed-wrapped {border: 1px dashed gray;margin: 0 0.4em 0.5em 0.4em;box-sizing: border-box;padding-bottom: 0.4em;background-color: white;position: relative;}#sk-450fdb95-07bc-4f18-9715-88c3095aa4e3 div.sk-label label {font-family: monospace;font-weight: bold;background-color: white;display: inline-block;line-height: 1.2em;}#sk-450fdb95-07bc-4f18-9715-88c3095aa4e3 div.sk-label-container {position: relative;z-index: 2;text-align: center;}#sk-450fdb95-07bc-4f18-9715-88c3095aa4e3 div.sk-container {/* jupyter's `normalize.less` sets `[hidden] { display: none; }` but bootstrap.min.css set `[hidden] { display: none !important; }` so we also need the `!important` here to be able to override the default hidden behavior on the sphinx rendered scikit-learn.org. See: https://github.com/scikit-learn/scikit-learn/issues/21755 */display: inline-block !important;position: relative;}#sk-450fdb95-07bc-4f18-9715-88c3095aa4e3 div.sk-text-repr-fallback {display: none;}</style><div id=\"sk-450fdb95-07bc-4f18-9715-88c3095aa4e3\" class=\"sk-top-container\"><div class=\"sk-text-repr-fallback\"><pre>Pipeline(steps=[(&#x27;Normalization&#x27;,\n",
              "                 &lt;__main__.DataframeFunctionTransformer object at 0x000001A4194DBEB0&gt;),\n",
              "                (&#x27;model&#x27;,\n",
              "                 KerasClassifier(epochs=5, model=&lt;keras.engine.functional.Functional object at 0x000001A4194336A0&gt;))])</pre><b>Please rerun this cell to show the HTML repr or trust the notebook.</b></div><div class=\"sk-container\" hidden><div class=\"sk-item sk-dashed-wrapped\"><div class=\"sk-label-container\"><div class=\"sk-label sk-toggleable\"><input class=\"sk-toggleable__control sk-hidden--visually\" id=\"1cbcc670-71be-4f51-89aa-e270d91db625\" type=\"checkbox\" ><label for=\"1cbcc670-71be-4f51-89aa-e270d91db625\" class=\"sk-toggleable__label sk-toggleable__label-arrow\">Pipeline</label><div class=\"sk-toggleable__content\"><pre>Pipeline(steps=[(&#x27;Normalization&#x27;,\n",
              "                 &lt;__main__.DataframeFunctionTransformer object at 0x000001A4194DBEB0&gt;),\n",
              "                (&#x27;model&#x27;,\n",
              "                 KerasClassifier(epochs=5, model=&lt;keras.engine.functional.Functional object at 0x000001A4194336A0&gt;))])</pre></div></div></div><div class=\"sk-serial\"><div class=\"sk-item\"><div class=\"sk-estimator sk-toggleable\"><input class=\"sk-toggleable__control sk-hidden--visually\" id=\"ff486167-bcf0-4e8e-8b4a-bcf2821bdc2b\" type=\"checkbox\" ><label for=\"ff486167-bcf0-4e8e-8b4a-bcf2821bdc2b\" class=\"sk-toggleable__label sk-toggleable__label-arrow\">DataframeFunctionTransformer</label><div class=\"sk-toggleable__content\"><pre>&lt;__main__.DataframeFunctionTransformer object at 0x000001A4194DBEB0&gt;</pre></div></div></div><div class=\"sk-item\"><div class=\"sk-estimator sk-toggleable\"><input class=\"sk-toggleable__control sk-hidden--visually\" id=\"b6ee86ad-9c7e-4042-87e9-6c1ff39da28f\" type=\"checkbox\" ><label for=\"b6ee86ad-9c7e-4042-87e9-6c1ff39da28f\" class=\"sk-toggleable__label sk-toggleable__label-arrow\">KerasClassifier</label><div class=\"sk-toggleable__content\"><pre>KerasClassifier(\n",
              "\tmodel=&lt;keras.engine.functional.Functional object at 0x000001A4194336A0&gt;\n",
              "\tbuild_fn=None\n",
              "\twarm_start=False\n",
              "\trandom_state=None\n",
              "\toptimizer=rmsprop\n",
              "\tloss=None\n",
              "\tmetrics=None\n",
              "\tbatch_size=None\n",
              "\tvalidation_batch_size=None\n",
              "\tverbose=1\n",
              "\tcallbacks=None\n",
              "\tvalidation_split=0.0\n",
              "\tshuffle=True\n",
              "\trun_eagerly=False\n",
              "\tepochs=5\n",
              "\tclass_weight=None\n",
              ")</pre></div></div></div></div></div></div></div>"
            ],
            "text/plain": [
              "Pipeline(steps=[('Normalization',\n",
              "                 <__main__.DataframeFunctionTransformer object at 0x000001A4194DBEB0>),\n",
              "                ('model',\n",
              "                 KerasClassifier(epochs=5, model=<keras.engine.functional.Functional object at 0x000001A4194336A0>))])"
            ]
          },
          "execution_count": 84,
          "metadata": {},
          "output_type": "execute_result"
        }
      ],
      "source": [
        "from sklearn.pipeline import Pipeline\n",
        "from sklearn import set_config\n",
        "set_config(display=\"diagram\")\n",
        "pipeline = Pipeline(steps=[\n",
        "                (\"Normalization\", DataframeFunctionTransformer(normalizeDataset)),\n",
        "                (\"model\", clf)\n",
        "])\n",
        "pipeline"
      ]
    },
    {
      "cell_type": "markdown",
      "metadata": {},
      "source": [
        "**Train**"
      ]
    },
    {
      "cell_type": "code",
      "execution_count": 85,
      "metadata": {},
      "outputs": [
        {
          "name": "stdout",
          "output_type": "stream",
          "text": [
            "Epoch 1/5\n",
            "15/15 [==============================] - 1s 4ms/step - loss: 1.0720 - sparse_categorical_accuracy: 0.3736\n",
            "Epoch 2/5\n",
            "15/15 [==============================] - 0s 7ms/step - loss: 0.6676 - sparse_categorical_accuracy: 0.3736\n",
            "Epoch 3/5\n",
            "15/15 [==============================] - 0s 5ms/step - loss: 0.5314 - sparse_categorical_accuracy: 0.3736\n",
            "Epoch 4/5\n",
            "15/15 [==============================] - 0s 6ms/step - loss: 0.3538 - sparse_categorical_accuracy: 0.3736\n",
            "Epoch 5/5\n",
            "15/15 [==============================] - 0s 4ms/step - loss: 0.3940 - sparse_categorical_accuracy: 0.3736\n"
          ]
        },
        {
          "data": {
            "text/html": [
              "<style>#sk-39d98549-33cc-4bce-9080-4a418fc4359f {color: black;background-color: white;}#sk-39d98549-33cc-4bce-9080-4a418fc4359f pre{padding: 0;}#sk-39d98549-33cc-4bce-9080-4a418fc4359f div.sk-toggleable {background-color: white;}#sk-39d98549-33cc-4bce-9080-4a418fc4359f label.sk-toggleable__label {cursor: pointer;display: block;width: 100%;margin-bottom: 0;padding: 0.3em;box-sizing: border-box;text-align: center;}#sk-39d98549-33cc-4bce-9080-4a418fc4359f label.sk-toggleable__label-arrow:before {content: \"▸\";float: left;margin-right: 0.25em;color: #696969;}#sk-39d98549-33cc-4bce-9080-4a418fc4359f label.sk-toggleable__label-arrow:hover:before {color: black;}#sk-39d98549-33cc-4bce-9080-4a418fc4359f div.sk-estimator:hover label.sk-toggleable__label-arrow:before {color: black;}#sk-39d98549-33cc-4bce-9080-4a418fc4359f div.sk-toggleable__content {max-height: 0;max-width: 0;overflow: hidden;text-align: left;background-color: #f0f8ff;}#sk-39d98549-33cc-4bce-9080-4a418fc4359f div.sk-toggleable__content pre {margin: 0.2em;color: black;border-radius: 0.25em;background-color: #f0f8ff;}#sk-39d98549-33cc-4bce-9080-4a418fc4359f input.sk-toggleable__control:checked~div.sk-toggleable__content {max-height: 200px;max-width: 100%;overflow: auto;}#sk-39d98549-33cc-4bce-9080-4a418fc4359f input.sk-toggleable__control:checked~label.sk-toggleable__label-arrow:before {content: \"▾\";}#sk-39d98549-33cc-4bce-9080-4a418fc4359f div.sk-estimator input.sk-toggleable__control:checked~label.sk-toggleable__label {background-color: #d4ebff;}#sk-39d98549-33cc-4bce-9080-4a418fc4359f div.sk-label input.sk-toggleable__control:checked~label.sk-toggleable__label {background-color: #d4ebff;}#sk-39d98549-33cc-4bce-9080-4a418fc4359f input.sk-hidden--visually {border: 0;clip: rect(1px 1px 1px 1px);clip: rect(1px, 1px, 1px, 1px);height: 1px;margin: -1px;overflow: hidden;padding: 0;position: absolute;width: 1px;}#sk-39d98549-33cc-4bce-9080-4a418fc4359f div.sk-estimator {font-family: monospace;background-color: #f0f8ff;border: 1px dotted black;border-radius: 0.25em;box-sizing: border-box;margin-bottom: 0.5em;}#sk-39d98549-33cc-4bce-9080-4a418fc4359f div.sk-estimator:hover {background-color: #d4ebff;}#sk-39d98549-33cc-4bce-9080-4a418fc4359f div.sk-parallel-item::after {content: \"\";width: 100%;border-bottom: 1px solid gray;flex-grow: 1;}#sk-39d98549-33cc-4bce-9080-4a418fc4359f div.sk-label:hover label.sk-toggleable__label {background-color: #d4ebff;}#sk-39d98549-33cc-4bce-9080-4a418fc4359f div.sk-serial::before {content: \"\";position: absolute;border-left: 1px solid gray;box-sizing: border-box;top: 2em;bottom: 0;left: 50%;}#sk-39d98549-33cc-4bce-9080-4a418fc4359f div.sk-serial {display: flex;flex-direction: column;align-items: center;background-color: white;padding-right: 0.2em;padding-left: 0.2em;}#sk-39d98549-33cc-4bce-9080-4a418fc4359f div.sk-item {z-index: 1;}#sk-39d98549-33cc-4bce-9080-4a418fc4359f div.sk-parallel {display: flex;align-items: stretch;justify-content: center;background-color: white;}#sk-39d98549-33cc-4bce-9080-4a418fc4359f div.sk-parallel::before {content: \"\";position: absolute;border-left: 1px solid gray;box-sizing: border-box;top: 2em;bottom: 0;left: 50%;}#sk-39d98549-33cc-4bce-9080-4a418fc4359f div.sk-parallel-item {display: flex;flex-direction: column;position: relative;background-color: white;}#sk-39d98549-33cc-4bce-9080-4a418fc4359f div.sk-parallel-item:first-child::after {align-self: flex-end;width: 50%;}#sk-39d98549-33cc-4bce-9080-4a418fc4359f div.sk-parallel-item:last-child::after {align-self: flex-start;width: 50%;}#sk-39d98549-33cc-4bce-9080-4a418fc4359f div.sk-parallel-item:only-child::after {width: 0;}#sk-39d98549-33cc-4bce-9080-4a418fc4359f div.sk-dashed-wrapped {border: 1px dashed gray;margin: 0 0.4em 0.5em 0.4em;box-sizing: border-box;padding-bottom: 0.4em;background-color: white;position: relative;}#sk-39d98549-33cc-4bce-9080-4a418fc4359f div.sk-label label {font-family: monospace;font-weight: bold;background-color: white;display: inline-block;line-height: 1.2em;}#sk-39d98549-33cc-4bce-9080-4a418fc4359f div.sk-label-container {position: relative;z-index: 2;text-align: center;}#sk-39d98549-33cc-4bce-9080-4a418fc4359f div.sk-container {/* jupyter's `normalize.less` sets `[hidden] { display: none; }` but bootstrap.min.css set `[hidden] { display: none !important; }` so we also need the `!important` here to be able to override the default hidden behavior on the sphinx rendered scikit-learn.org. See: https://github.com/scikit-learn/scikit-learn/issues/21755 */display: inline-block !important;position: relative;}#sk-39d98549-33cc-4bce-9080-4a418fc4359f div.sk-text-repr-fallback {display: none;}</style><div id=\"sk-39d98549-33cc-4bce-9080-4a418fc4359f\" class=\"sk-top-container\"><div class=\"sk-text-repr-fallback\"><pre>Pipeline(steps=[(&#x27;Normalization&#x27;,\n",
              "                 &lt;__main__.DataframeFunctionTransformer object at 0x000001A4194DBEB0&gt;),\n",
              "                (&#x27;model&#x27;,\n",
              "                 KerasClassifier(epochs=5, model=&lt;keras.engine.functional.Functional object at 0x000001A4194336A0&gt;))])</pre><b>Please rerun this cell to show the HTML repr or trust the notebook.</b></div><div class=\"sk-container\" hidden><div class=\"sk-item sk-dashed-wrapped\"><div class=\"sk-label-container\"><div class=\"sk-label sk-toggleable\"><input class=\"sk-toggleable__control sk-hidden--visually\" id=\"edf7acb1-be2c-4e2e-a98b-79d6066eedcf\" type=\"checkbox\" ><label for=\"edf7acb1-be2c-4e2e-a98b-79d6066eedcf\" class=\"sk-toggleable__label sk-toggleable__label-arrow\">Pipeline</label><div class=\"sk-toggleable__content\"><pre>Pipeline(steps=[(&#x27;Normalization&#x27;,\n",
              "                 &lt;__main__.DataframeFunctionTransformer object at 0x000001A4194DBEB0&gt;),\n",
              "                (&#x27;model&#x27;,\n",
              "                 KerasClassifier(epochs=5, model=&lt;keras.engine.functional.Functional object at 0x000001A4194336A0&gt;))])</pre></div></div></div><div class=\"sk-serial\"><div class=\"sk-item\"><div class=\"sk-estimator sk-toggleable\"><input class=\"sk-toggleable__control sk-hidden--visually\" id=\"55851258-de3a-4019-9284-1999569836c2\" type=\"checkbox\" ><label for=\"55851258-de3a-4019-9284-1999569836c2\" class=\"sk-toggleable__label sk-toggleable__label-arrow\">DataframeFunctionTransformer</label><div class=\"sk-toggleable__content\"><pre>&lt;__main__.DataframeFunctionTransformer object at 0x000001A4194DBEB0&gt;</pre></div></div></div><div class=\"sk-item\"><div class=\"sk-estimator sk-toggleable\"><input class=\"sk-toggleable__control sk-hidden--visually\" id=\"d762dff3-cb0a-4cda-b85b-12b63fcaba8a\" type=\"checkbox\" ><label for=\"d762dff3-cb0a-4cda-b85b-12b63fcaba8a\" class=\"sk-toggleable__label sk-toggleable__label-arrow\">KerasClassifier</label><div class=\"sk-toggleable__content\"><pre>KerasClassifier(\n",
              "\tmodel=&lt;keras.engine.functional.Functional object at 0x000001A4194336A0&gt;\n",
              "\tbuild_fn=None\n",
              "\twarm_start=False\n",
              "\trandom_state=None\n",
              "\toptimizer=rmsprop\n",
              "\tloss=None\n",
              "\tmetrics=None\n",
              "\tbatch_size=None\n",
              "\tvalidation_batch_size=None\n",
              "\tverbose=1\n",
              "\tcallbacks=None\n",
              "\tvalidation_split=0.0\n",
              "\tshuffle=True\n",
              "\trun_eagerly=False\n",
              "\tepochs=5\n",
              "\tclass_weight=None\n",
              ")</pre></div></div></div></div></div></div></div>"
            ],
            "text/plain": [
              "Pipeline(steps=[('Normalization',\n",
              "                 <__main__.DataframeFunctionTransformer object at 0x000001A4194DBEB0>),\n",
              "                ('model',\n",
              "                 KerasClassifier(epochs=5, model=<keras.engine.functional.Functional object at 0x000001A4194336A0>))])"
            ]
          },
          "execution_count": 85,
          "metadata": {},
          "output_type": "execute_result"
        }
      ],
      "source": [
        "pipeline.fit(x, y)"
      ]
    },
    {
      "cell_type": "markdown",
      "metadata": {},
      "source": [
        "**Plot History**"
      ]
    },
    {
      "cell_type": "code",
      "execution_count": 52,
      "metadata": {},
      "outputs": [
        {
          "data": {
            "image/png": "[encoded data removed]",
            "text/plain": [
              "<Figure size 432x288 with 1 Axes>"
            ]
          },
          "metadata": {
            "needs_background": "light"
          },
          "output_type": "display_data"
        }
      ],
      "source": [
        "clf.history_.keys()\n",
        "\n",
        "epoch_range = range(1, 6)\n",
        "\n",
        "# Plot training and validation accuracy values\n",
        "# sparse_categorical_accuracy vs val_sparse_categorical_accuracy\n",
        "plt.plot(epoch_range, clf.history_[\"sparse_categorical_accuracy\"])\n",
        "plt.plot(epoch_range, clf.history_[\"val_sparse_categorical_accuracy\"])\n",
        "plt.title(\"Model Accuracy\")\n",
        "plt.ylabel(\"Accuracy\")\n",
        "plt.xlabel(\"Epoch\")\n",
        "plt.legend([\"Train\", \"Val\"], loc=\"upper left\")\n",
        "plt.show()"
      ]
    },
    {
      "cell_type": "code",
      "execution_count": 53,
      "metadata": {},
      "outputs": [
        {
          "data": {
            "image/png": "[encoded data removed]",
            "text/plain": [
              "<Figure size 432x288 with 1 Axes>"
            ]
          },
          "metadata": {
            "needs_background": "light"
          },
          "output_type": "display_data"
        }
      ],
      "source": [
        "# Plot training and validation loss values\n",
        "# Loss vs Val_Loss\n",
        "plt.plot(epoch_range, clf.history_[\"loss\"])\n",
        "plt.plot(epoch_range, clf.history_[\"val_loss\"])\n",
        "plt.title(\"Model Loss\")\n",
        "plt.ylabel(\"Loss\")\n",
        "plt.xlabel(\"Epoch\")\n",
        "plt.legend([\"Train\", \"Val\"], loc=\"upper left\")\n",
        "plt.show()"
      ]
    },
    {
      "cell_type": "markdown",
      "metadata": {},
      "source": [
        "**Approach 2**"
      ]
    },
    {
      "cell_type": "code",
      "execution_count": 86,
      "metadata": {},
      "outputs": [
        {
          "data": {
            "text/plain": [
              "array([[ 0.26670379,  0.64119581,  0.21021862, ...,  0.57195757,\n",
              "        -0.36743271, -0.29487344],\n",
              "       [-1.50538429, -0.78076949, -1.4608281 , ..., -0.14909852,\n",
              "         0.04677597,  1.00205472],\n",
              "       [ 1.50388483,  2.19180417,  1.67631803, ...,  1.18936185,\n",
              "        -0.13144928,  0.93430053],\n",
              "       ...,\n",
              "       [-0.30323355,  0.01865526, -0.38082036, ..., -1.55951427,\n",
              "        -0.75688789, -1.18922878],\n",
              "       [-0.07525861, -0.69347598, -0.14238757, ..., -0.89178629,\n",
              "        -0.88395589, -0.72398332],\n",
              "       [-0.63963558, -0.12147379, -0.56963008, ...,  0.59599277,\n",
              "         3.07495497,  3.17583505]])"
            ]
          },
          "execution_count": 86,
          "metadata": {},
          "output_type": "execute_result"
        }
      ],
      "source": [
        "cancer = datasets.load_breast_cancer()\n",
        "\n",
        "x = pd.DataFrame(data=cancer.data, columns=cancer.feature_names)\n",
        "\n",
        "y = cancer.target\n",
        "\n",
        "x_train, x_test, y_train, y_test = train_test_split(x, y, test_size=0.2, random_state=0, stratify=y)\n",
        "\n",
        "# Converting Pandas to Numpy data to reshape the data later.\n",
        "scaler = StandardScaler()\n",
        "x_train = scaler.fit_transform(x_train)\n",
        "x_test = scaler.fit_transform(x_test)\n",
        "\n",
        "x_train"
      ]
    },
    {
      "cell_type": "code",
      "execution_count": 56,
      "metadata": {
        "id": "vH0SY5uvdmfr"
      },
      "outputs": [
        {
          "name": "stdout",
          "output_type": "stream",
          "text": [
            "Epoch 1/5\n",
            "15/15 [==============================] - 1s 16ms/step - loss: 0.3846 - accuracy: 0.8352 - val_loss: 0.3732 - val_accuracy: 0.9474\n",
            "Epoch 2/5\n",
            "15/15 [==============================] - 0s 6ms/step - loss: 0.1653 - accuracy: 0.9473 - val_loss: 0.3008 - val_accuracy: 0.9474\n",
            "Epoch 3/5\n",
            "15/15 [==============================] - 0s 7ms/step - loss: 0.0952 - accuracy: 0.9648 - val_loss: 0.2920 - val_accuracy: 0.8947\n",
            "Epoch 4/5\n",
            "15/15 [==============================] - 0s 6ms/step - loss: 0.0890 - accuracy: 0.9736 - val_loss: 0.2884 - val_accuracy: 0.8947\n",
            "Epoch 5/5\n",
            "15/15 [==============================] - 0s 6ms/step - loss: 0.0940 - accuracy: 0.9582 - val_loss: 0.2677 - val_accuracy: 0.8947\n"
          ]
        }
      ],
      "source": [
        "# Build Model\n",
        "epochs = 5\n",
        "model = Sequential()\n",
        "\n",
        "model.add(Conv1D(filters=32, kernel_size=2, activation=\"relu\", input_shape=(30, 1)))\n",
        "model.add(BatchNormalization())\n",
        "model.add(Dropout(0.2))\n",
        "\n",
        "model.add(Conv1D(filters=64, kernel_size=2, activation=\"relu\"))\n",
        "model.add(BatchNormalization())\n",
        "model.add(Dropout(0.5))\n",
        "\n",
        "model.add(Flatten())\n",
        "\n",
        "model.add(Dense(64, activation=\"relu\"))\n",
        "\n",
        "model.add(Dropout(0.5))\n",
        "\n",
        "model.add(Dense(1, activation=\"sigmoid\")) # Only 1 output 0 or 1. sigmoid detects binary i.e. 0 or 1\n",
        "\n",
        "# Compile the model\n",
        "model.compile(optimizer=\"adam\", loss=\"binary_crossentropy\", metrics=[\"accuracy\"])\n",
        "\n",
        "# Fit the model\n",
        "history = model.fit(x_train, y_train, epochs=epochs, validation_data=(x_test, y_test), verbose=1)"
      ]
    },
    {
      "cell_type": "code",
      "execution_count": 67,
      "metadata": {
        "id": "5kaTynlDoVE6"
      },
      "outputs": [
        {
          "data": {
            "image/png": "[encoded data removed]",
            "text/plain": [
              "<Figure size 432x288 with 1 Axes>"
            ]
          },
          "metadata": {
            "needs_background": "light"
          },
          "output_type": "display_data"
        }
      ],
      "source": [
        "epoch_range = range(1, epochs+1)\n",
        "\n",
        "# Plot training and validation accuracy values\n",
        "# sparse_categorical_accuracy vs val_sparse_categorical_accuracy\n",
        "plt.plot(epoch_range, history.history[\"accuracy\"])\n",
        "plt.plot(epoch_range, history.history[\"val_accuracy\"])\n",
        "plt.title(\"Model Accuracy\")\n",
        "plt.ylabel(\"Accuracy\")\n",
        "plt.xlabel(\"Epoch\")\n",
        "plt.legend([\"Train\", \"Val\"], loc=\"upper left\")\n",
        "plt.show()"
      ]
    },
    {
      "cell_type": "code",
      "execution_count": 68,
      "metadata": {
        "id": "aBBRExDMoc39"
      },
      "outputs": [
        {
          "data": {
            "image/png": "[encoded data removed]",
            "text/plain": [
              "<Figure size 432x288 with 1 Axes>"
            ]
          },
          "metadata": {
            "needs_background": "light"
          },
          "output_type": "display_data"
        }
      ],
      "source": [
        "# Plot training and validation loss values\n",
        "# Loss vs Val_Loss\n",
        "plt.plot(epoch_range, history.history[\"loss\"])\n",
        "plt.plot(epoch_range, history.history[\"val_loss\"])\n",
        "plt.title(\"Model Loss\")\n",
        "plt.ylabel(\"Loss\")\n",
        "plt.xlabel(\"Epoch\")\n",
        "plt.legend([\"Train\", \"Val\"], loc=\"upper left\")\n",
        "plt.show()"
      ]
    }
  ],
  "metadata": {
    "colab": {
      "include_colab_link": true,
      "name": "Tensorflow - Breast Cancer Detection Using CNN.ipynb",
      "provenance": []
    },
    "interpreter": {
      "hash": "0d7fd96aeadd740978789f2880dd43822d8681a39e327029c33ff72656207c4b"
    },
    "kernelspec": {
      "display_name": "Python 3.10.4 64-bit",
      "language": "python",
      "name": "python3"
    },
    "language_info": {
      "codemirror_mode": {
        "name": "ipython",
        "version": 3
      },
      "file_extension": ".py",
      "mimetype": "text/x-python",
      "name": "python",
      "nbconvert_exporter": "python",
      "pygments_lexer": "ipython3",
      "version": "3.10.4"
    }
  },
  "nbformat": 4,
  "nbformat_minor": 0
}
