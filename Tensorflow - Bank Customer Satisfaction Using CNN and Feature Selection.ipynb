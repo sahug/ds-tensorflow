{
  "cells": [
    {
      "cell_type": "markdown",
      "metadata": {
        "colab_type": "text",
        "id": "view-in-github"
      },
      "source": [
        "<a href=\"https://colab.research.google.com/github/sahug/ds-tensorflow-colab/blob/master/Tensorflow%20-%20Bank%20Customer%20Satisfaction%20Using%20CNN%20and%20Feature%20Selection.ipynb\" target=\"_parent\"><img src=\"https://colab.research.google.com/assets/colab-badge.svg\" alt=\"Open In Colab\"/></a>"
      ]
    },
    {
      "cell_type": "markdown",
      "metadata": {
        "id": "q0-W6MdWw5qr"
      },
      "source": [
        "**Tensorflow - Bank Customer Satisfaction Using CNN and Feature Selection**"
      ]
    },
    {
      "cell_type": "markdown",
      "metadata": {},
      "source": [
        "**Import Libraries**"
      ]
    },
    {
      "cell_type": "code",
      "execution_count": 1,
      "metadata": {
        "id": "H7KY6oB7tGO2"
      },
      "outputs": [],
      "source": [
        "import tensorflow as tf\n",
        "from tensorflow import keras\n",
        "from keras import Sequential\n",
        "from keras.layers import Conv1D, MaxPool1D, Flatten, Dense, Dropout, BatchNormalization"
      ]
    },
    {
      "cell_type": "code",
      "execution_count": 2,
      "metadata": {
        "id": "L2bXZYWp1r3f"
      },
      "outputs": [
        {
          "name": "stdout",
          "output_type": "stream",
          "text": [
            "2.8.0\n"
          ]
        }
      ],
      "source": [
        "print(tf.__version__)"
      ]
    },
    {
      "cell_type": "code",
      "execution_count": 3,
      "metadata": {
        "id": "nlCTLO3F1v85"
      },
      "outputs": [],
      "source": [
        "import numpy as np\n",
        "import pandas as pd\n",
        "import seaborn as sns\n",
        "import matplotlib.pyplot as plt"
      ]
    },
    {
      "cell_type": "code",
      "execution_count": 4,
      "metadata": {
        "id": "U4DjGyP614Ws"
      },
      "outputs": [],
      "source": [
        "from sklearn.model_selection import train_test_split\n",
        "from sklearn.preprocessing import StandardScaler\n",
        "from sklearn.feature_selection import VarianceThreshold"
      ]
    },
    {
      "cell_type": "markdown",
      "metadata": {},
      "source": [
        "**Load Dataset**"
      ]
    },
    {
      "cell_type": "code",
      "execution_count": 22,
      "metadata": {
        "id": "62tG-3Ya2tiQ"
      },
      "outputs": [
        {
          "data": {
            "text/plain": [
              "(76020, 371)"
            ]
          },
          "execution_count": 22,
          "metadata": {},
          "output_type": "execute_result"
        }
      ],
      "source": [
        "# Read Data\n",
        "data = pd.read_csv(\"data/santander-train.csv\")\n",
        "data.head()\n",
        "\n",
        "# target is 0 - Unsattisfied and 1 Satisfied in below data.\n",
        "\n",
        "data.shape"
      ]
    },
    {
      "cell_type": "markdown",
      "metadata": {},
      "source": [
        "**Remove Duplicates**"
      ]
    },
    {
      "cell_type": "code",
      "execution_count": 23,
      "metadata": {},
      "outputs": [
        {
          "data": {
            "text/plain": [
              "(76020, 371)"
            ]
          },
          "execution_count": 23,
          "metadata": {},
          "output_type": "execute_result"
        }
      ],
      "source": [
        "def dropDuplicates(ds):        \n",
        "    return pd.DataFrame(ds).drop_duplicates()\n",
        "\n",
        "data = dropDuplicates(data)\n",
        "\n",
        "data.shape"
      ]
    },
    {
      "cell_type": "markdown",
      "metadata": {},
      "source": [
        "**Drop Unwanted Columns**"
      ]
    },
    {
      "cell_type": "code",
      "execution_count": 24,
      "metadata": {
        "id": "hMeFLnq_3X9u"
      },
      "outputs": [],
      "source": [
        "from typing import List\n",
        "def dropUnwantedFeatures(ds, cols: List):\n",
        "    x = ds.drop(labels=cols, axis=1) # Dropping unnecessary data\n",
        "    x.shape\n",
        "    return x\n",
        "\n",
        "x = dropUnwantedFeatures(data, [\"ID\", \"TARGET\"])\n",
        "y = data[\"TARGET\"] # This is what we are predicting"
      ]
    },
    {
      "cell_type": "markdown",
      "metadata": {},
      "source": [
        "**Train and Test Split**"
      ]
    },
    {
      "cell_type": "code",
      "execution_count": 31,
      "metadata": {
        "id": "1f0WXljt3588"
      },
      "outputs": [
        {
          "data": {
            "text/plain": [
              "((60816, 369), (15204, 369), (60816,), (15204,))"
            ]
          },
          "execution_count": 31,
          "metadata": {},
          "output_type": "execute_result"
        }
      ],
      "source": [
        "x_train, x_test, y_train, y_test = train_test_split(x, y, test_size=0.2, random_state=0, stratify=y)\n",
        "\n",
        "x_train.shape, x_test.shape, y_train.shape, y_test.shape"
      ]
    },
    {
      "cell_type": "markdown",
      "metadata": {
        "id": "ZIQ81T9y4Ql8"
      },
      "source": [
        "#### **Remove Constant, Quassi Constant and Duplicate Features**"
      ]
    },
    {
      "cell_type": "code",
      "execution_count": 32,
      "metadata": {
        "id": "kdzBekcU4XeS"
      },
      "outputs": [
        {
          "data": {
            "text/plain": [
              "((60816, 273), (15204, 273))"
            ]
          },
          "execution_count": 32,
          "metadata": {},
          "output_type": "execute_result"
        }
      ],
      "source": [
        "filter = VarianceThreshold(0.01) # Removing 1%\n",
        "x_train = filter.fit_transform(x_train)\n",
        "x_test = filter.transform(x_test)\n",
        "\n",
        "x_train.shape, x_test.shape"
      ]
    },
    {
      "cell_type": "markdown",
      "metadata": {},
      "source": [
        "**Approach 1**"
      ]
    },
    {
      "cell_type": "markdown",
      "metadata": {},
      "source": [
        "**Normalize Layer**"
      ]
    },
    {
      "cell_type": "code",
      "execution_count": 33,
      "metadata": {},
      "outputs": [],
      "source": [
        "def normalizeDataset(ds):\n",
        "    normalizer = tf.keras.layers.Normalization()    \n",
        "    normalizer.adapt(ds)    \n",
        "    return normalizer(ds)\n",
        "\n",
        "# x_train = normalizeDataset(x_train)\n",
        "# x_test = normalizeDataset(x_test)"
      ]
    },
    {
      "cell_type": "markdown",
      "metadata": {},
      "source": [
        "**Model**"
      ]
    },
    {
      "cell_type": "code",
      "execution_count": 88,
      "metadata": {},
      "outputs": [
        {
          "data": {
            "text/plain": [
              "(273, 1)"
            ]
          },
          "execution_count": 88,
          "metadata": {},
          "output_type": "execute_result"
        }
      ],
      "source": [
        "input_shape = x_train.shape[1], 1\n",
        "input_shape"
      ]
    },
    {
      "cell_type": "code",
      "execution_count": 89,
      "metadata": {},
      "outputs": [],
      "source": [
        "from keras import activations\n",
        "\n",
        "def buildModel():\n",
        "    inputs = keras.Input(shape=(input_shape))\n",
        "\n",
        "    x = keras.layers.Conv1D(filters=32, kernel_size=3, activation=activations.relu)(inputs)\n",
        "    x = keras.layers.BatchNormalization()(x)\n",
        "    x = keras.layers.MaxPool1D(2)(x)\n",
        "    x = keras.layers.Dropout(0.3)(x)\n",
        "\n",
        "    x = keras.layers.Conv1D(filters=64, kernel_size=3, activation=activations.relu)(x)\n",
        "    x = keras.layers.BatchNormalization()(x)\n",
        "    x = keras.layers.MaxPool1D(2)(x)\n",
        "    x = keras.layers.Dropout(0.5)(x)\n",
        "\n",
        "    x = keras.layers.Conv1D(filters=128, kernel_size=3, activation=activations.relu)(x)\n",
        "    x = keras.layers.BatchNormalization()(x)\n",
        "    x = keras.layers.MaxPool1D(2)(x)\n",
        "    x = keras.layers.Dropout(0.3)(x)\n",
        "\n",
        "    x = keras.layers.Flatten()(x)\n",
        "    x = keras.layers.Dense(x_train.shape[1], activation=activations.relu)(x)\n",
        "    x = keras.layers.Dropout(0.5)(x)\n",
        "\n",
        "    outputs = keras.layers.Dense(1,  activation=activations.sigmoid)(x)\n",
        "\n",
        "    model = keras.Model(inputs=inputs, outputs=[outputs], name=\"conv1d\")\n",
        "\n",
        "    # Compile \n",
        "    loss = keras.losses.BinaryCrossentropy()\n",
        "    optim = keras.optimizers.Adam(learning_rate=0.00005)\n",
        "    # metrics = [keras.metrics.SparseCategoricalAccuracy()]\n",
        "    metrics = [\"accuracy\"]\n",
        "\n",
        "    model.compile(loss=loss, optimizer=optim, metrics=metrics)\n",
        "\n",
        "    return model"
      ]
    },
    {
      "cell_type": "markdown",
      "metadata": {},
      "source": [
        "**Classifier for Pipeline**"
      ]
    },
    {
      "cell_type": "code",
      "execution_count": null,
      "metadata": {},
      "outputs": [],
      "source": [
        "%pip install scikeras[tensorflow]"
      ]
    },
    {
      "cell_type": "code",
      "execution_count": 90,
      "metadata": {},
      "outputs": [],
      "source": [
        "from scikeras.wrappers import KerasClassifier\n",
        "\n",
        "kwargs = dict(\n",
        "    model=buildModel(),\n",
        "    epochs=10,\n",
        "    batch_size = 128,\n",
        "    verbose=1,\n",
        "    random_state=0,\n",
        ")\n",
        "\n",
        "clf = KerasClassifier(model=buildModel(), epochs=10)"
      ]
    },
    {
      "cell_type": "markdown",
      "metadata": {},
      "source": [
        "**Pipeline**"
      ]
    },
    {
      "cell_type": "markdown",
      "metadata": {},
      "source": [
        "The class below is used to create a pipeline using your custom methods. Here we are using Normalization layer in the pipeline."
      ]
    },
    {
      "cell_type": "code",
      "execution_count": 92,
      "metadata": {},
      "outputs": [],
      "source": [
        "class DataframeFunctionTransformer():\n",
        "    def __init__(self, func):\n",
        "        self.func = func\n",
        "\n",
        "    def transform(self, input_df, **transform_params):\n",
        "        return self.func(input_df)\n",
        "\n",
        "    def fit(self, X, y=None, **fit_params):\n",
        "        return self"
      ]
    },
    {
      "cell_type": "code",
      "execution_count": 93,
      "metadata": {},
      "outputs": [
        {
          "data": {
            "text/html": [
              "<style>#sk-b20282f1-0ea3-4198-a361-958e68bf0fd8 {color: black;background-color: white;}#sk-b20282f1-0ea3-4198-a361-958e68bf0fd8 pre{padding: 0;}#sk-b20282f1-0ea3-4198-a361-958e68bf0fd8 div.sk-toggleable {background-color: white;}#sk-b20282f1-0ea3-4198-a361-958e68bf0fd8 label.sk-toggleable__label {cursor: pointer;display: block;width: 100%;margin-bottom: 0;padding: 0.3em;box-sizing: border-box;text-align: center;}#sk-b20282f1-0ea3-4198-a361-958e68bf0fd8 label.sk-toggleable__label-arrow:before {content: \"▸\";float: left;margin-right: 0.25em;color: #696969;}#sk-b20282f1-0ea3-4198-a361-958e68bf0fd8 label.sk-toggleable__label-arrow:hover:before {color: black;}#sk-b20282f1-0ea3-4198-a361-958e68bf0fd8 div.sk-estimator:hover label.sk-toggleable__label-arrow:before {color: black;}#sk-b20282f1-0ea3-4198-a361-958e68bf0fd8 div.sk-toggleable__content {max-height: 0;max-width: 0;overflow: hidden;text-align: left;background-color: #f0f8ff;}#sk-b20282f1-0ea3-4198-a361-958e68bf0fd8 div.sk-toggleable__content pre {margin: 0.2em;color: black;border-radius: 0.25em;background-color: #f0f8ff;}#sk-b20282f1-0ea3-4198-a361-958e68bf0fd8 input.sk-toggleable__control:checked~div.sk-toggleable__content {max-height: 200px;max-width: 100%;overflow: auto;}#sk-b20282f1-0ea3-4198-a361-958e68bf0fd8 input.sk-toggleable__control:checked~label.sk-toggleable__label-arrow:before {content: \"▾\";}#sk-b20282f1-0ea3-4198-a361-958e68bf0fd8 div.sk-estimator input.sk-toggleable__control:checked~label.sk-toggleable__label {background-color: #d4ebff;}#sk-b20282f1-0ea3-4198-a361-958e68bf0fd8 div.sk-label input.sk-toggleable__control:checked~label.sk-toggleable__label {background-color: #d4ebff;}#sk-b20282f1-0ea3-4198-a361-958e68bf0fd8 input.sk-hidden--visually {border: 0;clip: rect(1px 1px 1px 1px);clip: rect(1px, 1px, 1px, 1px);height: 1px;margin: -1px;overflow: hidden;padding: 0;position: absolute;width: 1px;}#sk-b20282f1-0ea3-4198-a361-958e68bf0fd8 div.sk-estimator {font-family: monospace;background-color: #f0f8ff;border: 1px dotted black;border-radius: 0.25em;box-sizing: border-box;margin-bottom: 0.5em;}#sk-b20282f1-0ea3-4198-a361-958e68bf0fd8 div.sk-estimator:hover {background-color: #d4ebff;}#sk-b20282f1-0ea3-4198-a361-958e68bf0fd8 div.sk-parallel-item::after {content: \"\";width: 100%;border-bottom: 1px solid gray;flex-grow: 1;}#sk-b20282f1-0ea3-4198-a361-958e68bf0fd8 div.sk-label:hover label.sk-toggleable__label {background-color: #d4ebff;}#sk-b20282f1-0ea3-4198-a361-958e68bf0fd8 div.sk-serial::before {content: \"\";position: absolute;border-left: 1px solid gray;box-sizing: border-box;top: 2em;bottom: 0;left: 50%;}#sk-b20282f1-0ea3-4198-a361-958e68bf0fd8 div.sk-serial {display: flex;flex-direction: column;align-items: center;background-color: white;padding-right: 0.2em;padding-left: 0.2em;}#sk-b20282f1-0ea3-4198-a361-958e68bf0fd8 div.sk-item {z-index: 1;}#sk-b20282f1-0ea3-4198-a361-958e68bf0fd8 div.sk-parallel {display: flex;align-items: stretch;justify-content: center;background-color: white;}#sk-b20282f1-0ea3-4198-a361-958e68bf0fd8 div.sk-parallel::before {content: \"\";position: absolute;border-left: 1px solid gray;box-sizing: border-box;top: 2em;bottom: 0;left: 50%;}#sk-b20282f1-0ea3-4198-a361-958e68bf0fd8 div.sk-parallel-item {display: flex;flex-direction: column;position: relative;background-color: white;}#sk-b20282f1-0ea3-4198-a361-958e68bf0fd8 div.sk-parallel-item:first-child::after {align-self: flex-end;width: 50%;}#sk-b20282f1-0ea3-4198-a361-958e68bf0fd8 div.sk-parallel-item:last-child::after {align-self: flex-start;width: 50%;}#sk-b20282f1-0ea3-4198-a361-958e68bf0fd8 div.sk-parallel-item:only-child::after {width: 0;}#sk-b20282f1-0ea3-4198-a361-958e68bf0fd8 div.sk-dashed-wrapped {border: 1px dashed gray;margin: 0 0.4em 0.5em 0.4em;box-sizing: border-box;padding-bottom: 0.4em;background-color: white;position: relative;}#sk-b20282f1-0ea3-4198-a361-958e68bf0fd8 div.sk-label label {font-family: monospace;font-weight: bold;background-color: white;display: inline-block;line-height: 1.2em;}#sk-b20282f1-0ea3-4198-a361-958e68bf0fd8 div.sk-label-container {position: relative;z-index: 2;text-align: center;}#sk-b20282f1-0ea3-4198-a361-958e68bf0fd8 div.sk-container {/* jupyter's `normalize.less` sets `[hidden] { display: none; }` but bootstrap.min.css set `[hidden] { display: none !important; }` so we also need the `!important` here to be able to override the default hidden behavior on the sphinx rendered scikit-learn.org. See: https://github.com/scikit-learn/scikit-learn/issues/21755 */display: inline-block !important;position: relative;}#sk-b20282f1-0ea3-4198-a361-958e68bf0fd8 div.sk-text-repr-fallback {display: none;}</style><div id=\"sk-b20282f1-0ea3-4198-a361-958e68bf0fd8\" class=\"sk-top-container\"><div class=\"sk-text-repr-fallback\"><pre>Pipeline(steps=[(&#x27;Normalization&#x27;,\n",
              "                 &lt;__main__.DataframeFunctionTransformer object at 0x0000025ABF22C220&gt;),\n",
              "                (&#x27;model&#x27;,\n",
              "                 KerasClassifier(epochs=10, model=&lt;keras.engine.functional.Functional object at 0x0000025AC110FCA0&gt;))])</pre><b>Please rerun this cell to show the HTML repr or trust the notebook.</b></div><div class=\"sk-container\" hidden><div class=\"sk-item sk-dashed-wrapped\"><div class=\"sk-label-container\"><div class=\"sk-label sk-toggleable\"><input class=\"sk-toggleable__control sk-hidden--visually\" id=\"8fd2fd44-4382-4cd2-bf6c-b6991d4996db\" type=\"checkbox\" ><label for=\"8fd2fd44-4382-4cd2-bf6c-b6991d4996db\" class=\"sk-toggleable__label sk-toggleable__label-arrow\">Pipeline</label><div class=\"sk-toggleable__content\"><pre>Pipeline(steps=[(&#x27;Normalization&#x27;,\n",
              "                 &lt;__main__.DataframeFunctionTransformer object at 0x0000025ABF22C220&gt;),\n",
              "                (&#x27;model&#x27;,\n",
              "                 KerasClassifier(epochs=10, model=&lt;keras.engine.functional.Functional object at 0x0000025AC110FCA0&gt;))])</pre></div></div></div><div class=\"sk-serial\"><div class=\"sk-item\"><div class=\"sk-estimator sk-toggleable\"><input class=\"sk-toggleable__control sk-hidden--visually\" id=\"c9ff45d8-0c73-41bf-b03e-d7acea45a38e\" type=\"checkbox\" ><label for=\"c9ff45d8-0c73-41bf-b03e-d7acea45a38e\" class=\"sk-toggleable__label sk-toggleable__label-arrow\">DataframeFunctionTransformer</label><div class=\"sk-toggleable__content\"><pre>&lt;__main__.DataframeFunctionTransformer object at 0x0000025ABF22C220&gt;</pre></div></div></div><div class=\"sk-item\"><div class=\"sk-estimator sk-toggleable\"><input class=\"sk-toggleable__control sk-hidden--visually\" id=\"d80774e6-6bdb-40ce-a221-94f6b2a20041\" type=\"checkbox\" ><label for=\"d80774e6-6bdb-40ce-a221-94f6b2a20041\" class=\"sk-toggleable__label sk-toggleable__label-arrow\">KerasClassifier</label><div class=\"sk-toggleable__content\"><pre>KerasClassifier(\n",
              "\tmodel=&lt;keras.engine.functional.Functional object at 0x0000025AC110FCA0&gt;\n",
              "\tbuild_fn=None\n",
              "\twarm_start=False\n",
              "\trandom_state=None\n",
              "\toptimizer=rmsprop\n",
              "\tloss=None\n",
              "\tmetrics=None\n",
              "\tbatch_size=None\n",
              "\tvalidation_batch_size=None\n",
              "\tverbose=1\n",
              "\tcallbacks=None\n",
              "\tvalidation_split=0.0\n",
              "\tshuffle=True\n",
              "\trun_eagerly=False\n",
              "\tepochs=10\n",
              "\tclass_weight=None\n",
              ")</pre></div></div></div></div></div></div></div>"
            ],
            "text/plain": [
              "Pipeline(steps=[('Normalization',\n",
              "                 <__main__.DataframeFunctionTransformer object at 0x0000025ABF22C220>),\n",
              "                ('model',\n",
              "                 KerasClassifier(epochs=10, model=<keras.engine.functional.Functional object at 0x0000025AC110FCA0>))])"
            ]
          },
          "execution_count": 93,
          "metadata": {},
          "output_type": "execute_result"
        }
      ],
      "source": [
        "from sklearn.pipeline import Pipeline\n",
        "from sklearn import set_config\n",
        "set_config(display=\"diagram\")\n",
        "pipeline = Pipeline(steps=[\n",
        "                (\"Normalization\", DataframeFunctionTransformer(normalizeDataset)),\n",
        "                (\"model\", clf)\n",
        "\n",
        "])\n",
        "pipeline"
      ]
    },
    {
      "cell_type": "markdown",
      "metadata": {},
      "source": [
        "**Train**"
      ]
    },
    {
      "cell_type": "code",
      "execution_count": 94,
      "metadata": {},
      "outputs": [
        {
          "name": "stdout",
          "output_type": "stream",
          "text": [
            "Epoch 1/10\n",
            "1901/1901 [==============================] - 87s 45ms/step - loss: 0.2019 - sparse_categorical_accuracy: 0.9604\n",
            "Epoch 2/10\n",
            "1901/1901 [==============================] - 101s 53ms/step - loss: 0.1674 - sparse_categorical_accuracy: 0.9604\n",
            "Epoch 3/10\n",
            "1901/1901 [==============================] - 107s 56ms/step - loss: 0.1638 - sparse_categorical_accuracy: 0.9604\n",
            "Epoch 4/10\n",
            "1901/1901 [==============================] - 102s 53ms/step - loss: 0.1615 - sparse_categorical_accuracy: 0.9604\n",
            "Epoch 5/10\n",
            "1901/1901 [==============================] - 92s 49ms/step - loss: 0.1600 - sparse_categorical_accuracy: 0.9604\n",
            "Epoch 6/10\n",
            "1901/1901 [==============================] - 87s 46ms/step - loss: 0.1562 - sparse_categorical_accuracy: 0.9604\n",
            "Epoch 7/10\n",
            "1901/1901 [==============================] - 84s 44ms/step - loss: 0.1545 - sparse_categorical_accuracy: 0.9604\n",
            "Epoch 8/10\n",
            "1901/1901 [==============================] - 79s 42ms/step - loss: 0.1522 - sparse_categorical_accuracy: 0.9604\n",
            "Epoch 9/10\n",
            "1901/1901 [==============================] - 82s 43ms/step - loss: 0.1528 - sparse_categorical_accuracy: 0.9604\n",
            "Epoch 10/10\n",
            "1901/1901 [==============================] - 79s 42ms/step - loss: 0.1518 - sparse_categorical_accuracy: 0.9604\n"
          ]
        },
        {
          "data": {
            "text/html": [
              "<style>#sk-b2f83e2b-0890-4f02-9faa-504fb7f0c2c5 {color: black;background-color: white;}#sk-b2f83e2b-0890-4f02-9faa-504fb7f0c2c5 pre{padding: 0;}#sk-b2f83e2b-0890-4f02-9faa-504fb7f0c2c5 div.sk-toggleable {background-color: white;}#sk-b2f83e2b-0890-4f02-9faa-504fb7f0c2c5 label.sk-toggleable__label {cursor: pointer;display: block;width: 100%;margin-bottom: 0;padding: 0.3em;box-sizing: border-box;text-align: center;}#sk-b2f83e2b-0890-4f02-9faa-504fb7f0c2c5 label.sk-toggleable__label-arrow:before {content: \"▸\";float: left;margin-right: 0.25em;color: #696969;}#sk-b2f83e2b-0890-4f02-9faa-504fb7f0c2c5 label.sk-toggleable__label-arrow:hover:before {color: black;}#sk-b2f83e2b-0890-4f02-9faa-504fb7f0c2c5 div.sk-estimator:hover label.sk-toggleable__label-arrow:before {color: black;}#sk-b2f83e2b-0890-4f02-9faa-504fb7f0c2c5 div.sk-toggleable__content {max-height: 0;max-width: 0;overflow: hidden;text-align: left;background-color: #f0f8ff;}#sk-b2f83e2b-0890-4f02-9faa-504fb7f0c2c5 div.sk-toggleable__content pre {margin: 0.2em;color: black;border-radius: 0.25em;background-color: #f0f8ff;}#sk-b2f83e2b-0890-4f02-9faa-504fb7f0c2c5 input.sk-toggleable__control:checked~div.sk-toggleable__content {max-height: 200px;max-width: 100%;overflow: auto;}#sk-b2f83e2b-0890-4f02-9faa-504fb7f0c2c5 input.sk-toggleable__control:checked~label.sk-toggleable__label-arrow:before {content: \"▾\";}#sk-b2f83e2b-0890-4f02-9faa-504fb7f0c2c5 div.sk-estimator input.sk-toggleable__control:checked~label.sk-toggleable__label {background-color: #d4ebff;}#sk-b2f83e2b-0890-4f02-9faa-504fb7f0c2c5 div.sk-label input.sk-toggleable__control:checked~label.sk-toggleable__label {background-color: #d4ebff;}#sk-b2f83e2b-0890-4f02-9faa-504fb7f0c2c5 input.sk-hidden--visually {border: 0;clip: rect(1px 1px 1px 1px);clip: rect(1px, 1px, 1px, 1px);height: 1px;margin: -1px;overflow: hidden;padding: 0;position: absolute;width: 1px;}#sk-b2f83e2b-0890-4f02-9faa-504fb7f0c2c5 div.sk-estimator {font-family: monospace;background-color: #f0f8ff;border: 1px dotted black;border-radius: 0.25em;box-sizing: border-box;margin-bottom: 0.5em;}#sk-b2f83e2b-0890-4f02-9faa-504fb7f0c2c5 div.sk-estimator:hover {background-color: #d4ebff;}#sk-b2f83e2b-0890-4f02-9faa-504fb7f0c2c5 div.sk-parallel-item::after {content: \"\";width: 100%;border-bottom: 1px solid gray;flex-grow: 1;}#sk-b2f83e2b-0890-4f02-9faa-504fb7f0c2c5 div.sk-label:hover label.sk-toggleable__label {background-color: #d4ebff;}#sk-b2f83e2b-0890-4f02-9faa-504fb7f0c2c5 div.sk-serial::before {content: \"\";position: absolute;border-left: 1px solid gray;box-sizing: border-box;top: 2em;bottom: 0;left: 50%;}#sk-b2f83e2b-0890-4f02-9faa-504fb7f0c2c5 div.sk-serial {display: flex;flex-direction: column;align-items: center;background-color: white;padding-right: 0.2em;padding-left: 0.2em;}#sk-b2f83e2b-0890-4f02-9faa-504fb7f0c2c5 div.sk-item {z-index: 1;}#sk-b2f83e2b-0890-4f02-9faa-504fb7f0c2c5 div.sk-parallel {display: flex;align-items: stretch;justify-content: center;background-color: white;}#sk-b2f83e2b-0890-4f02-9faa-504fb7f0c2c5 div.sk-parallel::before {content: \"\";position: absolute;border-left: 1px solid gray;box-sizing: border-box;top: 2em;bottom: 0;left: 50%;}#sk-b2f83e2b-0890-4f02-9faa-504fb7f0c2c5 div.sk-parallel-item {display: flex;flex-direction: column;position: relative;background-color: white;}#sk-b2f83e2b-0890-4f02-9faa-504fb7f0c2c5 div.sk-parallel-item:first-child::after {align-self: flex-end;width: 50%;}#sk-b2f83e2b-0890-4f02-9faa-504fb7f0c2c5 div.sk-parallel-item:last-child::after {align-self: flex-start;width: 50%;}#sk-b2f83e2b-0890-4f02-9faa-504fb7f0c2c5 div.sk-parallel-item:only-child::after {width: 0;}#sk-b2f83e2b-0890-4f02-9faa-504fb7f0c2c5 div.sk-dashed-wrapped {border: 1px dashed gray;margin: 0 0.4em 0.5em 0.4em;box-sizing: border-box;padding-bottom: 0.4em;background-color: white;position: relative;}#sk-b2f83e2b-0890-4f02-9faa-504fb7f0c2c5 div.sk-label label {font-family: monospace;font-weight: bold;background-color: white;display: inline-block;line-height: 1.2em;}#sk-b2f83e2b-0890-4f02-9faa-504fb7f0c2c5 div.sk-label-container {position: relative;z-index: 2;text-align: center;}#sk-b2f83e2b-0890-4f02-9faa-504fb7f0c2c5 div.sk-container {/* jupyter's `normalize.less` sets `[hidden] { display: none; }` but bootstrap.min.css set `[hidden] { display: none !important; }` so we also need the `!important` here to be able to override the default hidden behavior on the sphinx rendered scikit-learn.org. See: https://github.com/scikit-learn/scikit-learn/issues/21755 */display: inline-block !important;position: relative;}#sk-b2f83e2b-0890-4f02-9faa-504fb7f0c2c5 div.sk-text-repr-fallback {display: none;}</style><div id=\"sk-b2f83e2b-0890-4f02-9faa-504fb7f0c2c5\" class=\"sk-top-container\"><div class=\"sk-text-repr-fallback\"><pre>Pipeline(steps=[(&#x27;Normalization&#x27;,\n",
              "                 &lt;__main__.DataframeFunctionTransformer object at 0x0000025ABF22C220&gt;),\n",
              "                (&#x27;model&#x27;,\n",
              "                 KerasClassifier(epochs=10, model=&lt;keras.engine.functional.Functional object at 0x0000025AC110FCA0&gt;))])</pre><b>Please rerun this cell to show the HTML repr or trust the notebook.</b></div><div class=\"sk-container\" hidden><div class=\"sk-item sk-dashed-wrapped\"><div class=\"sk-label-container\"><div class=\"sk-label sk-toggleable\"><input class=\"sk-toggleable__control sk-hidden--visually\" id=\"948669dc-f18f-4afe-9f65-1506c6fdc63f\" type=\"checkbox\" ><label for=\"948669dc-f18f-4afe-9f65-1506c6fdc63f\" class=\"sk-toggleable__label sk-toggleable__label-arrow\">Pipeline</label><div class=\"sk-toggleable__content\"><pre>Pipeline(steps=[(&#x27;Normalization&#x27;,\n",
              "                 &lt;__main__.DataframeFunctionTransformer object at 0x0000025ABF22C220&gt;),\n",
              "                (&#x27;model&#x27;,\n",
              "                 KerasClassifier(epochs=10, model=&lt;keras.engine.functional.Functional object at 0x0000025AC110FCA0&gt;))])</pre></div></div></div><div class=\"sk-serial\"><div class=\"sk-item\"><div class=\"sk-estimator sk-toggleable\"><input class=\"sk-toggleable__control sk-hidden--visually\" id=\"ac051bc1-1ef8-49c3-a8e0-1deb66935c40\" type=\"checkbox\" ><label for=\"ac051bc1-1ef8-49c3-a8e0-1deb66935c40\" class=\"sk-toggleable__label sk-toggleable__label-arrow\">DataframeFunctionTransformer</label><div class=\"sk-toggleable__content\"><pre>&lt;__main__.DataframeFunctionTransformer object at 0x0000025ABF22C220&gt;</pre></div></div></div><div class=\"sk-item\"><div class=\"sk-estimator sk-toggleable\"><input class=\"sk-toggleable__control sk-hidden--visually\" id=\"19c6e7ad-8069-4ff4-82f3-2a7f0bf513cc\" type=\"checkbox\" ><label for=\"19c6e7ad-8069-4ff4-82f3-2a7f0bf513cc\" class=\"sk-toggleable__label sk-toggleable__label-arrow\">KerasClassifier</label><div class=\"sk-toggleable__content\"><pre>KerasClassifier(\n",
              "\tmodel=&lt;keras.engine.functional.Functional object at 0x0000025AC110FCA0&gt;\n",
              "\tbuild_fn=None\n",
              "\twarm_start=False\n",
              "\trandom_state=None\n",
              "\toptimizer=rmsprop\n",
              "\tloss=None\n",
              "\tmetrics=None\n",
              "\tbatch_size=None\n",
              "\tvalidation_batch_size=None\n",
              "\tverbose=1\n",
              "\tcallbacks=None\n",
              "\tvalidation_split=0.0\n",
              "\tshuffle=True\n",
              "\trun_eagerly=False\n",
              "\tepochs=10\n",
              "\tclass_weight=None\n",
              ")</pre></div></div></div></div></div></div></div>"
            ],
            "text/plain": [
              "Pipeline(steps=[('Normalization',\n",
              "                 <__main__.DataframeFunctionTransformer object at 0x0000025ABF22C220>),\n",
              "                ('model',\n",
              "                 KerasClassifier(epochs=10, model=<keras.engine.functional.Functional object at 0x0000025AC110FCA0>))])"
            ]
          },
          "execution_count": 94,
          "metadata": {},
          "output_type": "execute_result"
        }
      ],
      "source": [
        "pipeline.fit(x_train, y_train)"
      ]
    },
    {
      "cell_type": "markdown",
      "metadata": {},
      "source": [
        "**Make Prediction**"
      ]
    },
    {
      "cell_type": "code",
      "execution_count": 101,
      "metadata": {},
      "outputs": [
        {
          "name": "stdout",
          "output_type": "stream",
          "text": [
            "476/476 [==============================] - 3s 6ms/step\n"
          ]
        },
        {
          "data": {
            "text/plain": [
              "(array([0, 0, 0, 0, 0, 0, 0, 0, 0, 0], dtype=int64),\n",
              " array([0, 0, 0, ..., 0, 0, 0], dtype=int64))"
            ]
          },
          "execution_count": 101,
          "metadata": {},
          "output_type": "execute_result"
        }
      ],
      "source": [
        "y_preds = clf.predict(tf.cast(x_test, tf.float32))\n",
        "y_preds[:10], y_preds[10:]"
      ]
    },
    {
      "cell_type": "markdown",
      "metadata": {},
      "source": [
        "**Plot History**"
      ]
    },
    {
      "cell_type": "code",
      "execution_count": 95,
      "metadata": {},
      "outputs": [
        {
          "data": {
            "text/plain": [
              "dict_keys(['loss', 'sparse_categorical_accuracy'])"
            ]
          },
          "execution_count": 95,
          "metadata": {},
          "output_type": "execute_result"
        }
      ],
      "source": [
        "clf.history_.keys()"
      ]
    },
    {
      "cell_type": "code",
      "execution_count": 98,
      "metadata": {},
      "outputs": [
        {
          "data": {
            "image/png": "[encoded data removed]",
            "text/plain": [
              "<Figure size 432x288 with 1 Axes>"
            ]
          },
          "metadata": {
            "needs_background": "light"
          },
          "output_type": "display_data"
        }
      ],
      "source": [
        "epoch_range = range(1, 11)\n",
        "\n",
        "# Plot training and validation accuracy values\n",
        "# sparse_categorical_accuracy vs val_sparse_categorical_accuracy\n",
        "plt.plot(epoch_range, clf.history_[\"sparse_categorical_accuracy\"])\n",
        "plt.plot(epoch_range, clf.history_[\"loss\"])\n",
        "plt.title(\"Model Performance\")\n",
        "plt.ylabel(\"Accuracy/Loss\")\n",
        "plt.xlabel(\"Epoch\")\n",
        "plt.legend([\"Accuracy\", \"Loss\"], loc=\"upper left\")\n",
        "plt.show()"
      ]
    },
    {
      "cell_type": "markdown",
      "metadata": {},
      "source": [
        "**Approach 2**"
      ]
    },
    {
      "cell_type": "code",
      "execution_count": 107,
      "metadata": {},
      "outputs": [
        {
          "data": {
            "text/plain": [
              "((60816, 273), (15204, 273), (60816,), (15204,))"
            ]
          },
          "execution_count": 107,
          "metadata": {},
          "output_type": "execute_result"
        }
      ],
      "source": [
        "# Read Data\n",
        "data = pd.read_csv(\"data/santander-train.csv\")\n",
        "data.head()\n",
        "\n",
        "# Drop Duplicates\n",
        "data = dropDuplicates(data)\n",
        "\n",
        "# Split Dataset\n",
        "x_train, x_test, y_train, y_test = train_test_split(x, y, test_size=0.2, random_state=0, stratify=y)\n",
        "\n",
        "# Remove Constants\n",
        "filter = VarianceThreshold(0.01) # Removing 1%\n",
        "x_train = filter.fit_transform(x_train)\n",
        "x_test = filter.transform(x_test)\n",
        "\n",
        "# Bringing down the differences.\n",
        "scaler = StandardScaler()\n",
        "x_train = scaler.fit_transform(x_train)\n",
        "x_test = scaler.transform(x_test)\n",
        "\n",
        "# Shapes\n",
        "x_train.shape, x_test.shape, y_train.shape, y_test.shape"
      ]
    },
    {
      "cell_type": "markdown",
      "metadata": {
        "id": "-2XniZbT9Ckd"
      },
      "source": [
        "**Model**"
      ]
    },
    {
      "cell_type": "code",
      "execution_count": null,
      "metadata": {
        "id": "EHMYmwmN9B4P"
      },
      "outputs": [],
      "source": [
        "model = Sequential()\n",
        "model.add(Conv1D(filters=32, kernel_size=3, activation=\"relu\", input_shape=(273, 1)))\n",
        "model.add(BatchNormalization())\n",
        "model.add(MaxPool1D(2))\n",
        "model.add(Dropout(0.3))\n",
        "\n",
        "model.add(Conv1D(filters=64, kernel_size=3, activation=\"relu\"))\n",
        "model.add(BatchNormalization())\n",
        "model.add(MaxPool1D(2))\n",
        "model.add(Dropout(0.5))\n",
        "\n",
        "model.add(Conv1D(filters=128, kernel_size=3, activation=\"relu\"))\n",
        "model.add(BatchNormalization())\n",
        "model.add(MaxPool1D(2))\n",
        "model.add(Dropout(0.3))\n",
        "\n",
        "model.add(Flatten())\n",
        "model.add(Dense(273, activation=\"relu\"))\n",
        "model.add(Dropout(0.5))\n",
        "\n",
        "model.add(Dense(1, activation=\"sigmoid\"))\n",
        "\n",
        "model.summary()\n",
        "\n",
        "model.compile(optimizer=\"adam\", loss=\"binary_crossentropy\", metrics=[\"accuracy\"])\n",
        "\n",
        "history = model.fit(x_train, y_train, epochs=10, validation_data=(x_test, y_test), verbose=1)"
      ]
    },
    {
      "cell_type": "code",
      "execution_count": null,
      "metadata": {
        "id": "H2n0FZjkGJmH"
      },
      "outputs": [],
      "source": [
        "epoch_range = range(1, 11)\n",
        "\n",
        "# Plot training and validation accuracy values\n",
        "# sparse_categorical_accuracy vs val_sparse_categorical_accuracy\n",
        "plt.plot(epoch_range, history.history[\"accuracy\"])\n",
        "plt.plot(epoch_range, history.history[\"val_accuracy\"])\n",
        "plt.title(\"Model Accuracy\")\n",
        "plt.ylabel(\"Accuracy\")\n",
        "plt.xlabel(\"Epoch\")\n",
        "plt.legend([\"Train\", \"Val\"], loc=\"upper left\")\n",
        "plt.show()\n",
        "\n",
        "# Plot training and validation loss values\n",
        "# Loss vs Val_Loss\n",
        "plt.plot(epoch_range, history.history[\"loss\"])\n",
        "plt.plot(epoch_range, history.history[\"val_loss\"])\n",
        "plt.title(\"Model Loss\")\n",
        "plt.ylabel(\"Loss\")\n",
        "plt.xlabel(\"Epoch\")\n",
        "plt.legend([\"Train\", \"Val\"], loc=\"upper left\")\n",
        "plt.show()"
      ]
    }
  ],
  "metadata": {
    "colab": {
      "include_colab_link": true,
      "name": "Tensorflow - Bank Customer Satisfaction Using CNN and Feature Selection.ipynb",
      "provenance": []
    },
    "interpreter": {
      "hash": "0d7fd96aeadd740978789f2880dd43822d8681a39e327029c33ff72656207c4b"
    },
    "kernelspec": {
      "display_name": "Python 3.10.4 64-bit",
      "language": "python",
      "name": "python3"
    },
    "language_info": {
      "codemirror_mode": {
        "name": "ipython",
        "version": 3
      },
      "file_extension": ".py",
      "mimetype": "text/x-python",
      "name": "python",
      "nbconvert_exporter": "python",
      "pygments_lexer": "ipython3",
      "version": "3.10.4"
    }
  },
  "nbformat": 4,
  "nbformat_minor": 0
}
