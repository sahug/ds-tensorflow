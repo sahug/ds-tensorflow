{
 "cells": [
  {
   "cell_type": "markdown",
   "metadata": {},
   "source": [
    "**Tensorflow - Save Best Model - Checkpoint and Callbacks**"
   ]
  },
  {
   "cell_type": "code",
   "execution_count": 60,
   "metadata": {},
   "outputs": [],
   "source": [
    "# Get Dataset\n",
    "import tensorflow as tf\n",
    "from tensorflow.keras.datasets import mnist"
   ]
  },
  {
   "cell_type": "code",
   "execution_count": 61,
   "metadata": {},
   "outputs": [],
   "source": [
    "# Load Dataset\n",
    "(x_train, y_train), (x_test, y_test) = mnist.load_data()"
   ]
  },
  {
   "cell_type": "code",
   "execution_count": 62,
   "metadata": {},
   "outputs": [
    {
     "data": {
      "text/plain": [
       "((60000, 28, 28), (60000,), (10000, 28, 28), (10000,))"
      ]
     },
     "execution_count": 62,
     "metadata": {},
     "output_type": "execute_result"
    }
   ],
   "source": [
    "# Shape of Dataset\n",
    "x_train.shape, y_train.shape, x_test.shape, y_test.shape"
   ]
  },
  {
   "cell_type": "code",
   "execution_count": 63,
   "metadata": {},
   "outputs": [
    {
     "data": {
      "text/plain": [
       "(28, 28)"
      ]
     },
     "execution_count": 63,
     "metadata": {},
     "output_type": "execute_result"
    }
   ],
   "source": [
    "# Shape of Datapoint\n",
    "x_train[1].shape"
   ]
  },
  {
   "cell_type": "code",
   "execution_count": 64,
   "metadata": {},
   "outputs": [
    {
     "data": {
      "text/plain": [
       "<matplotlib.image.AxesImage at 0x1e212722ce0>"
      ]
     },
     "execution_count": 64,
     "metadata": {},
     "output_type": "execute_result"
    },
    {
     "data": {
      "image/png": "[encoded data removed]",
      "text/plain": [
       "<Figure size 432x288 with 1 Axes>"
      ]
     },
     "metadata": {
      "needs_background": "light"
     },
     "output_type": "display_data"
    }
   ],
   "source": [
    "import matplotlib.pyplot as plt\n",
    "plt.imshow(x_train[0], cmap=\"gray\")"
   ]
  },
  {
   "cell_type": "code",
   "execution_count": 65,
   "metadata": {},
   "outputs": [
    {
     "data": {
      "text/plain": [
       "5"
      ]
     },
     "execution_count": 65,
     "metadata": {},
     "output_type": "execute_result"
    }
   ],
   "source": [
    "y_train[0]"
   ]
  },
  {
   "cell_type": "code",
   "execution_count": 66,
   "metadata": {},
   "outputs": [],
   "source": [
    "# Normalize Images\n",
    "x_train = x_train/255.0\n",
    "x_test = x_test/255.0"
   ]
  },
  {
   "cell_type": "code",
   "execution_count": 67,
   "metadata": {},
   "outputs": [],
   "source": [
    "# Reshape Dataset\n",
    "x_train = x_train.reshape(60000, 28, 28, 1)\n",
    "x_test = x_test.reshape((10000, 28, 28, 1))"
   ]
  },
  {
   "cell_type": "code",
   "execution_count": 81,
   "metadata": {},
   "outputs": [],
   "source": [
    "# Build Model\n",
    "from tensorflow.keras import Sequential\n",
    "from tensorflow.keras.layers import Flatten, Conv2D, MaxPool2D, Dense, Dropout\n",
    "\n",
    "model = Sequential()\n",
    "\n",
    "model.add(Conv2D(filters=32, kernel_size=(3, 3), activation=\"relu\", input_shape=x_train[0].shape)) #Layer 1\n",
    "\n",
    "model.add(Conv2D(filters=64, kernel_size=(3, 3), activation=\"relu\")) #Layer 2\n",
    "\n",
    "model.add(MaxPool2D(pool_size=(2, 2))) # Layer 3. Adding MaxPool Layer\n",
    "\n",
    "model.add(Dropout(0.25)) # Layer 4. Adding dropout layer. 25% of neurons will randomly drop bfore going to next layer.\n",
    "\n",
    "model.add(Flatten()) # Layer 5. Adding Flatten Layer. Converts to 2D.\n",
    "\n",
    "model.add(Dense(128, activation=\"relu\")) # Layer 6. Adding Dense Layer.\n",
    "\n",
    "model.add(Dropout(0.5)) # Layer 7. Adding dropout layer. 50% of neurons will randomly drop bfore going to next layer.\n",
    "\n",
    "model.add(Dense(10, activation=\"softmax\")) # Layer 8. Output Layer. 10 is the num"
   ]
  },
  {
   "cell_type": "code",
   "execution_count": 82,
   "metadata": {},
   "outputs": [],
   "source": [
    "# Compile Model\n",
    "model.compile(optimizer=\"adam\", loss=\"sparse_categorical_crossentropy\", metrics=[\"accuracy\"])"
   ]
  },
  {
   "cell_type": "code",
   "execution_count": 85,
   "metadata": {},
   "outputs": [],
   "source": [
    "# Model Checkpoint and Callbacks\n",
    "from tensorflow.keras.callbacks import ModelCheckpoint\n",
    "filepath = \"cp-{epoch:02d}-{val_accuracy:.02f}.hf\"\n",
    "checkpoint = ModelCheckpoint(filepath, monitor=\"val_loss\", verbose=1, save_best_only=True, mode=\"min\")"
   ]
  },
  {
   "cell_type": "code",
   "execution_count": 86,
   "metadata": {},
   "outputs": [
    {
     "name": "stdout",
     "output_type": "stream",
     "text": [
      "Epoch 1/3\n",
      "2998/3000 [============================>.] - ETA: 0s - loss: 0.0972 - accuracy: 0.9706\n",
      "Epoch 1: val_loss improved from inf to 0.06264, saving model to cp-01-0.98.hf\n",
      "INFO:tensorflow:Assets written to: cp-01-0.98.hf\\assets\n",
      "3000/3000 [==============================] - 67s 22ms/step - loss: 0.0972 - accuracy: 0.9706 - val_loss: 0.0626 - val_accuracy: 0.9808\n",
      "Epoch 2/3\n",
      "2999/3000 [============================>.] - ETA: 0s - loss: 0.0712 - accuracy: 0.9787\n",
      "Epoch 2: val_loss improved from 0.06264 to 0.05994, saving model to cp-02-0.98.hf\n",
      "INFO:tensorflow:Assets written to: cp-02-0.98.hf\\assets\n",
      "3000/3000 [==============================] - 107s 36ms/step - loss: 0.0712 - accuracy: 0.9787 - val_loss: 0.0599 - val_accuracy: 0.9828\n",
      "Epoch 3/3\n",
      "3000/3000 [==============================] - ETA: 0s - loss: 0.0585 - accuracy: 0.9809\n",
      "Epoch 3: val_loss improved from 0.05994 to 0.05542, saving model to cp-03-0.99.hf\n",
      "INFO:tensorflow:Assets written to: cp-03-0.99.hf\\assets\n",
      "3000/3000 [==============================] - 96s 32ms/step - loss: 0.0585 - accuracy: 0.9809 - val_loss: 0.0554 - val_accuracy: 0.9852\n"
     ]
    }
   ],
   "source": [
    "# Train Model\n",
    "history = model.fit(x_train, y_train, epochs=3, batch_size=10, validation_split=0.5, callbacks=[checkpoint])"
   ]
  }
 ],
 "metadata": {
  "interpreter": {
   "hash": "0d7fd96aeadd740978789f2880dd43822d8681a39e327029c33ff72656207c4b"
  },
  "kernelspec": {
   "display_name": "Python 3.10.4 64-bit",
   "language": "python",
   "name": "python3"
  },
  "language_info": {
   "codemirror_mode": {
    "name": "ipython",
    "version": 3
   },
   "file_extension": ".py",
   "mimetype": "text/x-python",
   "name": "python",
   "nbconvert_exporter": "python",
   "pygments_lexer": "ipython3",
   "version": "3.10.4"
  },
  "orig_nbformat": 4
 },
 "nbformat": 4,
 "nbformat_minor": 2
}
