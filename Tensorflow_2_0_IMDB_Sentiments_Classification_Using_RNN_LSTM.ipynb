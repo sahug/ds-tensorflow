{
 "cells": [
  {
   "cell_type": "markdown",
   "metadata": {
    "colab_type": "text",
    "id": "view-in-github"
   },
   "source": [
    "<a href=\"https://colab.research.google.com/github/sahug/tensorflow-colab/blob/master/Tensorflow_2_0_IMDB_Sentiments_Classification_Using_RNN_LSTM.ipynb\" target=\"_parent\"><img src=\"https://colab.research.google.com/assets/colab-badge.svg\" alt=\"Open In Colab\"/></a>"
   ]
  },
  {
   "cell_type": "markdown",
   "metadata": {
    "id": "tjWp_iocNX21"
   },
   "source": [
    "# **IMDB Sentiments Classification Using RNN-LSTM**"
   ]
  },
  {
   "cell_type": "code",
   "execution_count": null,
   "metadata": {
    "colab": {
     "base_uri": "https://localhost:8080/",
     "height": 1000
    },
    "id": "7oDsGsg27NwZ",
    "outputId": "3fd801ed-6291-4e4e-d2e3-a6b9032a62a7"
   },
   "outputs": [],
   "source": [
    "!pip install tensorflow-gpu==2.0.0"
   ]
  },
  {
   "cell_type": "code",
   "execution_count": null,
   "metadata": {
    "id": "ZKegetpaNxo5"
   },
   "outputs": [],
   "source": [
    "import numpy as np\n",
    "import matplotlib.pyplot as plt\n",
    "import tensorflow as tf\n",
    "\n",
    "from tensorflow.keras.datasets import imdb\n",
    "from tensorflow.keras.preprocessing.sequence import pad_sequences"
   ]
  },
  {
   "cell_type": "code",
   "execution_count": null,
   "metadata": {
    "colab": {
     "base_uri": "https://localhost:8080/",
     "height": 34
    },
    "id": "E2wYE9BQOa3Z",
    "outputId": "e294ea63-a757-45e7-9c7f-bea0054f9bef"
   },
   "outputs": [],
   "source": [
    "print(tf.__version__)"
   ]
  },
  {
   "cell_type": "markdown",
   "metadata": {
    "id": "7ClKpIBOQW1f"
   },
   "source": [
    "# **Data Preprocessing**"
   ]
  },
  {
   "cell_type": "code",
   "execution_count": null,
   "metadata": {
    "colab": {
     "base_uri": "https://localhost:8080/",
     "height": 51
    },
    "id": "0uPJHBjmQNwA",
    "outputId": "bf07f496-0982-4494-e06d-cdd9ce52a567"
   },
   "outputs": [],
   "source": [
    "(x_train, y_train), (x_test, y_test) = imdb.load_data(num_words=20000)"
   ]
  },
  {
   "cell_type": "code",
   "execution_count": null,
   "metadata": {
    "colab": {
     "base_uri": "https://localhost:8080/",
     "height": 173
    },
    "id": "NVQRPVg2Q7rY",
    "outputId": "abc7ac88-80fb-408e-c40b-660bd05f53aa"
   },
   "outputs": [],
   "source": [
    "x_train"
   ]
  },
  {
   "cell_type": "code",
   "execution_count": null,
   "metadata": {
    "id": "qnmzxfIBRErT"
   },
   "outputs": [],
   "source": [
    "# padding any reviews which has more that 100 length\n",
    "x_train = pad_sequences(x_train, maxlen=100)\n",
    "x_test = pad_sequences(x_test, maxlen=100)"
   ]
  },
  {
   "cell_type": "code",
   "execution_count": null,
   "metadata": {
    "colab": {
     "base_uri": "https://localhost:8080/",
     "height": 34
    },
    "id": "qMTt_Qk2RnFO",
    "outputId": "c59fff27-44de-44d3-d696-c187ec50fdcd"
   },
   "outputs": [],
   "source": [
    "x_train.shape"
   ]
  },
  {
   "cell_type": "code",
   "execution_count": null,
   "metadata": {
    "id": "f71LVpb9Rw-X"
   },
   "outputs": [],
   "source": [
    "voacab_size = 20000\n",
    "embed_size = 128"
   ]
  },
  {
   "cell_type": "markdown",
   "metadata": {
    "id": "PxhmETMQR8MO"
   },
   "source": [
    "# **Build LSTM**"
   ]
  },
  {
   "cell_type": "code",
   "execution_count": null,
   "metadata": {
    "id": "ctODIGqeR6Io"
   },
   "outputs": [],
   "source": [
    "from tensorflow.keras import Sequential\n",
    "from tensorflow.keras.layers import LSTM, Dropout, Dense, Embedding # Embedding is advance version of converting words to vectors"
   ]
  },
  {
   "cell_type": "code",
   "execution_count": null,
   "metadata": {
    "id": "AnEP4PdTSgVE"
   },
   "outputs": [],
   "source": [
    "model = Sequential()\n",
    "model.add(Embedding(voacab_size, embed_size, input_shape=(x_train.shape[1],)))\n",
    "model.add(LSTM(units=60, activation=\"tanh\"))\n",
    "model.add(Dense(units=1, activation=\"sigmoid\"))"
   ]
  },
  {
   "cell_type": "code",
   "execution_count": null,
   "metadata": {
    "colab": {
     "base_uri": "https://localhost:8080/",
     "height": 255
    },
    "id": "fRBDST_7TlWu",
    "outputId": "39e75528-1931-46db-80e4-be8f2e2010e6"
   },
   "outputs": [],
   "source": [
    "model.summary()"
   ]
  },
  {
   "cell_type": "code",
   "execution_count": null,
   "metadata": {
    "id": "S7x92hf-Ts5B"
   },
   "outputs": [],
   "source": [
    "model.compile(optimizer=\"adam\", loss=\"binary_crossentropy\", metrics=[\"accuracy\"])"
   ]
  },
  {
   "cell_type": "code",
   "execution_count": null,
   "metadata": {
    "colab": {
     "base_uri": "https://localhost:8080/",
     "height": 204
    },
    "id": "ar5BME0pT1-O",
    "outputId": "bba5ba77-e13a-4bc0-bb1d-a55fa10343c2"
   },
   "outputs": [],
   "source": [
    "history = model.fit(x_train, y_train, epochs=5, batch_size=128, validation_data=(x_test, y_test))"
   ]
  },
  {
   "cell_type": "code",
   "execution_count": null,
   "metadata": {
    "colab": {
     "base_uri": "https://localhost:8080/",
     "height": 221
    },
    "id": "5H4QQ97bXp9_",
    "outputId": "13d622d6-7c49-4101-9ccf-0b7bfdd42967"
   },
   "outputs": [],
   "source": [
    "history.history"
   ]
  },
  {
   "cell_type": "code",
   "execution_count": null,
   "metadata": {
    "colab": {
     "base_uri": "https://localhost:8080/",
     "height": 295
    },
    "id": "teVVodFFXx0J",
    "outputId": "74f8ac5c-c7ca-48a7-832d-b3fd8f5cb1ab"
   },
   "outputs": [],
   "source": [
    "# Plot training and validation accuracy values\n",
    "# sparse_categorical_accuracy vs val_sparse_categorical_accuracy\n",
    "plt.plot(range(1, 6), history.history[\"accuracy\"])\n",
    "plt.plot(range(1, 6), history.history[\"val_accuracy\"])\n",
    "plt.title(\"Model Accuracy\")\n",
    "plt.ylabel(\"Accuracy\")\n",
    "plt.xlabel(\"Epoch\")\n",
    "plt.legend([\"Train\", \"Val\"], loc=\"upper left\")\n",
    "plt.show()"
   ]
  },
  {
   "cell_type": "code",
   "execution_count": null,
   "metadata": {
    "colab": {
     "base_uri": "https://localhost:8080/",
     "height": 295
    },
    "id": "FlmIVtnCYBQ5",
    "outputId": "0c7da79a-e511-4448-826b-cde8ad15cb7b"
   },
   "outputs": [],
   "source": [
    "# Plot training and validation loss values\n",
    "# Loss vs Val_Loss\n",
    "plt.plot(range(1, 6), history.history[\"loss\"])\n",
    "plt.plot(range(1, 6), history.history[\"val_loss\"])\n",
    "plt.title(\"Model Loss\")\n",
    "plt.ylabel(\"Loss\")\n",
    "plt.xlabel(\"Epoch\")\n",
    "plt.legend([\"Train\", \"Val\"], loc=\"upper left\")\n",
    "plt.show()"
   ]
  },
  {
   "cell_type": "markdown",
   "metadata": {
    "id": "xTV4W9O2Xlev"
   },
   "source": [
    "The model is just an example. The accuracy is pretty low and can be improved by adding more layers to it."
   ]
  }
 ],
 "metadata": {
  "colab": {
   "authorship_tag": "ABX9TyP5P8GJHzaTyOXdBzIuYN9s",
   "include_colab_link": true,
   "name": "Tensorflow 2.0 - IMDB Sentiments Classification Using RNN-LSTM.ipynb",
   "provenance": []
  },
  "kernelspec": {
   "display_name": "Python 3",
   "name": "python3"
  }
 },
 "nbformat": 4,
 "nbformat_minor": 0
}
