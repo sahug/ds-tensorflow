{
 "cells": [
  {
   "cell_type": "markdown",
   "metadata": {
    "colab_type": "text",
    "id": "view-in-github"
   },
   "source": [
    "<a href=\"https://colab.research.google.com/github/sahug/tensorflow-colab/blob/master/Tensorflow_2_0_Bank_Customer_Satisfaction_Using_CNN_and_Feature_Selection.ipynb\" target=\"_parent\"><img src=\"https://colab.research.google.com/assets/colab-badge.svg\" alt=\"Open In Colab\"/></a>"
   ]
  },
  {
   "cell_type": "markdown",
   "metadata": {
    "id": "q0-W6MdWw5qr"
   },
   "source": [
    "# **Bank Customer Satisfaction Using CNN and Feature Selection**"
   ]
  },
  {
   "cell_type": "code",
   "execution_count": null,
   "metadata": {
    "colab": {
     "base_uri": "https://localhost:8080/"
    },
    "id": "yjN6c7XQsops",
    "outputId": "7d77e6ad-07d3-469e-cd33-fdf6d8d81833"
   },
   "outputs": [],
   "source": [
    "!pip install tensorflow-gpu==2.0.0"
   ]
  },
  {
   "cell_type": "code",
   "execution_count": null,
   "metadata": {
    "id": "H7KY6oB7tGO2"
   },
   "outputs": [],
   "source": [
    "import tensorflow as tf\n",
    "from tensorflow.keras import Sequential\n",
    "from tensorflow.keras.layers import Conv1D, MaxPool1D, Flatten, Dense, Dropout, BatchNormalization\n",
    "from tensorflow.keras.optimizers import Adam"
   ]
  },
  {
   "cell_type": "code",
   "execution_count": null,
   "metadata": {
    "colab": {
     "base_uri": "https://localhost:8080/"
    },
    "id": "L2bXZYWp1r3f",
    "outputId": "e2e3bda1-0e02-4fd2-ca07-3127c56ad815"
   },
   "outputs": [],
   "source": [
    "print(tf.__version__)"
   ]
  },
  {
   "cell_type": "code",
   "execution_count": null,
   "metadata": {
    "id": "nlCTLO3F1v85"
   },
   "outputs": [],
   "source": [
    "import numpy as np\n",
    "import pandas as pd\n",
    "import seaborn as sns\n",
    "import matplotlib.pyplot as plt"
   ]
  },
  {
   "cell_type": "code",
   "execution_count": null,
   "metadata": {
    "id": "U4DjGyP614Ws"
   },
   "outputs": [],
   "source": [
    "from sklearn.model_selection import train_test_split\n",
    "from sklearn.preprocessing import StandardScaler\n",
    "from sklearn.feature_selection import VarianceThreshold"
   ]
  },
  {
   "cell_type": "code",
   "execution_count": null,
   "metadata": {
    "colab": {
     "base_uri": "https://localhost:8080/"
    },
    "id": "1ncvlCZw2I4N",
    "outputId": "0b388a88-4730-494a-f965-d383df78d5a3"
   },
   "outputs": [],
   "source": [
    "# Dataset Link - https://github.com/laxmimerit/Data-Files-for-Feature-Selection\n",
    "!git clone https://github.com/laxmimerit/Data-Files-for-Feature-Selection.git"
   ]
  },
  {
   "cell_type": "code",
   "execution_count": null,
   "metadata": {
    "colab": {
     "base_uri": "https://localhost:8080/",
     "height": 253
    },
    "id": "62tG-3Ya2tiQ",
    "outputId": "a89d5d6d-5ebd-4849-e494-3e7f4b4ce890"
   },
   "outputs": [],
   "source": [
    "# Read Data\n",
    "data = pd.read_csv(\"/content/Data-Files-for-Feature-Selection/santander-train.csv\")\n",
    "data.head()\n",
    "\n",
    "# target is 0 - Unsattisfied and 1 Satisfied in below data."
   ]
  },
  {
   "cell_type": "code",
   "execution_count": null,
   "metadata": {
    "colab": {
     "base_uri": "https://localhost:8080/"
    },
    "id": "_MZd5VQA3AWa",
    "outputId": "9d9c35dc-e2d3-4fb2-ca0c-c005475ac436"
   },
   "outputs": [],
   "source": [
    "data.shape"
   ]
  },
  {
   "cell_type": "code",
   "execution_count": null,
   "metadata": {
    "id": "hMeFLnq_3X9u"
   },
   "outputs": [],
   "source": [
    "x = data.drop(labels=[\"ID\", \"TARGET\"], axis=1) # Dropping unnecessary data"
   ]
  },
  {
   "cell_type": "code",
   "execution_count": null,
   "metadata": {
    "colab": {
     "base_uri": "https://localhost:8080/"
    },
    "id": "2xytzckq3ttK",
    "outputId": "06ecfe8d-b00f-4f30-b8ba-2f42cbf12115"
   },
   "outputs": [],
   "source": [
    "x.shape"
   ]
  },
  {
   "cell_type": "code",
   "execution_count": null,
   "metadata": {
    "id": "ZTj2mgCE3yUr"
   },
   "outputs": [],
   "source": [
    "y = data[\"TARGET\"] # This is waht we are predicting"
   ]
  },
  {
   "cell_type": "code",
   "execution_count": null,
   "metadata": {
    "id": "1f0WXljt3588"
   },
   "outputs": [],
   "source": [
    "x_train, x_test, y_train, y_test = train_test_split(x, y, test_size=0.2, random_state=0, stratify=y)"
   ]
  },
  {
   "cell_type": "code",
   "execution_count": null,
   "metadata": {
    "colab": {
     "base_uri": "https://localhost:8080/"
    },
    "id": "JxhQ4Ejn4JpT",
    "outputId": "7e0810a5-4082-40c4-c979-9b97cf161c2e"
   },
   "outputs": [],
   "source": [
    "x_train.shape, x_test.shape, y_train.shape, y_test.shape"
   ]
  },
  {
   "cell_type": "markdown",
   "metadata": {
    "id": "ZIQ81T9y4Ql8"
   },
   "source": [
    "#### **Remove Constant, Quassi Constant and Duplicate Features**"
   ]
  },
  {
   "cell_type": "code",
   "execution_count": null,
   "metadata": {
    "id": "kdzBekcU4XeS"
   },
   "outputs": [],
   "source": [
    "filter = VarianceThreshold(0.01) # Removing 1%\n",
    "x_train = filter.fit_transform(x_train)\n",
    "x_test = filter.transform(x_test)"
   ]
  },
  {
   "cell_type": "code",
   "execution_count": null,
   "metadata": {
    "colab": {
     "base_uri": "https://localhost:8080/"
    },
    "id": "nuUsf8mX5L-E",
    "outputId": "421f7dbe-c235-4bf8-c31d-b092bfd24143"
   },
   "outputs": [],
   "source": [
    "x_train.shape, x_test.shape"
   ]
  },
  {
   "cell_type": "code",
   "execution_count": null,
   "metadata": {
    "id": "KLl5ZM9o5SNk"
   },
   "outputs": [],
   "source": [
    "# Removing Duplicates.\n",
    "# Transpossing Rows and Columns\n",
    "x_train_t = x_train.T\n",
    "x_test_t = x_test.T"
   ]
  },
  {
   "cell_type": "code",
   "execution_count": null,
   "metadata": {
    "id": "Er0HJcMB5q4n"
   },
   "outputs": [],
   "source": [
    "x_train_t = pd.DataFrame(x_train_t)\n",
    "x_test_t = pd.DataFrame(x_test_t)"
   ]
  },
  {
   "cell_type": "code",
   "execution_count": null,
   "metadata": {
    "colab": {
     "base_uri": "https://localhost:8080/"
    },
    "id": "vpBhjHax5zJp",
    "outputId": "40782c09-5509-48d0-c076-ee725f1cd6a1"
   },
   "outputs": [],
   "source": [
    "# Here we can see we have transformed rows into columns and columns into rows\n",
    "x_train_t.shape, x_test_t.shape "
   ]
  },
  {
   "cell_type": "code",
   "execution_count": null,
   "metadata": {
    "colab": {
     "base_uri": "https://localhost:8080/"
    },
    "id": "L9FVE73p6DZq",
    "outputId": "72e15066-3517-4326-cc93-bea3ea767828"
   },
   "outputs": [],
   "source": [
    "x_train_t.duplicated().sum() # Finiding No of Duplicated Features that needs to be removed."
   ]
  },
  {
   "cell_type": "code",
   "execution_count": null,
   "metadata": {
    "colab": {
     "base_uri": "https://localhost:8080/"
    },
    "id": "4kfiLIsp6Suk",
    "outputId": "cecccfff-d699-4751-8794-7b365ff7c2bb"
   },
   "outputs": [],
   "source": [
    "duplicated_features = x_train_t.duplicated()\n",
    "duplicated_features\n",
    "\n",
    "#True gives duplicated features and False non duplicated features"
   ]
  },
  {
   "cell_type": "code",
   "execution_count": null,
   "metadata": {
    "colab": {
     "base_uri": "https://localhost:8080/"
    },
    "id": "AQ8j4Bsf6kf0",
    "outputId": "fdb7b9cd-1b22-43da-d9fb-52daf231d06c"
   },
   "outputs": [],
   "source": [
    "# Now we only want to keep non duplicated features.\n",
    "# Inverting True to False and False to True\n",
    "features_to_keep = [not index for index in duplicated_features]\n",
    "features_to_keep"
   ]
  },
  {
   "cell_type": "code",
   "execution_count": null,
   "metadata": {
    "colab": {
     "base_uri": "https://localhost:8080/"
    },
    "id": "wOY-U2EK6_F9",
    "outputId": "aada5972-fb37-4800-af29-15dfdb604761"
   },
   "outputs": [],
   "source": [
    "# Filtering and Transpossing back to original form\n",
    "x_train = x_train_t[features_to_keep].T\n",
    "x_train.shape"
   ]
  },
  {
   "cell_type": "code",
   "execution_count": null,
   "metadata": {
    "colab": {
     "base_uri": "https://localhost:8080/"
    },
    "id": "177beDPf7SaQ",
    "outputId": "dc778b37-87d1-47e3-d5e6-125332cd4bb1"
   },
   "outputs": [],
   "source": [
    "x_test = x_test_t[features_to_keep].T\n",
    "x_test.shape"
   ]
  },
  {
   "cell_type": "markdown",
   "metadata": {
    "id": "t7jcRCIw7iNS"
   },
   "source": [
    "#### Standardizing data. Bringing variance to common level."
   ]
  },
  {
   "cell_type": "code",
   "execution_count": null,
   "metadata": {
    "colab": {
     "base_uri": "https://localhost:8080/"
    },
    "id": "5YVM_qRC75ym",
    "outputId": "4c0313e1-475b-4518-e21d-51637fd369e8"
   },
   "outputs": [],
   "source": [
    "x_train, x_test # Here we can see lot of zeroes and hig differences in values."
   ]
  },
  {
   "cell_type": "code",
   "execution_count": null,
   "metadata": {
    "id": "6l47qp5O7giA"
   },
   "outputs": [],
   "source": [
    "# Bringing down the differences.\n",
    "scaler = StandardScaler()\n",
    "x_train = scaler.fit_transform(x_train)\n",
    "x_test = scaler.transform(x_test)"
   ]
  },
  {
   "cell_type": "code",
   "execution_count": null,
   "metadata": {
    "colab": {
     "base_uri": "https://localhost:8080/"
    },
    "id": "_90c6lv58KaW",
    "outputId": "d10b3cb0-62b4-4dfd-f387-ff50daec2606"
   },
   "outputs": [],
   "source": [
    "x_train, x_test # Now we can see the differences are close enough"
   ]
  },
  {
   "cell_type": "code",
   "execution_count": null,
   "metadata": {
    "colab": {
     "base_uri": "https://localhost:8080/"
    },
    "id": "n2cBfXQj8Um2",
    "outputId": "ed300657-e3c4-4ebd-cf36-f95ca003fed4"
   },
   "outputs": [],
   "source": [
    "x_train.shape, x_test.shape"
   ]
  },
  {
   "cell_type": "code",
   "execution_count": null,
   "metadata": {
    "id": "iLSIHyx28dhG"
   },
   "outputs": [],
   "source": [
    "# Reshapping the 2D data to 3D as neural networks understand 3D\n",
    "x_train = x_train.reshape(60816, 256, 1)\n",
    "x_test = x_test.reshape(15204, 256, 1)"
   ]
  },
  {
   "cell_type": "code",
   "execution_count": null,
   "metadata": {
    "colab": {
     "base_uri": "https://localhost:8080/"
    },
    "id": "kL669cK38w66",
    "outputId": "00c01b3d-ef44-4da7-af4a-3d69264bc13e"
   },
   "outputs": [],
   "source": [
    "x_train.shape, x_test.shape"
   ]
  },
  {
   "cell_type": "code",
   "execution_count": null,
   "metadata": {
    "id": "x779kQiZ80l3"
   },
   "outputs": [],
   "source": [
    "y_train = y_train.to_numpy()\n",
    "y_test = y_test.to_numpy()"
   ]
  },
  {
   "cell_type": "markdown",
   "metadata": {
    "id": "-2XniZbT9Ckd"
   },
   "source": [
    "## Build CNN"
   ]
  },
  {
   "cell_type": "code",
   "execution_count": null,
   "metadata": {
    "id": "EHMYmwmN9B4P"
   },
   "outputs": [],
   "source": [
    "model = Sequential()\n",
    "model.add(Conv1D(filters=32, kernel_size=3, activation=\"relu\", input_shape=(256, 1)))\n",
    "model.add(BatchNormalization())\n",
    "model.add(MaxPool1D(2))\n",
    "model.add(Dropout(0.3))\n",
    "\n",
    "model.add(Conv1D(filters=64, kernel_size=3, activation=\"relu\"))\n",
    "model.add(BatchNormalization())\n",
    "model.add(MaxPool1D(2))\n",
    "model.add(Dropout(0.5))\n",
    "\n",
    "model.add(Conv1D(filters=128, kernel_size=3, activation=\"relu\"))\n",
    "model.add(BatchNormalization())\n",
    "model.add(MaxPool1D(2))\n",
    "model.add(Dropout(0.3))\n",
    "\n",
    "model.add(Flatten())\n",
    "model.add(Dense(256, activation=\"relu\"))\n",
    "model.add(Dropout(0.5))\n",
    "\n",
    "model.add(Dense(1, activation=\"sigmoid\"))"
   ]
  },
  {
   "cell_type": "code",
   "execution_count": null,
   "metadata": {
    "colab": {
     "base_uri": "https://localhost:8080/"
    },
    "id": "BHuCfr6c-cil",
    "outputId": "334520f5-2a0c-4135-b509-a3ab0fb0060f"
   },
   "outputs": [],
   "source": [
    "model.summary()"
   ]
  },
  {
   "cell_type": "code",
   "execution_count": null,
   "metadata": {
    "id": "6NsXFUsI-mps"
   },
   "outputs": [],
   "source": [
    "model.compile(optimizer=Adam(lr=0.00005), loss=\"binary_crossentropy\", metrics=[\"accuracy\"])"
   ]
  },
  {
   "cell_type": "code",
   "execution_count": null,
   "metadata": {
    "colab": {
     "base_uri": "https://localhost:8080/"
    },
    "id": "DuRQLo0P_GUV",
    "outputId": "0d006b5d-4fe6-4f20-a140-9723f6475005"
   },
   "outputs": [],
   "source": [
    "history = model.fit(x_train, y_train, epochs=10, validation_data=(x_test, y_test), verbose=1)"
   ]
  },
  {
   "cell_type": "code",
   "execution_count": null,
   "metadata": {
    "colab": {
     "base_uri": "https://localhost:8080/"
    },
    "id": "_OFWnftNF-ym",
    "outputId": "64505873-39d0-4210-a11a-528a78035992"
   },
   "outputs": [],
   "source": [
    "history.history"
   ]
  },
  {
   "cell_type": "code",
   "execution_count": null,
   "metadata": {
    "id": "ieQIQ_AYGDo6"
   },
   "outputs": [],
   "source": [
    "epoch_range = range(1, 11)"
   ]
  },
  {
   "cell_type": "code",
   "execution_count": null,
   "metadata": {
    "colab": {
     "base_uri": "https://localhost:8080/",
     "height": 295
    },
    "id": "H2n0FZjkGJmH",
    "outputId": "b4e12b21-bd8f-41f5-b21b-3f023cbdffd8"
   },
   "outputs": [],
   "source": [
    "# Plot training and validation accuracy values\n",
    "# sparse_categorical_accuracy vs val_sparse_categorical_accuracy\n",
    "plt.plot(epoch_range, history.history[\"accuracy\"])\n",
    "plt.plot(epoch_range, history.history[\"val_accuracy\"])\n",
    "plt.title(\"Model Accuracy\")\n",
    "plt.ylabel(\"Accuracy\")\n",
    "plt.xlabel(\"Epoch\")\n",
    "plt.legend([\"Train\", \"Val\"], loc=\"upper left\")\n",
    "plt.show()"
   ]
  },
  {
   "cell_type": "code",
   "execution_count": null,
   "metadata": {
    "colab": {
     "base_uri": "https://localhost:8080/",
     "height": 295
    },
    "id": "WE5C_zyUGNMX",
    "outputId": "b934f80f-a483-4837-8955-88e9477715fc"
   },
   "outputs": [],
   "source": [
    "# Plot training and validation loss values\n",
    "# Loss vs Val_Loss\n",
    "plt.plot(epoch_range, history.history[\"loss\"])\n",
    "plt.plot(epoch_range, history.history[\"val_loss\"])\n",
    "plt.title(\"Model Loss\")\n",
    "plt.ylabel(\"Loss\")\n",
    "plt.xlabel(\"Epoch\")\n",
    "plt.legend([\"Train\", \"Val\"], loc=\"upper left\")\n",
    "plt.show()"
   ]
  }
 ],
 "metadata": {
  "colab": {
   "authorship_tag": "ABX9TyMaLfNfCPl/pD4pP3QyBsY+",
   "include_colab_link": true,
   "name": "Tensorflow 2.0 - Bank Customer Satisfaction Using CNN and Feature Selection.ipynb",
   "provenance": []
  },
  "kernelspec": {
   "display_name": "Python 3",
   "name": "python3"
  }
 },
 "nbformat": 4,
 "nbformat_minor": 0
}
