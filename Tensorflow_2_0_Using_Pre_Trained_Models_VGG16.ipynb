{
 "cells": [
  {
   "cell_type": "markdown",
   "metadata": {
    "colab_type": "text",
    "id": "view-in-github"
   },
   "source": [
    "<a href=\"https://colab.research.google.com/github/sahug/tensorflow-colab/blob/Tensorflow_2_0_Using_Pre_Trained_Models_VGG16/Tensorflow_2_0_Using_Pre_Trained_Models_VGG16.ipynb\" target=\"_parent\"><img src=\"https://colab.research.google.com/assets/colab-badge.svg\" alt=\"Open In Colab\"/></a>"
   ]
  },
  {
   "cell_type": "code",
   "execution_count": null,
   "metadata": {
    "colab": {
     "base_uri": "https://localhost:8080/",
     "height": 1000
    },
    "id": "Q3AYKDgLWYPu",
    "outputId": "2ec79d0e-6027-4410-dce0-41d4d2188cca"
   },
   "outputs": [],
   "source": [
    "!pip install tensorflow-gpu==2.0.0"
   ]
  },
  {
   "cell_type": "code",
   "execution_count": null,
   "metadata": {
    "id": "6lQzeSJMXAyg"
   },
   "outputs": [],
   "source": [
    "from tensorflow.keras.applications.vgg16 import (\n",
    "    VGG16,\n",
    "    decode_predictions,\n",
    "    preprocess_input,\n",
    ")"
   ]
  },
  {
   "cell_type": "code",
   "execution_count": null,
   "metadata": {
    "id": "bNcpJPfVXOgt"
   },
   "outputs": [],
   "source": [
    "from tensorflow.keras.preprocessing.image import img_to_array, load_img"
   ]
  },
  {
   "cell_type": "code",
   "execution_count": null,
   "metadata": {
    "id": "19SfxPjWfp8u"
   },
   "outputs": [],
   "source": [
    "model = VGG16()"
   ]
  },
  {
   "cell_type": "code",
   "execution_count": null,
   "metadata": {
    "colab": {
     "base_uri": "https://localhost:8080/",
     "height": 952
    },
    "id": "pBs6WA-xfzbO",
    "outputId": "c2454468-f787-4249-c948-c4afb9783f8f"
   },
   "outputs": [],
   "source": [
    "print(model.summary())"
   ]
  },
  {
   "cell_type": "code",
   "execution_count": null,
   "metadata": {
    "id": "nLl0fuyQf7kg"
   },
   "outputs": [],
   "source": [
    "import os"
   ]
  },
  {
   "cell_type": "code",
   "execution_count": null,
   "metadata": {
    "colab": {
     "base_uri": "https://localhost:8080/",
     "height": 734
    },
    "id": "vzCMsXgegJBz",
    "outputId": "e6f35a54-1161-43d0-f452-ff2885f31c95"
   },
   "outputs": [],
   "source": [
    "for file in os.listdir(\"sample\"):\n",
    "    print(file)\n",
    "    full_path = \"sample/\" + file\n",
    "\n",
    "    image = load_img(full_path, target_size=(224, 224))  # Model takes 224 x 224\n",
    "    image = img_to_array(image)\n",
    "    image = image.reshape((1, image.shape[0], image.shape[1], image.shape[2]))\n",
    "    image = preprocess_input(image)\n",
    "    y_pred = model.predict(image)\n",
    "    label = decode_predictions(y_pred, top=1)  # top = 1 returns single class\n",
    "    print(label)\n",
    "    print()"
   ]
  },
  {
   "cell_type": "code",
   "execution_count": null,
   "metadata": {
    "colab": {
     "base_uri": "https://localhost:8080/",
     "height": 238
    },
    "id": "prmSn6lTko3j",
    "outputId": "ab2a5373-9d31-42af-dc37-edcbd404908f"
   },
   "outputs": [],
   "source": [
    "for file in os.listdir(\"sample\"):\n",
    "    print(file)"
   ]
  }
 ],
 "metadata": {
  "colab": {
   "authorship_tag": "ABX9TyNNGMnJtoF8ftxPlZ0cUKCH",
   "collapsed_sections": [],
   "include_colab_link": true,
   "name": "Tensorflow 2.0 - Using Pre Trained Models - VGG16.ipynb",
   "provenance": []
  },
  "kernelspec": {
   "display_name": "Python 3",
   "language": "python",
   "name": "python3"
  },
  "language_info": {
   "codemirror_mode": {
    "name": "ipython",
    "version": 3
   },
   "file_extension": ".py",
   "mimetype": "text/x-python",
   "name": "python",
   "nbconvert_exporter": "python",
   "pygments_lexer": "ipython3",
   "version": "3.7.9"
  }
 },
 "nbformat": 4,
 "nbformat_minor": 1
}
