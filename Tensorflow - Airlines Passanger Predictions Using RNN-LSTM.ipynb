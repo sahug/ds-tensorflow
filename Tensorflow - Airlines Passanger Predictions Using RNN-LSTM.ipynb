{
  "cells": [
    {
      "cell_type": "markdown",
      "metadata": {
        "colab_type": "text",
        "id": "view-in-github"
      },
      "source": [
        "<a href=\"https://colab.research.google.com/github/sahug/ds-tensorflow-colab/blob/master/Tensorflow%20-%20Airlines%20Passanger%20Predictions%20Using%20RNN-LSTM.ipynb\" target=\"_parent\"><img src=\"https://colab.research.google.com/assets/colab-badge.svg\" alt=\"Open In Colab\"/></a>"
      ]
    },
    {
      "cell_type": "markdown",
      "metadata": {
        "id": "FIgvXhZ_697P"
      },
      "source": [
        "**Tensorflow - Airlines Passanger Predictions Using RNN-LSTM**"
      ]
    },
    {
      "cell_type": "markdown",
      "metadata": {},
      "source": [
        "**Import Libraries**"
      ]
    },
    {
      "cell_type": "code",
      "execution_count": 18,
      "metadata": {},
      "outputs": [],
      "source": [
        "import pandas as pd\n",
        "import numpy as np\n",
        "import tensorflow as tf\n",
        "from tensorflow import keras"
      ]
    },
    {
      "cell_type": "markdown",
      "metadata": {},
      "source": [
        "**Load Dataset**"
      ]
    },
    {
      "cell_type": "code",
      "execution_count": 19,
      "metadata": {
        "id": "vQqV0qwB697T"
      },
      "outputs": [],
      "source": [
        "dataset = pd.read_csv(\"data/AirPassengers.csv\")\n",
        "dataset = dataset[\"#Passengers\"]\n",
        "dataset = np.array(dataset).reshape(-1, 1)"
      ]
    },
    {
      "cell_type": "markdown",
      "metadata": {},
      "source": [
        "**Visualize Dataset**"
      ]
    },
    {
      "cell_type": "code",
      "execution_count": 20,
      "metadata": {},
      "outputs": [
        {
          "data": {
            "text/plain": [
              "[<matplotlib.lines.Line2D at 0x1ab8d298dc0>]"
            ]
          },
          "execution_count": 20,
          "metadata": {},
          "output_type": "execute_result"
        },
        {
          "data": {
            "image/png": "[encoded data removed]",
            "text/plain": [
              "<Figure size 432x288 with 1 Axes>"
            ]
          },
          "metadata": {
            "needs_background": "light"
          },
          "output_type": "display_data"
        }
      ],
      "source": [
        "import matplotlib.pyplot as plt\n",
        "plt.plot(dataset)\n",
        "# We will use upto 100 months as a training dataset and after 100 months as testing datase"
      ]
    },
    {
      "cell_type": "markdown",
      "metadata": {},
      "source": [
        "**Train and Test Split**"
      ]
    },
    {
      "cell_type": "code",
      "execution_count": 21,
      "metadata": {},
      "outputs": [],
      "source": [
        "# Split into Test and Train dataset\n",
        "train_size = 100\n",
        "test_size = 44\n",
        "train = dataset[0:train_size, :]\n",
        "test = dataset[train_size:, :]\n",
        "\n",
        "# Building Test and Training Dataset\n",
        "def get_data(dataset, look_back):\n",
        "\n",
        "    dataX, dataY = [], []\n",
        "\n",
        "    for i in range(len(dataset) - look_back - 1):\n",
        "        a = dataset[i : (i + look_back), 0]\n",
        "        dataX.append(a)\n",
        "        dataY.append(dataset[i + look_back, 0])\n",
        "\n",
        "    return np.array(dataX), np.array(dataY)\n",
        "\n",
        "look_back = 1\n",
        "x_train, y_train = get_data(train, look_back)\n",
        "x_test, y_test = get_data(test, look_back)"
      ]
    },
    {
      "cell_type": "markdown",
      "metadata": {},
      "source": [
        "**Reshape Dataset**"
      ]
    },
    {
      "cell_type": "code",
      "execution_count": 22,
      "metadata": {},
      "outputs": [],
      "source": [
        "# Converting 2D to 3D dataset\n",
        "x_train = x_train.reshape(x_train.shape[0], x_train.shape[1], 1)\n",
        "x_test = x_test.reshape(x_test.shape[0], x_test.shape[1], 1)"
      ]
    },
    {
      "cell_type": "markdown",
      "metadata": {},
      "source": [
        "**Approach 1**"
      ]
    },
    {
      "cell_type": "markdown",
      "metadata": {},
      "source": [
        "**Normalize Dataset**"
      ]
    },
    {
      "cell_type": "code",
      "execution_count": 23,
      "metadata": {},
      "outputs": [],
      "source": [
        "normalizer = tf.keras.layers.experimental.preprocessing.Normalization()\n",
        "normalizer.adapt(x_train)"
      ]
    },
    {
      "cell_type": "markdown",
      "metadata": {},
      "source": [
        "**Model**"
      ]
    },
    {
      "cell_type": "code",
      "execution_count": 28,
      "metadata": {},
      "outputs": [],
      "source": [
        "# Input Layer\n",
        "inputs = keras.Input(shape=(1, look_back))\n",
        "\n",
        "# Normalization\n",
        "x = normalizer(inputs)\n",
        "\n",
        "# LSTM Layer\n",
        "x = keras.layers.LSTM(units=5)(x)\n",
        "\n",
        "# Output layer\n",
        "outputs = keras.layers.Dense(1)(x)\n",
        "\n",
        "# Model\n",
        "model = keras.Model(inputs=inputs, outputs=[outputs], name=\"lstm_model\")"
      ]
    },
    {
      "cell_type": "markdown",
      "metadata": {},
      "source": [
        "**Summary**"
      ]
    },
    {
      "cell_type": "code",
      "execution_count": 29,
      "metadata": {},
      "outputs": [
        {
          "name": "stdout",
          "output_type": "stream",
          "text": [
            "Model: \"lstm_model\"\n",
            "_________________________________________________________________\n",
            " Layer (type)                Output Shape              Param #   \n",
            "=================================================================\n",
            " input_5 (InputLayer)        [(None, 1, 1)]            0         \n",
            "                                                                 \n",
            " normalization (Normalizatio  multiple                 3         \n",
            " n)                                                              \n",
            "                                                                 \n",
            " lstm_4 (LSTM)               (None, 5)                 140       \n",
            "                                                                 \n",
            " dense_2 (Dense)             (None, 1)                 6         \n",
            "                                                                 \n",
            "=================================================================\n",
            "Total params: 149\n",
            "Trainable params: 146\n",
            "Non-trainable params: 3\n",
            "_________________________________________________________________\n"
          ]
        }
      ],
      "source": [
        "model.summary()"
      ]
    },
    {
      "cell_type": "markdown",
      "metadata": {},
      "source": [
        "**Compile**"
      ]
    },
    {
      "cell_type": "code",
      "execution_count": 31,
      "metadata": {},
      "outputs": [],
      "source": [
        "loss = keras.losses.MeanSquaredError()\n",
        "optim = keras.optimizers.Adam(learning_rate=0.001)\n",
        "\n",
        "model.compile(loss=loss, optimizer=optim)"
      ]
    },
    {
      "cell_type": "markdown",
      "metadata": {},
      "source": [
        "**Tensorboard**"
      ]
    },
    {
      "cell_type": "code",
      "execution_count": 32,
      "metadata": {},
      "outputs": [
        {
          "name": "stderr",
          "output_type": "stream",
          "text": [
            "Invalid switch - \"logs\".\n"
          ]
        }
      ],
      "source": [
        "%load_ext tensorboard\n",
        "import datetime\n",
        "\n",
        "# Clear any logs from previous runs\n",
        "!del -ff ./logs/lstm/\n",
        "\n",
        "# Log Dir\n",
        "log_dir = \"logs/lstm/\" + datetime.datetime.now().strftime(\"%Y%m%d-%H%M%S\")\n",
        "\n",
        "# Callbacks\n",
        "tensorboard_callback = tf.keras.callbacks.TensorBoard(log_dir=log_dir, histogram_freq=1)"
      ]
    },
    {
      "cell_type": "markdown",
      "metadata": {},
      "source": [
        "**Train**"
      ]
    },
    {
      "cell_type": "code",
      "execution_count": 34,
      "metadata": {},
      "outputs": [
        {
          "name": "stdout",
          "output_type": "stream",
          "text": [
            "Epoch 1/50\n",
            "1/1 [==============================] - 2s 2s/step - loss: 52866.0117 - val_loss: 184584.3750\n",
            "Epoch 2/50\n",
            "1/1 [==============================] - 0s 75ms/step - loss: 52865.0938 - val_loss: 184580.2812\n",
            "Epoch 3/50\n",
            "1/1 [==============================] - 0s 81ms/step - loss: 52864.1797 - val_loss: 184576.1719\n",
            "Epoch 4/50\n",
            "1/1 [==============================] - 0s 86ms/step - loss: 52863.2656 - val_loss: 184572.0781\n",
            "Epoch 5/50\n",
            "1/1 [==============================] - 0s 77ms/step - loss: 52862.3477 - val_loss: 184567.9688\n",
            "Epoch 6/50\n",
            "1/1 [==============================] - 0s 64ms/step - loss: 52861.4375 - val_loss: 184563.9062\n",
            "Epoch 7/50\n",
            "1/1 [==============================] - 0s 64ms/step - loss: 52860.5312 - val_loss: 184559.8281\n",
            "Epoch 8/50\n",
            "1/1 [==============================] - 0s 63ms/step - loss: 52859.6133 - val_loss: 184555.7344\n",
            "Epoch 9/50\n",
            "1/1 [==============================] - 0s 58ms/step - loss: 52858.7109 - val_loss: 184551.6875\n",
            "Epoch 10/50\n",
            "1/1 [==============================] - 0s 67ms/step - loss: 52857.7969 - val_loss: 184547.6250\n",
            "Epoch 11/50\n",
            "1/1 [==============================] - 0s 95ms/step - loss: 52856.8945 - val_loss: 184543.5781\n",
            "Epoch 12/50\n",
            "1/1 [==============================] - 0s 81ms/step - loss: 52855.9844 - val_loss: 184539.5312\n",
            "Epoch 13/50\n",
            "1/1 [==============================] - 0s 82ms/step - loss: 52855.0859 - val_loss: 184535.5000\n",
            "Epoch 14/50\n",
            "1/1 [==============================] - 0s 73ms/step - loss: 52854.1797 - val_loss: 184531.4688\n",
            "Epoch 15/50\n",
            "1/1 [==============================] - 0s 56ms/step - loss: 52853.2773 - val_loss: 184527.4375\n",
            "Epoch 16/50\n",
            "1/1 [==============================] - 0s 66ms/step - loss: 52852.3789 - val_loss: 184523.4375\n",
            "Epoch 17/50\n",
            "1/1 [==============================] - 0s 60ms/step - loss: 52851.4727 - val_loss: 184519.4219\n",
            "Epoch 18/50\n",
            "1/1 [==============================] - 0s 60ms/step - loss: 52850.5781 - val_loss: 184515.4219\n",
            "Epoch 19/50\n",
            "1/1 [==============================] - 0s 69ms/step - loss: 52849.6680 - val_loss: 184511.4531\n",
            "Epoch 20/50\n",
            "1/1 [==============================] - 0s 66ms/step - loss: 52848.7773 - val_loss: 184507.4688\n",
            "Epoch 21/50\n",
            "1/1 [==============================] - 0s 56ms/step - loss: 52847.8789 - val_loss: 184503.5312\n",
            "Epoch 22/50\n",
            "1/1 [==============================] - 0s 62ms/step - loss: 52846.9805 - val_loss: 184499.5781\n",
            "Epoch 23/50\n",
            "1/1 [==============================] - 0s 61ms/step - loss: 52846.0859 - val_loss: 184495.6250\n",
            "Epoch 24/50\n",
            "1/1 [==============================] - 0s 75ms/step - loss: 52845.1875 - val_loss: 184491.6875\n",
            "Epoch 25/50\n",
            "1/1 [==============================] - 0s 71ms/step - loss: 52844.2969 - val_loss: 184487.7656\n",
            "Epoch 26/50\n",
            "1/1 [==============================] - 0s 63ms/step - loss: 52843.4023 - val_loss: 184483.8281\n",
            "Epoch 27/50\n",
            "1/1 [==============================] - 0s 62ms/step - loss: 52842.5117 - val_loss: 184479.9375\n",
            "Epoch 28/50\n",
            "1/1 [==============================] - 0s 63ms/step - loss: 52841.6172 - val_loss: 184476.0312\n",
            "Epoch 29/50\n",
            "1/1 [==============================] - 0s 57ms/step - loss: 52840.7305 - val_loss: 184472.1562\n",
            "Epoch 30/50\n",
            "1/1 [==============================] - 0s 64ms/step - loss: 52839.8320 - val_loss: 184468.2812\n",
            "Epoch 31/50\n",
            "1/1 [==============================] - 0s 61ms/step - loss: 52838.9453 - val_loss: 184464.3906\n",
            "Epoch 32/50\n",
            "1/1 [==============================] - 0s 63ms/step - loss: 52838.0508 - val_loss: 184460.5469\n",
            "Epoch 33/50\n",
            "1/1 [==============================] - 0s 63ms/step - loss: 52837.1641 - val_loss: 184456.7031\n",
            "Epoch 34/50\n",
            "1/1 [==============================] - 0s 68ms/step - loss: 52836.2656 - val_loss: 184452.8750\n",
            "Epoch 35/50\n",
            "1/1 [==============================] - 0s 64ms/step - loss: 52835.3789 - val_loss: 184449.0156\n",
            "Epoch 36/50\n",
            "1/1 [==============================] - 0s 56ms/step - loss: 52834.4805 - val_loss: 184445.2031\n",
            "Epoch 37/50\n",
            "1/1 [==============================] - 0s 61ms/step - loss: 52833.5938 - val_loss: 184441.3906\n",
            "Epoch 38/50\n",
            "1/1 [==============================] - 0s 57ms/step - loss: 52832.6953 - val_loss: 184437.5781\n",
            "Epoch 39/50\n",
            "1/1 [==============================] - 0s 57ms/step - loss: 52831.8047 - val_loss: 184433.7656\n",
            "Epoch 40/50\n",
            "1/1 [==============================] - 0s 63ms/step - loss: 52830.9141 - val_loss: 184429.9688\n",
            "Epoch 41/50\n",
            "1/1 [==============================] - 0s 56ms/step - loss: 52830.0156 - val_loss: 184426.1875\n",
            "Epoch 42/50\n",
            "1/1 [==============================] - 0s 61ms/step - loss: 52829.1211 - val_loss: 184422.4062\n",
            "Epoch 43/50\n",
            "1/1 [==============================] - 0s 57ms/step - loss: 52828.2305 - val_loss: 184418.6250\n",
            "Epoch 44/50\n",
            "1/1 [==============================] - 0s 60ms/step - loss: 52827.3320 - val_loss: 184414.8438\n",
            "Epoch 45/50\n",
            "1/1 [==============================] - 0s 56ms/step - loss: 52826.4336 - val_loss: 184411.0938\n",
            "Epoch 46/50\n",
            "1/1 [==============================] - 0s 53ms/step - loss: 52825.5391 - val_loss: 184407.3281\n",
            "Epoch 47/50\n",
            "1/1 [==============================] - 0s 63ms/step - loss: 52824.6367 - val_loss: 184403.5781\n",
            "Epoch 48/50\n",
            "1/1 [==============================] - 0s 68ms/step - loss: 52823.7344 - val_loss: 184399.8125\n",
            "Epoch 49/50\n",
            "1/1 [==============================] - 0s 65ms/step - loss: 52822.8359 - val_loss: 184396.0625\n",
            "Epoch 50/50\n",
            "1/1 [==============================] - 0s 59ms/step - loss: 52821.9297 - val_loss: 184392.3125\n"
          ]
        }
      ],
      "source": [
        "history = model.fit(x_train, y_train,\n",
        "                        epochs=50,\n",
        "                        batch_size=100, \n",
        "                        validation_data=(x_test, y_test), \n",
        "                        verbose=1, \n",
        "                        callbacks=[tensorboard_callback])"
      ]
    },
    {
      "cell_type": "code",
      "execution_count": 39,
      "metadata": {},
      "outputs": [
        {
          "data": {
            "image/png": "[encoded data removed]",
            "text/plain": [
              "<Figure size 1008x360 with 1 Axes>"
            ]
          },
          "metadata": {
            "needs_background": "light"
          },
          "output_type": "display_data"
        }
      ],
      "source": [
        "y_pred = model.predict(x_test)\n",
        "y_test = np.array(y_test)\n",
        "y_test = y_test.reshape(-1, 1)\n",
        "\n",
        "# Plot baselines and predictions\n",
        "plt.figure(figsize=(14, 5))\n",
        "plt.plot(y_test, label=\"Real Number of Passangers\")\n",
        "plt.plot(y_pred, label=\"Predicted Number of Passangers\")\n",
        "plt.ylabel(\"# Passangers\")\n",
        "plt.legend()\n",
        "plt.show()"
      ]
    },
    {
      "cell_type": "markdown",
      "metadata": {},
      "source": [
        "**Approach 2**"
      ]
    },
    {
      "cell_type": "markdown",
      "metadata": {},
      "source": [
        "**Sacle Dataset**"
      ]
    },
    {
      "cell_type": "code",
      "execution_count": 35,
      "metadata": {},
      "outputs": [],
      "source": [
        "from sklearn.preprocessing import MinMaxScaler\n",
        "# Converting dataset between 0 and 1\n",
        "scaler = MinMaxScaler()\n",
        "dataset = scaler.fit_transform(dataset)"
      ]
    },
    {
      "cell_type": "code",
      "execution_count": 36,
      "metadata": {
        "id": "RgAZXEEm697V"
      },
      "outputs": [
        {
          "name": "stdout",
          "output_type": "stream",
          "text": [
            "Model: \"sequential\"\n",
            "_________________________________________________________________\n",
            " Layer (type)                Output Shape              Param #   \n",
            "=================================================================\n",
            " lstm_5 (LSTM)               (None, 5)                 140       \n",
            "                                                                 \n",
            " dense_3 (Dense)             (None, 1)                 6         \n",
            "                                                                 \n",
            "=================================================================\n",
            "Total params: 146\n",
            "Trainable params: 146\n",
            "Non-trainable params: 0\n",
            "_________________________________________________________________\n",
            "Epoch 1/50\n",
            "98/98 [==============================] - 1s 1ms/step - loss: 52835.3633\n",
            "Epoch 2/50\n",
            "98/98 [==============================] - 0s 1ms/step - loss: 52794.7695\n",
            "Epoch 3/50\n",
            "98/98 [==============================] - 0s 1ms/step - loss: 52754.0039\n",
            "Epoch 4/50\n",
            "98/98 [==============================] - 0s 1ms/step - loss: 52713.3672\n",
            "Epoch 5/50\n",
            "98/98 [==============================] - 0s 1ms/step - loss: 52673.0469\n",
            "Epoch 6/50\n",
            "98/98 [==============================] - 0s 1ms/step - loss: 52632.7539\n",
            "Epoch 7/50\n",
            "98/98 [==============================] - 0s 1ms/step - loss: 52592.2852\n",
            "Epoch 8/50\n",
            "98/98 [==============================] - 0s 1ms/step - loss: 52551.9062\n",
            "Epoch 9/50\n",
            "98/98 [==============================] - 0s 1ms/step - loss: 52511.7109\n",
            "Epoch 10/50\n",
            "98/98 [==============================] - 0s 1ms/step - loss: 52471.3164\n",
            "Epoch 11/50\n",
            "98/98 [==============================] - 0s 1ms/step - loss: 52431.1328\n",
            "Epoch 12/50\n",
            "98/98 [==============================] - 0s 1ms/step - loss: 52390.7617\n",
            "Epoch 13/50\n",
            "98/98 [==============================] - 0s 1ms/step - loss: 52350.5547\n",
            "Epoch 14/50\n",
            "98/98 [==============================] - 0s 1ms/step - loss: 52310.3359\n",
            "Epoch 15/50\n",
            "98/98 [==============================] - 0s 1ms/step - loss: 52270.0781\n",
            "Epoch 16/50\n",
            "98/98 [==============================] - 0s 1ms/step - loss: 52229.9727\n",
            "Epoch 17/50\n",
            "98/98 [==============================] - 0s 1ms/step - loss: 52189.6836\n",
            "Epoch 18/50\n",
            "98/98 [==============================] - 0s 1ms/step - loss: 52149.6367\n",
            "Epoch 19/50\n",
            "98/98 [==============================] - 0s 1ms/step - loss: 52109.4727\n",
            "Epoch 20/50\n",
            "98/98 [==============================] - 0s 1ms/step - loss: 52069.4180\n",
            "Epoch 21/50\n",
            "98/98 [==============================] - 0s 1ms/step - loss: 52029.2656\n",
            "Epoch 22/50\n",
            "98/98 [==============================] - 0s 1ms/step - loss: 51989.3125\n",
            "Epoch 23/50\n",
            "98/98 [==============================] - 0s 1ms/step - loss: 51949.2461\n",
            "Epoch 24/50\n",
            "98/98 [==============================] - 0s 1ms/step - loss: 51909.2148\n",
            "Epoch 25/50\n",
            "98/98 [==============================] - 0s 1ms/step - loss: 51869.2109\n",
            "Epoch 26/50\n",
            "98/98 [==============================] - 0s 1ms/step - loss: 51829.2656\n",
            "Epoch 27/50\n",
            "98/98 [==============================] - 0s 1ms/step - loss: 51789.3008\n",
            "Epoch 28/50\n",
            "98/98 [==============================] - 0s 1ms/step - loss: 51749.3359\n",
            "Epoch 29/50\n",
            "98/98 [==============================] - 0s 1ms/step - loss: 51709.3984\n",
            "Epoch 30/50\n",
            "98/98 [==============================] - 0s 2ms/step - loss: 51669.5000\n",
            "Epoch 31/50\n",
            "98/98 [==============================] - 0s 1ms/step - loss: 51629.6641\n",
            "Epoch 32/50\n",
            "98/98 [==============================] - 0s 1ms/step - loss: 51589.7148\n",
            "Epoch 33/50\n",
            "98/98 [==============================] - 0s 990us/step - loss: 51549.9648\n",
            "Epoch 34/50\n",
            "98/98 [==============================] - 0s 1ms/step - loss: 51510.0938\n",
            "Epoch 35/50\n",
            "98/98 [==============================] - 0s 1ms/step - loss: 51470.4883\n",
            "Epoch 36/50\n",
            "98/98 [==============================] - 0s 1ms/step - loss: 51430.6953\n",
            "Epoch 37/50\n",
            "98/98 [==============================] - 0s 1ms/step - loss: 51390.9453\n",
            "Epoch 38/50\n",
            "98/98 [==============================] - 0s 1ms/step - loss: 51351.3359\n",
            "Epoch 39/50\n",
            "98/98 [==============================] - 0s 1ms/step - loss: 51311.5625\n",
            "Epoch 40/50\n",
            "98/98 [==============================] - 0s 1ms/step - loss: 51271.9375\n",
            "Epoch 41/50\n",
            "98/98 [==============================] - 0s 1ms/step - loss: 51232.2461\n",
            "Epoch 42/50\n",
            "98/98 [==============================] - 0s 1ms/step - loss: 51192.6641\n",
            "Epoch 43/50\n",
            "98/98 [==============================] - 0s 1ms/step - loss: 51152.9883\n",
            "Epoch 44/50\n",
            "98/98 [==============================] - 0s 1ms/step - loss: 51113.3867\n",
            "Epoch 45/50\n",
            "98/98 [==============================] - 0s 1ms/step - loss: 51073.8984\n",
            "Epoch 46/50\n",
            "98/98 [==============================] - 0s 1ms/step - loss: 51034.2500\n",
            "Epoch 47/50\n",
            "98/98 [==============================] - 0s 1ms/step - loss: 50994.7852\n",
            "Epoch 48/50\n",
            "98/98 [==============================] - 0s 1ms/step - loss: 50955.2031\n",
            "Epoch 49/50\n",
            "98/98 [==============================] - 0s 1ms/step - loss: 50915.7344\n",
            "Epoch 50/50\n",
            "98/98 [==============================] - 0s 1ms/step - loss: 50876.1680\n"
          ]
        },
        {
          "data": {
            "image/png": "[encoded data removed]",
            "text/plain": [
              "<Figure size 1008x360 with 1 Axes>"
            ]
          },
          "metadata": {
            "needs_background": "light"
          },
          "output_type": "display_data"
        }
      ],
      "source": [
        "from sklearn.metrics import mean_squared_error\n",
        "from keras.layers import LSTM, Dense\n",
        "from keras.models import Sequential\n",
        "\n",
        "# Build The Model\n",
        "model = Sequential()\n",
        "model.add(LSTM(units=5, input_shape=(1, look_back)))\n",
        "model.add(Dense(1))\n",
        "model.compile(loss=\"mean_squared_error\", optimizer=\"adam\")\n",
        "model.summary()\n",
        "model.fit(x_train, y_train, epochs=50, batch_size=1)\n",
        "\n",
        "y_pred = model.predict(x_test)\n",
        "y_pred = scaler.inverse_transform(y_pred)\n",
        "y_test = np.array(y_test)\n",
        "y_test = y_test.reshape(-1, 1)\n",
        "y_test = scaler.inverse_transform(y_test)\n",
        "\n",
        "# Plot baselines and predictions\n",
        "plt.figure(figsize=(14, 5))\n",
        "plt.plot(y_test, label=\"Real Number of Passangers\")\n",
        "plt.plot(y_pred, label=\"Predicted Number of Passangers\")\n",
        "plt.ylabel(\"# Passangers\")\n",
        "plt.legend()\n",
        "plt.show()"
      ]
    }
  ],
  "metadata": {
    "colab": {
      "include_colab_link": true,
      "name": "Tensorflow - Airlines Passanger Predictions Using RNN-LSTM.ipynb",
      "provenance": []
    },
    "interpreter": {
      "hash": "0d7fd96aeadd740978789f2880dd43822d8681a39e327029c33ff72656207c4b"
    },
    "kernelspec": {
      "display_name": "Python 3.10.4 64-bit",
      "language": "python",
      "name": "python3"
    },
    "language_info": {
      "codemirror_mode": {
        "name": "ipython",
        "version": 3
      },
      "file_extension": ".py",
      "mimetype": "text/x-python",
      "name": "python",
      "nbconvert_exporter": "python",
      "pygments_lexer": "ipython3",
      "version": "3.10.4"
    }
  },
  "nbformat": 4,
  "nbformat_minor": 0
}
