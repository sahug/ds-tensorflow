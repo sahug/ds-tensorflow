{
  "cells": [
    {
      "cell_type": "markdown",
      "metadata": {
        "id": "view-in-github",
        "colab_type": "text"
      },
      "source": [
        "<a href=\"https://colab.research.google.com/github/sahug/ds-tensorflow-colab/blob/master/Tensorflow%20-%20Airlines%20Passanger%20Predictions%20Using%20RNN-LSTM.ipynb\" target=\"_parent\"><img src=\"https://colab.research.google.com/assets/colab-badge.svg\" alt=\"Open In Colab\"/></a>"
      ]
    },
    {
      "cell_type": "markdown",
      "metadata": {
        "id": "FIgvXhZ_697P"
      },
      "source": [
        "**Tensorflow - Airlines Passanger Predictions Using RNN-LSTM**"
      ]
    },
    {
      "cell_type": "code",
      "execution_count": null,
      "metadata": {
        "id": "vQqV0qwB697T"
      },
      "outputs": [],
      "source": [
        "import math\n",
        "\n",
        "import matplotlib.pyplot as plt\n",
        "import numpy as np\n",
        "import pandas as pd\n",
        "from sklearn.metrics import mean_squared_error\n",
        "from sklearn.preprocessing import MinMaxScaler\n",
        "from tensorflow.keras.layers import LSTM, Dense\n",
        "from tensorflow.keras.models import Sequential"
      ]
    },
    {
      "cell_type": "code",
      "execution_count": null,
      "metadata": {
        "id": "RgAZXEEm697V"
      },
      "outputs": [],
      "source": [
        "dataset = pd.read_csv(\"data/AirPassengers.csv\")\n",
        "dataset = dataset[\"#Passengers\"]\n",
        "dataset = np.array(dataset).reshape(-1, 1)\n",
        "dataset"
      ]
    },
    {
      "cell_type": "code",
      "execution_count": null,
      "metadata": {
        "id": "PabH63VU697V"
      },
      "outputs": [],
      "source": [
        "plt.plot(dataset)\n",
        "# We will use upto 100 months as a training dataset and after 100 months as testing dataset"
      ]
    },
    {
      "cell_type": "code",
      "execution_count": null,
      "metadata": {
        "id": "M3r9BBN5697W"
      },
      "outputs": [],
      "source": [
        "# Converting dataset between 0 and 1\n",
        "scaler = MinMaxScaler()\n",
        "dataset = scaler.fit_transform(dataset)\n",
        "dataset"
      ]
    },
    {
      "cell_type": "code",
      "execution_count": null,
      "metadata": {
        "id": "XgRV0rGg697W"
      },
      "outputs": [],
      "source": [
        "# Split into Test and Train dataset\n",
        "train_size = 100\n",
        "test_size = 44"
      ]
    },
    {
      "cell_type": "code",
      "execution_count": null,
      "metadata": {
        "id": "HrOag6Gd697W"
      },
      "outputs": [],
      "source": [
        "train = dataset[0:train_size, :]\n",
        "test = dataset[train_size:, :]"
      ]
    },
    {
      "cell_type": "code",
      "execution_count": null,
      "metadata": {
        "id": "pfQOK3-t697X"
      },
      "outputs": [],
      "source": [
        "train.shape, test.shape"
      ]
    },
    {
      "cell_type": "code",
      "execution_count": null,
      "metadata": {
        "id": "D6PpEj3z697X"
      },
      "outputs": [],
      "source": [
        "# Building Test and Training Dataset\n",
        "def get_data(dataset, look_back):\n",
        "\n",
        "    dataX, dataY = [], []\n",
        "\n",
        "    for i in range(len(dataset) - look_back - 1):\n",
        "        a = dataset[i : (i + look_back), 0]\n",
        "        dataX.append(a)\n",
        "        dataY.append(dataset[i + look_back, 0])\n",
        "\n",
        "    return np.array(dataX), np.array(dataY)"
      ]
    },
    {
      "cell_type": "code",
      "execution_count": null,
      "metadata": {
        "id": "0WWBENtr697Y"
      },
      "outputs": [],
      "source": [
        "look_back = 1"
      ]
    },
    {
      "cell_type": "code",
      "execution_count": null,
      "metadata": {
        "id": "6tJleinZ697Y"
      },
      "outputs": [],
      "source": [
        "x_train, y_train = get_data(train, look_back)\n",
        "x_test, y_test = get_data(test, look_back)"
      ]
    },
    {
      "cell_type": "code",
      "execution_count": null,
      "metadata": {
        "id": "w5Uf8Vbj697Z"
      },
      "outputs": [],
      "source": [
        "x_train.shape, y_train.shape, x_test.shape, y_test.shape"
      ]
    },
    {
      "cell_type": "code",
      "execution_count": null,
      "metadata": {
        "id": "8dzGPhjl697Z"
      },
      "outputs": [],
      "source": [
        "x_train"
      ]
    },
    {
      "cell_type": "code",
      "execution_count": null,
      "metadata": {
        "id": "IZ2Zv1Tt697Z"
      },
      "outputs": [],
      "source": [
        "# Converting 2D to 3D dataset\n",
        "x_train = x_train.reshape(x_train.shape[0], x_train.shape[1], 1)\n",
        "x_test = x_test.reshape(x_test.shape[0], x_test.shape[1], 1)"
      ]
    },
    {
      "cell_type": "code",
      "execution_count": null,
      "metadata": {
        "id": "30DV0hib697a"
      },
      "outputs": [],
      "source": [
        "x_train.shape, x_test.shape"
      ]
    },
    {
      "cell_type": "code",
      "execution_count": null,
      "metadata": {
        "id": "qIQssrus697a"
      },
      "outputs": [],
      "source": [
        "# Build The Model\n",
        "model = Sequential()\n",
        "\n",
        "model.add(LSTM(units=5, input_shape=(1, look_back)))\n",
        "\n",
        "model.add(Dense(1))"
      ]
    },
    {
      "cell_type": "code",
      "execution_count": null,
      "metadata": {
        "id": "V0YKu-nZ697a"
      },
      "outputs": [],
      "source": [
        "model.compile(loss=\"mean_squared_error\", optimizer=\"adam\")"
      ]
    },
    {
      "cell_type": "code",
      "execution_count": null,
      "metadata": {
        "id": "ldkt3yhH697a"
      },
      "outputs": [],
      "source": [
        "model.summary()"
      ]
    },
    {
      "cell_type": "code",
      "execution_count": null,
      "metadata": {
        "id": "K8JSakDS697b"
      },
      "outputs": [],
      "source": [
        "model.fit(x_train, y_train, epochs=50, batch_size=1)"
      ]
    },
    {
      "cell_type": "code",
      "execution_count": null,
      "metadata": {
        "id": "UBL0h5PZ697b"
      },
      "outputs": [],
      "source": [
        "y_pred = model.predict(x_test)"
      ]
    },
    {
      "cell_type": "code",
      "execution_count": null,
      "metadata": {
        "id": "x2SiNQF8697b"
      },
      "outputs": [],
      "source": [
        "scaler.scale_"
      ]
    },
    {
      "cell_type": "code",
      "execution_count": null,
      "metadata": {
        "id": "Ex7yVxXR697b"
      },
      "outputs": [],
      "source": [
        "y_pred = scaler.inverse_transform(y_pred)"
      ]
    },
    {
      "cell_type": "code",
      "execution_count": null,
      "metadata": {
        "id": "CAEEnYt2697b"
      },
      "outputs": [],
      "source": [
        "y_test = np.array(y_test)\n",
        "y_test = y_test.reshape(-1, 1)\n",
        "y_test = scaler.inverse_transform(y_test)"
      ]
    },
    {
      "cell_type": "code",
      "execution_count": null,
      "metadata": {
        "id": "Wn75tebi697c"
      },
      "outputs": [],
      "source": [
        "y_pred"
      ]
    },
    {
      "cell_type": "code",
      "execution_count": null,
      "metadata": {
        "id": "k02tjuE2697c"
      },
      "outputs": [],
      "source": [
        "y_test"
      ]
    },
    {
      "cell_type": "code",
      "execution_count": null,
      "metadata": {
        "id": "q8s31Rlt697c"
      },
      "outputs": [],
      "source": [
        "# Plot baselines and predictions\n",
        "plt.figure(figsize=(14, 5))\n",
        "plt.plot(y_test, label=\"Real Number of Passangers\")\n",
        "plt.plot(y_pred, label=\"Predicted Number of Passangers\")\n",
        "plt.ylabel(\"# Passangers\")\n",
        "plt.legend()\n",
        "plt.show()"
      ]
    }
  ],
  "metadata": {
    "kernelspec": {
      "display_name": "Python 3",
      "language": "python",
      "name": "python3"
    },
    "language_info": {
      "codemirror_mode": {
        "name": "ipython",
        "version": 3
      },
      "file_extension": ".py",
      "mimetype": "text/x-python",
      "name": "python",
      "nbconvert_exporter": "python",
      "pygments_lexer": "ipython3",
      "version": "3.5.6"
    },
    "colab": {
      "name": "Tensorflow - Airlines Passanger Predictions Using RNN-LSTM.ipynb",
      "provenance": [],
      "include_colab_link": true
    }
  },
  "nbformat": 4,
  "nbformat_minor": 0
}