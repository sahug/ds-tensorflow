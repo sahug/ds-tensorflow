{
  "cells": [
    {
      "cell_type": "markdown",
      "metadata": {
        "id": "view-in-github",
        "colab_type": "text"
      },
      "source": [
        "<a href=\"https://colab.research.google.com/github/sahug/ds-tensorflow-colab/blob/master/Tensorflow%20-%20Malaria%20Parasite%20Detection%20Using%20CNN.ipynb\" target=\"_parent\"><img src=\"https://colab.research.google.com/assets/colab-badge.svg\" alt=\"Open In Colab\"/></a>"
      ]
    },
    {
      "cell_type": "markdown",
      "metadata": {
        "id": "p8cXpSfGeqzR"
      },
      "source": [
        "**Tensorflow - Malaria Parasite Detection Using CNN.ipynb**\n",
        "\n",
        "Dataset - https://lhncbc.nlm.nih.gov/publication/pub9932\n",
        "\n"
      ]
    },
    {
      "cell_type": "code",
      "execution_count": null,
      "metadata": {
        "id": "9VFVWc1ffe86"
      },
      "outputs": [],
      "source": [
        "!pip install tensorflow-gpu==2.0.0"
      ]
    },
    {
      "cell_type": "code",
      "execution_count": null,
      "metadata": {
        "id": "pldFjLv1ef9Q"
      },
      "outputs": [],
      "source": [
        "import tensorflow as tf\n",
        "from tensorflow import keras\n",
        "from tensorflow.keras import Sequential\n",
        "from tensorflow.keras.layers import Flatten, Dense, Conv2D, MaxPool2D, ZeroPadding2D, Dropout\n",
        "from tensorflow.keras.preprocessing.image import ImageDataGenerator\n",
        "from tensorflow.keras import optimizers"
      ]
    },
    {
      "cell_type": "code",
      "execution_count": null,
      "metadata": {
        "id": "JRx4kJwegVgJ"
      },
      "outputs": [],
      "source": [
        "print(tf.__version__)"
      ]
    },
    {
      "cell_type": "code",
      "execution_count": null,
      "metadata": {
        "id": "_Vy4yRBIgYnh"
      },
      "outputs": [],
      "source": [
        "import numpy as np\n",
        "import matplotlib.pyplot as plt\n"
      ]
    },
    {
      "cell_type": "code",
      "execution_count": null,
      "metadata": {
        "id": "1uRaTtEhgo--"
      },
      "outputs": [],
      "source": [
        "!git clone https://github.com/laxmimerit/Malaria-Classification-Using-CNN.git"
      ]
    },
    {
      "cell_type": "code",
      "execution_count": null,
      "metadata": {
        "id": "Qc6CHCMLhF-s"
      },
      "outputs": [],
      "source": [
        "img_width = 64\n",
        "img_height = 64"
      ]
    },
    {
      "cell_type": "code",
      "execution_count": null,
      "metadata": {
        "id": "v7606a0LhHEZ"
      },
      "outputs": [],
      "source": [
        "# Rescaling the image between 0 to 1 and spliting the data in test and train.\n",
        "datagen = ImageDataGenerator(rescale=1/255.0, validation_split=0.2)"
      ]
    },
    {
      "cell_type": "code",
      "execution_count": null,
      "metadata": {
        "id": "n62SLC8ghlZv"
      },
      "outputs": [],
      "source": [
        "train_data_generator = datagen.flow_from_directory(directory=\"/content/Malaria-Classification-Using-CNN/malaria-dataset\", \n",
        "                                                   target_size=(img_width, img_height),\n",
        "                                                   class_mode = \"binary\",\n",
        "                                                   batch_size = 16,\n",
        "                                                   subset=\"training\")"
      ]
    },
    {
      "cell_type": "code",
      "execution_count": null,
      "metadata": {
        "id": "iVL0_MN8iSfm"
      },
      "outputs": [],
      "source": [
        "validation_data_generator = datagen.flow_from_directory(directory=\"/content/Malaria-Classification-Using-CNN/malaria-dataset\", \n",
        "                                                   target_size=(img_width, img_height),\n",
        "                                                   class_mode = \"binary\",\n",
        "                                                   batch_size = 16,\n",
        "                                                   subset=\"validation\")"
      ]
    },
    {
      "cell_type": "code",
      "execution_count": null,
      "metadata": {
        "id": "YaoQ3xXUiZQB"
      },
      "outputs": [],
      "source": [
        "train_data_generator.labels, validation_data_generator.labels"
      ]
    },
    {
      "cell_type": "markdown",
      "metadata": {
        "id": "2AsWoF8mihqG"
      },
      "source": [
        "**Build CNN Model**"
      ]
    },
    {
      "cell_type": "code",
      "execution_count": null,
      "metadata": {
        "id": "icnXnFpXigg_"
      },
      "outputs": [],
      "source": [
        "model = Sequential()\n",
        "\n",
        "model.add(Conv2D(filters=16, kernel_size=(3, 3), input_shape=(img_width, img_height, 3), activation=\"relu\"))\n",
        "model.add(MaxPool2D(2, 2))\n",
        "model.add(Dropout(0.2))\n",
        "\n",
        "model.add(Conv2D(filters=32, kernel_size=(3, 3), activation=\"relu\"))\n",
        "model.add(MaxPool2D(2, 2))\n",
        "model.add(Dropout(0.3))\n",
        "\n",
        "model.add(Flatten())\n",
        "\n",
        "model.add(Dense(64, activation=\"relu\"))\n",
        "model.add(Dropout(0.5))\n",
        "\n",
        "model.add(Dense(1, activation=\"sigmoid\"))"
      ]
    },
    {
      "cell_type": "code",
      "execution_count": null,
      "metadata": {
        "id": "_6KhgIS6jzeV"
      },
      "outputs": [],
      "source": [
        "model.summary()"
      ]
    },
    {
      "cell_type": "code",
      "execution_count": null,
      "metadata": {
        "id": "givUHBVIj2ct"
      },
      "outputs": [],
      "source": [
        "model.compile(optimizer=\"adam\", loss=\"binary_crossentropy\", metrics=[\"accuracy\"])"
      ]
    },
    {
      "cell_type": "code",
      "execution_count": null,
      "metadata": {
        "id": "k8b5ktlckg-n"
      },
      "outputs": [],
      "source": [
        "history = model.fit_generator(generator = train_data_generator,\n",
        "                              steps_per_epoch = len(train_data_generator),\n",
        "                              epochs = 5,\n",
        "                              validation_data = validation_data_generator,\n",
        "                              validation_steps = len(validation_data_generator)\n",
        "                              )"
      ]
    },
    {
      "cell_type": "code",
      "execution_count": null,
      "metadata": {
        "id": "Y4kkMEaP2Nj9"
      },
      "outputs": [],
      "source": [
        "history.history"
      ]
    },
    {
      "cell_type": "code",
      "execution_count": null,
      "metadata": {
        "id": "pbv173Qg2k2D"
      },
      "outputs": [],
      "source": [
        "epoch_range = range(1, 6)"
      ]
    },
    {
      "cell_type": "code",
      "execution_count": null,
      "metadata": {
        "id": "6_EhiAUg2oGm"
      },
      "outputs": [],
      "source": [
        "# Plot training and validation accuracy values\n",
        "# sparse_categorical_accuracy vs val_sparse_categorical_accuracy\n",
        "plt.plot(epoch_range, history.history[\"accuracy\"])\n",
        "plt.plot(epoch_range, history.history[\"val_accuracy\"])\n",
        "plt.title(\"Model Accuracy\")\n",
        "plt.ylabel(\"Accuracy\")\n",
        "plt.xlabel(\"Epoch\")\n",
        "plt.legend([\"Train\", \"Val\"], loc=\"upper left\")\n",
        "plt.show()"
      ]
    },
    {
      "cell_type": "code",
      "execution_count": null,
      "metadata": {
        "id": "ci7f_zN52rjC"
      },
      "outputs": [],
      "source": [
        "# Plot training and validation loss values\n",
        "# Loss vs Val_Loss\n",
        "plt.plot(epoch_range, history.history[\"loss\"])\n",
        "plt.plot(epoch_range, history.history[\"val_loss\"])\n",
        "plt.title(\"Model Loss\")\n",
        "plt.ylabel(\"Loss\")\n",
        "plt.xlabel(\"Epoch\")\n",
        "plt.legend([\"Train\", \"Val\"], loc=\"upper left\")\n",
        "plt.show()"
      ]
    }
  ],
  "metadata": {
    "accelerator": "TPU",
    "colab": {
      "name": "Tensorflow - Malaria Parasite Detection Using CNN.ipynb",
      "provenance": [],
      "include_colab_link": true
    },
    "kernelspec": {
      "display_name": "Python 3",
      "name": "python3"
    }
  },
  "nbformat": 4,
  "nbformat_minor": 0
}