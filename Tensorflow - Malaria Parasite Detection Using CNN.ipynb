{
  "cells": [
    {
      "cell_type": "markdown",
      "metadata": {
        "colab_type": "text",
        "id": "view-in-github"
      },
      "source": [
        "<a href=\"https://colab.research.google.com/github/sahug/ds-tensorflow-colab/blob/master/Tensorflow%20-%20Malaria%20Parasite%20Detection%20Using%20CNN.ipynb\" target=\"_parent\"><img src=\"https://colab.research.google.com/assets/colab-badge.svg\" alt=\"Open In Colab\"/></a>"
      ]
    },
    {
      "cell_type": "markdown",
      "metadata": {
        "id": "p8cXpSfGeqzR"
      },
      "source": [
        "**Tensorflow - Malaria Parasite Detection Using CNN.ipynb**\n",
        "\n",
        "Dataset - https://lhncbc.nlm.nih.gov/publication/pub9932\n",
        "\n"
      ]
    },
    {
      "cell_type": "code",
      "execution_count": 12,
      "metadata": {
        "id": "pldFjLv1ef9Q"
      },
      "outputs": [],
      "source": [
        "import tensorflow as tf\n",
        "from tensorflow import keras\n",
        "from keras.preprocessing.image import ImageDataGenerator\n",
        "from keras import activations"
      ]
    },
    {
      "cell_type": "code",
      "execution_count": 2,
      "metadata": {
        "id": "JRx4kJwegVgJ"
      },
      "outputs": [
        {
          "name": "stdout",
          "output_type": "stream",
          "text": [
            "2.8.0\n"
          ]
        }
      ],
      "source": [
        "print(tf.__version__)"
      ]
    },
    {
      "cell_type": "code",
      "execution_count": 3,
      "metadata": {
        "id": "_Vy4yRBIgYnh"
      },
      "outputs": [],
      "source": [
        "import numpy as np\n",
        "import matplotlib.pyplot as plt"
      ]
    },
    {
      "cell_type": "code",
      "execution_count": 4,
      "metadata": {
        "id": "1uRaTtEhgo--"
      },
      "outputs": [
        {
          "name": "stderr",
          "output_type": "stream",
          "text": [
            "Cloning into 'Malaria-Classification-Using-CNN'...\n",
            "Updating files:   2% (709/27562)\n",
            "Updating files:   3% (827/27562)\n",
            "Updating files:   4% (1103/27562)\n",
            "Updating files:   4% (1363/27562)\n",
            "Updating files:   5% (1379/27562)\n",
            "Updating files:   6% (1654/27562)\n",
            "Updating files:   7% (1930/27562)\n",
            "Updating files:   7% (2081/27562)\n",
            "Updating files:   8% (2205/27562)\n",
            "Updating files:   9% (2481/27562)\n",
            "Updating files:   9% (2755/27562)\n",
            "Updating files:  10% (2757/27562)\n",
            "Updating files:  11% (3032/27562)\n",
            "Updating files:  12% (3308/27562)\n",
            "Updating files:  12% (3413/27562)\n",
            "Updating files:  13% (3584/27562)\n",
            "Updating files:  14% (3859/27562)\n",
            "Updating files:  14% (4057/27562)\n",
            "Updating files:  15% (4135/27562)\n",
            "Updating files:  16% (4410/27562)\n",
            "Updating files:  16% (4630/27562)\n",
            "Updating files:  17% (4686/27562)\n",
            "Updating files:  18% (4962/27562)\n",
            "Updating files:  18% (5225/27562)\n",
            "Updating files:  19% (5237/27562)\n",
            "Updating files:  20% (5513/27562)\n",
            "Updating files:  21% (5789/27562)\n",
            "Updating files:  21% (5850/27562)\n",
            "Updating files:  22% (6064/27562)\n",
            "Updating files:  23% (6340/27562)\n",
            "Updating files:  23% (6402/27562)\n",
            "Updating files:  24% (6615/27562)\n",
            "Updating files:  25% (6891/27562)\n",
            "Updating files:  25% (7031/27562)\n",
            "Updating files:  26% (7167/27562)\n",
            "Updating files:  27% (7442/27562)\n",
            "Updating files:  27% (7638/27562)\n",
            "Updating files:  28% (7718/27562)\n",
            "Updating files:  29% (7993/27562)\n",
            "Updating files:  29% (8218/27562)\n",
            "Updating files:  30% (8269/27562)\n",
            "Updating files:  31% (8545/27562)\n",
            "Updating files:  32% (8820/27562)\n",
            "Updating files:  32% (8834/27562)\n",
            "Updating files:  33% (9096/27562)\n",
            "Updating files:  34% (9372/27562)\n",
            "Updating files:  34% (9492/27562)\n",
            "Updating files:  35% (9647/27562)\n",
            "Updating files:  36% (9923/27562)\n",
            "Updating files:  36% (10084/27562)\n",
            "Updating files:  37% (10198/27562)\n",
            "Updating files:  38% (10474/27562)\n",
            "Updating files:  38% (10704/27562)\n",
            "Updating files:  39% (10750/27562)\n",
            "Updating files:  40% (11025/27562)\n",
            "Updating files:  41% (11301/27562)\n",
            "Updating files:  41% (11308/27562)\n",
            "Updating files:  42% (11577/27562)\n",
            "Updating files:  43% (11852/27562)\n",
            "Updating files:  43% (11975/27562)\n",
            "Updating files:  44% (12128/27562)\n",
            "Updating files:  45% (12403/27562)\n",
            "Updating files:  45% (12631/27562)\n",
            "Updating files:  46% (12679/27562)\n",
            "Updating files:  47% (12955/27562)\n",
            "Updating files:  48% (13230/27562)\n",
            "Updating files:  48% (13271/27562)\n",
            "Updating files:  49% (13506/27562)\n",
            "Updating files:  50% (13781/27562)\n",
            "Updating files:  50% (13816/27562)\n",
            "Updating files:  51% (14057/27562)\n",
            "Updating files:  52% (14333/27562)\n",
            "Updating files:  52% (14397/27562)\n",
            "Updating files:  53% (14608/27562)\n",
            "Updating files:  54% (14884/27562)\n",
            "Updating files:  54% (15010/27562)\n",
            "Updating files:  55% (15160/27562)\n",
            "Updating files:  56% (15435/27562)\n",
            "Updating files:  56% (15599/27562)\n",
            "Updating files:  57% (15711/27562)\n",
            "Updating files:  58% (15986/27562)\n",
            "Updating files:  58% (16184/27562)\n",
            "Updating files:  59% (16262/27562)\n",
            "Updating files:  60% (16538/27562)\n",
            "Updating files:  61% (16813/27562)\n",
            "Updating files:  61% (16817/27562)\n",
            "Updating files:  62% (17089/27562)\n",
            "Updating files:  63% (17365/27562)\n",
            "Updating files:  63% (17418/27562)\n",
            "Updating files:  64% (17640/27562)\n",
            "Updating files:  65% (17916/27562)\n",
            "Updating files:  65% (17975/27562)\n",
            "Updating files:  66% (18191/27562)\n",
            "Updating files:  67% (18467/27562)\n",
            "Updating files:  67% (18556/27562)\n",
            "Updating files:  68% (18743/27562)\n",
            "Updating files:  69% (19018/27562)\n",
            "Updating files:  69% (19151/27562)\n",
            "Updating files:  70% (19294/27562)\n",
            "Updating files:  71% (19570/27562)\n",
            "Updating files:  71% (19654/27562)\n",
            "Updating files:  72% (19845/27562)\n",
            "Updating files:  73% (20121/27562)\n",
            "Updating files:  73% (20179/27562)\n",
            "Updating files:  74% (20396/27562)\n",
            "Updating files:  75% (20672/27562)\n",
            "Updating files:  75% (20722/27562)\n",
            "Updating files:  76% (20948/27562)\n",
            "Updating files:  77% (21223/27562)\n",
            "Updating files:  77% (21243/27562)\n",
            "Updating files:  78% (21499/27562)\n",
            "Updating files:  79% (21774/27562)\n",
            "Updating files:  79% (21839/27562)\n",
            "Updating files:  80% (22050/27562)\n",
            "Updating files:  81% (22326/27562)\n",
            "Updating files:  81% (22451/27562)\n",
            "Updating files:  82% (22601/27562)\n",
            "Updating files:  83% (22877/27562)\n",
            "Updating files:  83% (22970/27562)\n",
            "Updating files:  84% (23153/27562)\n",
            "Updating files:  85% (23428/27562)\n",
            "Updating files:  85% (23510/27562)\n",
            "Updating files:  86% (23704/27562)\n",
            "Updating files:  87% (23979/27562)\n",
            "Updating files:  87% (24067/27562)\n",
            "Updating files:  88% (24255/27562)\n",
            "Updating files:  89% (24531/27562)\n",
            "Updating files:  89% (24608/27562)\n",
            "Updating files:  90% (24806/27562)\n",
            "Updating files:  91% (25082/27562)\n",
            "Updating files:  91% (25145/27562)\n",
            "Updating files:  92% (25358/27562)\n",
            "Updating files:  93% (25633/27562)\n",
            "Updating files:  93% (25716/27562)\n",
            "Updating files:  94% (25909/27562)\n",
            "Updating files:  95% (26184/27562)\n",
            "Updating files:  95% (26260/27562)\n",
            "Updating files:  96% (26460/27562)\n",
            "Updating files:  97% (26736/27562)\n",
            "Updating files:  97% (26812/27562)\n",
            "Updating files:  98% (27011/27562)\n",
            "Updating files:  99% (27287/27562)\n",
            "Updating files: 100% (27562/27562)\n",
            "Updating files: 100% (27562/27562), done.\n"
          ]
        }
      ],
      "source": [
        "!git clone https://github.com/laxmimerit/Malaria-Classification-Using-CNN.git"
      ]
    },
    {
      "cell_type": "code",
      "execution_count": 5,
      "metadata": {
        "id": "Qc6CHCMLhF-s"
      },
      "outputs": [],
      "source": [
        "img_width = 64\n",
        "img_height = 64"
      ]
    },
    {
      "cell_type": "code",
      "execution_count": 6,
      "metadata": {
        "id": "v7606a0LhHEZ"
      },
      "outputs": [],
      "source": [
        "# Rescaling the image between 0 to 1 and spliting the data in test and train.\n",
        "datagen = ImageDataGenerator(rescale=1/255.0, validation_split=0.2)"
      ]
    },
    {
      "cell_type": "code",
      "execution_count": 8,
      "metadata": {
        "id": "n62SLC8ghlZv"
      },
      "outputs": [
        {
          "name": "stdout",
          "output_type": "stream",
          "text": [
            "Found 22048 images belonging to 2 classes.\n"
          ]
        }
      ],
      "source": [
        "train_data_generator = datagen.flow_from_directory(directory=\"Malaria-Classification-Using-CNN/malaria-dataset\", \n",
        "                                                   target_size=(img_width, img_height),\n",
        "                                                   class_mode = \"binary\",\n",
        "                                                   batch_size = 16,\n",
        "                                                   subset=\"training\")"
      ]
    },
    {
      "cell_type": "code",
      "execution_count": 10,
      "metadata": {
        "id": "iVL0_MN8iSfm"
      },
      "outputs": [
        {
          "name": "stdout",
          "output_type": "stream",
          "text": [
            "Found 5510 images belonging to 2 classes.\n"
          ]
        }
      ],
      "source": [
        "validation_data_generator = datagen.flow_from_directory(directory=\"Malaria-Classification-Using-CNN/malaria-dataset\", \n",
        "                                                   target_size=(img_width, img_height),\n",
        "                                                   class_mode = \"binary\",\n",
        "                                                   batch_size = 16,\n",
        "                                                   subset=\"validation\")"
      ]
    },
    {
      "cell_type": "code",
      "execution_count": 11,
      "metadata": {
        "id": "YaoQ3xXUiZQB"
      },
      "outputs": [
        {
          "data": {
            "text/plain": [
              "(array([0, 0, 0, ..., 1, 1, 1]), array([0, 0, 0, ..., 1, 1, 1]))"
            ]
          },
          "execution_count": 11,
          "metadata": {},
          "output_type": "execute_result"
        }
      ],
      "source": [
        "train_data_generator.labels, validation_data_generator.labels"
      ]
    },
    {
      "cell_type": "markdown",
      "metadata": {
        "id": "2AsWoF8mihqG"
      },
      "source": [
        "**Build CNN Model**"
      ]
    },
    {
      "cell_type": "code",
      "execution_count": 14,
      "metadata": {},
      "outputs": [
        {
          "name": "stdout",
          "output_type": "stream",
          "text": [
            "Model: \"cnn\"\n",
            "_________________________________________________________________\n",
            " Layer (type)                Output Shape              Param #   \n",
            "=================================================================\n",
            " input_1 (InputLayer)        [(None, 64, 64, 3)]       0         \n",
            "                                                                 \n",
            " conv2d (Conv2D)             (None, 62, 62, 16)        448       \n",
            "                                                                 \n",
            " max_pooling2d (MaxPooling2D  (None, 20, 20, 16)       0         \n",
            " )                                                               \n",
            "                                                                 \n",
            " dropout (Dropout)           (None, 20, 20, 16)        0         \n",
            "                                                                 \n",
            " conv2d_1 (Conv2D)           (None, 18, 18, 32)        4640      \n",
            "                                                                 \n",
            " max_pooling2d_1 (MaxPooling  (None, 9, 9, 32)         0         \n",
            " 2D)                                                             \n",
            "                                                                 \n",
            " dropout_1 (Dropout)         (None, 9, 9, 32)          0         \n",
            "                                                                 \n",
            " flatten (Flatten)           (None, 2592)              0         \n",
            "                                                                 \n",
            " dense (Dense)               (None, 64)                165952    \n",
            "                                                                 \n",
            " dropout_2 (Dropout)         (None, 64)                0         \n",
            "                                                                 \n",
            " dense_1 (Dense)             (None, 1)                 65        \n",
            "                                                                 \n",
            "=================================================================\n",
            "Total params: 171,105\n",
            "Trainable params: 171,105\n",
            "Non-trainable params: 0\n",
            "_________________________________________________________________\n"
          ]
        }
      ],
      "source": [
        "inputs = keras.Input(shape=(img_width, img_height, 3))\n",
        "\n",
        "x = keras.layers.Conv2D(filters=16, kernel_size=(3, 3), activation=activations.relu)(inputs)\n",
        "x = keras.layers.MaxPool2D(3, 3)(x)\n",
        "x = keras.layers.Dropout(0.2)(x)\n",
        "\n",
        "x = keras.layers.Conv2D(filters=32, kernel_size=(3, 3), activation=activations.relu)(x)\n",
        "x = keras.layers.MaxPool2D(2, 2)(x)\n",
        "x = keras.layers.Dropout(0.3)(x)\n",
        "\n",
        "x = keras.layers.Flatten()(x)\n",
        "x = keras.layers.Dense(64, activation=activations.relu)(x)\n",
        "x = keras.layers.Dropout(0.5)(x)\n",
        "\n",
        "outputs = keras.layers.Dense(1, activation=activations.sigmoid)(x)\n",
        "\n",
        "model = keras.Model(inputs=inputs, outputs=[outputs], name=\"cnn\")\n",
        "\n",
        "model.summary()"
      ]
    },
    {
      "cell_type": "code",
      "execution_count": 15,
      "metadata": {
        "id": "givUHBVIj2ct"
      },
      "outputs": [],
      "source": [
        "optim = tf.keras.optimizers.Adam(learning_rate=0.001)\n",
        "loss = tf.keras.losses.BinaryCrossentropy()\n",
        "metrics=[\"accuracy\"]\n",
        "\n",
        "model.compile(optimizer=optim, loss=loss, metrics=[\"accuracy\"])"
      ]
    },
    {
      "cell_type": "code",
      "execution_count": 16,
      "metadata": {
        "id": "k8b5ktlckg-n"
      },
      "outputs": [
        {
          "name": "stdout",
          "output_type": "stream",
          "text": [
            "Epoch 1/5\n",
            "1378/1378 [==============================] - 296s 214ms/step - loss: 0.4333 - accuracy: 0.7978 - val_loss: 0.1802 - val_accuracy: 0.9292\n",
            "Epoch 2/5\n",
            "1378/1378 [==============================] - 53s 39ms/step - loss: 0.1983 - accuracy: 0.9319 - val_loss: 0.1671 - val_accuracy: 0.9392\n",
            "Epoch 3/5\n",
            "1378/1378 [==============================] - 58s 42ms/step - loss: 0.1880 - accuracy: 0.9415 - val_loss: 0.1778 - val_accuracy: 0.9323\n",
            "Epoch 4/5\n",
            "1378/1378 [==============================] - 58s 42ms/step - loss: 0.1661 - accuracy: 0.9502 - val_loss: 0.1621 - val_accuracy: 0.9399\n",
            "Epoch 5/5\n",
            "1378/1378 [==============================] - 61s 45ms/step - loss: 0.1563 - accuracy: 0.9525 - val_loss: 0.1599 - val_accuracy: 0.9403\n"
          ]
        }
      ],
      "source": [
        "history = model.fit(train_data_generator,\n",
        "                    steps_per_epoch = len(train_data_generator),\n",
        "                    epochs = 5,\n",
        "                    validation_data = validation_data_generator,\n",
        "                    validation_steps = len(validation_data_generator)\n",
        "                    )"
      ]
    },
    {
      "cell_type": "code",
      "execution_count": 17,
      "metadata": {
        "id": "Y4kkMEaP2Nj9"
      },
      "outputs": [
        {
          "data": {
            "text/plain": [
              "{'loss': [0.43331408500671387,\n",
              "  0.1983204483985901,\n",
              "  0.18795958161354065,\n",
              "  0.16611096262931824,\n",
              "  0.15626996755599976],\n",
              " 'accuracy': [0.7977594137191772,\n",
              "  0.9318758845329285,\n",
              "  0.9415366649627686,\n",
              "  0.950199544429779,\n",
              "  0.9525126814842224],\n",
              " 'val_loss': [0.1802462339401245,\n",
              "  0.16711652278900146,\n",
              "  0.17775215208530426,\n",
              "  0.16209904849529266,\n",
              "  0.15989884734153748],\n",
              " 'val_accuracy': [0.9292196035385132,\n",
              "  0.9392014741897583,\n",
              "  0.9323049187660217,\n",
              "  0.9399273991584778,\n",
              "  0.9402903914451599]}"
            ]
          },
          "execution_count": 17,
          "metadata": {},
          "output_type": "execute_result"
        }
      ],
      "source": [
        "history.history"
      ]
    },
    {
      "cell_type": "code",
      "execution_count": 18,
      "metadata": {
        "id": "pbv173Qg2k2D"
      },
      "outputs": [],
      "source": [
        "epoch_range = range(1, 6)"
      ]
    },
    {
      "cell_type": "code",
      "execution_count": 19,
      "metadata": {
        "id": "6_EhiAUg2oGm"
      },
      "outputs": [
        {
          "data": {
            "image/png": "[encoded data removed]",
            "text/plain": [
              "<Figure size 432x288 with 1 Axes>"
            ]
          },
          "metadata": {
            "needs_background": "light"
          },
          "output_type": "display_data"
        }
      ],
      "source": [
        "# Plot training and validation accuracy values\n",
        "# sparse_categorical_accuracy vs val_sparse_categorical_accuracy\n",
        "plt.plot(epoch_range, history.history[\"accuracy\"])\n",
        "plt.plot(epoch_range, history.history[\"val_accuracy\"])\n",
        "plt.title(\"Model Accuracy\")\n",
        "plt.ylabel(\"Accuracy\")\n",
        "plt.xlabel(\"Epoch\")\n",
        "plt.legend([\"Train\", \"Val\"], loc=\"upper left\")\n",
        "plt.show()"
      ]
    },
    {
      "cell_type": "code",
      "execution_count": 20,
      "metadata": {
        "id": "ci7f_zN52rjC"
      },
      "outputs": [
        {
          "data": {
            "image/png": "[encoded data removed]",
            "text/plain": [
              "<Figure size 432x288 with 1 Axes>"
            ]
          },
          "metadata": {
            "needs_background": "light"
          },
          "output_type": "display_data"
        }
      ],
      "source": [
        "# Plot training and validation loss values\n",
        "# Loss vs Val_Loss\n",
        "plt.plot(epoch_range, history.history[\"loss\"])\n",
        "plt.plot(epoch_range, history.history[\"val_loss\"])\n",
        "plt.title(\"Model Loss\")\n",
        "plt.ylabel(\"Loss\")\n",
        "plt.xlabel(\"Epoch\")\n",
        "plt.legend([\"Train\", \"Val\"], loc=\"upper left\")\n",
        "plt.show()"
      ]
    }
  ],
  "metadata": {
    "accelerator": "TPU",
    "colab": {
      "include_colab_link": true,
      "name": "Tensorflow - Malaria Parasite Detection Using CNN.ipynb",
      "provenance": []
    },
    "interpreter": {
      "hash": "0d7fd96aeadd740978789f2880dd43822d8681a39e327029c33ff72656207c4b"
    },
    "kernelspec": {
      "display_name": "Python 3.10.4 64-bit",
      "language": "python",
      "name": "python3"
    },
    "language_info": {
      "codemirror_mode": {
        "name": "ipython",
        "version": 3
      },
      "file_extension": ".py",
      "mimetype": "text/x-python",
      "name": "python",
      "nbconvert_exporter": "python",
      "pygments_lexer": "ipython3",
      "version": "3.10.4"
    }
  },
  "nbformat": 4,
  "nbformat_minor": 0
}
