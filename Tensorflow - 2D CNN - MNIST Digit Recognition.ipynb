{
  "cells": [
    {
      "cell_type": "markdown",
      "metadata": {
        "colab_type": "text",
        "id": "view-in-github"
      },
      "source": [
        "<a href=\"https://colab.research.google.com/github/sahug/ds-tensorflow-colab/blob/master/Tensorflow%20-%202D%20CNN%20-%20MNIST%20Digit%20Recognition.ipynb\" target=\"_parent\"><img src=\"https://colab.research.google.com/assets/colab-badge.svg\" alt=\"Open In Colab\"/></a>"
      ]
    },
    {
      "cell_type": "markdown",
      "metadata": {
        "id": "hCH7ltC6JOZ0"
      },
      "source": [
        "**Tensorflow - 2D CNN - MNIST Digit Recognization**"
      ]
    },
    {
      "cell_type": "code",
      "execution_count": 1,
      "metadata": {
        "id": "29qiwrVWIk1X"
      },
      "outputs": [
        {
          "name": "stdout",
          "output_type": "stream",
          "text": [
            "Note: you may need to restart the kernel to use updated packages.\n"
          ]
        },
        {
          "name": "stderr",
          "output_type": "stream",
          "text": [
            "WARNING: You are using pip version 22.0.4; however, version 22.1 is available.\n",
            "You should consider upgrading via the 'c:\\Users\\sahug\\AppData\\Local\\Programs\\Python\\Python310\\python.exe -m pip install --upgrade pip' command.\n"
          ]
        }
      ],
      "source": [
        "%pip install -q tensorflow-gpu"
      ]
    },
    {
      "cell_type": "code",
      "execution_count": 2,
      "metadata": {
        "id": "KSWIdB_SJfXA"
      },
      "outputs": [],
      "source": [
        "import numpy as np\n",
        "import pandas as pd\n",
        "import matplotlib.pyplot as plt"
      ]
    },
    {
      "cell_type": "code",
      "execution_count": 3,
      "metadata": {
        "id": "8zRP09ZsJqzF"
      },
      "outputs": [],
      "source": [
        "import tensorflow as tf"
      ]
    },
    {
      "cell_type": "code",
      "execution_count": 4,
      "metadata": {
        "id": "oAx-dTuzJ8lf"
      },
      "outputs": [
        {
          "name": "stdout",
          "output_type": "stream",
          "text": [
            "2.8.0\n"
          ]
        }
      ],
      "source": [
        "print(tf.__version__)"
      ]
    },
    {
      "cell_type": "markdown",
      "metadata": {},
      "source": [
        "**Approach 1**"
      ]
    },
    {
      "cell_type": "code",
      "execution_count": 5,
      "metadata": {},
      "outputs": [
        {
          "name": "stdout",
          "output_type": "stream",
          "text": [
            "Note: you may need to restart the kernel to use updated packages.\n"
          ]
        },
        {
          "name": "stderr",
          "output_type": "stream",
          "text": [
            "WARNING: You are using pip version 22.0.4; however, version 22.1 is available.\n",
            "You should consider upgrading via the 'c:\\Users\\sahug\\AppData\\Local\\Programs\\Python\\Python310\\python.exe -m pip install --upgrade pip' command.\n"
          ]
        }
      ],
      "source": [
        "%pip install -q tensorflow_datasets"
      ]
    },
    {
      "cell_type": "code",
      "execution_count": 6,
      "metadata": {
        "id": "TeULWyr7KLhq"
      },
      "outputs": [
        {
          "name": "stderr",
          "output_type": "stream",
          "text": [
            "c:\\Users\\sahug\\AppData\\Local\\Programs\\Python\\Python310\\lib\\site-packages\\tqdm\\auto.py:22: TqdmWarning: IProgress not found. Please update jupyter and ipywidgets. See https://ipywidgets.readthedocs.io/en/stable/user_install.html\n",
            "  from .autonotebook import tqdm as notebook_tqdm\n"
          ]
        }
      ],
      "source": [
        "import tensorflow_datasets as tfds\n",
        "\n",
        "(ds_train, ds_test), ds_info = tfds.load(\n",
        "                                \"mnist\",\n",
        "                                split=[\"train\", \"test\"],                                \n",
        "                                shuffle_files=True,\n",
        "                                # True, the returned tf.data.Dataset will have a 2-tuple structure (input, label)\n",
        "                                # False, the default, the returned tf.data.Dataset will have a dictionary with all the features.\n",
        "                                as_supervised=True, \n",
        "                                with_info=True)"
      ]
    },
    {
      "cell_type": "code",
      "execution_count": 7,
      "metadata": {},
      "outputs": [
        {
          "data": {
            "text/plain": [
              "tfds.core.DatasetInfo(\n",
              "    name='mnist',\n",
              "    full_name='mnist/3.0.1',\n",
              "    description=\"\"\"\n",
              "    The MNIST database of handwritten digits.\n",
              "    \"\"\",\n",
              "    homepage='http://yann.lecun.com/exdb/mnist/',\n",
              "    data_path='C:\\\\Users\\\\sahug\\\\tensorflow_datasets\\\\mnist\\\\3.0.1',\n",
              "    download_size=11.06 MiB,\n",
              "    dataset_size=21.00 MiB,\n",
              "    features=FeaturesDict({\n",
              "        'image': Image(shape=(28, 28, 1), dtype=tf.uint8),\n",
              "        'label': ClassLabel(shape=(), dtype=tf.int64, num_classes=10),\n",
              "    }),\n",
              "    supervised_keys=('image', 'label'),\n",
              "    disable_shuffling=False,\n",
              "    splits={\n",
              "        'test': <SplitInfo num_examples=10000, num_shards=1>,\n",
              "        'train': <SplitInfo num_examples=60000, num_shards=1>,\n",
              "    },\n",
              "    citation=\"\"\"@article{lecun2010mnist,\n",
              "      title={MNIST handwritten digit database},\n",
              "      author={LeCun, Yann and Cortes, Corinna and Burges, CJ},\n",
              "      journal={ATT Labs [Online]. Available: http://yann.lecun.com/exdb/mnist},\n",
              "      volume={2},\n",
              "      year={2010}\n",
              "    }\"\"\",\n",
              ")"
            ]
          },
          "execution_count": 7,
          "metadata": {},
          "output_type": "execute_result"
        }
      ],
      "source": [
        "ds_info"
      ]
    },
    {
      "cell_type": "markdown",
      "metadata": {},
      "source": [
        "**Features**"
      ]
    },
    {
      "cell_type": "markdown",
      "metadata": {},
      "source": [
        "Labels"
      ]
    },
    {
      "cell_type": "code",
      "execution_count": 8,
      "metadata": {},
      "outputs": [
        {
          "name": "stdout",
          "output_type": "stream",
          "text": [
            "10\n",
            "['0', '1', '2', '3', '4', '5', '6', '7', '8', '9']\n",
            "7\n",
            "7\n"
          ]
        }
      ],
      "source": [
        "ds_info.features\n",
        "print(ds_info.features[\"label\"].num_classes)\n",
        "print(ds_info.features[\"label\"].names)\n",
        "print(ds_info.features[\"label\"].int2str(7))  # Human readable version (8 -> 'cat')\n",
        "print(ds_info.features[\"label\"].str2int('7'))"
      ]
    },
    {
      "cell_type": "markdown",
      "metadata": {},
      "source": [
        "**Shapes**"
      ]
    },
    {
      "cell_type": "markdown",
      "metadata": {},
      "source": [
        "Image and Label"
      ]
    },
    {
      "cell_type": "code",
      "execution_count": 9,
      "metadata": {},
      "outputs": [
        {
          "name": "stdout",
          "output_type": "stream",
          "text": [
            "{'image': (28, 28, 1), 'label': ()}\n",
            "{'image': tf.uint8, 'label': tf.int64}\n",
            "(28, 28, 1)\n",
            "<dtype: 'uint8'>\n",
            "()\n",
            "<dtype: 'int64'>\n"
          ]
        }
      ],
      "source": [
        "print(ds_info.features.shape)\n",
        "print(ds_info.features.dtype)\n",
        "print(ds_info.features['image'].shape)\n",
        "print(ds_info.features['image'].dtype)\n",
        "\n",
        "print(ds_info.features['label'].shape)\n",
        "print(ds_info.features['label'].dtype)"
      ]
    },
    {
      "cell_type": "markdown",
      "metadata": {},
      "source": [
        "**Test and Train Dataset**"
      ]
    },
    {
      "cell_type": "code",
      "execution_count": 10,
      "metadata": {},
      "outputs": [
        {
          "name": "stdout",
          "output_type": "stream",
          "text": [
            "['train', 'test']\n",
            "\n",
            "\n",
            "60000\n",
            "['mnist-train.tfrecord-00000-of-00001']\n",
            "1\n",
            "\n",
            "\n",
            "10000\n",
            "['mnist-test.tfrecord-00000-of-00001']\n",
            "1\n"
          ]
        }
      ],
      "source": [
        "print(list(ds_info.splits.keys()))\n",
        "\n",
        "print(\"\\n\")\n",
        "\n",
        "# Train DS\n",
        "print(ds_info.splits['train'].num_examples)\n",
        "print(ds_info.splits['train'].filenames)\n",
        "print(ds_info.splits['train'].num_shards)\n",
        "\n",
        "print(\"\\n\")\n",
        "\n",
        "# Test DS\n",
        "print(ds_info.splits['test'].num_examples)\n",
        "print(ds_info.splits['test'].filenames)\n",
        "print(ds_info.splits['test'].num_shards)"
      ]
    },
    {
      "cell_type": "markdown",
      "metadata": {},
      "source": [
        "**Visualize**"
      ]
    },
    {
      "cell_type": "code",
      "execution_count": 11,
      "metadata": {},
      "outputs": [
        {
          "data": {
            "image/png": "[encoded data removed]",
            "text/plain": [
              "<Figure size 864x864 with 16 Axes>"
            ]
          },
          "metadata": {},
          "output_type": "display_data"
        }
      ],
      "source": [
        "fig = tfds.show_examples(ds_train, ds_info, rows=4, cols=4)"
      ]
    },
    {
      "cell_type": "markdown",
      "metadata": {},
      "source": [
        "**Data Pipeline**"
      ]
    },
    {
      "cell_type": "code",
      "execution_count": 12,
      "metadata": {},
      "outputs": [],
      "source": [
        "AUTOTUNE = tf.data.AUTOTUNE\n",
        "BATCH = 128\n",
        "EPOCHS = 10"
      ]
    },
    {
      "cell_type": "markdown",
      "metadata": {},
      "source": [
        "Train"
      ]
    },
    {
      "cell_type": "code",
      "execution_count": 13,
      "metadata": {},
      "outputs": [],
      "source": [
        "# This will save some operations (like file opening and data reading) from being executed during each epoch.\n",
        "ds_train = ds_train.cache()\n",
        "\n",
        "# Fills a buffer with buffer size elements, then randomly samples elements from this buffer, \n",
        "# replacing the selected elements with new elements. For perfect shuffling, \n",
        "# a buffer size greater than or equal to the full size of the dataset is required.\n",
        "ds_train = ds_train.shuffle(ds_info.splits['train'].num_examples)\n",
        "\n",
        "# Pulls data in batches rather than all at once.\n",
        "ds_train = ds_train.batch(BATCH)\n",
        "\n",
        "# While the model is executing training step s, the input pipeline is reading the data for step s+1.\n",
        "# AUTOTUNE will automatically decide the value. \n",
        "ds_train = ds_train.prefetch(AUTOTUNE)"
      ]
    },
    {
      "cell_type": "markdown",
      "metadata": {},
      "source": [
        "Test"
      ]
    },
    {
      "cell_type": "code",
      "execution_count": 14,
      "metadata": {},
      "outputs": [],
      "source": [
        "ds_test = ds_test.batch(BATCH)\n",
        "ds_test = ds_test.cache()\n",
        "ds_test = ds_test.prefetch(AUTOTUNE)"
      ]
    },
    {
      "cell_type": "markdown",
      "metadata": {},
      "source": [
        "**Input Shape**"
      ]
    },
    {
      "cell_type": "code",
      "execution_count": 15,
      "metadata": {
        "id": "gdQ7JlwfKo0k"
      },
      "outputs": [
        {
          "data": {
            "text/plain": [
              "(28, 28, 1)"
            ]
          },
          "execution_count": 15,
          "metadata": {},
          "output_type": "execute_result"
        }
      ],
      "source": [
        "input_shape = ds_info.features['image'].shape\n",
        "input_shape"
      ]
    },
    {
      "cell_type": "markdown",
      "metadata": {},
      "source": [
        "**Model**"
      ]
    },
    {
      "cell_type": "code",
      "execution_count": 17,
      "metadata": {
        "id": "6mk5kkfXKv2J"
      },
      "outputs": [],
      "source": [
        "from tensorflow import keras\n",
        "from keras import layers, activations\n",
        "\n",
        "# Input Layer\n",
        "inputs = keras.Input(shape=(input_shape))\n",
        "\n",
        "# Normalization Layer\n",
        "x = layers.Rescaling(1.0/255.0)(inputs)\n",
        "\n",
        "# CONV2D Layer\n",
        "x = layers.Conv2D(filters=32, kernel_size=(3, 3), activation=activations.relu)(x)\n",
        "x = layers.Conv2D(filters=64, kernel_size=(3, 3), activation=activations.relu)(x)\n",
        "\n",
        "# Maxpool Layer\n",
        "x = layers.MaxPool2D(pool_size=(2, 2))(x)\n",
        "\n",
        "# Dropout Layer\n",
        "x = layers.Dropout(0.25)(x)\n",
        "\n",
        "x = layers.Flatten()(x)\n",
        "x = layers.Dense(128, activation=activations.relu)(x)\n",
        "x = layers.Dropout(0.5)(x)\n",
        "\n",
        "# Output Layer\n",
        "outputs = layers.Dense(10, activation=activations.softmax)(x)\n",
        "\n",
        "model = keras.Model(inputs=inputs, outputs=[outputs], name=\"mnist_model\")"
      ]
    },
    {
      "cell_type": "markdown",
      "metadata": {},
      "source": [
        "**Summary**"
      ]
    },
    {
      "cell_type": "code",
      "execution_count": 18,
      "metadata": {
        "id": "y73J2_IdK26U"
      },
      "outputs": [
        {
          "name": "stdout",
          "output_type": "stream",
          "text": [
            "Model: \"mnist_model\"\n",
            "_________________________________________________________________\n",
            " Layer (type)                Output Shape              Param #   \n",
            "=================================================================\n",
            " input_2 (InputLayer)        [(None, 28, 28, 1)]       0         \n",
            "                                                                 \n",
            " rescaling_1 (Rescaling)     (None, 28, 28, 1)         0         \n",
            "                                                                 \n",
            " conv2d_2 (Conv2D)           (None, 26, 26, 32)        320       \n",
            "                                                                 \n",
            " conv2d_3 (Conv2D)           (None, 24, 24, 64)        18496     \n",
            "                                                                 \n",
            " max_pooling2d_1 (MaxPooling  (None, 12, 12, 64)       0         \n",
            " 2D)                                                             \n",
            "                                                                 \n",
            " dropout_2 (Dropout)         (None, 12, 12, 64)        0         \n",
            "                                                                 \n",
            " flatten_1 (Flatten)         (None, 9216)              0         \n",
            "                                                                 \n",
            " dense_2 (Dense)             (None, 128)               1179776   \n",
            "                                                                 \n",
            " dropout_3 (Dropout)         (None, 128)               0         \n",
            "                                                                 \n",
            " dense_3 (Dense)             (None, 10)                1290      \n",
            "                                                                 \n",
            "=================================================================\n",
            "Total params: 1,199,882\n",
            "Trainable params: 1,199,882\n",
            "Non-trainable params: 0\n",
            "_________________________________________________________________\n"
          ]
        }
      ],
      "source": [
        "model.summary()"
      ]
    },
    {
      "cell_type": "markdown",
      "metadata": {},
      "source": [
        "**Compile**"
      ]
    },
    {
      "cell_type": "code",
      "execution_count": 19,
      "metadata": {
        "id": "OemFiUikLIVb"
      },
      "outputs": [
        {
          "name": "stderr",
          "output_type": "stream",
          "text": [
            "c:\\Users\\sahug\\AppData\\Local\\Programs\\Python\\Python310\\lib\\site-packages\\keras\\optimizer_v2\\adam.py:105: UserWarning: The `lr` argument is deprecated, use `learning_rate` instead.\n",
            "  super(Adam, self).__init__(name, **kwargs)\n"
          ]
        }
      ],
      "source": [
        "losses = keras.losses.SparseCategoricalCrossentropy(from_logits=False)\n",
        "optim = keras.optimizers.Adam(lr=0.001)\n",
        "metrics = [keras.metrics.SparseCategoricalAccuracy()]\n",
        " \n",
        "model.compile(loss=losses, optimizer=optim, metrics=metrics)"
      ]
    },
    {
      "cell_type": "markdown",
      "metadata": {},
      "source": [
        "**Tensorboard**"
      ]
    },
    {
      "cell_type": "code",
      "execution_count": 33,
      "metadata": {},
      "outputs": [
        {
          "name": "stdout",
          "output_type": "stream",
          "text": [
            "The tensorboard extension is already loaded. To reload it, use:\n",
            "  %reload_ext tensorboard\n"
          ]
        },
        {
          "name": "stderr",
          "output_type": "stream",
          "text": [
            "Invalid switch - \"logs\".\n"
          ]
        }
      ],
      "source": [
        "%load_ext tensorboard\n",
        "import datetime\n",
        "\n",
        "# Clear any logs from previous runs\n",
        "!del -ff ./logs/\n",
        "\n",
        "# Log Dir\n",
        "log_dir = \"logs/fit/\" + datetime.datetime.now().strftime(\"%Y%m%d-%H%M%S\")\n",
        "\n",
        "# Callbacks\n",
        "tensorboard_callback = tf.keras.callbacks.TensorBoard(log_dir=log_dir, histogram_freq=1)"
      ]
    },
    {
      "cell_type": "markdown",
      "metadata": {},
      "source": [
        "**Train**"
      ]
    },
    {
      "cell_type": "code",
      "execution_count": 34,
      "metadata": {
        "id": "750Oa_i8LiQr"
      },
      "outputs": [
        {
          "name": "stdout",
          "output_type": "stream",
          "text": [
            "Epoch 1/10\n",
            "469/469 [==============================] - 58s 123ms/step - loss: 2.4804 - accuracy: 0.9687 - val_loss: 0.2066 - val_accuracy: 0.9892\n",
            "Epoch 2/10\n",
            "469/469 [==============================] - 84s 178ms/step - loss: 0.2656 - accuracy: 0.9726 - val_loss: 0.1139 - val_accuracy: 0.9871\n",
            "Epoch 3/10\n",
            "469/469 [==============================] - 87s 185ms/step - loss: 0.1450 - accuracy: 0.9759 - val_loss: 0.1038 - val_accuracy: 0.9888\n",
            "Epoch 4/10\n",
            "469/469 [==============================] - 101s 214ms/step - loss: 0.1145 - accuracy: 0.9785 - val_loss: 0.0859 - val_accuracy: 0.9900\n",
            "Epoch 5/10\n",
            "469/469 [==============================] - 92s 197ms/step - loss: 0.0941 - accuracy: 0.9798 - val_loss: 0.0825 - val_accuracy: 0.9883\n",
            "Epoch 6/10\n",
            "469/469 [==============================] - 88s 187ms/step - loss: 0.0798 - accuracy: 0.9827 - val_loss: 0.0770 - val_accuracy: 0.9897\n",
            "Epoch 7/10\n",
            "469/469 [==============================] - 103s 219ms/step - loss: 0.0731 - accuracy: 0.9828 - val_loss: 0.0839 - val_accuracy: 0.9903\n",
            "Epoch 8/10\n",
            "469/469 [==============================] - 98s 208ms/step - loss: 0.0710 - accuracy: 0.9836 - val_loss: 0.0656 - val_accuracy: 0.9913\n",
            "Epoch 9/10\n",
            "469/469 [==============================] - 113s 241ms/step - loss: 0.0642 - accuracy: 0.9853 - val_loss: 0.0762 - val_accuracy: 0.9897\n",
            "Epoch 10/10\n",
            "469/469 [==============================] - 110s 235ms/step - loss: 0.0594 - accuracy: 0.9858 - val_loss: 0.0895 - val_accuracy: 0.9887\n"
          ]
        }
      ],
      "source": [
        "history = model.fit(ds_train, \n",
        "                        epochs=EPOCHS,\n",
        "                        batch_size=128, \n",
        "                        validation_data=ds_test, \n",
        "                        verbose=1, \n",
        "                        callbacks=[tensorboard_callback])"
      ]
    },
    {
      "cell_type": "markdown",
      "metadata": {},
      "source": [
        "**View Tensorboard**\n",
        "\n",
        "`http://localhost:6006/`"
      ]
    },
    {
      "cell_type": "code",
      "execution_count": 35,
      "metadata": {},
      "outputs": [
        {
          "data": {
            "text/html": [
              "\n",
              "      <iframe id=\"tensorboard-frame-76349dcd92148d60\" width=\"100%\" height=\"800\" frameborder=\"0\">\n",
              "      </iframe>\n",
              "      <script>\n",
              "        (function() {\n",
              "          const frame = document.getElementById(\"tensorboard-frame-76349dcd92148d60\");\n",
              "          const url = new URL(\"/\", window.location);\n",
              "          const port = 6006;\n",
              "          if (port) {\n",
              "            url.port = port;\n",
              "          }\n",
              "          frame.src = url;\n",
              "        })();\n",
              "      </script>\n",
              "    "
            ],
            "text/plain": [
              "<IPython.core.display.HTML object>"
            ]
          },
          "metadata": {},
          "output_type": "display_data"
        }
      ],
      "source": [
        "%tensorboard --logdir logs/fit"
      ]
    },
    {
      "cell_type": "markdown",
      "metadata": {},
      "source": [
        "**Learning Visualiization**"
      ]
    },
    {
      "cell_type": "code",
      "execution_count": 21,
      "metadata": {},
      "outputs": [],
      "source": [
        "epoch_range = range(1, 11)"
      ]
    },
    {
      "cell_type": "code",
      "execution_count": 24,
      "metadata": {
        "id": "7JIQg6h_Wnl1"
      },
      "outputs": [
        {
          "data": {
            "image/png": "[encoded data removed]",
            "text/plain": [
              "<Figure size 432x288 with 1 Axes>"
            ]
          },
          "metadata": {
            "needs_background": "light"
          },
          "output_type": "display_data"
        }
      ],
      "source": [
        "# Plot training and validation accuracy values\n",
        "# sparse_categorical_accuracy vs val_sparse_categorical_accuracy\n",
        "plt.plot(epoch_range, history.history[\"sparse_categorical_accuracy\"])\n",
        "plt.plot(epoch_range, history.history[\"val_sparse_categorical_accuracy\"])\n",
        "plt.title(\"Model Accuracy\")\n",
        "plt.ylabel(\"Accuracy\")\n",
        "plt.xlabel(\"Epoch\")\n",
        "plt.legend([\"Train\", \"Val\"], loc=\"upper left\")\n",
        "plt.show()"
      ]
    },
    {
      "cell_type": "code",
      "execution_count": 23,
      "metadata": {
        "id": "m_dw9SJvWuKt"
      },
      "outputs": [
        {
          "data": {
            "image/png": "[encoded data removed]",
            "text/plain": [
              "<Figure size 432x288 with 1 Axes>"
            ]
          },
          "metadata": {
            "needs_background": "light"
          },
          "output_type": "display_data"
        }
      ],
      "source": [
        "# Plot training and validation loss values\n",
        "# Loss vs Val_Loss\n",
        "plt.plot(epoch_range, history.history[\"loss\"])\n",
        "plt.plot(epoch_range, history.history[\"val_loss\"])\n",
        "plt.title(\"Model Loss\")\n",
        "plt.ylabel(\"Loss\")\n",
        "plt.xlabel(\"Epoch\")\n",
        "plt.legend([\"Train\", \"Val\"], loc=\"upper left\")\n",
        "plt.show()"
      ]
    },
    {
      "cell_type": "markdown",
      "metadata": {},
      "source": [
        "**Approach 2**"
      ]
    },
    {
      "cell_type": "code",
      "execution_count": 26,
      "metadata": {},
      "outputs": [],
      "source": [
        "from tensorflow.keras.datasets import mnist\n",
        "from tensorflow.keras import Sequential\n",
        "from tensorflow.keras.layers import Flatten, Conv2D, MaxPool2D, Dense, Dropout"
      ]
    },
    {
      "cell_type": "code",
      "execution_count": 27,
      "metadata": {},
      "outputs": [
        {
          "name": "stdout",
          "output_type": "stream",
          "text": [
            "Epoch 1/10\n",
            "469/469 [==============================] - 49s 103ms/step - loss: 0.2362 - accuracy: 0.9278 - val_loss: 0.0536 - val_accuracy: 0.9837\n",
            "Epoch 2/10\n",
            "469/469 [==============================] - 62s 131ms/step - loss: 0.0837 - accuracy: 0.9748 - val_loss: 0.0369 - val_accuracy: 0.9884\n",
            "Epoch 3/10\n",
            "469/469 [==============================] - 70s 149ms/step - loss: 0.0626 - accuracy: 0.9809 - val_loss: 0.0351 - val_accuracy: 0.9891\n",
            "Epoch 4/10\n",
            "469/469 [==============================] - 67s 142ms/step - loss: 0.0512 - accuracy: 0.9845 - val_loss: 0.0306 - val_accuracy: 0.9900\n",
            "Epoch 5/10\n",
            "469/469 [==============================] - 69s 147ms/step - loss: 0.0431 - accuracy: 0.9868 - val_loss: 0.0301 - val_accuracy: 0.9903\n",
            "Epoch 6/10\n",
            "469/469 [==============================] - 67s 142ms/step - loss: 0.0378 - accuracy: 0.9880 - val_loss: 0.0277 - val_accuracy: 0.9916\n",
            "Epoch 7/10\n",
            "469/469 [==============================] - 67s 142ms/step - loss: 0.0332 - accuracy: 0.9896 - val_loss: 0.0266 - val_accuracy: 0.9916\n",
            "Epoch 8/10\n",
            "469/469 [==============================] - 67s 142ms/step - loss: 0.0309 - accuracy: 0.9902 - val_loss: 0.0292 - val_accuracy: 0.9914\n",
            "Epoch 9/10\n",
            "469/469 [==============================] - 73s 156ms/step - loss: 0.0273 - accuracy: 0.9912 - val_loss: 0.0267 - val_accuracy: 0.9920\n",
            "Epoch 10/10\n",
            "469/469 [==============================] - 88s 188ms/step - loss: 0.0265 - accuracy: 0.9917 - val_loss: 0.0245 - val_accuracy: 0.9930\n"
          ]
        }
      ],
      "source": [
        "(x_train, y_train), (x_test, y_test) = mnist.load_data() #load_data splits the dataset in to train and test tupples.\n",
        "\n",
        "# Bringing all our datset between 1 and 0. To do that we are dividing our dataset by maxvalue. Which is 255.\n",
        "x_train = x_train/255.0\n",
        "x_test = x_test/255.0\n",
        "\n",
        "\n",
        "# Reshapping our dataset\n",
        "x_train = x_train.reshape(60000, 28, 28, 1)\n",
        "x_test = x_test.reshape(10000, 28, 28, 1)\n",
        "\n",
        "\n",
        "input_shape = x_train[0].shape\n",
        "\n",
        "model = Sequential()\n",
        "\n",
        "model.add(Conv2D(filters=32, kernel_size=(3, 3), activation=\"relu\", input_shape=input_shape)) #Layer 1\n",
        "\n",
        "model.add(Conv2D(filters=64, kernel_size=(3, 3), activation=\"relu\")) #Layer 2\n",
        "\n",
        "model.add(MaxPool2D(pool_size=(2, 2))) # Layer 3. Adding MaxPool Layer\n",
        "\n",
        "model.add(Dropout(0.25)) # Layer 4. Adding dropout layer. 25% of neurons will randomly drop bfore going to next layer.\n",
        "\n",
        "model.add(Flatten()) # Layer 5. Adding Flatten Layer. Converts to 2D.\n",
        "\n",
        "model.add(Dense(128, activation=\"relu\")) # Layer 6. Adding Dense Layer.\n",
        "\n",
        "model.add(Dropout(0.5)) # Layer 7. Adding dropout layer. 50% of neurons will randomly drop bfore going to next layer.\n",
        "\n",
        "model.add(Dense(10, activation=\"softmax\")) # Layer 8. Output Layer. 10 is the number of different output. 0 - 9. \n",
        "\n",
        "model.compile(loss=\"sparse_categorical_crossentropy\", optimizer=\"adam\", metrics=[\"accuracy\"])\n",
        "\n",
        "history = model.fit(x_train, y_train, batch_size=128, epochs=10, verbose=1, validation_data=(x_test, y_test))"
      ]
    },
    {
      "cell_type": "code",
      "execution_count": 28,
      "metadata": {},
      "outputs": [
        {
          "data": {
            "image/png": "[encoded data removed]",
            "text/plain": [
              "<Figure size 432x288 with 1 Axes>"
            ]
          },
          "metadata": {
            "needs_background": "light"
          },
          "output_type": "display_data"
        },
        {
          "data": {
            "image/png": "[encoded data removed]",
            "text/plain": [
              "<Figure size 432x288 with 1 Axes>"
            ]
          },
          "metadata": {
            "needs_background": "light"
          },
          "output_type": "display_data"
        }
      ],
      "source": [
        "epoch_range = range(1, 11)\n",
        "\n",
        "# Plot training and validation accuracy values\n",
        "# sparse_categorical_accuracy vs val_sparse_categorical_accuracy\n",
        "plt.plot(epoch_range, history.history[\"accuracy\"])\n",
        "plt.plot(epoch_range, history.history[\"val_accuracy\"])\n",
        "plt.title(\"Model Accuracy\")\n",
        "plt.ylabel(\"Accuracy\")\n",
        "plt.xlabel(\"Epoch\")\n",
        "plt.legend([\"Train\", \"Val\"], loc=\"upper left\")\n",
        "plt.show()\n",
        "\n",
        "# Plot training and validation loss values\n",
        "# Loss vs Val_Loss\n",
        "plt.plot(epoch_range, history.history[\"loss\"])\n",
        "plt.plot(epoch_range, history.history[\"val_loss\"])\n",
        "plt.title(\"Model Loss\")\n",
        "plt.ylabel(\"Loss\")\n",
        "plt.xlabel(\"Epoch\")\n",
        "plt.legend([\"Train\", \"Val\"], loc=\"upper left\")\n",
        "plt.show()"
      ]
    }
  ],
  "metadata": {
    "colab": {
      "include_colab_link": true,
      "name": "Tensorflow - 2D CNN - MNIST Digit Recognization.ipynb",
      "provenance": []
    },
    "interpreter": {
      "hash": "0d7fd96aeadd740978789f2880dd43822d8681a39e327029c33ff72656207c4b"
    },
    "kernelspec": {
      "display_name": "Python 3.10.4 64-bit",
      "language": "python",
      "name": "python3"
    },
    "language_info": {
      "codemirror_mode": {
        "name": "ipython",
        "version": 3
      },
      "file_extension": ".py",
      "mimetype": "text/x-python",
      "name": "python",
      "nbconvert_exporter": "python",
      "pygments_lexer": "ipython3",
      "version": "3.10.4"
    }
  },
  "nbformat": 4,
  "nbformat_minor": 0
}
