{
 "cells": [
  {
   "cell_type": "markdown",
   "metadata": {
    "colab_type": "text",
    "id": "view-in-github"
   },
   "source": [
    "<a href=\"https://colab.research.google.com/github/sahug/tensorflow-colab/blob/master/Tensorflow_2_0_Malaria_Parasite_Detection_Using_CNN.ipynb\" target=\"_parent\"><img src=\"https://colab.research.google.com/assets/colab-badge.svg\" alt=\"Open In Colab\"/></a>"
   ]
  },
  {
   "cell_type": "markdown",
   "metadata": {
    "id": "p8cXpSfGeqzR"
   },
   "source": [
    "# **Tensorflow 2.0 - Malaria Parasite Detection Using CNN**\n",
    "\n",
    "Dataset - https://lhncbc.nlm.nih.gov/publication/pub9932\n",
    "\n"
   ]
  },
  {
   "cell_type": "code",
   "execution_count": null,
   "metadata": {
    "colab": {
     "base_uri": "https://localhost:8080/",
     "height": 649
    },
    "id": "9VFVWc1ffe86",
    "outputId": "de4bcf03-8103-424d-f606-51124ed3f09c"
   },
   "outputs": [],
   "source": [
    "!pip install tensorflow-gpu==2.0.0"
   ]
  },
  {
   "cell_type": "code",
   "execution_count": null,
   "metadata": {
    "id": "pldFjLv1ef9Q"
   },
   "outputs": [],
   "source": [
    "import tensorflow as tf\n",
    "from tensorflow import keras\n",
    "from tensorflow.keras import Sequential\n",
    "from tensorflow.keras.layers import Flatten, Dense, Conv2D, MaxPool2D, ZeroPadding2D, Dropout\n",
    "from tensorflow.keras.preprocessing.image import ImageDataGenerator\n",
    "from tensorflow.keras import optimizers"
   ]
  },
  {
   "cell_type": "code",
   "execution_count": null,
   "metadata": {
    "colab": {
     "base_uri": "https://localhost:8080/",
     "height": 34
    },
    "id": "JRx4kJwegVgJ",
    "outputId": "f3e20cbb-2dc6-49bb-c767-7a7b89ab97d8"
   },
   "outputs": [],
   "source": [
    "print(tf.__version__)"
   ]
  },
  {
   "cell_type": "code",
   "execution_count": null,
   "metadata": {
    "id": "_Vy4yRBIgYnh"
   },
   "outputs": [],
   "source": [
    "import numpy as np\n",
    "import matplotlib.pyplot as plt\n"
   ]
  },
  {
   "cell_type": "code",
   "execution_count": null,
   "metadata": {
    "colab": {
     "base_uri": "https://localhost:8080/",
     "height": 34
    },
    "id": "1uRaTtEhgo--",
    "outputId": "832ffb7a-f0f3-48c5-8295-3d1920d3b4c8"
   },
   "outputs": [],
   "source": [
    "!git clone https://github.com/laxmimerit/Malaria-Classification-Using-CNN.git"
   ]
  },
  {
   "cell_type": "code",
   "execution_count": null,
   "metadata": {
    "id": "Qc6CHCMLhF-s"
   },
   "outputs": [],
   "source": [
    "img_width = 64\n",
    "img_height = 64"
   ]
  },
  {
   "cell_type": "code",
   "execution_count": null,
   "metadata": {
    "id": "v7606a0LhHEZ"
   },
   "outputs": [],
   "source": [
    "# Rescaling the image between 0 to 1 and spliting the data in test and train.\n",
    "datagen = ImageDataGenerator(rescale=1/255.0, validation_split=0.2)"
   ]
  },
  {
   "cell_type": "code",
   "execution_count": null,
   "metadata": {
    "colab": {
     "base_uri": "https://localhost:8080/",
     "height": 34
    },
    "id": "n62SLC8ghlZv",
    "outputId": "0590538b-77f2-45d2-decc-8ebdd60c374a"
   },
   "outputs": [],
   "source": [
    "train_data_generator = datagen.flow_from_directory(directory=\"/content/Malaria-Classification-Using-CNN/malaria-dataset\", \n",
    "                                                   target_size=(img_width, img_height),\n",
    "                                                   class_mode = \"binary\",\n",
    "                                                   batch_size = 16,\n",
    "                                                   subset=\"training\")"
   ]
  },
  {
   "cell_type": "code",
   "execution_count": null,
   "metadata": {
    "colab": {
     "base_uri": "https://localhost:8080/",
     "height": 34
    },
    "id": "iVL0_MN8iSfm",
    "outputId": "d97c1ea7-9c91-4cce-f572-0aa4f898242e"
   },
   "outputs": [],
   "source": [
    "validation_data_generator = datagen.flow_from_directory(directory=\"/content/Malaria-Classification-Using-CNN/malaria-dataset\", \n",
    "                                                   target_size=(img_width, img_height),\n",
    "                                                   class_mode = \"binary\",\n",
    "                                                   batch_size = 16,\n",
    "                                                   subset=\"validation\")"
   ]
  },
  {
   "cell_type": "code",
   "execution_count": null,
   "metadata": {
    "colab": {
     "base_uri": "https://localhost:8080/",
     "height": 51
    },
    "id": "YaoQ3xXUiZQB",
    "outputId": "a45bc239-b623-4376-bc09-3ea67fc8c4aa"
   },
   "outputs": [],
   "source": [
    "train_data_generator.labels, validation_data_generator.labels"
   ]
  },
  {
   "cell_type": "markdown",
   "metadata": {
    "id": "2AsWoF8mihqG"
   },
   "source": [
    "# **Build CNN Model**"
   ]
  },
  {
   "cell_type": "code",
   "execution_count": null,
   "metadata": {
    "id": "icnXnFpXigg_"
   },
   "outputs": [],
   "source": [
    "model = Sequential()\n",
    "\n",
    "model.add(Conv2D(filters=16, kernel_size=(3, 3), input_shape=(img_width, img_height, 3), activation=\"relu\"))\n",
    "model.add(MaxPool2D(2, 2))\n",
    "model.add(Dropout(0.2))\n",
    "\n",
    "model.add(Conv2D(filters=32, kernel_size=(3, 3), activation=\"relu\"))\n",
    "model.add(MaxPool2D(2, 2))\n",
    "model.add(Dropout(0.3))\n",
    "\n",
    "model.add(Flatten())\n",
    "\n",
    "model.add(Dense(64, activation=\"relu\"))\n",
    "model.add(Dropout(0.5))\n",
    "\n",
    "model.add(Dense(1, activation=\"sigmoid\"))"
   ]
  },
  {
   "cell_type": "code",
   "execution_count": null,
   "metadata": {
    "colab": {
     "base_uri": "https://localhost:8080/",
     "height": 493
    },
    "id": "_6KhgIS6jzeV",
    "outputId": "f459fb8d-bebc-4281-d21e-d8f3fd53a6c0"
   },
   "outputs": [],
   "source": [
    "model.summary()"
   ]
  },
  {
   "cell_type": "code",
   "execution_count": null,
   "metadata": {
    "id": "givUHBVIj2ct"
   },
   "outputs": [],
   "source": [
    "model.compile(optimizer=\"adam\", loss=\"binary_crossentropy\", metrics=[\"accuracy\"])"
   ]
  },
  {
   "cell_type": "code",
   "execution_count": null,
   "metadata": {
    "colab": {
     "base_uri": "https://localhost:8080/",
     "height": 187
    },
    "id": "k8b5ktlckg-n",
    "outputId": "2dfb53f5-69b2-48cc-ae0b-a87f820e191b"
   },
   "outputs": [],
   "source": [
    "history = model.fit_generator(generator = train_data_generator,\n",
    "                              steps_per_epoch = len(train_data_generator),\n",
    "                              epochs = 5,\n",
    "                              validation_data = validation_data_generator,\n",
    "                              validation_steps = len(validation_data_generator)\n",
    "                              )"
   ]
  },
  {
   "cell_type": "code",
   "execution_count": null,
   "metadata": {
    "colab": {
     "base_uri": "https://localhost:8080/",
     "height": 221
    },
    "id": "Y4kkMEaP2Nj9",
    "outputId": "b929f7f3-f7e6-46ca-c1e9-6f2a69056b8e"
   },
   "outputs": [],
   "source": [
    "history.history"
   ]
  },
  {
   "cell_type": "code",
   "execution_count": null,
   "metadata": {
    "id": "pbv173Qg2k2D"
   },
   "outputs": [],
   "source": [
    "epoch_range = range(1, 6)"
   ]
  },
  {
   "cell_type": "code",
   "execution_count": null,
   "metadata": {
    "colab": {
     "base_uri": "https://localhost:8080/",
     "height": 295
    },
    "id": "6_EhiAUg2oGm",
    "outputId": "cfb81fed-2f42-4d7b-b850-dc848c2d923f"
   },
   "outputs": [],
   "source": [
    "# Plot training and validation accuracy values\n",
    "# sparse_categorical_accuracy vs val_sparse_categorical_accuracy\n",
    "plt.plot(epoch_range, history.history[\"accuracy\"])\n",
    "plt.plot(epoch_range, history.history[\"val_accuracy\"])\n",
    "plt.title(\"Model Accuracy\")\n",
    "plt.ylabel(\"Accuracy\")\n",
    "plt.xlabel(\"Epoch\")\n",
    "plt.legend([\"Train\", \"Val\"], loc=\"upper left\")\n",
    "plt.show()"
   ]
  },
  {
   "cell_type": "code",
   "execution_count": null,
   "metadata": {
    "colab": {
     "base_uri": "https://localhost:8080/",
     "height": 295
    },
    "id": "ci7f_zN52rjC",
    "outputId": "1437defe-562b-44f1-fe34-47c283c0a84e"
   },
   "outputs": [],
   "source": [
    "# Plot training and validation loss values\n",
    "# Loss vs Val_Loss\n",
    "plt.plot(epoch_range, history.history[\"loss\"])\n",
    "plt.plot(epoch_range, history.history[\"val_loss\"])\n",
    "plt.title(\"Model Loss\")\n",
    "plt.ylabel(\"Loss\")\n",
    "plt.xlabel(\"Epoch\")\n",
    "plt.legend([\"Train\", \"Val\"], loc=\"upper left\")\n",
    "plt.show()"
   ]
  }
 ],
 "metadata": {
  "accelerator": "TPU",
  "colab": {
   "authorship_tag": "ABX9TyPURA+eaUj7Cn7lw83NKo/V",
   "include_colab_link": true,
   "name": "Tensorflow 2.0 - Malaria Parasite Detection Using CNN.ipynb",
   "provenance": []
  },
  "kernelspec": {
   "display_name": "Python 3",
   "name": "python3"
  }
 },
 "nbformat": 4,
 "nbformat_minor": 0
}
