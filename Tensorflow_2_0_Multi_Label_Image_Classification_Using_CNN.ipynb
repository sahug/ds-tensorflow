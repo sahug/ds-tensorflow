{
 "cells": [
  {
   "cell_type": "markdown",
   "metadata": {
    "colab_type": "text",
    "id": "view-in-github"
   },
   "source": [
    "<a href=\"https://colab.research.google.com/github/sahug/tensorflow-colab/blob/master/Tensorflow_2_0_Multi_Label_Image_Classification_Using_CNN.ipynb\" target=\"_parent\"><img src=\"https://colab.research.google.com/assets/colab-badge.svg\" alt=\"Open In Colab\"/></a>"
   ]
  },
  {
   "cell_type": "markdown",
   "metadata": {
    "id": "aYoo7yXOdrt2"
   },
   "source": [
    "Multi-Label Classification classifies in to multiple labels. "
   ]
  },
  {
   "cell_type": "code",
   "execution_count": null,
   "metadata": {
    "colab": {
     "base_uri": "https://localhost:8080/",
     "height": 649
    },
    "id": "Vcu18eeYdXCL",
    "outputId": "a5dd4e52-59d8-4f77-9ff0-acd30b7649a8"
   },
   "outputs": [],
   "source": [
    "!pip install tensorflow-gpu==2.0.0"
   ]
  },
  {
   "cell_type": "markdown",
   "metadata": {
    "id": "uPEWXz9Yehs_"
   },
   "source": [
    "Movie poster link - https://www.cs.ccu.edu.tw/~wtchu/projects/MoviePoster/"
   ]
  },
  {
   "cell_type": "code",
   "execution_count": null,
   "metadata": {
    "id": "v3ZS4-uHgEkx"
   },
   "outputs": [],
   "source": [
    "import tensorflow as tf\n",
    "from tensorflow.keras import Sequential"
   ]
  },
  {
   "cell_type": "code",
   "execution_count": null,
   "metadata": {
    "id": "DZv95uRKgVTW"
   },
   "outputs": [],
   "source": [
    "from tensorflow.keras.layers import Flatten, Dense, Dropout, BatchNormalization, Conv2D, MaxPool2D"
   ]
  },
  {
   "cell_type": "code",
   "execution_count": null,
   "metadata": {
    "id": "_eK4P7-qghao"
   },
   "outputs": [],
   "source": [
    "from tensorflow.keras.optimizers import Adam\n",
    "from tensorflow.keras.preprocessing import image"
   ]
  },
  {
   "cell_type": "code",
   "execution_count": null,
   "metadata": {
    "colab": {
     "base_uri": "https://localhost:8080/",
     "height": 34
    },
    "id": "GWFkWNUjguXB",
    "outputId": "52b32504-24aa-4aa2-83cc-d954b31bd07d"
   },
   "outputs": [],
   "source": [
    "print(tf.__version__)"
   ]
  },
  {
   "cell_type": "code",
   "execution_count": null,
   "metadata": {
    "id": "guZt_P8ygyCQ"
   },
   "outputs": [],
   "source": [
    "import numpy as np\n",
    "import pandas as pd\n",
    "import matplotlib.pyplot as plt"
   ]
  },
  {
   "cell_type": "code",
   "execution_count": null,
   "metadata": {
    "id": "pxg3O4tsg5my"
   },
   "outputs": [],
   "source": [
    "from sklearn.model_selection import train_test_split\n",
    "from tqdm import tqdm"
   ]
  },
  {
   "cell_type": "code",
   "execution_count": null,
   "metadata": {
    "colab": {
     "base_uri": "https://localhost:8080/",
     "height": 34
    },
    "id": "FTxhn97GhCtt",
    "outputId": "d92e2410-a606-4fd7-a3fc-23005c48d44e"
   },
   "outputs": [],
   "source": [
    "# Clonning data from repository\n",
    "!git clone https://github.com/laxmimerit/Movies-Poster_Dataset.git"
   ]
  },
  {
   "cell_type": "code",
   "execution_count": null,
   "metadata": {
    "colab": {
     "base_uri": "https://localhost:8080/",
     "height": 34
    },
    "id": "r6VylDAChXJ9",
    "outputId": "9a8385e5-e38d-40dc-f586-ac9356c5e474"
   },
   "outputs": [],
   "source": [
    "data = pd.read_csv(\"/content/Movies-Poster_Dataset/train.csv\")\n",
    "data.shape"
   ]
  },
  {
   "cell_type": "code",
   "execution_count": null,
   "metadata": {
    "colab": {
     "base_uri": "https://localhost:8080/",
     "height": 343
    },
    "id": "OlIsEM0ehoFD",
    "outputId": "04d24675-0454-4550-b716-84c37fafb32e"
   },
   "outputs": [],
   "source": [
    "data.head() #ID Correspondes to Image Name in the Images Directory"
   ]
  },
  {
   "cell_type": "code",
   "execution_count": null,
   "metadata": {
    "colab": {
     "base_uri": "https://localhost:8080/",
     "height": 34
    },
    "id": "LVNsHh4uiTup",
    "outputId": "f8ad4172-85cb-4edd-bb21-a06979a46b7e"
   },
   "outputs": [],
   "source": [
    "# For Processing we need the data/image in same size. Converting all images to same size\n",
    "img_width = 200\n",
    "img_height = 200\n",
    "\n",
    "x = []\n",
    "\n",
    "for i in tqdm(range(data.shape[0])):\n",
    "  path = \"/content/Movies-Poster_Dataset/Images/\" + data[\"Id\"][i] + \".jpg\"\n",
    "  img = image.load_img(path, target_size=(img_width, img_height, 3)) #Reshapping image. 3 is for color.\n",
    "  img = image.img_to_array(img) #Converting image to array\n",
    "  img = img/255.0 #Bringing down variance to common difference\n",
    "  x.append(img)  \n",
    "\n",
    "x = np.array(x)"
   ]
  },
  {
   "cell_type": "code",
   "execution_count": null,
   "metadata": {
    "colab": {
     "base_uri": "https://localhost:8080/",
     "height": 34
    },
    "id": "Zd7nTvOnjquV",
    "outputId": "2cd31b3a-c633-4375-ff4e-804f0b1b785d"
   },
   "outputs": [],
   "source": [
    "x.shape"
   ]
  },
  {
   "cell_type": "code",
   "execution_count": null,
   "metadata": {
    "colab": {
     "base_uri": "https://localhost:8080/",
     "height": 286
    },
    "id": "VZOV2yj3ozCI",
    "outputId": "3b4199b7-87d1-436b-a4ef-6bcdbbd352e1"
   },
   "outputs": [],
   "source": [
    "plt.imshow(x[1])"
   ]
  },
  {
   "cell_type": "code",
   "execution_count": null,
   "metadata": {
    "colab": {
     "base_uri": "https://localhost:8080/",
     "height": 35
    },
    "id": "YALZi9-So5EG",
    "outputId": "f47ed0d6-4989-4cb5-cd5a-d052c4adbbbf"
   },
   "outputs": [],
   "source": [
    "data[\"Genre\"][1]"
   ]
  },
  {
   "cell_type": "code",
   "execution_count": null,
   "metadata": {
    "colab": {
     "base_uri": "https://localhost:8080/",
     "height": 34
    },
    "id": "7IVMZaKho-bI",
    "outputId": "9f5a5bb0-7088-4296-8e84-b6407e0a5ac4"
   },
   "outputs": [],
   "source": [
    "# Prepare Train and Test Data\n",
    "y = data.drop([\"Id\", \"Genre\"], axis = 1)\n",
    "y = y.to_numpy()\n",
    "y.shape"
   ]
  },
  {
   "cell_type": "code",
   "execution_count": null,
   "metadata": {
    "id": "Ca2Of5-QpT3i"
   },
   "outputs": [],
   "source": [
    "x_train, x_test, y_train, y_test = train_test_split(x, y, test_size=0.15, random_state=0)"
   ]
  },
  {
   "cell_type": "markdown",
   "metadata": {
    "id": "YtPkQXntp248"
   },
   "source": [
    "## Build **CNN**"
   ]
  },
  {
   "cell_type": "code",
   "execution_count": null,
   "metadata": {
    "id": "psmwz4RWpxWx"
   },
   "outputs": [],
   "source": [
    "model = Sequential()\n",
    "\n",
    "# Layer 1\n",
    "model.add(Conv2D(16, (3, 3), activation=\"relu\", input_shape=x_train[0].shape))\n",
    "model.add(BatchNormalization())\n",
    "model.add(MaxPool2D(2, 2))\n",
    "model.add(Dropout(0.3))\n",
    "\n",
    "# Layer 2\n",
    "model.add(Conv2D(32, (3, 3), activation=\"relu\"))\n",
    "model.add(BatchNormalization())\n",
    "model.add(MaxPool2D(2, 2))\n",
    "model.add(Dropout(0.3))\n",
    "\n",
    "# Layer 3\n",
    "model.add(Conv2D(64, (3, 3), activation=\"relu\"))\n",
    "model.add(BatchNormalization())\n",
    "model.add(MaxPool2D(2, 2))\n",
    "model.add(Dropout(0.4))\n",
    "\n",
    "# Layer 4\n",
    "model.add(Conv2D(128, (3, 3), activation=\"relu\"))\n",
    "model.add(BatchNormalization())\n",
    "model.add(MaxPool2D(2, 2))\n",
    "model.add(Dropout(0.5))\n",
    "\n",
    "model.add(Flatten())\n",
    "\n",
    "model.add(Dense(128, activation=\"relu\"))\n",
    "model.add(BatchNormalization())\n",
    "model.add(Dropout(0.5))\n",
    "\n",
    "model.add(Dense(128, activation=\"relu\"))\n",
    "model.add(BatchNormalization())\n",
    "model.add(Dropout(0.5))\n",
    "\n",
    "model.add(Dense(25, activation=\"sigmoid\"))"
   ]
  },
  {
   "cell_type": "code",
   "execution_count": null,
   "metadata": {
    "colab": {
     "base_uri": "https://localhost:8080/",
     "height": 969
    },
    "id": "F6SlIlsDr43J",
    "outputId": "284f996d-6eb8-4518-89cf-05d9d0b8a9b6"
   },
   "outputs": [],
   "source": [
    "model.summary()"
   ]
  },
  {
   "cell_type": "code",
   "execution_count": null,
   "metadata": {
    "id": "Xgco2osXsAes"
   },
   "outputs": [],
   "source": [
    "model.compile(optimizer=\"adam\", loss=\"binary_crossentropy\", metrics=[\"accuracy\"])"
   ]
  },
  {
   "cell_type": "code",
   "execution_count": null,
   "metadata": {
    "colab": {
     "base_uri": "https://localhost:8080/",
     "height": 224
    },
    "id": "-RugtqmgsQCf",
    "outputId": "9a86e834-de95-4e78-86cd-c97b350c2563"
   },
   "outputs": [],
   "source": [
    "history = model.fit(x_train, y_train, epochs=5, validation_data=(x_test, y_test))"
   ]
  },
  {
   "cell_type": "code",
   "execution_count": null,
   "metadata": {
    "colab": {
     "base_uri": "https://localhost:8080/",
     "height": 221
    },
    "id": "QMpQXbx5utFj",
    "outputId": "f24ed70e-1abc-410a-9e5b-1228320462e5"
   },
   "outputs": [],
   "source": [
    "history.history"
   ]
  },
  {
   "cell_type": "code",
   "execution_count": null,
   "metadata": {
    "id": "oI-jdm8Zuwah"
   },
   "outputs": [],
   "source": [
    "epoch_range = range(1, 6)"
   ]
  },
  {
   "cell_type": "code",
   "execution_count": null,
   "metadata": {
    "colab": {
     "base_uri": "https://localhost:8080/",
     "height": 295
    },
    "id": "HzFm8eiBu0eH",
    "outputId": "2d269a62-705f-407d-9f02-73fd1dd2b6f5"
   },
   "outputs": [],
   "source": [
    "# Plot training and validation accuracy values\n",
    "# sparse_categorical_accuracy vs val_sparse_categorical_accuracy\n",
    "plt.plot(epoch_range, history.history[\"accuracy\"])\n",
    "plt.plot(epoch_range, history.history[\"val_accuracy\"])\n",
    "plt.title(\"Model Accuracy\")\n",
    "plt.ylabel(\"Accuracy\")\n",
    "plt.xlabel(\"Epoch\")\n",
    "plt.legend([\"Train\", \"Val\"], loc=\"upper left\")\n",
    "plt.show()"
   ]
  },
  {
   "cell_type": "code",
   "execution_count": null,
   "metadata": {
    "colab": {
     "base_uri": "https://localhost:8080/",
     "height": 295
    },
    "id": "G7OtXi9UvCKb",
    "outputId": "d77ea46f-9eac-4efd-d006-00ceaee500ef"
   },
   "outputs": [],
   "source": [
    "# Plot training and validation loss values\n",
    "# Loss vs Val_Loss\n",
    "plt.plot(epoch_range, history.history[\"loss\"])\n",
    "plt.plot(epoch_range, history.history[\"val_loss\"])\n",
    "plt.title(\"Model Loss\")\n",
    "plt.ylabel(\"Loss\")\n",
    "plt.xlabel(\"Epoch\")\n",
    "plt.legend([\"Train\", \"Val\"], loc=\"upper left\")\n",
    "plt.show()"
   ]
  },
  {
   "cell_type": "markdown",
   "metadata": {
    "id": "mC2Ey0MDvqmc"
   },
   "source": [
    "### **Making Predictions**"
   ]
  },
  {
   "cell_type": "code",
   "execution_count": null,
   "metadata": {
    "colab": {
     "base_uri": "https://localhost:8080/",
     "height": 269
    },
    "id": "Qtc0f3zJv1of",
    "outputId": "ea4393cc-2134-49fb-ad31-fcf42160b685"
   },
   "outputs": [],
   "source": [
    "img = image.load_img(\"/content/Movies-Poster_Dataset/endgame.jpg\", target_size=(img_width, img_height, 3))\n",
    "plt.imshow(img)\n",
    "img = image.img_to_array(img)\n",
    "img = img/255.0\n",
    "img = img.reshape(1, img_width, img_height, 3)\n"
   ]
  },
  {
   "cell_type": "code",
   "execution_count": null,
   "metadata": {
    "colab": {
     "base_uri": "https://localhost:8080/",
     "height": 102
    },
    "id": "hMf8xKcew8Qo",
    "outputId": "cd3059e1-5e72-4194-dd9a-9f9508b4c611"
   },
   "outputs": [],
   "source": [
    "classes = data.columns[2:]\n",
    "classes"
   ]
  },
  {
   "cell_type": "code",
   "execution_count": null,
   "metadata": {
    "colab": {
     "base_uri": "https://localhost:8080/",
     "height": 221
    },
    "id": "cTCh9F3Ww9wW",
    "outputId": "c27c0dc6-1b0d-4691-d000-0e3dd9ea358a"
   },
   "outputs": [],
   "source": [
    "y_prob = model.predict(img)\n",
    "y_prob, y_prob[0]"
   ]
  },
  {
   "cell_type": "code",
   "execution_count": null,
   "metadata": {
    "colab": {
     "base_uri": "https://localhost:8080/",
     "height": 34
    },
    "id": "D4ltjQ1hxNRS",
    "outputId": "aeced5e4-3a72-43bd-8a98-0974de5e6ee9"
   },
   "outputs": [],
   "source": [
    "#Sorting and getting top 3 predictions\n",
    "top_3_predictions = np.argsort(y_prob[0])[:-4:-1]\n",
    "top_3_predictions"
   ]
  },
  {
   "cell_type": "code",
   "execution_count": null,
   "metadata": {
    "colab": {
     "base_uri": "https://localhost:8080/",
     "height": 68
    },
    "id": "DZ0E3whCx79n",
    "outputId": "1968e52c-e31c-48c5-a936-a98564f03513"
   },
   "outputs": [],
   "source": [
    "for i in range(3):\n",
    "  print(classes[top_3_predictions[i]])"
   ]
  },
  {
   "cell_type": "code",
   "execution_count": null,
   "metadata": {
    "id": "pSfEL0slx2Ov"
   },
   "outputs": [],
   "source": []
  }
 ],
 "metadata": {
  "accelerator": "GPU",
  "colab": {
   "authorship_tag": "ABX9TyOSbF2o8IBvcLugnyVnaPyE",
   "include_colab_link": true,
   "name": "Tensorflow 2.0 - Multi-Label Image Classification Using CNN.ipynb",
   "provenance": []
  },
  "kernelspec": {
   "display_name": "Python 3",
   "name": "python3"
  }
 },
 "nbformat": 4,
 "nbformat_minor": 0
}
