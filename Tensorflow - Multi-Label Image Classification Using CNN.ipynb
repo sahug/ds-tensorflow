{
  "cells": [
    {
      "cell_type": "markdown",
      "metadata": {
        "colab_type": "text",
        "id": "view-in-github"
      },
      "source": [
        "<a href=\"https://colab.research.google.com/github/sahug/ds-tensorflow-colab/blob/master/Tensorflow%20-%20Multi-Label%20Image%20Classification%20Using%20CNN.ipynb\" target=\"_parent\"><img src=\"https://colab.research.google.com/assets/colab-badge.svg\" alt=\"Open In Colab\"/></a>"
      ]
    },
    {
      "cell_type": "markdown",
      "metadata": {
        "id": "aYoo7yXOdrt2"
      },
      "source": [
        "**Tensorflow - Multi-Label Image Classification Using CNN**"
      ]
    },
    {
      "cell_type": "markdown",
      "metadata": {
        "id": "uPEWXz9Yehs_"
      },
      "source": [
        "Movie poster link - https://www.cs.ccu.edu.tw/~wtchu/projects/MoviePoster/"
      ]
    },
    {
      "cell_type": "code",
      "execution_count": 2,
      "metadata": {
        "id": "v3ZS4-uHgEkx"
      },
      "outputs": [],
      "source": [
        "import tensorflow as tf\n",
        "from tensorflow import keras\n",
        "from keras import optimizers, activations\n",
        "from keras.preprocessing import image"
      ]
    },
    {
      "cell_type": "code",
      "execution_count": 2,
      "metadata": {
        "id": "GWFkWNUjguXB"
      },
      "outputs": [
        {
          "name": "stdout",
          "output_type": "stream",
          "text": [
            "2.8.0\n"
          ]
        }
      ],
      "source": [
        "print(tf.__version__)"
      ]
    },
    {
      "cell_type": "code",
      "execution_count": 3,
      "metadata": {
        "id": "guZt_P8ygyCQ"
      },
      "outputs": [],
      "source": [
        "import numpy as np\n",
        "import pandas as pd\n",
        "import matplotlib.pyplot as plt"
      ]
    },
    {
      "cell_type": "code",
      "execution_count": 4,
      "metadata": {
        "id": "pxg3O4tsg5my"
      },
      "outputs": [],
      "source": [
        "from sklearn.model_selection import train_test_split\n",
        "from tqdm import tqdm"
      ]
    },
    {
      "cell_type": "code",
      "execution_count": 5,
      "metadata": {
        "id": "FTxhn97GhCtt"
      },
      "outputs": [
        {
          "name": "stderr",
          "output_type": "stream",
          "text": [
            "fatal: destination path 'Movies-Poster_Dataset' already exists and is not an empty directory.\n"
          ]
        }
      ],
      "source": [
        "# Clonning data from repository\n",
        "!git clone https://github.com/laxmimerit/Movies-Poster_Dataset.git"
      ]
    },
    {
      "cell_type": "code",
      "execution_count": 6,
      "metadata": {
        "id": "r6VylDAChXJ9"
      },
      "outputs": [
        {
          "data": {
            "text/plain": [
              "(7254, 27)"
            ]
          },
          "execution_count": 6,
          "metadata": {},
          "output_type": "execute_result"
        }
      ],
      "source": [
        "data = pd.read_csv(\"Movies-Poster_Dataset/train.csv\")\n",
        "data.shape"
      ]
    },
    {
      "cell_type": "code",
      "execution_count": 7,
      "metadata": {
        "id": "OlIsEM0ehoFD"
      },
      "outputs": [
        {
          "data": {
            "text/html": [
              "<div>\n",
              "<style scoped>\n",
              "    .dataframe tbody tr th:only-of-type {\n",
              "        vertical-align: middle;\n",
              "    }\n",
              "\n",
              "    .dataframe tbody tr th {\n",
              "        vertical-align: top;\n",
              "    }\n",
              "\n",
              "    .dataframe thead th {\n",
              "        text-align: right;\n",
              "    }\n",
              "</style>\n",
              "<table border=\"1\" class=\"dataframe\">\n",
              "  <thead>\n",
              "    <tr style=\"text-align: right;\">\n",
              "      <th></th>\n",
              "      <th>Id</th>\n",
              "      <th>Genre</th>\n",
              "      <th>Action</th>\n",
              "      <th>Adventure</th>\n",
              "      <th>Animation</th>\n",
              "      <th>Biography</th>\n",
              "      <th>Comedy</th>\n",
              "      <th>Crime</th>\n",
              "      <th>Documentary</th>\n",
              "      <th>Drama</th>\n",
              "      <th>...</th>\n",
              "      <th>N/A</th>\n",
              "      <th>News</th>\n",
              "      <th>Reality-TV</th>\n",
              "      <th>Romance</th>\n",
              "      <th>Sci-Fi</th>\n",
              "      <th>Short</th>\n",
              "      <th>Sport</th>\n",
              "      <th>Thriller</th>\n",
              "      <th>War</th>\n",
              "      <th>Western</th>\n",
              "    </tr>\n",
              "  </thead>\n",
              "  <tbody>\n",
              "    <tr>\n",
              "      <th>0</th>\n",
              "      <td>tt0086425</td>\n",
              "      <td>['Comedy', 'Drama']</td>\n",
              "      <td>0</td>\n",
              "      <td>0</td>\n",
              "      <td>0</td>\n",
              "      <td>0</td>\n",
              "      <td>1</td>\n",
              "      <td>0</td>\n",
              "      <td>0</td>\n",
              "      <td>1</td>\n",
              "      <td>...</td>\n",
              "      <td>0</td>\n",
              "      <td>0</td>\n",
              "      <td>0</td>\n",
              "      <td>0</td>\n",
              "      <td>0</td>\n",
              "      <td>0</td>\n",
              "      <td>0</td>\n",
              "      <td>0</td>\n",
              "      <td>0</td>\n",
              "      <td>0</td>\n",
              "    </tr>\n",
              "    <tr>\n",
              "      <th>1</th>\n",
              "      <td>tt0085549</td>\n",
              "      <td>['Drama', 'Romance', 'Music']</td>\n",
              "      <td>0</td>\n",
              "      <td>0</td>\n",
              "      <td>0</td>\n",
              "      <td>0</td>\n",
              "      <td>0</td>\n",
              "      <td>0</td>\n",
              "      <td>0</td>\n",
              "      <td>1</td>\n",
              "      <td>...</td>\n",
              "      <td>0</td>\n",
              "      <td>0</td>\n",
              "      <td>0</td>\n",
              "      <td>1</td>\n",
              "      <td>0</td>\n",
              "      <td>0</td>\n",
              "      <td>0</td>\n",
              "      <td>0</td>\n",
              "      <td>0</td>\n",
              "      <td>0</td>\n",
              "    </tr>\n",
              "    <tr>\n",
              "      <th>2</th>\n",
              "      <td>tt0086465</td>\n",
              "      <td>['Comedy']</td>\n",
              "      <td>0</td>\n",
              "      <td>0</td>\n",
              "      <td>0</td>\n",
              "      <td>0</td>\n",
              "      <td>1</td>\n",
              "      <td>0</td>\n",
              "      <td>0</td>\n",
              "      <td>0</td>\n",
              "      <td>...</td>\n",
              "      <td>0</td>\n",
              "      <td>0</td>\n",
              "      <td>0</td>\n",
              "      <td>0</td>\n",
              "      <td>0</td>\n",
              "      <td>0</td>\n",
              "      <td>0</td>\n",
              "      <td>0</td>\n",
              "      <td>0</td>\n",
              "      <td>0</td>\n",
              "    </tr>\n",
              "    <tr>\n",
              "      <th>3</th>\n",
              "      <td>tt0086567</td>\n",
              "      <td>['Sci-Fi', 'Thriller']</td>\n",
              "      <td>0</td>\n",
              "      <td>0</td>\n",
              "      <td>0</td>\n",
              "      <td>0</td>\n",
              "      <td>0</td>\n",
              "      <td>0</td>\n",
              "      <td>0</td>\n",
              "      <td>0</td>\n",
              "      <td>...</td>\n",
              "      <td>0</td>\n",
              "      <td>0</td>\n",
              "      <td>0</td>\n",
              "      <td>0</td>\n",
              "      <td>1</td>\n",
              "      <td>0</td>\n",
              "      <td>0</td>\n",
              "      <td>1</td>\n",
              "      <td>0</td>\n",
              "      <td>0</td>\n",
              "    </tr>\n",
              "    <tr>\n",
              "      <th>4</th>\n",
              "      <td>tt0086034</td>\n",
              "      <td>['Action', 'Adventure', 'Thriller']</td>\n",
              "      <td>1</td>\n",
              "      <td>1</td>\n",
              "      <td>0</td>\n",
              "      <td>0</td>\n",
              "      <td>0</td>\n",
              "      <td>0</td>\n",
              "      <td>0</td>\n",
              "      <td>0</td>\n",
              "      <td>...</td>\n",
              "      <td>0</td>\n",
              "      <td>0</td>\n",
              "      <td>0</td>\n",
              "      <td>0</td>\n",
              "      <td>0</td>\n",
              "      <td>0</td>\n",
              "      <td>0</td>\n",
              "      <td>1</td>\n",
              "      <td>0</td>\n",
              "      <td>0</td>\n",
              "    </tr>\n",
              "  </tbody>\n",
              "</table>\n",
              "<p>5 rows × 27 columns</p>\n",
              "</div>"
            ],
            "text/plain": [
              "          Id                                Genre  Action  Adventure  \\\n",
              "0  tt0086425                  ['Comedy', 'Drama']       0          0   \n",
              "1  tt0085549        ['Drama', 'Romance', 'Music']       0          0   \n",
              "2  tt0086465                           ['Comedy']       0          0   \n",
              "3  tt0086567               ['Sci-Fi', 'Thriller']       0          0   \n",
              "4  tt0086034  ['Action', 'Adventure', 'Thriller']       1          1   \n",
              "\n",
              "   Animation  Biography  Comedy  Crime  Documentary  Drama  ...  N/A  News  \\\n",
              "0          0          0       1      0            0      1  ...    0     0   \n",
              "1          0          0       0      0            0      1  ...    0     0   \n",
              "2          0          0       1      0            0      0  ...    0     0   \n",
              "3          0          0       0      0            0      0  ...    0     0   \n",
              "4          0          0       0      0            0      0  ...    0     0   \n",
              "\n",
              "   Reality-TV  Romance  Sci-Fi  Short  Sport  Thriller  War  Western  \n",
              "0           0        0       0      0      0         0    0        0  \n",
              "1           0        1       0      0      0         0    0        0  \n",
              "2           0        0       0      0      0         0    0        0  \n",
              "3           0        0       1      0      0         1    0        0  \n",
              "4           0        0       0      0      0         1    0        0  \n",
              "\n",
              "[5 rows x 27 columns]"
            ]
          },
          "execution_count": 7,
          "metadata": {},
          "output_type": "execute_result"
        }
      ],
      "source": [
        "data.head() #ID Correspondes to Image Name in the Images Directory"
      ]
    },
    {
      "cell_type": "code",
      "execution_count": 7,
      "metadata": {
        "id": "LVNsHh4uiTup"
      },
      "outputs": [
        {
          "name": "stderr",
          "output_type": "stream",
          "text": [
            "100%|██████████| 7254/7254 [00:39<00:00, 185.78it/s]\n"
          ]
        }
      ],
      "source": [
        "# For Processing we need the data/image in same size. Converting all images to same size\n",
        "img_width = 200\n",
        "img_height = 200\n",
        "\n",
        "x = []\n",
        "\n",
        "for i in tqdm(range(data.shape[0])):\n",
        "  path = \"Movies-Poster_Dataset/Images/\" + data[\"Id\"][i] + \".jpg\"\n",
        "  img = image.load_img(path, target_size=(img_width, img_height, 3)) #Reshapping image. 3 is for color.\n",
        "  img = image.img_to_array(img) #Converting image to array\n",
        "  img = img/255.0 #Bringing down variance to common difference\n",
        "  x.append(img)  \n",
        "\n",
        "x = np.array(x)"
      ]
    },
    {
      "cell_type": "code",
      "execution_count": 8,
      "metadata": {
        "id": "VZOV2yj3ozCI"
      },
      "outputs": [
        {
          "data": {
            "text/plain": [
              "(<matplotlib.image.AxesImage at 0x1b92378f2b0>,\n",
              " \"['Drama', 'Romance', 'Music']\")"
            ]
          },
          "execution_count": 8,
          "metadata": {},
          "output_type": "execute_result"
        },
        {
          "data": {
            "image/png": "[encoded data removed]",
            "text/plain": [
              "<Figure size 432x288 with 1 Axes>"
            ]
          },
          "metadata": {
            "needs_background": "light"
          },
          "output_type": "display_data"
        }
      ],
      "source": [
        "plt.imshow(x[1]), data[\"Genre\"][1]"
      ]
    },
    {
      "cell_type": "code",
      "execution_count": 9,
      "metadata": {
        "id": "7IVMZaKho-bI"
      },
      "outputs": [
        {
          "data": {
            "text/plain": [
              "(7254, 25)"
            ]
          },
          "execution_count": 9,
          "metadata": {},
          "output_type": "execute_result"
        }
      ],
      "source": [
        "# Prepare Train and Test Data\n",
        "y = data.drop([\"Id\", \"Genre\"], axis = 1)\n",
        "y = y.to_numpy()\n",
        "y.shape"
      ]
    },
    {
      "cell_type": "code",
      "execution_count": 10,
      "metadata": {
        "id": "Ca2Of5-QpT3i"
      },
      "outputs": [],
      "source": [
        "x_train, x_test, y_train, y_test = train_test_split(x, y, test_size=0.15, random_state=0)"
      ]
    },
    {
      "cell_type": "markdown",
      "metadata": {
        "id": "YtPkQXntp248"
      },
      "source": [
        "**Build CNN**"
      ]
    },
    {
      "cell_type": "code",
      "execution_count": 11,
      "metadata": {
        "id": "psmwz4RWpxWx"
      },
      "outputs": [
        {
          "name": "stdout",
          "output_type": "stream",
          "text": [
            "Model: \"conv2d\"\n",
            "_________________________________________________________________\n",
            " Layer (type)                Output Shape              Param #   \n",
            "=================================================================\n",
            " input_1 (InputLayer)        [(None, 200, 200, 3)]     0         \n",
            "                                                                 \n",
            " conv2d (Conv2D)             (None, 198, 198, 16)      448       \n",
            "                                                                 \n",
            " batch_normalization (BatchN  (None, 198, 198, 16)     64        \n",
            " ormalization)                                                   \n",
            "                                                                 \n",
            " max_pooling2d (MaxPooling2D  (None, 99, 99, 16)       0         \n",
            " )                                                               \n",
            "                                                                 \n",
            " dropout (Dropout)           (None, 99, 99, 16)        0         \n",
            "                                                                 \n",
            " conv2d_1 (Conv2D)           (None, 97, 97, 32)        4640      \n",
            "                                                                 \n",
            " batch_normalization_1 (Batc  (None, 97, 97, 32)       128       \n",
            " hNormalization)                                                 \n",
            "                                                                 \n",
            " max_pooling2d_1 (MaxPooling  (None, 48, 48, 32)       0         \n",
            " 2D)                                                             \n",
            "                                                                 \n",
            " dropout_1 (Dropout)         (None, 48, 48, 32)        0         \n",
            "                                                                 \n",
            " conv2d_2 (Conv2D)           (None, 46, 46, 64)        18496     \n",
            "                                                                 \n",
            " batch_normalization_2 (Batc  (None, 46, 46, 64)       256       \n",
            " hNormalization)                                                 \n",
            "                                                                 \n",
            " max_pooling2d_2 (MaxPooling  (None, 23, 23, 64)       0         \n",
            " 2D)                                                             \n",
            "                                                                 \n",
            " dropout_2 (Dropout)         (None, 23, 23, 64)        0         \n",
            "                                                                 \n",
            " conv2d_3 (Conv2D)           (None, 21, 21, 128)       73856     \n",
            "                                                                 \n",
            " batch_normalization_3 (Batc  (None, 21, 21, 128)      512       \n",
            " hNormalization)                                                 \n",
            "                                                                 \n",
            " max_pooling2d_3 (MaxPooling  (None, 10, 10, 128)      0         \n",
            " 2D)                                                             \n",
            "                                                                 \n",
            " dropout_3 (Dropout)         (None, 10, 10, 128)       0         \n",
            "                                                                 \n",
            " flatten (Flatten)           (None, 12800)             0         \n",
            "                                                                 \n",
            " dense (Dense)               (None, 128)               1638528   \n",
            "                                                                 \n",
            " batch_normalization_4 (Batc  (None, 128)              512       \n",
            " hNormalization)                                                 \n",
            "                                                                 \n",
            " dropout_4 (Dropout)         (None, 128)               0         \n",
            "                                                                 \n",
            " dense_1 (Dense)             (None, 128)               16512     \n",
            "                                                                 \n",
            " batch_normalization_5 (Batc  (None, 128)              512       \n",
            " hNormalization)                                                 \n",
            "                                                                 \n",
            " dropout_5 (Dropout)         (None, 128)               0         \n",
            "                                                                 \n",
            " dense_2 (Dense)             (None, 25)                3225      \n",
            "                                                                 \n",
            "=================================================================\n",
            "Total params: 1,757,689\n",
            "Trainable params: 1,756,697\n",
            "Non-trainable params: 992\n",
            "_________________________________________________________________\n"
          ]
        }
      ],
      "source": [
        "inputs = keras.Input(shape=(x_train[0].shape))\n",
        "\n",
        "x = keras.layers.Conv2D(16, (3, 3), activation=activations.relu)(inputs)\n",
        "x = keras.layers.BatchNormalization()(x)\n",
        "x = keras.layers.MaxPool2D(2, 2)(x)\n",
        "x = keras.layers.Dropout(0.3)(x)\n",
        "\n",
        "x = keras.layers.Conv2D(32, (3, 3), activation=activations.relu)(x)\n",
        "x = keras.layers.BatchNormalization()(x)\n",
        "x = keras.layers.MaxPool2D(2, 2)(x)\n",
        "x = keras.layers.Dropout(0.3)(x)\n",
        "\n",
        "x = keras.layers.Conv2D(64, (3, 3), activation=activations.relu)(x)\n",
        "x = keras.layers.BatchNormalization()(x)\n",
        "x = keras.layers.MaxPool2D(2, 2)(x)\n",
        "x = keras.layers.Dropout(0.4)(x)\n",
        "\n",
        "x = keras.layers.Conv2D(128, (3, 3), activation=activations.relu)(x)\n",
        "x = keras.layers.BatchNormalization()(x)\n",
        "x = keras.layers.MaxPool2D(2, 2)(x)\n",
        "x = keras.layers.Dropout(0.5)(x)\n",
        "\n",
        "x = keras.layers.Flatten()(x)\n",
        "x = keras.layers.Dense(128, activation=activations.relu)(x)\n",
        "x = keras.layers.BatchNormalization()(x)\n",
        "x = keras.layers.Dropout(0.5)(x)\n",
        "\n",
        "x = keras.layers.Dense(128, activation=activations.relu)(x)\n",
        "x = keras.layers.BatchNormalization()(x)\n",
        "x = keras.layers.Dropout(0.5)(x)\n",
        "\n",
        "outputs = keras.layers.Dense(25, activation=activations.sigmoid)(x)\n",
        "\n",
        "model = keras.Model(inputs=inputs, outputs=[outputs], name=\"conv2d\")\n",
        "\n",
        "model.summary()"
      ]
    },
    {
      "cell_type": "code",
      "execution_count": 12,
      "metadata": {
        "id": "Xgco2osXsAes"
      },
      "outputs": [],
      "source": [
        "model.compile(\n",
        "    optimizer=tf.keras.optimizers.Adam(0.001),\n",
        "    loss=tf.keras.losses.BinaryCrossentropy(),\n",
        "    metrics=[\"accuracy\"])"
      ]
    },
    {
      "cell_type": "code",
      "execution_count": 13,
      "metadata": {
        "id": "-RugtqmgsQCf"
      },
      "outputs": [
        {
          "name": "stdout",
          "output_type": "stream",
          "text": [
            "Epoch 1/5\n",
            "193/193 [==============================] - 389s 2s/step - loss: 0.7075 - accuracy: 0.1036 - val_loss: 1.2765 - val_accuracy: 0.0634\n",
            "Epoch 2/5\n",
            "193/193 [==============================] - 290s 2s/step - loss: 0.3135 - accuracy: 0.2522 - val_loss: 0.4599 - val_accuracy: 0.1901\n",
            "Epoch 3/5\n",
            "193/193 [==============================] - 288s 1s/step - loss: 0.2611 - accuracy: 0.3011 - val_loss: 0.8970 - val_accuracy: 0.0670\n",
            "Epoch 4/5\n",
            "193/193 [==============================] - 318s 2s/step - loss: 0.2508 - accuracy: 0.3114 - val_loss: 3.5476 - val_accuracy: 0.0376\n",
            "Epoch 5/5\n",
            "193/193 [==============================] - 318s 2s/step - loss: 0.2455 - accuracy: 0.3194 - val_loss: 0.4269 - val_accuracy: 0.1497\n"
          ]
        }
      ],
      "source": [
        "history = model.fit(x_train, y_train, epochs=5, validation_data=(x_test, y_test))"
      ]
    },
    {
      "cell_type": "code",
      "execution_count": 14,
      "metadata": {
        "id": "QMpQXbx5utFj"
      },
      "outputs": [
        {
          "data": {
            "text/plain": [
              "{'loss': [0.7075154185295105,\n",
              "  0.31348538398742676,\n",
              "  0.26107656955718994,\n",
              "  0.25080493092536926,\n",
              "  0.2455192357301712],\n",
              " 'accuracy': [0.10364963859319687,\n",
              "  0.25223034620285034,\n",
              "  0.30105432868003845,\n",
              "  0.3114355206489563,\n",
              "  0.3193836212158203],\n",
              " 'val_loss': [1.276466965675354,\n",
              "  0.45991334319114685,\n",
              "  0.8969794511795044,\n",
              "  3.5476367473602295,\n",
              "  0.42692849040031433],\n",
              " 'val_accuracy': [0.06336088478565216,\n",
              "  0.1900826394557953,\n",
              "  0.06703397631645203,\n",
              "  0.03764921799302101,\n",
              "  0.14967860281467438]}"
            ]
          },
          "execution_count": 14,
          "metadata": {},
          "output_type": "execute_result"
        }
      ],
      "source": [
        "history.history"
      ]
    },
    {
      "cell_type": "code",
      "execution_count": 15,
      "metadata": {
        "id": "oI-jdm8Zuwah"
      },
      "outputs": [],
      "source": [
        "epoch_range = range(1, 6)"
      ]
    },
    {
      "cell_type": "code",
      "execution_count": 16,
      "metadata": {
        "id": "HzFm8eiBu0eH"
      },
      "outputs": [
        {
          "data": {
            "image/png": "[encoded data removed]",
            "text/plain": [
              "<Figure size 432x288 with 1 Axes>"
            ]
          },
          "metadata": {
            "needs_background": "light"
          },
          "output_type": "display_data"
        }
      ],
      "source": [
        "# Plot training and validation accuracy values\n",
        "# sparse_categorical_accuracy vs val_sparse_categorical_accuracy\n",
        "plt.plot(epoch_range, history.history[\"accuracy\"])\n",
        "plt.plot(epoch_range, history.history[\"val_accuracy\"])\n",
        "plt.title(\"Model Accuracy\")\n",
        "plt.ylabel(\"Accuracy\")\n",
        "plt.xlabel(\"Epoch\")\n",
        "plt.legend([\"Train\", \"Val\"], loc=\"upper left\")\n",
        "plt.show()"
      ]
    },
    {
      "cell_type": "code",
      "execution_count": 17,
      "metadata": {
        "id": "G7OtXi9UvCKb"
      },
      "outputs": [
        {
          "data": {
            "image/png": "[encoded data removed]",
            "text/plain": [
              "<Figure size 432x288 with 1 Axes>"
            ]
          },
          "metadata": {
            "needs_background": "light"
          },
          "output_type": "display_data"
        }
      ],
      "source": [
        "# Plot training and validation loss values\n",
        "# Loss vs Val_Loss\n",
        "plt.plot(epoch_range, history.history[\"loss\"])\n",
        "plt.plot(epoch_range, history.history[\"val_loss\"])\n",
        "plt.title(\"Model Loss\")\n",
        "plt.ylabel(\"Loss\")\n",
        "plt.xlabel(\"Epoch\")\n",
        "plt.legend([\"Train\", \"Val\"], loc=\"upper left\")\n",
        "plt.show()"
      ]
    },
    {
      "cell_type": "markdown",
      "metadata": {
        "id": "mC2Ey0MDvqmc"
      },
      "source": [
        "**Making Predictions**"
      ]
    },
    {
      "cell_type": "code",
      "execution_count": null,
      "metadata": {
        "id": "Qtc0f3zJv1of"
      },
      "outputs": [],
      "source": [
        "img = image.load_img(\"/content/Movies-Poster_Dataset/endgame.jpg\", target_size=(img_width, img_height, 3))\n",
        "plt.imshow(img)\n",
        "img = image.img_to_array(img)\n",
        "img = img/255.0\n",
        "img = img.reshape(1, img_width, img_height, 3)\n"
      ]
    },
    {
      "cell_type": "code",
      "execution_count": null,
      "metadata": {
        "id": "hMf8xKcew8Qo"
      },
      "outputs": [],
      "source": [
        "classes = data.columns[2:]\n",
        "classes"
      ]
    },
    {
      "cell_type": "code",
      "execution_count": null,
      "metadata": {
        "id": "cTCh9F3Ww9wW"
      },
      "outputs": [],
      "source": [
        "y_prob = model.predict(img)\n",
        "y_prob, y_prob[0]"
      ]
    },
    {
      "cell_type": "code",
      "execution_count": null,
      "metadata": {
        "id": "D4ltjQ1hxNRS"
      },
      "outputs": [],
      "source": [
        "#Sorting and getting top 3 predictions\n",
        "top_3_predictions = np.argsort(y_prob[0])[:-4:-1]\n",
        "top_3_predictions"
      ]
    },
    {
      "cell_type": "code",
      "execution_count": null,
      "metadata": {
        "id": "DZ0E3whCx79n"
      },
      "outputs": [],
      "source": [
        "for i in range(3):\n",
        "  print(classes[top_3_predictions[i]])"
      ]
    },
    {
      "cell_type": "code",
      "execution_count": null,
      "metadata": {
        "id": "pSfEL0slx2Ov"
      },
      "outputs": [],
      "source": []
    }
  ],
  "metadata": {
    "accelerator": "GPU",
    "colab": {
      "include_colab_link": true,
      "name": "Tensorflow - Multi-Label Image Classification Using CNN.ipynb",
      "provenance": []
    },
    "interpreter": {
      "hash": "0d7fd96aeadd740978789f2880dd43822d8681a39e327029c33ff72656207c4b"
    },
    "kernelspec": {
      "display_name": "Python 3.10.4 64-bit",
      "language": "python",
      "name": "python3"
    },
    "language_info": {
      "codemirror_mode": {
        "name": "ipython",
        "version": 3
      },
      "file_extension": ".py",
      "mimetype": "text/x-python",
      "name": "python",
      "nbconvert_exporter": "python",
      "pygments_lexer": "ipython3",
      "version": "3.10.4"
    }
  },
  "nbformat": 4,
  "nbformat_minor": 0
}
