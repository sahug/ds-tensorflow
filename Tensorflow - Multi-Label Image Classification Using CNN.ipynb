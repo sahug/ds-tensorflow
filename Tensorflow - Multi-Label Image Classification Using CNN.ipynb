{
  "cells": [
    {
      "cell_type": "markdown",
      "metadata": {
        "id": "view-in-github",
        "colab_type": "text"
      },
      "source": [
        "<a href=\"https://colab.research.google.com/github/sahug/ds-tensorflow-colab/blob/master/Tensorflow%20-%20Multi-Label%20Image%20Classification%20Using%20CNN.ipynb\" target=\"_parent\"><img src=\"https://colab.research.google.com/assets/colab-badge.svg\" alt=\"Open In Colab\"/></a>"
      ]
    },
    {
      "cell_type": "markdown",
      "metadata": {
        "id": "aYoo7yXOdrt2"
      },
      "source": [
        "**Tensorflow - Multi-Label Image Classification Using CNN**"
      ]
    },
    {
      "cell_type": "code",
      "execution_count": null,
      "metadata": {
        "id": "Vcu18eeYdXCL"
      },
      "outputs": [],
      "source": [
        "!pip install tensorflow-gpu==2.0.0"
      ]
    },
    {
      "cell_type": "markdown",
      "metadata": {
        "id": "uPEWXz9Yehs_"
      },
      "source": [
        "Movie poster link - https://www.cs.ccu.edu.tw/~wtchu/projects/MoviePoster/"
      ]
    },
    {
      "cell_type": "code",
      "execution_count": null,
      "metadata": {
        "id": "v3ZS4-uHgEkx"
      },
      "outputs": [],
      "source": [
        "import tensorflow as tf\n",
        "from tensorflow.keras import Sequential"
      ]
    },
    {
      "cell_type": "code",
      "execution_count": null,
      "metadata": {
        "id": "DZv95uRKgVTW"
      },
      "outputs": [],
      "source": [
        "from tensorflow.keras.layers import Flatten, Dense, Dropout, BatchNormalization, Conv2D, MaxPool2D"
      ]
    },
    {
      "cell_type": "code",
      "execution_count": null,
      "metadata": {
        "id": "_eK4P7-qghao"
      },
      "outputs": [],
      "source": [
        "from tensorflow.keras.optimizers import Adam\n",
        "from tensorflow.keras.preprocessing import image"
      ]
    },
    {
      "cell_type": "code",
      "execution_count": null,
      "metadata": {
        "id": "GWFkWNUjguXB"
      },
      "outputs": [],
      "source": [
        "print(tf.__version__)"
      ]
    },
    {
      "cell_type": "code",
      "execution_count": null,
      "metadata": {
        "id": "guZt_P8ygyCQ"
      },
      "outputs": [],
      "source": [
        "import numpy as np\n",
        "import pandas as pd\n",
        "import matplotlib.pyplot as plt"
      ]
    },
    {
      "cell_type": "code",
      "execution_count": null,
      "metadata": {
        "id": "pxg3O4tsg5my"
      },
      "outputs": [],
      "source": [
        "from sklearn.model_selection import train_test_split\n",
        "from tqdm import tqdm"
      ]
    },
    {
      "cell_type": "code",
      "execution_count": null,
      "metadata": {
        "id": "FTxhn97GhCtt"
      },
      "outputs": [],
      "source": [
        "# Clonning data from repository\n",
        "!git clone https://github.com/laxmimerit/Movies-Poster_Dataset.git"
      ]
    },
    {
      "cell_type": "code",
      "execution_count": null,
      "metadata": {
        "id": "r6VylDAChXJ9"
      },
      "outputs": [],
      "source": [
        "data = pd.read_csv(\"/content/Movies-Poster_Dataset/train.csv\")\n",
        "data.shape"
      ]
    },
    {
      "cell_type": "code",
      "execution_count": null,
      "metadata": {
        "id": "OlIsEM0ehoFD"
      },
      "outputs": [],
      "source": [
        "data.head() #ID Correspondes to Image Name in the Images Directory"
      ]
    },
    {
      "cell_type": "code",
      "execution_count": null,
      "metadata": {
        "id": "LVNsHh4uiTup"
      },
      "outputs": [],
      "source": [
        "# For Processing we need the data/image in same size. Converting all images to same size\n",
        "img_width = 200\n",
        "img_height = 200\n",
        "\n",
        "x = []\n",
        "\n",
        "for i in tqdm(range(data.shape[0])):\n",
        "  path = \"/content/Movies-Poster_Dataset/Images/\" + data[\"Id\"][i] + \".jpg\"\n",
        "  img = image.load_img(path, target_size=(img_width, img_height, 3)) #Reshapping image. 3 is for color.\n",
        "  img = image.img_to_array(img) #Converting image to array\n",
        "  img = img/255.0 #Bringing down variance to common difference\n",
        "  x.append(img)  \n",
        "\n",
        "x = np.array(x)"
      ]
    },
    {
      "cell_type": "code",
      "execution_count": null,
      "metadata": {
        "id": "Zd7nTvOnjquV"
      },
      "outputs": [],
      "source": [
        "x.shape"
      ]
    },
    {
      "cell_type": "code",
      "execution_count": null,
      "metadata": {
        "id": "VZOV2yj3ozCI"
      },
      "outputs": [],
      "source": [
        "plt.imshow(x[1])"
      ]
    },
    {
      "cell_type": "code",
      "execution_count": null,
      "metadata": {
        "id": "YALZi9-So5EG"
      },
      "outputs": [],
      "source": [
        "data[\"Genre\"][1]"
      ]
    },
    {
      "cell_type": "code",
      "execution_count": null,
      "metadata": {
        "id": "7IVMZaKho-bI"
      },
      "outputs": [],
      "source": [
        "# Prepare Train and Test Data\n",
        "y = data.drop([\"Id\", \"Genre\"], axis = 1)\n",
        "y = y.to_numpy()\n",
        "y.shape"
      ]
    },
    {
      "cell_type": "code",
      "execution_count": null,
      "metadata": {
        "id": "Ca2Of5-QpT3i"
      },
      "outputs": [],
      "source": [
        "x_train, x_test, y_train, y_test = train_test_split(x, y, test_size=0.15, random_state=0)"
      ]
    },
    {
      "cell_type": "markdown",
      "metadata": {
        "id": "YtPkQXntp248"
      },
      "source": [
        "**Build CNN**"
      ]
    },
    {
      "cell_type": "code",
      "execution_count": null,
      "metadata": {
        "id": "psmwz4RWpxWx"
      },
      "outputs": [],
      "source": [
        "model = Sequential()\n",
        "\n",
        "# Layer 1\n",
        "model.add(Conv2D(16, (3, 3), activation=\"relu\", input_shape=x_train[0].shape))\n",
        "model.add(BatchNormalization())\n",
        "model.add(MaxPool2D(2, 2))\n",
        "model.add(Dropout(0.3))\n",
        "\n",
        "# Layer 2\n",
        "model.add(Conv2D(32, (3, 3), activation=\"relu\"))\n",
        "model.add(BatchNormalization())\n",
        "model.add(MaxPool2D(2, 2))\n",
        "model.add(Dropout(0.3))\n",
        "\n",
        "# Layer 3\n",
        "model.add(Conv2D(64, (3, 3), activation=\"relu\"))\n",
        "model.add(BatchNormalization())\n",
        "model.add(MaxPool2D(2, 2))\n",
        "model.add(Dropout(0.4))\n",
        "\n",
        "# Layer 4\n",
        "model.add(Conv2D(128, (3, 3), activation=\"relu\"))\n",
        "model.add(BatchNormalization())\n",
        "model.add(MaxPool2D(2, 2))\n",
        "model.add(Dropout(0.5))\n",
        "\n",
        "model.add(Flatten())\n",
        "\n",
        "model.add(Dense(128, activation=\"relu\"))\n",
        "model.add(BatchNormalization())\n",
        "model.add(Dropout(0.5))\n",
        "\n",
        "model.add(Dense(128, activation=\"relu\"))\n",
        "model.add(BatchNormalization())\n",
        "model.add(Dropout(0.5))\n",
        "\n",
        "model.add(Dense(25, activation=\"sigmoid\"))"
      ]
    },
    {
      "cell_type": "code",
      "execution_count": null,
      "metadata": {
        "id": "F6SlIlsDr43J"
      },
      "outputs": [],
      "source": [
        "model.summary()"
      ]
    },
    {
      "cell_type": "code",
      "execution_count": null,
      "metadata": {
        "id": "Xgco2osXsAes"
      },
      "outputs": [],
      "source": [
        "model.compile(optimizer=\"adam\", loss=\"binary_crossentropy\", metrics=[\"accuracy\"])"
      ]
    },
    {
      "cell_type": "code",
      "execution_count": null,
      "metadata": {
        "id": "-RugtqmgsQCf"
      },
      "outputs": [],
      "source": [
        "history = model.fit(x_train, y_train, epochs=5, validation_data=(x_test, y_test))"
      ]
    },
    {
      "cell_type": "code",
      "execution_count": null,
      "metadata": {
        "id": "QMpQXbx5utFj"
      },
      "outputs": [],
      "source": [
        "history.history"
      ]
    },
    {
      "cell_type": "code",
      "execution_count": null,
      "metadata": {
        "id": "oI-jdm8Zuwah"
      },
      "outputs": [],
      "source": [
        "epoch_range = range(1, 6)"
      ]
    },
    {
      "cell_type": "code",
      "execution_count": null,
      "metadata": {
        "id": "HzFm8eiBu0eH"
      },
      "outputs": [],
      "source": [
        "# Plot training and validation accuracy values\n",
        "# sparse_categorical_accuracy vs val_sparse_categorical_accuracy\n",
        "plt.plot(epoch_range, history.history[\"accuracy\"])\n",
        "plt.plot(epoch_range, history.history[\"val_accuracy\"])\n",
        "plt.title(\"Model Accuracy\")\n",
        "plt.ylabel(\"Accuracy\")\n",
        "plt.xlabel(\"Epoch\")\n",
        "plt.legend([\"Train\", \"Val\"], loc=\"upper left\")\n",
        "plt.show()"
      ]
    },
    {
      "cell_type": "code",
      "execution_count": null,
      "metadata": {
        "id": "G7OtXi9UvCKb"
      },
      "outputs": [],
      "source": [
        "# Plot training and validation loss values\n",
        "# Loss vs Val_Loss\n",
        "plt.plot(epoch_range, history.history[\"loss\"])\n",
        "plt.plot(epoch_range, history.history[\"val_loss\"])\n",
        "plt.title(\"Model Loss\")\n",
        "plt.ylabel(\"Loss\")\n",
        "plt.xlabel(\"Epoch\")\n",
        "plt.legend([\"Train\", \"Val\"], loc=\"upper left\")\n",
        "plt.show()"
      ]
    },
    {
      "cell_type": "markdown",
      "metadata": {
        "id": "mC2Ey0MDvqmc"
      },
      "source": [
        "**Making Predictions**"
      ]
    },
    {
      "cell_type": "code",
      "execution_count": null,
      "metadata": {
        "id": "Qtc0f3zJv1of"
      },
      "outputs": [],
      "source": [
        "img = image.load_img(\"/content/Movies-Poster_Dataset/endgame.jpg\", target_size=(img_width, img_height, 3))\n",
        "plt.imshow(img)\n",
        "img = image.img_to_array(img)\n",
        "img = img/255.0\n",
        "img = img.reshape(1, img_width, img_height, 3)\n"
      ]
    },
    {
      "cell_type": "code",
      "execution_count": null,
      "metadata": {
        "id": "hMf8xKcew8Qo"
      },
      "outputs": [],
      "source": [
        "classes = data.columns[2:]\n",
        "classes"
      ]
    },
    {
      "cell_type": "code",
      "execution_count": null,
      "metadata": {
        "id": "cTCh9F3Ww9wW"
      },
      "outputs": [],
      "source": [
        "y_prob = model.predict(img)\n",
        "y_prob, y_prob[0]"
      ]
    },
    {
      "cell_type": "code",
      "execution_count": null,
      "metadata": {
        "id": "D4ltjQ1hxNRS"
      },
      "outputs": [],
      "source": [
        "#Sorting and getting top 3 predictions\n",
        "top_3_predictions = np.argsort(y_prob[0])[:-4:-1]\n",
        "top_3_predictions"
      ]
    },
    {
      "cell_type": "code",
      "execution_count": null,
      "metadata": {
        "id": "DZ0E3whCx79n"
      },
      "outputs": [],
      "source": [
        "for i in range(3):\n",
        "  print(classes[top_3_predictions[i]])"
      ]
    },
    {
      "cell_type": "code",
      "execution_count": null,
      "metadata": {
        "id": "pSfEL0slx2Ov"
      },
      "outputs": [],
      "source": [
        ""
      ]
    }
  ],
  "metadata": {
    "accelerator": "GPU",
    "colab": {
      "name": "Tensorflow - Multi-Label Image Classification Using CNN.ipynb",
      "provenance": [],
      "include_colab_link": true
    },
    "kernelspec": {
      "display_name": "Python 3",
      "name": "python3"
    }
  },
  "nbformat": 4,
  "nbformat_minor": 0
}